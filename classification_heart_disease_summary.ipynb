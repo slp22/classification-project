{
 "cells": [
  {
   "cell_type": "markdown",
   "id": "848a7d01",
   "metadata": {},
   "source": [
    "#### Classification | Summary\n",
    "\n",
    "# Predicting Heart Disease "
   ]
  },
  {
   "cell_type": "markdown",
   "id": "47e2929e",
   "metadata": {},
   "source": [
    "## Abstract\n",
    "\n",
    " \n",
    "\n",
    "## Design\n",
    "\n",
    "Heart disease is the [leading cause](https://www.cdc.gov/heartdisease/facts.htm) of death in the U.S. for men and women. The risk factors that increase a person's risk are: diabetes, overweight and obesity, unhealthy diet, physical inactivity, and excessive alcohol use. \n",
    "\n",
    "The client, [Kaiser Permanente](https://healthy.kaiserpermanente.org/front-door), a [health maintenance organization (HMO)](https://www.investopedia.com/terms/h/hmo.asp) and integrated managed care consortium, wants to lower the cost of running the organization and requested a model to determine which patients are at high risk of heart disease before they have a heart attack. \n",
    "\n",
    "**Reserach Question:** How might we predict which patients are at high risk of heart disease?<br/>\n",
    "**Impact Hypothesis:** Reduce the number of patients who develop heart disease (arterial plaque or heart attack).<br/>\n",
    "**Error metric:** Recall to have high confidence that the model does not miss any patients at risk for heart disease.<br/> \n",
    "<br/>\n",
    "**Data Transformation:** Mapped survey responses to numbers (Yes=1, No=1) to prepare for modeling.<br/>\n",
    "**Feature Engineering:** (1) Groups based on data dictionary (health behaviors, demographics, disease, health measures) and (2) risk factors for heart disease.\n",
    "\n",
    "\n",
    "## Data\n",
    "\n",
    "[Personal Key Indicators of Heart Disease](https://www.kaggle.com/datasets/kamilpytlak/personal-key-indicators-of-heart-disease) excerpted from CDC's health survey, the [BRFSS](https://www.cdc.gov/brfss/index.html). The dataset (n= 319,795) has 17 features which are survey responses; a mix of numeric, binary (yes/no, male, female), categorical (White, Black, Asian, American Indian/Alaskan Native, Other, Hispanic) and  Likert scale (poor, fair, good, very good, excellent). Complete survey questions are available in the [BRFSS 2020 Data Dictionary](https://www.cdc.gov/brfss/annual_data/2020/pdf/codebook20_llcp-v2-508.pdf). \n",
    "\n",
    "\n",
    "## Algorithms\n",
    "\n",
    "`Building a classification model in python is required, including trying at least several of the classification models covered during the course and using class imbalance techniques and feature engineering as appropriate. You should also spend extra time thinking about feature engineering. How can you come up with representations of the data that are really relevant to the business / the predictive problem, and demonstrate that the features you've engineered add predictive value?\n",
    "Rigorous model selection and evaluation (i.e. proper validation and testing) is required, using appropriate classification metrics.\n",
    "Other classification methods and metrics (beyond those covered in the course) are optional.`\n",
    "\n",
    "## Tools\n",
    "\n",
    "* Python, numpy, pandas, sklearn<br/>\n",
    "* Matplotlib, Seaborn<br/>\n",
    "\n",
    "\n",
    "## Communication\n",
    "\n",
    "Slides and code are available on https://github.com/slp22/classification-project.\n",
    "<br/>\n",
    "<br/>\n",
    "<br/>"
   ]
  },
  {
   "cell_type": "markdown",
   "id": "10c9985c",
   "metadata": {},
   "source": [
    "#### Figure 1. \n",
    "### Title"
   ]
  },
  {
   "attachments": {},
   "cell_type": "markdown",
   "id": "2881d627",
   "metadata": {},
   "source": []
  },
  {
   "cell_type": "markdown",
   "id": "00d89ef8",
   "metadata": {},
   "source": [
    "#### Figure 2. \n",
    "### Title"
   ]
  },
  {
   "attachments": {},
   "cell_type": "markdown",
   "id": "f560bbda",
   "metadata": {},
   "source": []
  },
  {
   "cell_type": "markdown",
   "id": "cb335d3c",
   "metadata": {},
   "source": [
    "#### Figure 3. \n",
    "### Title"
   ]
  },
  {
   "attachments": {},
   "cell_type": "markdown",
   "id": "a4c7b2e2",
   "metadata": {},
   "source": []
  }
 ],
 "metadata": {
  "kernelspec": {
   "display_name": "Python 3 (ipykernel)",
   "language": "python",
   "name": "python3"
  },
  "language_info": {
   "codemirror_mode": {
    "name": "ipython",
    "version": 3
   },
   "file_extension": ".py",
   "mimetype": "text/x-python",
   "name": "python",
   "nbconvert_exporter": "python",
   "pygments_lexer": "ipython3",
   "version": "3.8.12"
  }
 },
 "nbformat": 4,
 "nbformat_minor": 5
}
