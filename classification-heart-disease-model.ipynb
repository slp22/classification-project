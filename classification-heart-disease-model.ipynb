{
 "cells": [
  {
   "cell_type": "markdown",
   "id": "69987c01",
   "metadata": {},
   "source": [
    "#### Classification | Model\n",
    "\n",
    "# Predicting Heart Disease  "
   ]
  },
  {
   "cell_type": "markdown",
   "id": "1f7f9750",
   "metadata": {},
   "source": [
    "### Classification Model Stepwise Analysis <a id='top'></a> \n",
    "\n",
    "1. [Research Question](#1)<br/>\n",
    "2. [DataFrames](#2) <br/>\n",
    "3. [Exporatory Data Analysis](#3)<br/>\n",
    "   [Data Summary](#31)<br/>\n",
    "   [Classification Viability](#32)<br/>\n",
    "   [Classification Metrics](#33)<br/>\n",
    "4. [Baselining](#4)<br/>\n",
    "5. [Validation](#5)<br/>\n",
    "6. [Model Iterations](#6) <br/>\n",
    "    1 [Dummy Classifier](#61)<br/>\n",
    "    2 [Logistic Regression](#62)<br/>\n",
    "    3 [Decision Trees: Depth 2](#63)<br/>\n",
    "    4 [Decision Trees: Depth 4](#64)<br/>\n",
    "    5 [Random Forests](#65)<br/>\n",
    "    6 [Gradient Boosted Trees: xgboost](#66)<br/>\n",
    "    7 [Naive Bayes: Bernoulli](#67)<br/>\n",
    "    8 [Naive Bayes: Gaussian](#68)<br/>\n",
    "    9 [Naive Bayes: Multinomial](#69)<br/>\n",
    "    10 [Ensemble:  Naive Bayes Hard Voting Classifier](#610)<br/>\n",
    "    11 [Ensemble:  Naive Bayes Soft Voting Classifier](#611)<br/>\n",
    "    12 [Ensemble:  Stacking Classifier (non-NBs)](#612)<br/>\n",
    "    [Feature Engineering](#fe)<br/>\n",
    "    13 [Logistic regression: Question groups](#613)<br/>\n",
    "    14 [Logistic regression: Risk factors](#614)<br/>\n",
    "    15 [Logistic regression: Question groups + Risk factor features](#615)<br/>\n",
    "    [Class Imbalance Handling](#cih)<br/>\n",
    "    [Best Performing Model](#bpm)<br/>\n",
    "    [Model Tuning: GridSearchCV](#gscv)<br/>\n",
    "    16 [Logistic regression: GridSearchCV](#616)<br/>\n",
    "7. [Model Selection ](#7)<br/>\n",
    "\n"
   ]
  },
  {
   "cell_type": "code",
   "execution_count": null,
   "id": "c1c57003",
   "metadata": {},
   "outputs": [],
   "source": [
    "import pandas as pd\n",
    "import numpy as np\n",
    "import imblearn.over_sampling\n",
    "import matplotlib.pyplot as plt\n",
    "import seaborn as sns\n",
    "import xgboost as xgb\n",
    "import dataframe_image as dfi\n",
    "import pickle\n",
    "import warnings\n",
    "warnings.filterwarnings(\"ignore\")\n",
    "# import plotly.express as px\n",
    "# import plotly.graph_objects as go\n",
    "                        \n",
    "plt.style.use('ggplot')\n",
    "%matplotlib inline\n",
    "sns.set_style(\"whitegrid\")\n",
    "\n",
    "np.set_printoptions(suppress=True)\n",
    "\n",
    "from mlxtend.classifier import StackingClassifier\n",
    "from plotly.subplots import make_subplots           \n",
    "from sklearn import tree\n",
    "from sklearn.compose import make_column_transformer\n",
    "from sklearn.dummy import DummyClassifier\n",
    "from sklearn.ensemble import RandomForestClassifier, VotingClassifier\n",
    "from sklearn.linear_model import LogisticRegression\n",
    "from sklearn.metrics import *\n",
    "from sklearn.model_selection import cross_val_score, GridSearchCV, train_test_split\n",
    "from sklearn.naive_bayes import BernoulliNB, MultinomialNB, GaussianNB\n",
    "from sklearn.preprocessing import LabelEncoder, StandardScaler, OrdinalEncoder\n",
    "from sklearn.tree import DecisionTreeClassifier\n",
    "from sklearn.utils import shuffle"
   ]
  },
  {
   "cell_type": "markdown",
   "id": "daa472b2",
   "metadata": {},
   "source": [
    "# 1 | Research Design<a id='1'></a> \n",
    "\n",
    "* **Reserach Question:** How might we predict which patients are at high risk of heart disease?\n",
    "* **Impact Hypothesis:** Reduce the number of patients who develop heart disease (arterial plaque or heart attack).\n",
    "* **Data source:** [Personal Key Indicators of Heart Disease](https://www.kaggle.com/datasets/kamilpytlak/personal-key-indicators-of-heart-disease), n=319,795\n",
    "* **Error metric:** [Recall](#3c) and [ROC AUC](#3c)"
   ]
  },
  {
   "cell_type": "markdown",
   "id": "a984a11a",
   "metadata": {},
   "source": [
    "#### [Data Dictionary](https://www.cdc.gov/brfss/annual_data/2020/pdf/codebook20_llcp-v2-508.pdf)<a id='1a'></a>\n",
    "_Target_\n",
    "- `y_heart_disease`: Y/N | coronary heart disease (CHD) or myocardial infarction (MI)\n",
    "\n",
    "_Health Behaviors_\n",
    "- `behavior_activity`: Num (0-30) | # days did physical activity/ exercise other than regular job\n",
    "- `behavior_alcohol`: Y/N | heavy drinker, defined as men: 14+/wk, women: 7+/wk (includes beer, wine, malt beverage, liquor)\n",
    "- `behavior_sleep`: Num (0-24) | # hours of sleep in a 24-hour period, on average\n",
    "- `behavior_tobacco`: Y/N | smoked at least 100 cigarettes in your life\n",
    "\n",
    "_Demographics_\n",
    "- `demg_age`: 18-24, 25-29, 30-34, 35-39, 40-44, 45-49, 50-54, 55-59, 60-64, 65-69, 70-74, 75-79, 80+\n",
    "- `demg_gender`: male/female\n",
    "- `demg_race`: White, Black, Asian, American Indian/Alaskan Native, Hispanic, Other race\n",
    "\n",
    "_Health Measures_\n",
    "- `health_bmi`: Num | Body Mass Index (BMI)\n",
    "- `health_physical`: Num (0-30) | # days physical health  not good, includes physical illness and injury\n",
    "- `health_mental`: Num (0-30 ) | # days mental health not good, includes stress, depression, and problems with emotions\n",
    "- `health_general`: Excellent, Very Good, Fair, Poor | Would you say that in general your health is...\n",
    "- `health_mobility`: Y/N | serious difficulty walking or climbing stairs\n",
    "\n",
    "_Chronic Disease_\n",
    "- `disease_asthma`: Y/N\n",
    "- `disease_diabetes`: Y/N/Y pregnancy/N borderline\n",
    "- `disease_kidney`: Y/N | kidney disease, excludes kidney stones, bladder infection or incontinence\n",
    "- `disease_skin`: Y/N | skin cancer\n",
    "- `disease_stroke`: Y/N"
   ]
  },
  {
   "cell_type": "markdown",
   "id": "93f17f49",
   "metadata": {},
   "source": [
    "[back to top](#top)"
   ]
  },
  {
   "cell_type": "markdown",
   "id": "35969908",
   "metadata": {},
   "source": [
    "# 2 | [DataFrames](https://github.com/slp22/classification-project/blob/main/classification-heart-disease_mvp.ipynb)<a id='2'></a>  \n"
   ]
  },
  {
   "cell_type": "code",
   "execution_count": null,
   "id": "74246ed2",
   "metadata": {},
   "outputs": [],
   "source": [
    "# load clean and transformed dataframes from mvp \n",
    "heart_disease_df = pd.read_csv('heart_disease_df.csv')\n",
    "heart_disease_df_map = pd.read_csv('heart_disease_df_map.csv') \n"
   ]
  },
  {
   "cell_type": "code",
   "execution_count": null,
   "id": "2e6760b5",
   "metadata": {},
   "outputs": [],
   "source": [
    "# clean df\n",
    "heart_disease_df.head(3)\n"
   ]
  },
  {
   "cell_type": "code",
   "execution_count": null,
   "id": "659590fb",
   "metadata": {},
   "outputs": [],
   "source": [
    "# transformed df: mapped categorical variables to numerical values \n",
    "heart_disease_df_map.head(3)\n"
   ]
  },
  {
   "cell_type": "markdown",
   "id": "f81cb7e6",
   "metadata": {},
   "source": [
    "[back to top](#top)"
   ]
  },
  {
   "cell_type": "markdown",
   "id": "c6983cdb",
   "metadata": {},
   "source": [
    "# 3 | Exporatory Data Analysis<a id='3'></a> "
   ]
  },
  {
   "cell_type": "markdown",
   "id": "6cdd76aa",
   "metadata": {},
   "source": [
    "#### Using `heart_disease_df_map` with mapped variables for modeling.\n",
    "##### Note: Full EDA part of [MVP](https://github.com/slp22/classification-project/blob/main/classification-heart-disease_mvp.ipynb)."
   ]
  },
  {
   "cell_type": "markdown",
   "id": "1c5e792a",
   "metadata": {},
   "source": [
    "### 3.1 Data Summary<a id='31'></a> "
   ]
  },
  {
   "cell_type": "code",
   "execution_count": null,
   "id": "d208109a",
   "metadata": {},
   "outputs": [],
   "source": [
    "# dataframe info\n",
    "heart_disease_df_map.info()\n"
   ]
  },
  {
   "cell_type": "markdown",
   "id": "a05ed68f",
   "metadata": {},
   "source": [
    "#### No missing data, all data types are numerical."
   ]
  },
  {
   "cell_type": "markdown",
   "id": "22a2bfd6",
   "metadata": {},
   "source": [
    "[back to top](#top)"
   ]
  },
  {
   "cell_type": "markdown",
   "id": "76d6ea2d",
   "metadata": {},
   "source": [
    "### 3.2 Classification Viability<a id='32'></a> "
   ]
  },
  {
   "cell_type": "code",
   "execution_count": null,
   "id": "69813756",
   "metadata": {},
   "outputs": [],
   "source": [
    "# descriptive statistics\n",
    "heart_disease_df_map.describe().T.style.background_gradient(cmap='Blues')\n"
   ]
  },
  {
   "cell_type": "code",
   "execution_count": null,
   "id": "7274fb9b",
   "metadata": {},
   "outputs": [],
   "source": [
    "# correlation matrix\n",
    "heart_disease_df_map.corr().style.background_gradient(cmap='Blues')\n"
   ]
  },
  {
   "cell_type": "markdown",
   "id": "f1f0dca5",
   "metadata": {},
   "source": [
    "#### A classification model is viable."
   ]
  },
  {
   "cell_type": "markdown",
   "id": "81bb0dab",
   "metadata": {},
   "source": [
    "[back to top](#top)"
   ]
  },
  {
   "cell_type": "code",
   "execution_count": null,
   "id": "de33d58b",
   "metadata": {},
   "outputs": [],
   "source": [
    "# target vs age\n",
    "ax = sns.boxplot(x='y_heart_disease', y='demg_age', data=heart_disease_df_map)\n",
    "ax.set_xticklabels(['No', 'Yes']);\n"
   ]
  },
  {
   "cell_type": "code",
   "execution_count": null,
   "id": "fe9c4496",
   "metadata": {},
   "outputs": [],
   "source": [
    "# target vs mobility\n",
    "sns.boxplot(x='y_heart_disease', y='health_bmi', data=heart_disease_df_map)\n",
    "ax.set_xticklabels(['No', 'Yes']);\n"
   ]
  },
  {
   "cell_type": "code",
   "execution_count": null,
   "id": "ed54dfa5",
   "metadata": {},
   "outputs": [],
   "source": [
    "# target vs physical health\n",
    "sns.boxplot(x='y_heart_disease', y='health_physical', data=heart_disease_df_map)\n",
    "ax.set_xticklabels(['No', 'Yes']);\n"
   ]
  },
  {
   "cell_type": "code",
   "execution_count": null,
   "id": "8c5d4d6b",
   "metadata": {},
   "outputs": [],
   "source": [
    "# target distribution\n",
    "print('Positives/Negatives Ratio:', round(27373/292422, 4) * 100, '%')\n",
    "print(heart_disease_df['y_heart_disease'].value_counts())\n"
   ]
  },
  {
   "cell_type": "markdown",
   "id": "f90d7cac",
   "metadata": {},
   "source": [
    "[back to top](#top)"
   ]
  },
  {
   "cell_type": "markdown",
   "id": "36c7ed45",
   "metadata": {},
   "source": [
    "### 3.3 Classification Metrics<a id='33'></a> "
   ]
  },
  {
   "cell_type": "markdown",
   "id": "dae9fb9b",
   "metadata": {},
   "source": [
    "* **Recall** to maximize on patients who are true positives for heart disease.\n",
    "* **ROC AUC** to identify high vs low risk patients. "
   ]
  },
  {
   "cell_type": "markdown",
   "id": "8a71be59",
   "metadata": {},
   "source": [
    "[back to top](#top)"
   ]
  },
  {
   "cell_type": "markdown",
   "id": "a3c710fb",
   "metadata": {},
   "source": [
    "# 4 | Baseline<a id='4'></a> "
   ]
  },
  {
   "cell_type": "markdown",
   "id": "1678c1ca",
   "metadata": {},
   "source": [
    "#### Logistic regression with three features based on correlation matrix."
   ]
  },
  {
   "cell_type": "code",
   "execution_count": null,
   "id": "37677e9b",
   "metadata": {},
   "outputs": [],
   "source": [
    "# separate target from features based on the correlation matrix\n",
    "y_base = heart_disease_df_map['y_heart_disease'] \n",
    "X_base = heart_disease_df_map.loc[:, [\n",
    "#     'behavior_activity', \n",
    "#     'behavior_alcohol', \n",
    "#     'behavior_sleep',\n",
    "#     'behavior_tobacco',\n",
    "    'demg_age',\n",
    "#     'demg_gender', \n",
    "#     'demg_race',\n",
    "#     'disease_asthma', \n",
    "#     'disease_diabetes', \n",
    "#     'disease_kidney', \n",
    "#     'disease_skin', \n",
    "#     'disease_stroke', \n",
    "#     'health_bmi', \n",
    "#     'health_general', \n",
    "#     'health_mental',\n",
    "    'health_mobility', \n",
    "    'health_physical'\n",
    "    ]]\n",
    "\n",
    "# split baseline data test/train/validate\n",
    "X_train_base, X_test_base, y_train_base, y_test_base = train_test_split(X_base,\n",
    "                                                                        y_base,\n",
    "                                                                        test_size=0.2,\n",
    "                                                                        random_state=42)\n",
    "X_train_base, X_val_base, y_train_base, y_val_base = train_test_split(X_train_base, \n",
    "                                                                                y_train_base, \n",
    "                                                                                test_size = .25, \n",
    "                                                                                random_state = 42)\n",
    "\n",
    "# scale baseline X train/test\n",
    "scaler = StandardScaler()\n",
    "X_train_scaled_base = scaler.fit_transform(X_train_base)\n",
    "X_test_scaled_base = scaler.transform(X_test_base)\n",
    "X_val_scaled_base = scaler.transform(X_val_base)\n"
   ]
  },
  {
   "cell_type": "code",
   "execution_count": null,
   "id": "2eac6c45",
   "metadata": {},
   "outputs": [],
   "source": [
    "# baseline logistic regression X train scaled & y train\n",
    "log_reg_base = LogisticRegression()\n",
    "log_reg_base.fit(X_train_scaled_base, y_train_base)\n",
    "\n",
    "# baseline predict on X_validate_scaled_m \n",
    "y_pred_base = log_reg_base.predict(X_val_scaled_base) "
   ]
  },
  {
   "cell_type": "code",
   "execution_count": null,
   "id": "6dc386cb",
   "metadata": {},
   "outputs": [],
   "source": [
    "# score on recall and roc auc\n",
    "zero = [\"Baseline logistic regression\", 'log_reg_base',\n",
    "        recall_score(y_pred_base, y_val_base),\n",
    "        roc_auc_score(y_val_base, log_reg_base.predict_proba(X_val_scaled_base)[:,1])]\n",
    "zero"
   ]
  },
  {
   "cell_type": "markdown",
   "id": "33917bdd",
   "metadata": {},
   "source": [
    "[back to top](#top)"
   ]
  },
  {
   "cell_type": "markdown",
   "id": "bc6f8fac",
   "metadata": {},
   "source": [
    "# 5 | Validation<a id='5'></a>"
   ]
  },
  {
   "cell_type": "markdown",
   "id": "ae0c37fa",
   "metadata": {},
   "source": [
    "#### Validation and testing scheme to use in [model selection](#7). "
   ]
  },
  {
   "cell_type": "code",
   "execution_count": null,
   "id": "bad7c7ef",
   "metadata": {},
   "outputs": [],
   "source": [
    "# separate target from features \n",
    "y = heart_disease_df_map['y_heart_disease'] \n",
    "X = heart_disease_df_map.loc[:, [\n",
    "    'behavior_activity', \n",
    "    'behavior_alcohol', \n",
    "    'behavior_sleep',\n",
    "    'behavior_tobacco',\n",
    "    'demg_age',\n",
    "    'demg_gender', \n",
    "    'demg_race',\n",
    "    'disease_asthma', \n",
    "    'disease_diabetes', \n",
    "    'disease_kidney', \n",
    "    'disease_skin', \n",
    "    'disease_stroke', \n",
    "    'health_bmi', \n",
    "    'health_general', \n",
    "    'health_mental',\n",
    "    'health_mobility', \n",
    "    'health_physical'\n",
    "    ]]\n",
    "\n",
    "# split data test/train/validate\n",
    "X_train, X_test, y_train, y_test = train_test_split(X, \n",
    "                                                    y, \n",
    "                                                    test_size=0.2, \n",
    "                                                    random_state=42)\n",
    "X_train, X_val, y_train, y_val = train_test_split(X_train, \n",
    "                                                            y_train, \n",
    "                                                            test_size = .25, \n",
    "                                                            random_state = 42)\n",
    "\n",
    "# scale X train/test/validate\n",
    "scaler = StandardScaler()\n",
    "X_train_scaled = scaler.fit_transform(X_train)\n",
    "X_test_scaled = scaler.transform(X_test)\n",
    "X_val_scaled = scaler.transform(X_val)\n"
   ]
  },
  {
   "cell_type": "markdown",
   "id": "3822eed6",
   "metadata": {},
   "source": [
    "[back to top](#top)"
   ]
  },
  {
   "cell_type": "markdown",
   "id": "dd1a1148",
   "metadata": {},
   "source": [
    "# 6 | Model Iterations <a id='6'></a> "
   ]
  },
  {
   "cell_type": "markdown",
   "id": "b574c532",
   "metadata": {},
   "source": [
    "### 6.1 Dummy Classifier<a id='61'></a> "
   ]
  },
  {
   "cell_type": "code",
   "execution_count": null,
   "id": "296b5c0a",
   "metadata": {},
   "outputs": [],
   "source": [
    "clf = DummyClassifier(strategy= 'most_frequent')\n",
    "clf.fit(X_train,y_train)\n",
    "y_pred_clf = clf.predict(X_val)\n"
   ]
  },
  {
   "cell_type": "code",
   "execution_count": null,
   "id": "0856a7da",
   "metadata": {},
   "outputs": [],
   "source": [
    "one = [\"Dummy classifier\", 'clf',\n",
    "         recall_score(y_pred_clf, y_val), \n",
    "         roc_auc_score(y_val, clf.predict_proba(X_val)[:,1])]\n",
    "one"
   ]
  },
  {
   "cell_type": "markdown",
   "id": "b77126ea",
   "metadata": {},
   "source": [
    "#### Dummy classifier performed worse than [baseline](#4).<br/>"
   ]
  },
  {
   "cell_type": "markdown",
   "id": "09011a22",
   "metadata": {},
   "source": [
    "[back to top](#top)"
   ]
  },
  {
   "cell_type": "markdown",
   "id": "c7feeffa",
   "metadata": {},
   "source": [
    "### 6.2 Logistic Regression<a id='62'></a> "
   ]
  },
  {
   "cell_type": "code",
   "execution_count": null,
   "id": "95db7d9b",
   "metadata": {},
   "outputs": [],
   "source": [
    "log_reg = LogisticRegression()\n",
    "log_reg.fit(X_train_scaled, y_train)\n",
    "y_pred_log_reg = log_reg.predict(X_val_scaled) \n"
   ]
  },
  {
   "cell_type": "code",
   "execution_count": null,
   "id": "47132cd6",
   "metadata": {},
   "outputs": [],
   "source": [
    "two = [\"Logistic regression\", 'log_reg',\n",
    "       recall_score(y_pred_log_reg, y_val), \n",
    "       roc_auc_score(y_val, log_reg.predict_proba(X_val_scaled)[:,1])]\n",
    "two"
   ]
  },
  {
   "cell_type": "markdown",
   "id": "9c286909",
   "metadata": {},
   "source": [
    "#### Logistic regression (with all features) performed better than [baseline](#4).<br/>"
   ]
  },
  {
   "cell_type": "markdown",
   "id": "c39d97de",
   "metadata": {},
   "source": [
    "[back to top](#top)"
   ]
  },
  {
   "cell_type": "markdown",
   "id": "5e80998b",
   "metadata": {},
   "source": [
    "### 6.3 Decision Trees: Depth 2<a id='63'></a> "
   ]
  },
  {
   "cell_type": "code",
   "execution_count": null,
   "id": "a1ab90c0",
   "metadata": {},
   "outputs": [],
   "source": [
    "dt_2 = DecisionTreeClassifier(max_depth=2,criterion=\"entropy\")\n",
    "dt_2.fit(X_train, y_train)\n",
    "y_pred_dt_2 = dt_2.predict(X_val)\n"
   ]
  },
  {
   "cell_type": "code",
   "execution_count": null,
   "id": "a0699295",
   "metadata": {},
   "outputs": [],
   "source": [
    "three = [\"Decision tree (depth=2)\", 'dt_2', \n",
    "       recall_score(dy_pred_dt_2, y_val), \n",
    "       roc_auc_score(y_val, dt_2.predict_proba(X_val)[:,1])]\n",
    "three"
   ]
  },
  {
   "cell_type": "code",
   "execution_count": null,
   "id": "880d4952",
   "metadata": {},
   "outputs": [],
   "source": [
    "tree.plot_tree(dt_2);"
   ]
  },
  {
   "cell_type": "markdown",
   "id": "c8640a19",
   "metadata": {},
   "source": [
    "### 6.4 Decision Trees: Depth 4<a id='64'></a> "
   ]
  },
  {
   "cell_type": "code",
   "execution_count": null,
   "id": "ac35669d",
   "metadata": {},
   "outputs": [],
   "source": [
    "dt_4 = DecisionTreeClassifier(max_depth=4,criterion=\"entropy\")\n",
    "dt_4.fit(X_train, y_train)\n",
    "y_pred_dt_4 = dt_4.predict(X_val)\n"
   ]
  },
  {
   "cell_type": "code",
   "execution_count": null,
   "id": "92801912",
   "metadata": {},
   "outputs": [],
   "source": [
    "four = [\"Decision tree (depth=4)\", 'dt_4',\n",
    "         recall_score(y_pred_dt_4, y_val),\n",
    "         roc_auc_score(y_val, dt_4.predict_proba(X_val)[:,1])]\n",
    "four"
   ]
  },
  {
   "cell_type": "code",
   "execution_count": null,
   "id": "8da6d0ce",
   "metadata": {},
   "outputs": [],
   "source": [
    "tree.plot_tree(dt_4);"
   ]
  },
  {
   "cell_type": "markdown",
   "id": "c8c5e669",
   "metadata": {},
   "source": [
    "#### Decsion trees performed worse than [logistic regression](#62). "
   ]
  },
  {
   "cell_type": "markdown",
   "id": "a1d74b96",
   "metadata": {},
   "source": [
    "[back to top](#top)"
   ]
  },
  {
   "cell_type": "markdown",
   "id": "4269a34f",
   "metadata": {},
   "source": [
    "### 6.5 Random Forests <a id='65'></a> "
   ]
  },
  {
   "cell_type": "code",
   "execution_count": null,
   "id": "2dac965d",
   "metadata": {},
   "outputs": [],
   "source": [
    "forest = RandomForestClassifier().fit(X_train, y_train)\n",
    "y_pred_forest = forest.predict(X_val)\n"
   ]
  },
  {
   "cell_type": "code",
   "execution_count": null,
   "id": "2f687a47",
   "metadata": {},
   "outputs": [],
   "source": [
    "five = [\"Random forest\", 'forest',\n",
    "        recall_score(y_pred_forest, y_val),\n",
    "        roc_auc_score(y_val, forest.predict_proba(X_val)[:,1])]\n",
    "five"
   ]
  },
  {
   "cell_type": "markdown",
   "id": "3c20d5e5",
   "metadata": {},
   "source": [
    "#### Random forest performed worse than [logistic regression](#62). "
   ]
  },
  {
   "cell_type": "markdown",
   "id": "8d5f2337",
   "metadata": {},
   "source": [
    "[back to top](#top)"
   ]
  },
  {
   "cell_type": "markdown",
   "id": "bdb5d266",
   "metadata": {},
   "source": [
    "### 6.6 Gradient Boosted Trees: xgboost<a id='66'></a> "
   ]
  },
  {
   "cell_type": "code",
   "execution_count": null,
   "id": "14f4e3c1",
   "metadata": {},
   "outputs": [],
   "source": [
    "# XGBoost\n",
    "\n",
    "gbm = xgb.XGBRegressor( \n",
    "                    n_estimators=30000,\n",
    "                    max_depth=3,\n",
    "                    objective=\"binary:logistic\",\n",
    "                    eval_metric='auc',\n",
    "                    learning_rate=.1,\n",
    "                    subsample=1,\n",
    "                    min_child_weight=1,\n",
    "                    colsample_bytree=.8\n",
    "                    )\n",
    "\n",
    "eval_set=[(X_train, y_train),(X_val,y_val)] \n",
    "\n",
    "gbm_fit = gbm.fit( \n",
    "                    X_train, y_train, \n",
    "                    eval_set=eval_set,\n",
    "#                     eval_metric='auc',\n",
    "                    early_stopping_rounds=20,\n",
    "                    verbose=True \n",
    "                   )"
   ]
  },
  {
   "cell_type": "markdown",
   "id": "f32a8fa2",
   "metadata": {},
   "source": [
    "#### [220]\tvalidation_0-auc: 0.84848\tvalidation_1-auc: 0.84449\n"
   ]
  },
  {
   "cell_type": "code",
   "execution_count": null,
   "id": "c7c20b91",
   "metadata": {},
   "outputs": [],
   "source": [
    "y_pred_gbm = gbm.predict(X_val)\n",
    "y_pred_gbm"
   ]
  },
  {
   "cell_type": "code",
   "execution_count": null,
   "id": "1e1fe028",
   "metadata": {},
   "outputs": [],
   "source": [
    "six = [\"XGBoost\", 'gbm',\n",
    "        recall_score(y_val, np.round(gbm.predict(X_val))), \n",
    "        roc_auc_score(y_val, np.round(gbm.predict(X_val)))]\n",
    "six\n"
   ]
  },
  {
   "cell_type": "markdown",
   "id": "e7d1f0c6",
   "metadata": {},
   "source": [
    "#### XGBoost performed worse than [logistic regression](#62). "
   ]
  },
  {
   "cell_type": "markdown",
   "id": "a30ccd64",
   "metadata": {},
   "source": [
    "[back to top](#top)"
   ]
  },
  {
   "cell_type": "markdown",
   "id": "1402028c",
   "metadata": {},
   "source": [
    "### 6.7. Naive Bayes: Bernoulli<a id='67'></a> "
   ]
  },
  {
   "cell_type": "code",
   "execution_count": null,
   "id": "356ffcc1",
   "metadata": {},
   "outputs": [],
   "source": [
    "# BernoulliNB() \n",
    "bern = BernoulliNB().fit(X_train, y_train)\n",
    "y_predict_bern = bern.predict(X_val) \n"
   ]
  },
  {
   "cell_type": "code",
   "execution_count": null,
   "id": "43052ebe",
   "metadata": {},
   "outputs": [],
   "source": [
    "seven = [\"Bernoulli NB\", 'bern',\n",
    "       recall_score(y_predict_bern, y_val),\n",
    "       roc_auc_score(y_val, bern.predict_proba(X_val)[:,1])]\n",
    "\n",
    "five"
   ]
  },
  {
   "cell_type": "markdown",
   "id": "87840b31",
   "metadata": {},
   "source": [
    "### 6.8. Naive Bayes: Gaussian<a id='68'></a> "
   ]
  },
  {
   "cell_type": "code",
   "execution_count": null,
   "id": "3a109b93",
   "metadata": {},
   "outputs": [],
   "source": [
    "gaus = GaussianNB().fit(X_train, y_train)\n",
    "y_pred_gaus = gaus.predict(X_val)\n"
   ]
  },
  {
   "cell_type": "code",
   "execution_count": null,
   "id": "0234be31",
   "metadata": {},
   "outputs": [],
   "source": [
    "eight = [\"Gaussian NB\",'gaus',\n",
    "         recall_score(y_pred_gaus, y_val),\n",
    "         roc_auc_score(y_val, gaus.predict_proba(X_val)[:,1])]\n",
    "eight"
   ]
  },
  {
   "cell_type": "markdown",
   "id": "ae83bf64",
   "metadata": {},
   "source": [
    "### 6.9. Naive Bayes: Multinomial<a id='69'></a> "
   ]
  },
  {
   "cell_type": "code",
   "execution_count": null,
   "id": "c54792ce",
   "metadata": {},
   "outputs": [],
   "source": [
    "multi = MultinomialNB().fit(X_train, y_train)\n",
    "y_pred_multi = multi.predict(X_val)\n"
   ]
  },
  {
   "cell_type": "code",
   "execution_count": null,
   "id": "f1c4461e",
   "metadata": {},
   "outputs": [],
   "source": [
    "nine = [\"Multinomial NB\", 'multi',\n",
    "        recall_score(y_pred_multi, y_val),\n",
    "        roc_auc_score(y_val, multi.predict_proba(X_val)[:,1])]\n",
    "nine"
   ]
  },
  {
   "cell_type": "markdown",
   "id": "cbac64cf",
   "metadata": {},
   "source": [
    "#### Naive Bayes performed worse than [logistic regression](#62). "
   ]
  },
  {
   "cell_type": "markdown",
   "id": "4a9097e4",
   "metadata": {},
   "source": [
    "[back to top](#top)"
   ]
  },
  {
   "cell_type": "markdown",
   "id": "8b98422c",
   "metadata": {},
   "source": [
    "### 6.10 Ensemble: Naive Bayes Hard Voting Classifier <a id='610'></a> "
   ]
  },
  {
   "cell_type": "code",
   "execution_count": null,
   "id": "634f2b2d",
   "metadata": {},
   "outputs": [],
   "source": [
    "# set up voting classifier ensemble\n",
    "\n",
    "nb_names = ['bern', 'gaus', 'multi']\n",
    "nb_vars = [eval(n) for n in nb_names]\n",
    "\n",
    "nb_list = list(zip(nb_names, nb_vars))\n",
    "nb_list\n"
   ]
  },
  {
   "cell_type": "code",
   "execution_count": null,
   "id": "61b8431b",
   "metadata": {},
   "outputs": [],
   "source": [
    "vote_hard = VotingClassifier(estimators= nb_list,\n",
    "                             voting='hard',\n",
    "                             n_jobs=-1)\n",
    "vote_hard.fit(X_train, y_train)\n",
    "y_pred_hard = vote_hard.predict(X_val)\n"
   ]
  },
  {
   "cell_type": "code",
   "execution_count": null,
   "id": "d058128c",
   "metadata": {},
   "outputs": [],
   "source": [
    "ten = [\"Hard NB Voting Classifier\", 'vote_hard',\n",
    "       recall_score(y_pred_hard, y_val),\n",
    "       roc_auc_score(y_val, vote_hard.predict_proba(X_val)[:,1])]\n",
    "ten"
   ]
  },
  {
   "cell_type": "markdown",
   "id": "924e9ede",
   "metadata": {},
   "source": [
    "### 6.11 Ensemble: Naive Bayes Soft Voting Classifier <a id='611'></a> "
   ]
  },
  {
   "cell_type": "code",
   "execution_count": null,
   "id": "4ed93738",
   "metadata": {},
   "outputs": [],
   "source": [
    "vote_soft = VotingClassifier(estimators= nb_list,\n",
    "                             voting='soft',\n",
    "                             n_jobs=-1)\n",
    "\n",
    "vote_soft.fit(X_train, y_train)\n",
    "y_pred_soft = vote_soft.predict(X_val)\n"
   ]
  },
  {
   "cell_type": "code",
   "execution_count": null,
   "id": "028aea91",
   "metadata": {},
   "outputs": [],
   "source": [
    "eleven = [\"Soft NB Voting Classifier\", 'vote_soft',\n",
    "       recall_score(y_pred_soft, y_val), \n",
    "       roc_auc_score(y_val, vote_soft.predict_proba(X_val)[:,1])]\n",
    "eleven"
   ]
  },
  {
   "cell_type": "markdown",
   "id": "dd581cb2",
   "metadata": {},
   "source": [
    "#### Voting classifer ensemble of Naive Bayes performed worse than [logistic regression](#62). "
   ]
  },
  {
   "cell_type": "markdown",
   "id": "9f8041fb",
   "metadata": {},
   "source": [
    "[back to top](#top)"
   ]
  },
  {
   "cell_type": "markdown",
   "id": "bbd47bab",
   "metadata": {},
   "source": [
    "### 6.12 Ensemble:  Stacking Classifier (non-NBs) <a id='612'></a> "
   ]
  },
  {
   "cell_type": "code",
   "execution_count": null,
   "id": "ee7ac7f4",
   "metadata": {},
   "outputs": [],
   "source": [
    "model_names = ['clf', 'log_reg', 'dt_2', 'dt_4', 'forest', 'gbm']\n",
    "\n",
    "model_vars = [eval(n) for n in model_names]\n",
    "model_list = list(zip(model_names, model_vars))\n",
    "model_list"
   ]
  },
  {
   "cell_type": "code",
   "execution_count": null,
   "id": "ae4bf0b3",
   "metadata": {},
   "outputs": [],
   "source": [
    "stacked = StackingClassifier(classifiers= model_vars, \n",
    "                             meta_classifier=LogisticRegression(),\n",
    "                             use_probas=True) #change to True, see if it affects roc"
   ]
  },
  {
   "cell_type": "code",
   "execution_count": null,
   "id": "20ce37c9",
   "metadata": {},
   "outputs": [],
   "source": [
    "stacked.fit(X_train, y_train)\n",
    "y_pred_stack = stacked.predict(X_val)\n"
   ]
  },
  {
   "cell_type": "code",
   "execution_count": null,
   "id": "a399b118",
   "metadata": {},
   "outputs": [],
   "source": [
    "tweleve = [\"Stacked\", 'stacked',\n",
    "          recall_score(y_pred_stack, y_val),\n",
    "          roc_auc_score(y_val, stacked.predict_proba(X_val)[:,1])]\n",
    "tweleve"
   ]
  },
  {
   "cell_type": "markdown",
   "id": "bc7cc4bf",
   "metadata": {},
   "source": [
    "#### Stacking ensemble (excluding Naive Bayes) performed worse than [logistic regression](#62). \n"
   ]
  },
  {
   "cell_type": "markdown",
   "id": "5a3545ba",
   "metadata": {},
   "source": [
    "[back to top](#top)"
   ]
  },
  {
   "cell_type": "markdown",
   "id": "0c638f89",
   "metadata": {},
   "source": [
    "## Feature Engineering <a id='fe'></a> "
   ]
  },
  {
   "cell_type": "markdown",
   "id": "a521d88d",
   "metadata": {},
   "source": [
    "### Features: Question groups\n",
    "Groups of similar survey question questions as defined by [data dictionary](https://www.cdc.gov/brfss/annual_data/2020/pdf/codebook20_llcp-v2-508.pdf)."
   ]
  },
  {
   "cell_type": "code",
   "execution_count": null,
   "id": "6cb50fe6",
   "metadata": {},
   "outputs": [],
   "source": [
    "# 1 behaviors = phyiscial activity days/month + sleep time hrs/day + alcohol + tobacco use\n",
    "heart_disease_df_map['behaviors'] = (\n",
    "    heart_disease_df_map['behavior_activity'] +\n",
    "    heart_disease_df_map['behavior_alcohol'] +  \n",
    "    heart_disease_df_map['behavior_sleep'] +\n",
    "    heart_disease_df_map['behavior_tobacco'])\n",
    "\n",
    "# 2 demographics = age + gender + race\n",
    "heart_disease_df_map['demographics'] = (\n",
    "    heart_disease_df_map['demg_age'] +\n",
    "    heart_disease_df_map['demg_gender'] +  \n",
    "    heart_disease_df_map['demg_race'])\n",
    "\n",
    "# 3 disease = asthma + diabetes + kidney + skin cancer + stroke\n",
    "heart_disease_df_map['disease'] = (\n",
    "    heart_disease_df_map['disease_asthma'] +\n",
    "    heart_disease_df_map['disease_diabetes'] +  \n",
    "    heart_disease_df_map['disease_kidney'] +\n",
    "    heart_disease_df_map['disease_skin'] +\n",
    "    heart_disease_df_map['disease_stroke'])\n",
    "\n",
    "# 4 (health) measures = asthma + diabetes + kidney + skin cancer + stroke\n",
    "heart_disease_df_map['measures'] = (\n",
    "    heart_disease_df_map['health_bmi'] +\n",
    "    heart_disease_df_map['health_general'] +  \n",
    "    heart_disease_df_map['health_mental'] +\n",
    "    heart_disease_df_map['health_mobility'] +\n",
    "    heart_disease_df_map['health_physical'])\n",
    "\n",
    "heart_disease_df_map.columns\n"
   ]
  },
  {
   "cell_type": "markdown",
   "id": "bae7953d",
   "metadata": {},
   "source": [
    "### Features: Risk factors\n",
    "Heart disease risk factors by [CDC](https://www.cdc.gov/heartdisease/facts.htm). "
   ]
  },
  {
   "cell_type": "code",
   "execution_count": null,
   "id": "76c09d23",
   "metadata": {},
   "outputs": [],
   "source": [
    "# risk factors = diabetes + bmi + physical activity + alcohol\n",
    "heart_disease_df_map['risk_factors'] = (\n",
    "    heart_disease_df_map['disease_diabetes'] +\n",
    "    heart_disease_df_map['health_bmi'] +  \n",
    "    heart_disease_df_map['behavior_activity'] +\n",
    "    heart_disease_df_map['behavior_alcohol'])\n",
    "\n",
    "heart_disease_df_map.columns\n"
   ]
  },
  {
   "cell_type": "markdown",
   "id": "75a6e8da",
   "metadata": {},
   "source": [
    "### 6.13 Logistic regression: question groups<a id='613'></a> "
   ]
  },
  {
   "cell_type": "code",
   "execution_count": null,
   "id": "04afa725",
   "metadata": {},
   "outputs": [],
   "source": [
    "# separate target from question groups features: y/X_grp\n",
    "y_grp = heart_disease_df_map['y_heart_disease'] \n",
    "X_grp = heart_disease_df_map.loc[:, ['behaviors', \n",
    "                                   'demographics', \n",
    "                                   'disease', \n",
    "                                   'measures']]\n",
    "\n",
    "# split data test/train/validate\n",
    "X_train_grp, X_test_grp, y_train_grp, y_test_grp = train_test_split(X_grp, \n",
    "                                                    y_grp, \n",
    "                                                    test_size=0.2, \n",
    "                                                    random_state=42)\n",
    "\n",
    "X_train_grp, X_val_grp, y_train_grp, y_val_grp = train_test_split(X_train_grp, \n",
    "                                                                    y_train_grp, \n",
    "                                                                    test_size = .25, \n",
    "                                                                    random_state = 42)\n",
    "# scale X train/test/validate\n",
    "scaler = StandardScaler()\n",
    "X_train_grp_scaled = scaler.fit_transform(X_train_grp)\n",
    "X_test_grp_scaled = scaler.transform(X_test_grp)\n",
    "X_val_grp_scaled = scaler.transform(X_val_grp)\n"
   ]
  },
  {
   "cell_type": "code",
   "execution_count": null,
   "id": "b7509ac3",
   "metadata": {},
   "outputs": [],
   "source": [
    "# LR question groups features\n",
    "log_reg_grp = LogisticRegression()\n",
    "log_reg_grp.fit(X_train_grp_scaled, y_train_grp)\n",
    "y_pred_grp = log_reg_grp.predict(X_val_grp_scaled) \n"
   ]
  },
  {
   "cell_type": "code",
   "execution_count": null,
   "id": "9504e5a0",
   "metadata": {},
   "outputs": [],
   "source": [
    "thirteen = [\"Logistic regression group features\", 'log_reg_grp',\n",
    "           recall_score(y_pred_grp, y_val_grp), \n",
    "           roc_auc_score(y_val_grp, log_reg_grp.predict_proba(X_val_grp_scaled)[:,1])]\n",
    "thirteen"
   ]
  },
  {
   "cell_type": "markdown",
   "id": "b9c53e76",
   "metadata": {},
   "source": [
    "[back to top](#top)"
   ]
  },
  {
   "cell_type": "markdown",
   "id": "ed2b5bd6",
   "metadata": {},
   "source": [
    "### 6.14 Logistic regression: risk factors<a id='614'></a> "
   ]
  },
  {
   "cell_type": "code",
   "execution_count": null,
   "id": "5e35285e",
   "metadata": {},
   "outputs": [],
   "source": [
    "# separate target from engineered features: y/X_risk\n",
    "y_risk = heart_disease_df_map['y_heart_disease'] \n",
    "X_risk = heart_disease_df_map.loc[:, ['disease_diabetes',\n",
    "                                    'health_bmi',\n",
    "                                    'behavior_activity', \n",
    "                                   'behavior_alcohol']]\n",
    "\n",
    "# split data test/train/validate\n",
    "X_train_risk, X_test_risk, y_train_risk, y_test_risk = train_test_split(X_risk, \n",
    "                                                    y_risk, \n",
    "                                                    test_size=0.2, \n",
    "                                                    random_state=42)\n",
    "\n",
    "X_train_risk, X_val_risk, y_train_risk, y_val_risk = train_test_split(X_train_risk, \n",
    "                                                                        y_train_risk, \n",
    "                                                                        test_size = .25, \n",
    "                                                                        random_state = 42)\n",
    "# scale X train/test/validate\n",
    "scaler = StandardScaler()\n",
    "X_train_risk_scaled = scaler.fit_transform(X_train_risk)\n",
    "X_test_risk_scaled = scaler.transform(X_test_risk)\n",
    "X_val_risk_scaled = scaler.transform(X_val_risk)\n"
   ]
  },
  {
   "cell_type": "code",
   "execution_count": null,
   "id": "ec53f6a3",
   "metadata": {},
   "outputs": [],
   "source": [
    "# LR risk factor features\n",
    "log_reg_risk = LogisticRegression()\n",
    "log_reg_risk.fit(X_train_risk_scaled, y_train_risk)\n",
    "y_pred_risk = log_reg_risk.predict(X_val_risk_scaled) \n"
   ]
  },
  {
   "cell_type": "code",
   "execution_count": null,
   "id": "76bf03b2",
   "metadata": {},
   "outputs": [],
   "source": [
    "thriteen = [\"Logistic regression risk factor features\", 'log_reg_risk',\n",
    "            recall_score(y_pred_risk, y_val_risk), \n",
    "            roc_auc_score(y_val_risk, log_reg_risk.predict_proba(X_val_risk_scaled)[:,1])]\n"
   ]
  },
  {
   "cell_type": "markdown",
   "id": "047a4cdc",
   "metadata": {},
   "source": [
    "[back to top](#top)"
   ]
  },
  {
   "cell_type": "markdown",
   "id": "bf977e38",
   "metadata": {},
   "source": [
    "### 6.15 Logistic regression: question groups + risk factor features<a id='615'></a> "
   ]
  },
  {
   "cell_type": "code",
   "execution_count": null,
   "id": "529ed6c8",
   "metadata": {},
   "outputs": [],
   "source": [
    "# separate target from question groups + risk factor features: y/X_grp_risk\n",
    "y_grp_risk = heart_disease_df_map['y_heart_disease'] \n",
    "X_grp_risk = heart_disease_df_map.loc[:, [\n",
    "    'behaviors', \n",
    "    'demographics', \n",
    "    'disease', \n",
    "    'measures',\n",
    "    'behavior_activity',\n",
    "    'behavior_alcohol',\n",
    "    'disease_diabetes',\n",
    "    'health_bmi'\n",
    "    ]]\n",
    "\n",
    "# split data test/train/validate\n",
    "X_train_grp_risk, X_test_grp_risk, y_train_grp_risk, y_test_grp_risk = train_test_split(X_grp_risk, \n",
    "                                                    y_grp_risk, \n",
    "                                                    test_size=0.2, \n",
    "                                                    random_state=42)\n",
    "X_train_grp_risk, X_val_grp_risk, y_train_grp_risk, y_val_grp_risk = train_test_split(X_train_grp_risk, \n",
    "                                                                            y_train_grp_risk, \n",
    "                                                                            test_size = .25, \n",
    "                                                                            random_state = 42)\n",
    "\n",
    "# Scale X train/test/validate\n",
    "scaler = StandardScaler()\n",
    "X_train_grp_risk_scaled = scaler.fit_transform(X_train_grp_risk)\n",
    "X_test_grp_risk_scaled = scaler.transform(X_test_grp_risk)\n",
    "X_val_grp_risk_scaled = scaler.transform(X_val_grp_risk)\n"
   ]
  },
  {
   "cell_type": "code",
   "execution_count": null,
   "id": "a8d86fd5",
   "metadata": {},
   "outputs": [],
   "source": [
    "# LR question groups + risk factor features\n",
    "log_reg_grp_risk = LogisticRegression()\n",
    "log_reg_grp_risk.fit(X_train_grp_risk_scaled, y_train_grp_risk)\n",
    "y_pred_grp_risk = log_reg_grp_risk.predict(X_val_grp_risk_scaled) \n"
   ]
  },
  {
   "cell_type": "code",
   "execution_count": null,
   "id": "3235f20e",
   "metadata": {},
   "outputs": [],
   "source": [
    "fifteen = [\"Logistic regression question groups + risk factor features\", 'log_reg_grp_risk',\n",
    "            recall_score(y_pred_grp_risk, y_val_grp_risk), \n",
    "            roc_auc_score(y_val_grp_risk, log_reg_grp_risk.predict_proba(X_val_grp_risk_scaled)[:,1])]\n"
   ]
  },
  {
   "cell_type": "markdown",
   "id": "8760b990",
   "metadata": {},
   "source": [
    "#### Models with feature engineering performed worse than [logistic regression](#62). "
   ]
  },
  {
   "cell_type": "markdown",
   "id": "affaacbb",
   "metadata": {},
   "source": [
    "[back to top](#top)"
   ]
  },
  {
   "cell_type": "markdown",
   "id": "2236494a",
   "metadata": {},
   "source": [
    "## Class Imblance Handling <a id='cih'></a> "
   ]
  },
  {
   "cell_type": "code",
   "execution_count": null,
   "id": "2b424511",
   "metadata": {},
   "outputs": [],
   "source": [
    "# target imbalance\n",
    "heart_disease_df_map.y_heart_disease.value_counts()"
   ]
  },
  {
   "cell_type": "code",
   "execution_count": null,
   "id": "399496cf",
   "metadata": {},
   "outputs": [],
   "source": [
    "# class_weight adjustments\n",
    "# _sklearn fbeta score – f2 or f3 to upweight recall_"
   ]
  },
  {
   "cell_type": "code",
   "execution_count": null,
   "id": "19293aee",
   "metadata": {},
   "outputs": [],
   "source": [
    "# decision threshold to max recall"
   ]
  },
  {
   "cell_type": "code",
   "execution_count": null,
   "id": "07e8f96c",
   "metadata": {},
   "outputs": [],
   "source": []
  },
  {
   "cell_type": "code",
   "execution_count": null,
   "id": "19e3ecc8",
   "metadata": {},
   "outputs": [],
   "source": []
  },
  {
   "cell_type": "code",
   "execution_count": null,
   "id": "a18293b5",
   "metadata": {},
   "outputs": [],
   "source": [
    "# precision and recall curves\n",
    "y_pred = log_reg_gridcv.predict(X_test_scaled) \n",
    "\n",
    "precision_curve, recall_curve, threshold_curve = precision_recall_curve(\n",
    "    y_test, log_reg_gridcv.predict_proba(X_test)[:,1] )\n",
    "\n",
    "f, ax = plt.subplots(figsize=(10, 6))\n",
    "plt.plot(threshold_curve, precision_curve[1:],label='precision')\n",
    "plt.plot(threshold_curve, recall_curve[1:], label='recall')\n",
    "plt.legend(loc='center')\n",
    "plt.xlabel('Threshold');\n",
    "plt.title('Precision and Recall Curves')\n",
    "plt.savefig(\"precision-recall-curves.jpeg\");"
   ]
  },
  {
   "cell_type": "markdown",
   "id": "1ce9c736",
   "metadata": {},
   "source": [
    "#### Models with class imbalance handling performed ??? than [logistic regression](#62). "
   ]
  },
  {
   "cell_type": "markdown",
   "id": "713e8c49",
   "metadata": {},
   "source": [
    "[back to top](#top)"
   ]
  },
  {
   "cell_type": "markdown",
   "id": "2cce3925",
   "metadata": {},
   "source": [
    "## Best Performing Model <a id='bpm'></a> "
   ]
  },
  {
   "cell_type": "code",
   "execution_count": null,
   "id": "a2148098",
   "metadata": {},
   "outputs": [],
   "source": [
    "# df to summarize model performance\n",
    "\n",
    "models = zero, one, two, three, four, five, six, seven, \n",
    "            eight, nine, ten, eleven, tweleve, thriteen, fourteen, fifteen\n",
    "model_eval = pd.DataFrame(data = models, columns = ['Model', \n",
    "                                                    'Variable', \n",
    "                                                    'Recall', \n",
    "                                                    'ROC AUC'])\n",
    "model_eval"
   ]
  },
  {
   "cell_type": "code",
   "execution_count": null,
   "id": "98937aa0",
   "metadata": {},
   "outputs": [],
   "source": [
    "# Q. Which model scored best on recall? \n",
    "model_eval.sort_values(by='Recall', ascending=False).head(5)\n",
    "# A. Logistic regression"
   ]
  },
  {
   "cell_type": "code",
   "execution_count": null,
   "id": "b771e628",
   "metadata": {},
   "outputs": [],
   "source": [
    "# Q. Which model scored best on ROC AUC? \n",
    "model_eval.sort_values(by='ROC AUC', ascending=False).head(5)\n",
    "# A. Logistic regression"
   ]
  },
  {
   "cell_type": "markdown",
   "id": "eba41ba6",
   "metadata": {},
   "source": [
    "#### [Logistic regression](#62) performs best on recall and ROC AUC. "
   ]
  },
  {
   "cell_type": "markdown",
   "id": "4de0161a",
   "metadata": {},
   "source": [
    "[back to top](#top)"
   ]
  },
  {
   "cell_type": "markdown",
   "id": "397a59ae",
   "metadata": {},
   "source": [
    "## Model Tuning: GridSearchCV <a id='gscv'></a> "
   ]
  },
  {
   "cell_type": "code",
   "execution_count": null,
   "id": "ca1784fe",
   "metadata": {},
   "outputs": [],
   "source": [
    "# find best C params and penalty type\n",
    "\n",
    "grid={\"C\": np.logspace(-3,3,7), \"penalty\":[\"l1\",\"l2\"]}# L1 lasso, L2 ridge\n",
    "logreg = LogisticRegression()\n",
    "logregcv = GridSearchCV(logreg, grid, cv=10)\n",
    "logregcv.fit(X_train,y_train)\n",
    "\n",
    "print(\"Tuned Hpyerparameters :(best parameters) \", logregcv.best_params_)\n",
    "print(\"Accuracy :\", logregcv.best_score_)"
   ]
  },
  {
   "cell_type": "markdown",
   "id": "398548f8",
   "metadata": {},
   "source": [
    "### 6.16 Logistic regression: GridSearchCV<a id='616'></a> "
   ]
  },
  {
   "cell_type": "code",
   "execution_count": null,
   "id": "c9f0d796",
   "metadata": {},
   "outputs": [],
   "source": [
    "log_reg_gridcv = LogisticRegression(C=0.01, penalty=\"l2\")\n",
    "log_reg_gridcv.fit(X_train_scaled, y_train)\n",
    "y_pred_log_reg_gridcv = log_reg_gridcv.predict(X_val_scaled) \n"
   ]
  },
  {
   "cell_type": "code",
   "execution_count": null,
   "id": "3deb4246",
   "metadata": {},
   "outputs": [],
   "source": [
    "sixteen = ['Logistic regression GridSearchCV', 'log_reg_gridcv',\n",
    "             recall_score(y_pred_log_reg_gridcv, y_val),\n",
    "             roc_auc_score(y_val, log_reg_gridcv.predict_proba(X_val_scaled)[:,1])]\n",
    "sixteen"
   ]
  },
  {
   "cell_type": "code",
   "execution_count": null,
   "id": "16e6e4f8",
   "metadata": {},
   "outputs": [],
   "source": [
    "# add tuned model to model_eval df\n",
    "sixteen = {\n",
    "    'Model': 'Logistic regression GridSearchCV', \n",
    "    'Variable': 'log_reg_gridcv', \n",
    "    'Recall': recall_score(y_pred_log_reg_gridcv, y_val) ,\n",
    "    'ROC AUC': roc_auc_score(y_val, log_reg_gridcv.predict_proba(X_val_scaled)[:,1])\n",
    "}\n",
    "model_eval = model_eval.append(sixteen, ignore_index = True)\n",
    "  \n",
    "display(model_eval)"
   ]
  },
  {
   "cell_type": "markdown",
   "id": "747841ab",
   "metadata": {},
   "source": [
    "[back to top](#top)"
   ]
  },
  {
   "cell_type": "markdown",
   "id": "c4ed3627",
   "metadata": {},
   "source": [
    "# 7 | Model Selection<a id='7'></a> "
   ]
  },
  {
   "cell_type": "markdown",
   "id": "a8af3efb",
   "metadata": {},
   "source": [
    "#### Model winner: `log_reg_gridcv`"
   ]
  },
  {
   "cell_type": "markdown",
   "id": "3518e741",
   "metadata": {},
   "source": [
    "### 7.1 Finalize and test<a id='71'></a> "
   ]
  },
  {
   "cell_type": "code",
   "execution_count": null,
   "id": "9c55cc82",
   "metadata": {},
   "outputs": [],
   "source": [
    "# retrain this model on all training + validation data. \n",
    "# make predictions on the test data and score these predictions, \n",
    "# reporting this score as your estimate of the model's generalization performance.\n",
    "\n",
    "log_reg_gridcv = LogisticRegression(C=0.01, penalty=\"l2\")\n",
    "log_reg_gridcv.fit(X_train_scaled, y_train)\n",
    "y_pred_log_reg_gridcv = log_reg_gridcv.predict(X_val_scaled) \n"
   ]
  },
  {
   "cell_type": "code",
   "execution_count": null,
   "id": "7d7363ba",
   "metadata": {},
   "outputs": [],
   "source": [
    "# confusion matrix on y_test/predict\n",
    "cm = confusion_matrix(y_test, y_pred)\n",
    "\n",
    "f, ax = plt.subplots(figsize=(10, 6))\n",
    "plt.rcParams['figure.dpi'] = 600\n",
    "plt.rcParams['savefig.dpi'] = 600\n",
    "\n",
    "ax = sns.heatmap(cm/np.sum(cm),fmt='.2%', annot=True, cmap='Reds')\n",
    "\n",
    "ax.xaxis.set_ticklabels(['Predicted Heart Disease','Predicted Healthy'])            #double check x y labels\n",
    "ax.yaxis.set_ticklabels(['True Heart Disease','True Healthy'])\n",
    "\n",
    "plt.title('Confusion Matrix (y_test, y_pred)')\n",
    "ax.set_xlabel('Predicted')\n",
    "ax.set_ylabel('Actual ')\n",
    "\n",
    "plt.savefig(\"confusion-matrix.jpeg\");\n"
   ]
  },
  {
   "cell_type": "code",
   "execution_count": null,
   "id": "134fe81c",
   "metadata": {},
   "outputs": [],
   "source": [
    "# classification report on y_test/predict\n",
    "print(classification_report(y_test, \n",
    "                            y_pred, \n",
    "                            target_names=['no heart disease', 'yes heart disease']))\n",
    "\n"
   ]
  },
  {
   "cell_type": "code",
   "execution_count": null,
   "id": "670f6dd4",
   "metadata": {},
   "outputs": [],
   "source": [
    "# ROC AUC curve on y_test/predict\n",
    "probs = log_reg_gridcv.predict_proba(X_test)\n",
    "preds = probs[:,1]\n",
    "fpr, tpr, threshold = roc_curve(y_test, preds)\n",
    "roc_auc = auc(fpr, tpr)\n",
    "\n",
    "sns.set_theme(style=\"whitegrid\")\n",
    "f, ax = plt.subplots(figsize=(10, 6))\n",
    "\n",
    "plt.plot(fpr, tpr, 'b', label = 'AUC = %0.2f' % roc_auc)\n",
    "\n",
    "plt.plot([0, 1], [0, 1],'r--')\n",
    "plt.xlim([0, 1])\n",
    "plt.ylim([0, 1])\n",
    "\n",
    "plt.title('ROC AUC Curve')\n",
    "plt.legend(loc = 'lower right')\n",
    "plt.ylabel('True Positive Rate')\n",
    "plt.xlabel('False Positive Rate')\n",
    "\n",
    "plt.savefig(\"roc-auc-curve.jpeg\");"
   ]
  },
  {
   "cell_type": "code",
   "execution_count": null,
   "id": "74008910",
   "metadata": {},
   "outputs": [],
   "source": [
    "# feature importance log_reg_gridcv\n",
    "imp_feat = pd.DataFrame()\n",
    "feat = list(X)\n",
    "imp = log_reg_gridcv.coef_[0]\n",
    "imp_feat['Feature'] = feat\n",
    "imp_feat['Importance'] = imp\n",
    "imp_feat.sort_values(by=['Importance'], ascending=False, inplace=True)\n"
   ]
  },
  {
   "cell_type": "code",
   "execution_count": null,
   "id": "d3096fb3",
   "metadata": {},
   "outputs": [],
   "source": [
    "# vizualize feature importance\n",
    "f, ax = plt.subplots(figsize=(10, 6))\n",
    "plt.rcParams['figure.dpi'] = 600\n",
    "plt.rcParams['savefig.dpi'] = 600\n",
    "\n",
    "sns.barplot(x='Importance', y='Feature', data=imp_feat, color='red');\n",
    "plt.title('Feature Importance')\n",
    "\n",
    "plt.savefig(\"feature-importance.jpeg\");\n"
   ]
  },
  {
   "cell_type": "markdown",
   "id": "5c6b507e",
   "metadata": {},
   "source": [
    "### 7.2 Interpret<a id='72'></a> "
   ]
  },
  {
   "cell_type": "code",
   "execution_count": null,
   "id": "c181c5f8",
   "metadata": {},
   "outputs": [],
   "source": [
    "# persona 1: couch potato, drinks every day, high BMI, has diabetes"
   ]
  },
  {
   "cell_type": "code",
   "execution_count": null,
   "id": "5ddcfb81",
   "metadata": {},
   "outputs": [],
   "source": [
    "# persona 2: runner, drinks every day, normal BMI, bordrline diabetes"
   ]
  },
  {
   "cell_type": "code",
   "execution_count": null,
   "id": "e1cc2489",
   "metadata": {},
   "outputs": [],
   "source": [
    "# persona 3: walks to works, social drinker, normal BMI, no diabetes"
   ]
  },
  {
   "cell_type": "markdown",
   "id": "7454c591",
   "metadata": {},
   "source": [
    "[back to top](#top)"
   ]
  }
 ],
 "metadata": {
  "kernelspec": {
   "display_name": "Python 3 (ipykernel)",
   "language": "python",
   "name": "python3"
  },
  "language_info": {
   "codemirror_mode": {
    "name": "ipython",
    "version": 3
   },
   "file_extension": ".py",
   "mimetype": "text/x-python",
   "name": "python",
   "nbconvert_exporter": "python",
   "pygments_lexer": "ipython3",
   "version": "3.8.12"
  }
 },
 "nbformat": 4,
 "nbformat_minor": 5
}
