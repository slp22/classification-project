{
 "cells": [
  {
   "cell_type": "markdown",
   "id": "69987c01",
   "metadata": {},
   "source": [
    "# Predicting Heart Disease  "
   ]
  },
  {
   "cell_type": "markdown",
   "id": "1f7f9750",
   "metadata": {},
   "source": [
    "## Classification Model Stepwise Analysis <a id='top'></a> \n",
    "\n",
    "1. [Research Question](#1)<br/>\n",
    "2. [Dataset: Personal Key Indicators of Heart Disease](#2) <br/>\n",
    "3. [Exporatory Data Analysis](#3)<br/>\n",
    "4. [Baselining](#4)<br/>\n",
    "5. [Validation and Testing](#5)<br/>\n",
    "6. [Model Iterations](#6) <br/>\n",
    "7. [Model Selection ](#7)<br/>\n",
    "\n"
   ]
  },
  {
   "cell_type": "code",
   "execution_count": 7,
   "id": "8c2b0a5d",
   "metadata": {},
   "outputs": [],
   "source": [
    "import numpy as np\n",
    "import pandas as pd\n",
    "\n",
    "from sklearn.preprocessing import LabelEncoder\n",
    "from sklearn.model_selection import train_test_split \n",
    "from sklearn.linear_model import LinearRegression ,LogisticRegression\n",
    "from sklearn.tree import DecisionTreeClassifier\n",
    "from sklearn.neighbors import KNeighborsClassifier\n",
    "from sklearn.naive_bayes import GaussianNB\n",
    "from sklearn.ensemble import AdaBoostRegressor\n",
    "from sklearn.ensemble import RandomForestClassifier\n",
    "from sklearn.svm import SVC ,SVR\n",
    "from sklearn.metrics import *\n",
    "from sklearn.model_selection import GridSearchCV\n",
    "\n",
    "import matplotlib.pyplot as plt\n",
    "import seaborn as sns\n",
    "# import plotly.express as px\n",
    "# import plotly.graph_objects as go\n",
    "# from plotly.subplots import make_subplots"
   ]
  },
  {
   "cell_type": "markdown",
   "id": "daa472b2",
   "metadata": {},
   "source": [
    "## 1. Research Question<a id='1'></a> \n",
    "\n",
    "* **RQ:** Could a model predict the probability of a patient having heart disease based on the risk factors in electronic health records?\n",
    "* **Data source:** [Personal Key Indicators of Heart Disease](https://www.kaggle.com/datasets/kamilpytlak/personal-key-indicators-of-heart-disease)\n",
    "* **Error metric:** Recall\n"
   ]
  },
  {
   "cell_type": "markdown",
   "id": "35969908",
   "metadata": {},
   "source": [
    "## 2. Dataset: [Personal Key Indicators of Heart Disease](https://www.kaggle.com/datasets/kamilpytlak/personal-key-indicators-of-heart-disease)<a id='2'></a>  \n"
   ]
  },
  {
   "cell_type": "code",
   "execution_count": 8,
   "id": "74246ed2",
   "metadata": {},
   "outputs": [],
   "source": [
    "df = pd.read_csv('heart_2020_cleaned.csv')"
   ]
  },
  {
   "cell_type": "code",
   "execution_count": 9,
   "id": "2e6760b5",
   "metadata": {},
   "outputs": [
    {
     "name": "stdout",
     "output_type": "stream",
     "text": [
      "<class 'pandas.core.frame.DataFrame'>\n",
      "RangeIndex: 319795 entries, 0 to 319794\n",
      "Data columns (total 18 columns):\n",
      " #   Column            Non-Null Count   Dtype  \n",
      "---  ------            --------------   -----  \n",
      " 0   HeartDisease      319795 non-null  object \n",
      " 1   BMI               319795 non-null  float64\n",
      " 2   Smoking           319795 non-null  object \n",
      " 3   AlcoholDrinking   319795 non-null  object \n",
      " 4   Stroke            319795 non-null  object \n",
      " 5   PhysicalHealth    319795 non-null  float64\n",
      " 6   MentalHealth      319795 non-null  float64\n",
      " 7   DiffWalking       319795 non-null  object \n",
      " 8   Sex               319795 non-null  object \n",
      " 9   AgeCategory       319795 non-null  object \n",
      " 10  Race              319795 non-null  object \n",
      " 11  Diabetic          319795 non-null  object \n",
      " 12  PhysicalActivity  319795 non-null  object \n",
      " 13  GenHealth         319795 non-null  object \n",
      " 14  SleepTime         319795 non-null  float64\n",
      " 15  Asthma            319795 non-null  object \n",
      " 16  KidneyDisease     319795 non-null  object \n",
      " 17  SkinCancer        319795 non-null  object \n",
      "dtypes: float64(4), object(14)\n",
      "memory usage: 43.9+ MB\n"
     ]
    }
   ],
   "source": [
    "df.info()"
   ]
  },
  {
   "cell_type": "code",
   "execution_count": 10,
   "id": "202ee36f",
   "metadata": {},
   "outputs": [
    {
     "data": {
      "text/html": [
       "<div>\n",
       "<style scoped>\n",
       "    .dataframe tbody tr th:only-of-type {\n",
       "        vertical-align: middle;\n",
       "    }\n",
       "\n",
       "    .dataframe tbody tr th {\n",
       "        vertical-align: top;\n",
       "    }\n",
       "\n",
       "    .dataframe thead th {\n",
       "        text-align: right;\n",
       "    }\n",
       "</style>\n",
       "<table border=\"1\" class=\"dataframe\">\n",
       "  <thead>\n",
       "    <tr style=\"text-align: right;\">\n",
       "      <th></th>\n",
       "      <th>HeartDisease</th>\n",
       "      <th>BMI</th>\n",
       "      <th>Smoking</th>\n",
       "      <th>AlcoholDrinking</th>\n",
       "      <th>Stroke</th>\n",
       "      <th>PhysicalHealth</th>\n",
       "      <th>MentalHealth</th>\n",
       "      <th>DiffWalking</th>\n",
       "      <th>Sex</th>\n",
       "      <th>AgeCategory</th>\n",
       "      <th>Race</th>\n",
       "      <th>Diabetic</th>\n",
       "      <th>PhysicalActivity</th>\n",
       "      <th>GenHealth</th>\n",
       "      <th>SleepTime</th>\n",
       "      <th>Asthma</th>\n",
       "      <th>KidneyDisease</th>\n",
       "      <th>SkinCancer</th>\n",
       "    </tr>\n",
       "  </thead>\n",
       "  <tbody>\n",
       "    <tr>\n",
       "      <th>0</th>\n",
       "      <td>No</td>\n",
       "      <td>16.60</td>\n",
       "      <td>Yes</td>\n",
       "      <td>No</td>\n",
       "      <td>No</td>\n",
       "      <td>3.0</td>\n",
       "      <td>30.0</td>\n",
       "      <td>No</td>\n",
       "      <td>Female</td>\n",
       "      <td>55-59</td>\n",
       "      <td>White</td>\n",
       "      <td>Yes</td>\n",
       "      <td>Yes</td>\n",
       "      <td>Very good</td>\n",
       "      <td>5.0</td>\n",
       "      <td>Yes</td>\n",
       "      <td>No</td>\n",
       "      <td>Yes</td>\n",
       "    </tr>\n",
       "    <tr>\n",
       "      <th>1</th>\n",
       "      <td>No</td>\n",
       "      <td>20.34</td>\n",
       "      <td>No</td>\n",
       "      <td>No</td>\n",
       "      <td>Yes</td>\n",
       "      <td>0.0</td>\n",
       "      <td>0.0</td>\n",
       "      <td>No</td>\n",
       "      <td>Female</td>\n",
       "      <td>80 or older</td>\n",
       "      <td>White</td>\n",
       "      <td>No</td>\n",
       "      <td>Yes</td>\n",
       "      <td>Very good</td>\n",
       "      <td>7.0</td>\n",
       "      <td>No</td>\n",
       "      <td>No</td>\n",
       "      <td>No</td>\n",
       "    </tr>\n",
       "    <tr>\n",
       "      <th>2</th>\n",
       "      <td>No</td>\n",
       "      <td>26.58</td>\n",
       "      <td>Yes</td>\n",
       "      <td>No</td>\n",
       "      <td>No</td>\n",
       "      <td>20.0</td>\n",
       "      <td>30.0</td>\n",
       "      <td>No</td>\n",
       "      <td>Male</td>\n",
       "      <td>65-69</td>\n",
       "      <td>White</td>\n",
       "      <td>Yes</td>\n",
       "      <td>Yes</td>\n",
       "      <td>Fair</td>\n",
       "      <td>8.0</td>\n",
       "      <td>Yes</td>\n",
       "      <td>No</td>\n",
       "      <td>No</td>\n",
       "    </tr>\n",
       "    <tr>\n",
       "      <th>3</th>\n",
       "      <td>No</td>\n",
       "      <td>24.21</td>\n",
       "      <td>No</td>\n",
       "      <td>No</td>\n",
       "      <td>No</td>\n",
       "      <td>0.0</td>\n",
       "      <td>0.0</td>\n",
       "      <td>No</td>\n",
       "      <td>Female</td>\n",
       "      <td>75-79</td>\n",
       "      <td>White</td>\n",
       "      <td>No</td>\n",
       "      <td>No</td>\n",
       "      <td>Good</td>\n",
       "      <td>6.0</td>\n",
       "      <td>No</td>\n",
       "      <td>No</td>\n",
       "      <td>Yes</td>\n",
       "    </tr>\n",
       "    <tr>\n",
       "      <th>4</th>\n",
       "      <td>No</td>\n",
       "      <td>23.71</td>\n",
       "      <td>No</td>\n",
       "      <td>No</td>\n",
       "      <td>No</td>\n",
       "      <td>28.0</td>\n",
       "      <td>0.0</td>\n",
       "      <td>Yes</td>\n",
       "      <td>Female</td>\n",
       "      <td>40-44</td>\n",
       "      <td>White</td>\n",
       "      <td>No</td>\n",
       "      <td>Yes</td>\n",
       "      <td>Very good</td>\n",
       "      <td>8.0</td>\n",
       "      <td>No</td>\n",
       "      <td>No</td>\n",
       "      <td>No</td>\n",
       "    </tr>\n",
       "  </tbody>\n",
       "</table>\n",
       "</div>"
      ],
      "text/plain": [
       "  HeartDisease    BMI Smoking AlcoholDrinking Stroke  PhysicalHealth  \\\n",
       "0           No  16.60     Yes              No     No             3.0   \n",
       "1           No  20.34      No              No    Yes             0.0   \n",
       "2           No  26.58     Yes              No     No            20.0   \n",
       "3           No  24.21      No              No     No             0.0   \n",
       "4           No  23.71      No              No     No            28.0   \n",
       "\n",
       "   MentalHealth DiffWalking     Sex  AgeCategory   Race Diabetic  \\\n",
       "0          30.0          No  Female        55-59  White      Yes   \n",
       "1           0.0          No  Female  80 or older  White       No   \n",
       "2          30.0          No    Male        65-69  White      Yes   \n",
       "3           0.0          No  Female        75-79  White       No   \n",
       "4           0.0         Yes  Female        40-44  White       No   \n",
       "\n",
       "  PhysicalActivity  GenHealth  SleepTime Asthma KidneyDisease SkinCancer  \n",
       "0              Yes  Very good        5.0    Yes            No        Yes  \n",
       "1              Yes  Very good        7.0     No            No         No  \n",
       "2              Yes       Fair        8.0    Yes            No         No  \n",
       "3               No       Good        6.0     No            No        Yes  \n",
       "4              Yes  Very good        8.0     No            No         No  "
      ]
     },
     "execution_count": 10,
     "metadata": {},
     "output_type": "execute_result"
    }
   ],
   "source": [
    "df.head()"
   ]
  },
  {
   "cell_type": "markdown",
   "id": "bcefc101",
   "metadata": {},
   "source": [
    "[back to top](#top)"
   ]
  },
  {
   "cell_type": "markdown",
   "id": "c6983cdb",
   "metadata": {},
   "source": [
    "## 3. Exporatory Data Analysis<a id='3'></a> "
   ]
  },
  {
   "cell_type": "markdown",
   "id": "4fcf5623",
   "metadata": {},
   "source": [
    "**Look at, summarize, and clean the data.** \n",
    "- Examine at least some rows in micro detail, \n",
    "    - checking that the data is correct and \n",
    "    - appears as you expected (e.g., number of customers should not be negative!). \n",
    "- Also study the macro level by aggregating the data and looking at \n",
    "    - summary information and statistics (what is the data type, \n",
    "    - how many entries and missing values are there, \n",
    "    - what are some descriptive statistics like mean for numerical columns, etc.) \n",
    "- Significant preprocessing/data preparation may be called for in cases of messy/problematic data.\n",
    "\n",
    "**Scope out classification viability:** \n",
    "- Look at key statistics and visualizations related to classification - \n",
    "    - correlation matrix, \n",
    "    - target distribution (how imbalanced are the classes you're predicting?), \n",
    "    - target vs. feature plots (e.g. seaborn pairplot with the target value passed as a hue, see logistic regression notebook for a good example). \n",
    "- Get some initial expectations for model performance and identify features that intuitively, visually, and based on their per-class distributions (e.g. box plots by target class) are likely to work well.\n",
    "\n",
    "**Determine the most relevant classification metric(s):** \n",
    "- Given the model's use case and the distribution of the target, what metrics are most relevant for this problem? \n",
    "- It's critical to establish this before modeling so that you can properly decide how well a model is actually working. \n",
    "- Is the class distribution balanced and accuracy is a meaningful metric? Do you need to have good recall and precision for the positive class (use F1)? \n",
    "- Is recall more important than precision (use F_beta with beta > 1, care about recall beta times more than precision)? \n",
    "- Is it a probability ranking problem (use ROC AUC)? Think carefully about cost-benefit analysis from the use case perspective to decide on the right metric(s).\n"
   ]
  },
  {
   "cell_type": "code",
   "execution_count": null,
   "id": "8adb6a24",
   "metadata": {},
   "outputs": [],
   "source": []
  },
  {
   "cell_type": "markdown",
   "id": "8a71be59",
   "metadata": {},
   "source": [
    "[back to top](#top)"
   ]
  },
  {
   "cell_type": "markdown",
   "id": "a3c710fb",
   "metadata": {},
   "source": [
    "## 4. Baselining<a id='4'></a> "
   ]
  },
  {
   "cell_type": "markdown",
   "id": "8524bf2d",
   "metadata": {},
   "source": [
    "- Build a simple baseline model such as \n",
    "    - logistic regression, \n",
    "    - KNN, or \n",
    "    - naive Bayes, \n",
    "    using a small handful of features (you might get lucky and be able to explain your targets with very few features). \n",
    "- Start with features that are most likely to be predictive based on your domain knowledge and EDA (step 1) and/or are simple to handle (e.g. numeric without null values). \n",
    "- Calculate the model evaluation metrics you've determined are relevant to get a baseline score and feel for how well the model can perform. \n",
    "- Ideally, calculate the baseline score on a hold out set as in part 3, not the training data."
   ]
  },
  {
   "cell_type": "code",
   "execution_count": null,
   "id": "8e2185b4",
   "metadata": {},
   "outputs": [],
   "source": []
  },
  {
   "cell_type": "markdown",
   "id": "3ebe793b",
   "metadata": {},
   "source": [
    "[back to top](#top)"
   ]
  },
  {
   "cell_type": "markdown",
   "id": "c95aa82a",
   "metadata": {},
   "source": [
    "## 5. Validation and Testing<a id='5'></a>"
   ]
  },
  {
   "cell_type": "markdown",
   "id": "bd8e0e6d",
   "metadata": {},
   "source": [
    "- Set up a data splitting structure for validating and testing your model. \n",
    "- Cross-validation will often be preferable to simple, single-set validation due to its robustness. \n",
    "- There may also be cases where a specialized validation setup is called for, such as in time series problems. \n",
    "- Using your chosen validation scheme, you can perform iterative feature selection/expansion/engineering and model complexity adjustments in order to complete the next 2 steps. \n",
    "- You will use the test data only once your model is finalized in order to compute a final estimate of generalization performance.\n",
    "\n"
   ]
  },
  {
   "cell_type": "code",
   "execution_count": null,
   "id": "85452e2a",
   "metadata": {},
   "outputs": [],
   "source": []
  },
  {
   "cell_type": "markdown",
   "id": "d1a3323e",
   "metadata": {},
   "source": [
    "[back to top](#top)"
   ]
  },
  {
   "cell_type": "markdown",
   "id": "dd1a1148",
   "metadata": {},
   "source": [
    "## 6. Model Iterations <a id='6'></a> "
   ]
  },
  {
   "cell_type": "markdown",
   "id": "59675290",
   "metadata": {},
   "source": [
    "- Starting from the baseline and in an iterative, validated loop ask: \n",
    "    - Do you need more complexity or less (underfitting vs. overfitting)? \n",
    "    - Do you need a fancier model (nonlinear, additional feature engineering / transformations)? \n",
    "    - If you need more complexity, try tree-based models such as random forest or gradient boosted trees. \n",
    "    - Are you overfitting and need to make your model more conservative by removing features or using regularization? - Hopefully you can quickly acquire an understanding of which direction you need to go in from your baseline and early modeling results, then make more fine-tuned changes as you go.\n",
    "\n",
    "\n",
    "- The impact of model choices should be consistently measured against the same validation data as in part 3, using your relevant classification performance metrics such as F1 or ROC AUC. \n"
   ]
  },
  {
   "cell_type": "code",
   "execution_count": null,
   "id": "bad7c7ef",
   "metadata": {},
   "outputs": [],
   "source": []
  },
  {
   "cell_type": "markdown",
   "id": "2e3ef44d",
   "metadata": {},
   "source": [
    "#### k-Nearst Neighbors"
   ]
  },
  {
   "cell_type": "code",
   "execution_count": null,
   "id": "2e05ef6f",
   "metadata": {},
   "outputs": [],
   "source": []
  },
  {
   "cell_type": "markdown",
   "id": "1b65171e",
   "metadata": {},
   "source": [
    "[back to top](#top)"
   ]
  },
  {
   "cell_type": "markdown",
   "id": "5dd05547",
   "metadata": {},
   "source": [
    "#### Logistic Regression "
   ]
  },
  {
   "cell_type": "code",
   "execution_count": null,
   "id": "e578b6c7",
   "metadata": {},
   "outputs": [],
   "source": []
  },
  {
   "cell_type": "markdown",
   "id": "c39d97de",
   "metadata": {},
   "source": [
    "[back to top](#top)"
   ]
  },
  {
   "cell_type": "markdown",
   "id": "42371f89",
   "metadata": {},
   "source": [
    "#### Random Forests"
   ]
  },
  {
   "cell_type": "code",
   "execution_count": null,
   "id": "298b21cc",
   "metadata": {},
   "outputs": [],
   "source": []
  },
  {
   "cell_type": "markdown",
   "id": "21eb98d8",
   "metadata": {},
   "source": [
    "[back to top](#top)"
   ]
  },
  {
   "cell_type": "markdown",
   "id": "c32e4856",
   "metadata": {},
   "source": [
    "#### Gradient Boosted Trees"
   ]
  },
  {
   "cell_type": "code",
   "execution_count": null,
   "id": "14f4e3c1",
   "metadata": {},
   "outputs": [],
   "source": []
  },
  {
   "cell_type": "markdown",
   "id": "a6164821",
   "metadata": {},
   "source": [
    "[back to top](#top)"
   ]
  },
  {
   "cell_type": "markdown",
   "id": "a201b2f2",
   "metadata": {},
   "source": [
    "#### Ensembling"
   ]
  },
  {
   "cell_type": "code",
   "execution_count": null,
   "id": "17fbd582",
   "metadata": {},
   "outputs": [],
   "source": []
  },
  {
   "cell_type": "markdown",
   "id": "fb475c33",
   "metadata": {},
   "source": [
    "[back to top](#top)"
   ]
  },
  {
   "cell_type": "markdown",
   "id": "cbe18210",
   "metadata": {},
   "source": [
    "#### Naive Bayes"
   ]
  },
  {
   "cell_type": "code",
   "execution_count": null,
   "id": "0ade76da",
   "metadata": {},
   "outputs": [],
   "source": []
  },
  {
   "cell_type": "markdown",
   "id": "5a3545ba",
   "metadata": {},
   "source": [
    "[back to top](#top)"
   ]
  },
  {
   "cell_type": "markdown",
   "id": "01f83384",
   "metadata": {},
   "source": [
    "### Error metric: Recall"
   ]
  },
  {
   "cell_type": "code",
   "execution_count": null,
   "id": "6d66ff61",
   "metadata": {},
   "outputs": [],
   "source": []
  },
  {
   "cell_type": "markdown",
   "id": "37952b2c",
   "metadata": {},
   "source": [
    "[back to top](#top)"
   ]
  },
  {
   "cell_type": "markdown",
   "id": "f01401e8",
   "metadata": {},
   "source": [
    "### Class Imblance Handling "
   ]
  },
  {
   "cell_type": "markdown",
   "id": "a195260e",
   "metadata": {},
   "source": [
    "- If your target class distribution is (highly) imbalanced, make sure to try imbalance handling strategies such as \n",
    "    - resampling, \n",
    "    - class_weight adjustments, and \n",
    "    - decision threshold tuning that dovetail with the metrics you’re most interested in. \n",
    "- These methods are part of the modeling process, whether they happen before, during, or after training."
   ]
  },
  {
   "cell_type": "code",
   "execution_count": null,
   "id": "17df2084",
   "metadata": {},
   "outputs": [],
   "source": []
  },
  {
   "cell_type": "markdown",
   "id": "047a4cdc",
   "metadata": {},
   "source": [
    "[back to top](#top)"
   ]
  },
  {
   "cell_type": "markdown",
   "id": "bcbd5922",
   "metadata": {},
   "source": [
    "### Feature Engineering "
   ]
  },
  {
   "cell_type": "markdown",
   "id": "ebb24250",
   "metadata": {},
   "source": [
    "- The [feature engineering](https://app.thisismetis.com/courses/162/pages/home-feature-engineering-for-classification) lesson provides a model for how you might track your progress while iteratively expanding your model. "
   ]
  },
  {
   "cell_type": "code",
   "execution_count": null,
   "id": "865338a4",
   "metadata": {},
   "outputs": [],
   "source": []
  },
  {
   "cell_type": "markdown",
   "id": "affaacbb",
   "metadata": {},
   "source": [
    "[back to top](#top)"
   ]
  },
  {
   "cell_type": "markdown",
   "id": "c4ed3627",
   "metadata": {},
   "source": [
    "## 7. Model Selection<a id='7'></a> "
   ]
  },
  {
   "cell_type": "markdown",
   "id": "43f38624",
   "metadata": {},
   "source": [
    "**Finalize and test:** \n",
    "- When satisfied with the results of your tuning in _Model Iterations_, establish your final model choices:\n",
    "        - features, \n",
    "        - preprocessing, \n",
    "        - imbalance handling strategy, and \n",
    "        - hyperparameters\n",
    "    - retrain this model on all training + validation data. \n",
    "- Make predictions on the test data and score these predictions, reporting this score as your estimate of the model's generalization performance.\n",
    "\n",
    "**Interpret:** \n",
    "- Extract and study your final model coefficients or feature importances. Are there any interesting or unexpected takeaways? \n",
    "- How do the model coefficients/importances align with your intuition and domain knowledge about the problem? \n",
    "- Be careful about complicating factors in interpretation such as differing feature scales and multicollinearity.\n",
    "\n"
   ]
  },
  {
   "cell_type": "code",
   "execution_count": null,
   "id": "94826ad8",
   "metadata": {},
   "outputs": [],
   "source": []
  },
  {
   "cell_type": "markdown",
   "id": "7454c591",
   "metadata": {},
   "source": [
    "[back to top](#top)"
   ]
  }
 ],
 "metadata": {
  "kernelspec": {
   "display_name": "Python 3 (ipykernel)",
   "language": "python",
   "name": "python3"
  },
  "language_info": {
   "codemirror_mode": {
    "name": "ipython",
    "version": 3
   },
   "file_extension": ".py",
   "mimetype": "text/x-python",
   "name": "python",
   "nbconvert_exporter": "python",
   "pygments_lexer": "ipython3",
   "version": "3.8.12"
  }
 },
 "nbformat": 4,
 "nbformat_minor": 5
}
