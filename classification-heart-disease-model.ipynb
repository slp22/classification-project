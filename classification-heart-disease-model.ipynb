{
 "cells": [
  {
   "cell_type": "markdown",
   "id": "69987c01",
   "metadata": {},
   "source": [
    "#### Classification | Model\n",
    "\n",
    "# Predicting Heart Disease  "
   ]
  },
  {
   "cell_type": "markdown",
   "id": "1f7f9750",
   "metadata": {},
   "source": [
    "## Classification Model Stepwise Analysis <a id='top'></a> \n",
    "\n",
    "1. [Research Question](#1)<br/>\n",
    "2. [DataFrames](#2) <br/>\n",
    "3. [Exporatory Data Analysis](#3)<br/>\n",
    "4. [Baselining](#4)<br/>\n",
    "5. [Validation and Testing](#5)<br/>\n",
    "6. [Model Iterations](#6) <br/>\n",
    "7. [Model Selection ](#7)<br/>\n",
    "\n"
   ]
  },
  {
   "cell_type": "code",
   "execution_count": 1,
   "id": "8c2b0a5d",
   "metadata": {},
   "outputs": [],
   "source": [
    "import pandas as pd\n",
    "import numpy as np\n",
    "import imblearn.over_sampling\n",
    "import matplotlib.pyplot as plt\n",
    "import seaborn as sns\n",
    "import plotly.express as px\n",
    "import plotly.graph_objects as go\n",
    "\n",
    "plt.style.use('ggplot')\n",
    "%matplotlib inline\n",
    "np.set_printoptions(suppress=True) # Suppress scientific notation where possible\n",
    "\n",
    "from ipywidgets import interactive, FloatSlider\n",
    "from plotly.subplots import make_subplots\n",
    "from sklearn.compose import make_column_transformer\n",
    "from sklearn.ensemble import AdaBoostRegressor, RandomForestClassifier\n",
    "from sklearn.linear_model import LinearRegression ,LogisticRegression\n",
    "from sklearn.metrics import *\n",
    "from sklearn.model_selection import GridSearchCV, train_test_split\n",
    "from sklearn.naive_bayes import BernoulliNB, MultinomialNB, GaussianNB\n",
    "from sklearn.neighbors import KNeighborsClassifier\n",
    "from sklearn.preprocessing import LabelEncoder, StandardScaler, OrdinalEncoder\n",
    "from sklearn.svm import SVC ,SVR\n",
    "from sklearn.tree import DecisionTreeClassifier\n",
    "from sklearn.utils import shuffle\n",
    "from xgboost import XGBClassifier\n"
   ]
  },
  {
   "cell_type": "markdown",
   "id": "daa472b2",
   "metadata": {},
   "source": [
    "## 1 | Research Design<a id='1'></a> \n",
    "\n",
    "* **Reserach Question:** How might we predict which patients are at high risk of heart disease?\n",
    "* **Impact Hypothesis:** Reduce the number of patients who develop heart disease (arterial plaque or heart attack).\n",
    "* **Data source:** [Personal Key Indicators of Heart Disease](https://www.kaggle.com/datasets/kamilpytlak/personal-key-indicators-of-heart-disease), n=319,795\n",
    "* **Error metric:** [Recall](#3c)"
   ]
  },
  {
   "cell_type": "markdown",
   "id": "eb765475",
   "metadata": {},
   "source": [
    "### [Data Dictionary](https://www.cdc.gov/brfss/annual_data/2020/pdf/codebook20_llcp-v2-508.pdf)<a id='1a'></a>\n",
    "_Target_\n",
    "- `y_heart_disease`: Y/N | coronary heart disease (CHD) or myocardial infarction (MI)\n",
    "\n",
    "_Health Behaviors_\n",
    "- `behavior_activity`: Num (0-30) | # days did physical activity/ exercise other than regular job\n",
    "- `behavior_alcohol`: Y/N | heavy drinker, defined as men: 14+/wk, women: 7+/wk (includes beer, wine, malt beverage, liquor)\n",
    "- `behavior_sleep`: Num (0-24) | # hours of sleep in a 24-hour period, on average\n",
    "- `behavior_tobacco`: Y/N | smoked at least 100 cigarettes in your life\n",
    "\n",
    "_Demographics_\n",
    "- `demg_age`: 18-24, 25-29, 30-34, 35-39, 40-44, 45-49, 50-54, 55-59, 60-64, 65-69, 70-74, 75-79, 80+\n",
    "- `demg_gender`: male/female\n",
    "- `demg_race`: White, Black, Asian, American Indian/Alaskan Native, Hispanic, Other race\n",
    "\n",
    "_Health Measures_\n",
    "- `health_bmi`: Num | Body Mass Index (BMI)\n",
    "- `health_physical`: Num (0-30) | # days physical health  not good, includes physical illness and injury\n",
    "- `health_mental`: Num (0-30 ) | # days mental health not good, includes stress, depression, and problems with emotions\n",
    "- `health_general`: Excellent, Very Good, Fair, Poor | Would you say that in general your health is...\n",
    "- `health_mobility`: Y/N | serious difficulty walking or climbing stairs\n",
    "\n",
    "_Chronic Disease_\n",
    "- `disease_asthma`: Y/N\n",
    "- `disease_diabetes`: Y/N/Y pregnancy/N borderline\n",
    "- `disease_kidney`: Y/N | kidney disease, excludes kidney stones, bladder infection or incontinence\n",
    "- `disease_skin`: Y/N | skin cancer\n",
    "- `disease_stroke`: Y/N"
   ]
  },
  {
   "cell_type": "markdown",
   "id": "35969908",
   "metadata": {},
   "source": [
    "## 2 | [DataFrames](https://github.com/slp22/classification-project/blob/main/classification-heart-disease_mvp.ipynb)<a id='2'></a>  \n"
   ]
  },
  {
   "cell_type": "code",
   "execution_count": 2,
   "id": "74246ed2",
   "metadata": {},
   "outputs": [],
   "source": [
    "# load clean and transformed dataframes from mvp \n",
    "heart_disease_df = pd.read_csv('heart_disease_df.csv')\n",
    "heart_disease_df_map = pd.read_csv('heart_disease_df_map.csv') \n"
   ]
  },
  {
   "cell_type": "code",
   "execution_count": null,
   "id": "2e6760b5",
   "metadata": {},
   "outputs": [],
   "source": [
    "# clean df\n",
    "heart_disease_df.head(3)\n"
   ]
  },
  {
   "cell_type": "code",
   "execution_count": null,
   "id": "b5da9f30",
   "metadata": {},
   "outputs": [],
   "source": [
    "# mapped categorical variables to numberical values \n",
    "heart_disease_df_map.head(3)\n"
   ]
  },
  {
   "cell_type": "markdown",
   "id": "c6983cdb",
   "metadata": {},
   "source": [
    "## 3 | Exporatory Data Analysis<a id='3'></a> "
   ]
  },
  {
   "cell_type": "markdown",
   "id": "7dd36f9d",
   "metadata": {},
   "source": [
    "**3a. Look at, summarize, and clean the data.**<a id='3a'></a> "
   ]
  },
  {
   "cell_type": "code",
   "execution_count": null,
   "id": "d5cddb37",
   "metadata": {},
   "outputs": [],
   "source": [
    "# EDA and model with the mapped df\n",
    "heart_disease_df_map.info()\n"
   ]
  },
  {
   "cell_type": "markdown",
   "id": "22de34d3",
   "metadata": {},
   "source": [
    "**3b. Scope out classification viability.**<a id='3b'></a> "
   ]
  },
  {
   "cell_type": "code",
   "execution_count": null,
   "id": "35cce72e",
   "metadata": {},
   "outputs": [],
   "source": [
    "# descriptive statistics\n",
    "heart_disease_df_map.describe().T.style.background_gradient(cmap='Blues')\n"
   ]
  },
  {
   "cell_type": "code",
   "execution_count": null,
   "id": "32d7c63f",
   "metadata": {},
   "outputs": [],
   "source": [
    "# correlation matrix\n",
    "heart_disease_df_map.corr().style.background_gradient(cmap='Blues')\n"
   ]
  },
  {
   "cell_type": "markdown",
   "id": "81bb0dab",
   "metadata": {},
   "source": [
    "[back to top](#top)"
   ]
  },
  {
   "cell_type": "code",
   "execution_count": null,
   "id": "3ea8a2df",
   "metadata": {},
   "outputs": [],
   "source": [
    "## target vs. features \n",
    "# sns.pairplot(heart_disease_df_map, hue='y_heart_disease');\n",
    "\n",
    "##not running"
   ]
  },
  {
   "cell_type": "code",
   "execution_count": 5,
   "id": "84a51e9c",
   "metadata": {},
   "outputs": [
    {
     "data": {
      "image/png": "[encoded data removed]",
      "text/plain": [
       "<Figure size 432x288 with 1 Axes>"
      ]
     },
     "metadata": {
      "needs_background": "light"
     },
     "output_type": "display_data"
    }
   ],
   "source": [
    "# target vs age\n",
    "ax = sns.boxplot(x='y_heart_disease', y='demg_age', data=heart_disease_df_map)\n",
    "ax.set_xticklabels(['No', 'Yes']);\n"
   ]
  },
  {
   "cell_type": "code",
   "execution_count": 6,
   "id": "51bae261",
   "metadata": {},
   "outputs": [
    {
     "data": {
      "image/png": "[encoded data removed]",
      "text/plain": [
       "<Figure size 432x288 with 1 Axes>"
      ]
     },
     "metadata": {
      "needs_background": "light"
     },
     "output_type": "display_data"
    }
   ],
   "source": [
    "# target vs mobility\n",
    "sns.boxplot(x='y_heart_disease', y='health_bmi', data=heart_disease_df_map)\n",
    "ax.set_xticklabels(['No', 'Yes']);\n"
   ]
  },
  {
   "cell_type": "code",
   "execution_count": 7,
   "id": "228c9723",
   "metadata": {},
   "outputs": [
    {
     "data": {
      "image/png": "[encoded data removed]",
      "text/plain": [
       "<Figure size 432x288 with 1 Axes>"
      ]
     },
     "metadata": {
      "needs_background": "light"
     },
     "output_type": "display_data"
    }
   ],
   "source": [
    "# target vs physical health\n",
    "sns.boxplot(x='y_heart_disease', y='health_physical', data=heart_disease_df_map)\n",
    "ax.set_xticklabels(['No', 'Yes']);\n"
   ]
  },
  {
   "cell_type": "code",
   "execution_count": 8,
   "id": "d1a0c90e",
   "metadata": {},
   "outputs": [
    {
     "name": "stdout",
     "output_type": "stream",
     "text": [
      "Target Ratio: 9.36 %\n",
      "No     292422\n",
      "Yes     27373\n",
      "Name: y_heart_disease, dtype: int64\n"
     ]
    }
   ],
   "source": [
    "# target distribution\n",
    "print('Target Ratio:', round(27373/292422, 4) * 100, '%')\n",
    "print(heart_disease_df['y_heart_disease'].value_counts())\n"
   ]
  },
  {
   "cell_type": "markdown",
   "id": "1e242528",
   "metadata": {},
   "source": [
    "**3c. Determine classification metric(s).**<a id='3c'></a> "
   ]
  },
  {
   "cell_type": "markdown",
   "id": "06a0008e",
   "metadata": {},
   "source": [
    "To maximize on the model capturing the patients who are true positives for heart disease, will the errror metric recall. \n",
    "\n",
    "To identify high vs low risk patients, will use ROC AUC. "
   ]
  },
  {
   "cell_type": "markdown",
   "id": "8a71be59",
   "metadata": {},
   "source": [
    "[back to top](#top)"
   ]
  },
  {
   "cell_type": "markdown",
   "id": "a3c710fb",
   "metadata": {},
   "source": [
    "## 4 | Baseline<a id='4'></a> "
   ]
  },
  {
   "cell_type": "markdown",
   "id": "1678c1ca",
   "metadata": {},
   "source": [
    "**4a. Build a simple baseline model with a handful of features.**"
   ]
  },
  {
   "cell_type": "code",
   "execution_count": 9,
   "id": "1f04d975",
   "metadata": {},
   "outputs": [],
   "source": [
    "# separate target from features based on the correlation matrix\n",
    "y_base = heart_disease_df_map['y_heart_disease'] \n",
    "X_base = heart_disease_df_map.loc[:, [\n",
    "#     'behavior_activity', \n",
    "#     'behavior_alcohol', \n",
    "#     'behavior_sleep',\n",
    "#     'behavior_tobacco',\n",
    "    'demg_age',\n",
    "#     'demg_gender', \n",
    "#     'demg_race',\n",
    "#     'disease_asthma', \n",
    "#     'disease_diabetes', \n",
    "#     'disease_kidney', \n",
    "#     'disease_skin', \n",
    "#     'disease_stroke', \n",
    "#     'health_bmi', \n",
    "#     'health_general', \n",
    "#     'health_mental',\n",
    "    'health_mobility', \n",
    "    'health_physical'\n",
    "    ]]\n",
    "\n",
    "# split baseline data test/train/validate\n",
    "X_train_base, X_test_base, y_train_base, y_test_base = train_test_split(X_base, \n",
    "                                                    y_base, \n",
    "                                                    test_size=0.2, \n",
    "                                                    random_state=42)\n",
    "X_train_base, X_validate_base, y_train_base, y_validate_base = train_test_split(X_train_base, y_train_base, \n",
    "                                                            test_size = .25, random_state = 42)\n",
    "\n",
    "# scale baseline X train/test\n",
    "scaler_base = StandardScaler()\n",
    "X_train_scaled_base = scaler_base.fit_transform(X_train_base)\n",
    "X_test_scaled_base = scaler_base.transform(X_test_base)\n",
    "X_validate_scaled_base = scaler_base.transform(X_validate_base)\n"
   ]
  },
  {
   "cell_type": "code",
   "execution_count": 19,
   "id": "df735ce4",
   "metadata": {},
   "outputs": [
    {
     "name": "stdout",
     "output_type": "stream",
     "text": [
      "Baseline logistic regression recall: 0.3634\n"
     ]
    }
   ],
   "source": [
    "# baseline logistic regression X train scaled & y train\n",
    "logreg_base = LogisticRegression().fit(X_train_scaled_base, y_train_base)\n",
    "\n",
    "# baseline predict on X_validate_scaled_m \n",
    "y_pred_base = logreg_base.predict(X_validate_scaled_base) \n",
    "\n",
    "# score on X_test_scaled and y_test\n",
    "print(\"Baseline logistic regression recall:\", round(\n",
    "    recall_score(logreg_base.predict(X_test_scaled_base), y_test_base), 4))\n"
   ]
  },
  {
   "cell_type": "markdown",
   "id": "3822eed6",
   "metadata": {},
   "source": [
    "[back to top](#top)"
   ]
  },
  {
   "cell_type": "markdown",
   "id": "bc6f8fac",
   "metadata": {},
   "source": [
    "## 5 | Validation and Testing<a id='5'></a>"
   ]
  },
  {
   "cell_type": "markdown",
   "id": "ebec1830",
   "metadata": {},
   "source": [
    "- Cross-validation will often be preferable to simple, single-set validation due to its robustness. \n",
    "- Using your chosen validation scheme, you can perform iterative feature selection/expansion/engineering and model complexity adjustments in order to complete the next 2 steps. \n",
    "- You will use the test data only once your model is finalized in order to compute a final estimate of generalization performance.\n",
    "\n"
   ]
  },
  {
   "cell_type": "code",
   "execution_count": null,
   "id": "2090f899",
   "metadata": {},
   "outputs": [],
   "source": [
    "# validate set from above: X_validate_base, y_validate_base\n"
   ]
  },
  {
   "cell_type": "code",
   "execution_count": null,
   "id": "8b09c570",
   "metadata": {},
   "outputs": [],
   "source": [
    "# classification report on y_validate/predict\n",
    "print(classification_report(y_validate_base, y_pred_base, target_names=['no heart disease', 'yes heart disease']))\n",
    "\n"
   ]
  },
  {
   "cell_type": "markdown",
   "id": "d1a3323e",
   "metadata": {},
   "source": [
    "[back to top](#top)"
   ]
  },
  {
   "cell_type": "markdown",
   "id": "dd1a1148",
   "metadata": {},
   "source": [
    "## 6 | Model Iterations <a id='6'></a> "
   ]
  },
  {
   "cell_type": "markdown",
   "id": "e2dc5899",
   "metadata": {},
   "source": [
    "- Starting from the baseline and in an iterative, validated loop ask: \n",
    "    - Do you need more complexity or less (underfitting vs. overfitting)? \n",
    "    - Do you need a fancier model (nonlinear, additional feature engineering / transformations)? \n",
    "    - If you need more complexity, try tree-based models such as random forest or gradient boosted trees. \n",
    "    - Are you overfitting and need to make your model more conservative by removing features or using regularization? - Hopefully you can quickly acquire an understanding of which direction you need to go in from your baseline and early modeling results, then make more fine-tuned changes as you go.\n",
    "\n",
    "\n",
    "- The impact of model choices should be consistently measured against the same validation data as in part 3, using your relevant classification performance metrics such as F1 or ROC AUC. \n"
   ]
  },
  {
   "cell_type": "code",
   "execution_count": 17,
   "id": "bad7c7ef",
   "metadata": {},
   "outputs": [],
   "source": [
    "# separate target from features \n",
    "y = heart_disease_df_map['y_heart_disease'] \n",
    "X = heart_disease_df_map.loc[:, [\n",
    "    'behavior_activity', \n",
    "    'behavior_alcohol', \n",
    "    'behavior_sleep',\n",
    "    'behavior_tobacco',\n",
    "    'demg_age',\n",
    "    'demg_gender', \n",
    "    'demg_race',\n",
    "    'disease_asthma', \n",
    "    'disease_diabetes', \n",
    "    'disease_kidney', \n",
    "    'disease_skin', \n",
    "    'disease_stroke', \n",
    "    'health_bmi', \n",
    "    'health_general', \n",
    "    'health_mental',\n",
    "    'health_mobility', \n",
    "    'health_physical'\n",
    "    ]]\n",
    "\n",
    "# split data test/train/validate\n",
    "X_train, X_test, y_train, y_test = train_test_split(X, \n",
    "                                                    y, \n",
    "                                                    test_size=0.2, \n",
    "                                                    random_state=42)\n",
    "X_train, X_validate, y_train, y_validate = train_test_split(X_train, y_train, \n",
    "                                                            test_size = .25, random_state = 42)\n",
    "\n",
    "# scale X train/test/validate\n",
    "scaler = StandardScaler()\n",
    "X_train_scaled = scaler.fit_transform(X_train)\n",
    "X_test_scaled = scaler.transform(X_test)\n",
    "X_validate_scaled = scaler.transform(X_validate)\n"
   ]
  },
  {
   "cell_type": "markdown",
   "id": "2e3ef44d",
   "metadata": {},
   "source": [
    "#### k-Nearest Neighbors<a id='6a'></a> "
   ]
  },
  {
   "cell_type": "code",
   "execution_count": null,
   "id": "0783404b",
   "metadata": {},
   "outputs": [],
   "source": [
    "knn = KNeighborsClassifier(n_neighbors=3).fit(X_train_scaled, y_train)\n",
    "y_pred_knn = knn.predict_proba(X_test_scaled)\n",
    "print('KNN recall:', round(recall_score(knn.predict(X_test_scaled), y_test), 4))\n",
    "\n",
    "# not running"
   ]
  },
  {
   "cell_type": "markdown",
   "id": "aae390e9",
   "metadata": {},
   "source": [
    "* KNN ..."
   ]
  },
  {
   "cell_type": "markdown",
   "id": "09011a22",
   "metadata": {},
   "source": [
    "[back to top](#top)"
   ]
  },
  {
   "cell_type": "markdown",
   "id": "c7feeffa",
   "metadata": {},
   "source": [
    "#### Logistic Regression<a id='6b'></a> "
   ]
  },
  {
   "cell_type": "code",
   "execution_count": 20,
   "id": "14c7d3a0",
   "metadata": {},
   "outputs": [
    {
     "name": "stdout",
     "output_type": "stream",
     "text": [
      "Logistic regression recall: 0.5327\n"
     ]
    }
   ],
   "source": [
    "log_reg = LogisticRegression().fit(X_train_scaled, y_train)\n",
    "y_pred_lg = log_reg.predict(X_validate_scaled) \n",
    "print(\"Logistic regression recall:\", round(recall_score(log_reg.predict(X_test_scaled), y_test), 4))\n"
   ]
  },
  {
   "cell_type": "markdown",
   "id": "f2811bb8",
   "metadata": {},
   "source": [
    "Logistic regression improved from [baseline](#4)."
   ]
  },
  {
   "cell_type": "markdown",
   "id": "c39d97de",
   "metadata": {},
   "source": [
    "[back to top](#top)"
   ]
  },
  {
   "cell_type": "markdown",
   "id": "5e80998b",
   "metadata": {},
   "source": [
    "#### Random Forests<a id='6c'></a> "
   ]
  },
  {
   "cell_type": "code",
   "execution_count": 21,
   "id": "2dac965d",
   "metadata": {},
   "outputs": [
    {
     "name": "stdout",
     "output_type": "stream",
     "text": [
      "Random forestes recall: 0.3621\n"
     ]
    }
   ],
   "source": [
    "forest = RandomForestClassifier().fit(X_train, y_train)\n",
    "y_pred_rf = forest.predict(X_validate)\n",
    "print(\"Random forestes recall:\", round(recall_score(forest.predict(X_test), y_test), 4))\n"
   ]
  },
  {
   "cell_type": "markdown",
   "id": "33b9d8bb",
   "metadata": {},
   "source": [
    "Random forest model performs worse than [logistic regression](#6b). "
   ]
  },
  {
   "cell_type": "markdown",
   "id": "8d5f2337",
   "metadata": {},
   "source": [
    "[back to top](#top)"
   ]
  },
  {
   "cell_type": "markdown",
   "id": "bdb5d266",
   "metadata": {},
   "source": [
    "#### Gradient Boosted Trees<a id='6d'></a> "
   ]
  },
  {
   "cell_type": "code",
   "execution_count": null,
   "id": "14f4e3c1",
   "metadata": {},
   "outputs": [],
   "source": [
    "### code block"
   ]
  },
  {
   "cell_type": "markdown",
   "id": "a30ccd64",
   "metadata": {},
   "source": [
    "[back to top](#top)"
   ]
  },
  {
   "cell_type": "markdown",
   "id": "8b98422c",
   "metadata": {},
   "source": [
    "#### Ensembling<a id='6e'></a> "
   ]
  },
  {
   "cell_type": "code",
   "execution_count": null,
   "id": "ae903622",
   "metadata": {},
   "outputs": [],
   "source": [
    "### code block"
   ]
  },
  {
   "cell_type": "markdown",
   "id": "9ac96809",
   "metadata": {},
   "source": [
    "[back to top](#top)"
   ]
  },
  {
   "cell_type": "markdown",
   "id": "1402028c",
   "metadata": {},
   "source": [
    "#### Naive Bayes<a id='6f'></a> "
   ]
  },
  {
   "cell_type": "code",
   "execution_count": null,
   "id": "356ffcc1",
   "metadata": {},
   "outputs": [],
   "source": [
    "### code block"
   ]
  },
  {
   "cell_type": "markdown",
   "id": "5a3545ba",
   "metadata": {},
   "source": [
    "[back to top](#top)"
   ]
  },
  {
   "cell_type": "markdown",
   "id": "2236494a",
   "metadata": {},
   "source": [
    "## Class Imblance Handling <a id='6g'></a> "
   ]
  },
  {
   "cell_type": "code",
   "execution_count": 22,
   "id": "2b424511",
   "metadata": {},
   "outputs": [
    {
     "data": {
      "text/plain": [
       "0    292422\n",
       "1     27373\n",
       "Name: y_heart_disease, dtype: int64"
      ]
     },
     "execution_count": 22,
     "metadata": {},
     "output_type": "execute_result"
    }
   ],
   "source": [
    "# target imbalance\n",
    "heart_disease_df_map.y_heart_disease.value_counts()"
   ]
  },
  {
   "cell_type": "code",
   "execution_count": null,
   "id": "896d73f1",
   "metadata": {},
   "outputs": [],
   "source": [
    "# resample?"
   ]
  },
  {
   "cell_type": "code",
   "execution_count": null,
   "id": "399496cf",
   "metadata": {},
   "outputs": [],
   "source": [
    "# class_weight adjustments"
   ]
  },
  {
   "cell_type": "code",
   "execution_count": null,
   "id": "f59442dd",
   "metadata": {},
   "outputs": [],
   "source": [
    "# decision threshold to max recall"
   ]
  },
  {
   "cell_type": "markdown",
   "id": "713e8c49",
   "metadata": {},
   "source": [
    "[back to top](#top)"
   ]
  },
  {
   "cell_type": "markdown",
   "id": "0c638f89",
   "metadata": {},
   "source": [
    "## Feature Engineering <a id='6h'></a> "
   ]
  },
  {
   "cell_type": "markdown",
   "id": "c02b7767",
   "metadata": {},
   "source": [
    "Create features based on four groups in [data dictionary](#1a): behaviors, demographics, disease, and health measures. "
   ]
  },
  {
   "cell_type": "code",
   "execution_count": 23,
   "id": "6cb50fe6",
   "metadata": {},
   "outputs": [
    {
     "data": {
      "text/html": [
       "<div>\n",
       "<style scoped>\n",
       "    .dataframe tbody tr th:only-of-type {\n",
       "        vertical-align: middle;\n",
       "    }\n",
       "\n",
       "    .dataframe tbody tr th {\n",
       "        vertical-align: top;\n",
       "    }\n",
       "\n",
       "    .dataframe thead th {\n",
       "        text-align: right;\n",
       "    }\n",
       "</style>\n",
       "<table border=\"1\" class=\"dataframe\">\n",
       "  <thead>\n",
       "    <tr style=\"text-align: right;\">\n",
       "      <th></th>\n",
       "      <th>behavior_activity</th>\n",
       "      <th>behavior_alcohol</th>\n",
       "      <th>behavior_sleep</th>\n",
       "      <th>behavior_tobacco</th>\n",
       "      <th>demg_age</th>\n",
       "      <th>demg_gender</th>\n",
       "      <th>demg_race</th>\n",
       "      <th>disease_asthma</th>\n",
       "      <th>disease_diabetes</th>\n",
       "      <th>disease_kidney</th>\n",
       "      <th>...</th>\n",
       "      <th>health_bmi</th>\n",
       "      <th>health_general</th>\n",
       "      <th>health_mental</th>\n",
       "      <th>health_mobility</th>\n",
       "      <th>health_physical</th>\n",
       "      <th>y_heart_disease</th>\n",
       "      <th>behaviors</th>\n",
       "      <th>demographics</th>\n",
       "      <th>disease</th>\n",
       "      <th>health</th>\n",
       "    </tr>\n",
       "  </thead>\n",
       "  <tbody>\n",
       "    <tr>\n",
       "      <th>0</th>\n",
       "      <td>1</td>\n",
       "      <td>0</td>\n",
       "      <td>5.0</td>\n",
       "      <td>1</td>\n",
       "      <td>55</td>\n",
       "      <td>1</td>\n",
       "      <td>6</td>\n",
       "      <td>1</td>\n",
       "      <td>1</td>\n",
       "      <td>0</td>\n",
       "      <td>...</td>\n",
       "      <td>16.60</td>\n",
       "      <td>4</td>\n",
       "      <td>30.0</td>\n",
       "      <td>0</td>\n",
       "      <td>3.0</td>\n",
       "      <td>0</td>\n",
       "      <td>7.0</td>\n",
       "      <td>62</td>\n",
       "      <td>3</td>\n",
       "      <td>53.60</td>\n",
       "    </tr>\n",
       "    <tr>\n",
       "      <th>1</th>\n",
       "      <td>1</td>\n",
       "      <td>0</td>\n",
       "      <td>7.0</td>\n",
       "      <td>0</td>\n",
       "      <td>80</td>\n",
       "      <td>1</td>\n",
       "      <td>6</td>\n",
       "      <td>0</td>\n",
       "      <td>0</td>\n",
       "      <td>0</td>\n",
       "      <td>...</td>\n",
       "      <td>20.34</td>\n",
       "      <td>4</td>\n",
       "      <td>0.0</td>\n",
       "      <td>0</td>\n",
       "      <td>0.0</td>\n",
       "      <td>0</td>\n",
       "      <td>8.0</td>\n",
       "      <td>87</td>\n",
       "      <td>1</td>\n",
       "      <td>24.34</td>\n",
       "    </tr>\n",
       "  </tbody>\n",
       "</table>\n",
       "<p>2 rows × 22 columns</p>\n",
       "</div>"
      ],
      "text/plain": [
       "   behavior_activity  behavior_alcohol  behavior_sleep  behavior_tobacco  \\\n",
       "0                  1                 0             5.0                 1   \n",
       "1                  1                 0             7.0                 0   \n",
       "\n",
       "   demg_age  demg_gender  demg_race  disease_asthma  disease_diabetes  \\\n",
       "0        55            1          6               1                 1   \n",
       "1        80            1          6               0                 0   \n",
       "\n",
       "   disease_kidney  ...  health_bmi  health_general  health_mental  \\\n",
       "0               0  ...       16.60               4           30.0   \n",
       "1               0  ...       20.34               4            0.0   \n",
       "\n",
       "   health_mobility  health_physical  y_heart_disease  behaviors  demographics  \\\n",
       "0                0              3.0                0        7.0            62   \n",
       "1                0              0.0                0        8.0            87   \n",
       "\n",
       "   disease  health  \n",
       "0        3   53.60  \n",
       "1        1   24.34  \n",
       "\n",
       "[2 rows x 22 columns]"
      ]
     },
     "execution_count": 23,
     "metadata": {},
     "output_type": "execute_result"
    }
   ],
   "source": [
    "# 1 behaviors = phyiscial activity days/month, sleep time hrs/day,  alcohol, and tobacco use\n",
    "heart_disease_df_map['behaviors'] = (\n",
    "    heart_disease_df_map['behavior_activity'] +\n",
    "    heart_disease_df_map['behavior_alcohol'] +  \n",
    "    heart_disease_df_map['behavior_sleep'] +\n",
    "    heart_disease_df_map['behavior_tobacco'])\n",
    "\n",
    "# 2 demographics = age, gender, race\n",
    "heart_disease_df_map['demographics'] = (\n",
    "    heart_disease_df_map['demg_age'] +\n",
    "    heart_disease_df_map['demg_gender'] +  \n",
    "    heart_disease_df_map['demg_race'])\n",
    "\n",
    "# 3 disease = asthma, diabetes, kidney, skin cancer, stroke\n",
    "heart_disease_df_map['disease'] = (\n",
    "    heart_disease_df_map['disease_asthma'] +\n",
    "    heart_disease_df_map['disease_diabetes'] +  \n",
    "    heart_disease_df_map['disease_kidney'] +\n",
    "    heart_disease_df_map['disease_skin'] +\n",
    "    heart_disease_df_map['disease_stroke'])\n",
    "\n",
    "# 4 health (measures) = asthma, diabetes, kidney, skin cancer, stroke\n",
    "heart_disease_df_map['health'] = (\n",
    "    heart_disease_df_map['health_bmi'] +\n",
    "    heart_disease_df_map['health_general'] +  \n",
    "    heart_disease_df_map['health_mental'] +\n",
    "    heart_disease_df_map['health_mobility'] +\n",
    "    heart_disease_df_map['health_physical'])\n",
    "\n",
    "heart_disease_df_map.head(2)\n"
   ]
  },
  {
   "cell_type": "markdown",
   "id": "7c60365b",
   "metadata": {},
   "source": [
    "### Logistic regression, only engineered features<a id='6h1'></a> "
   ]
  },
  {
   "cell_type": "code",
   "execution_count": 24,
   "id": "04afa725",
   "metadata": {},
   "outputs": [],
   "source": [
    "# separate target from engineered features \n",
    "y_f = heart_disease_df_map['y_heart_disease'] \n",
    "X_f = heart_disease_df_map.loc[:, ['behaviors', \n",
    "                                   'demographics', \n",
    "                                   'disease', \n",
    "                                   'health']]\n",
    "\n",
    "# split data test/train/validate\n",
    "X_train_f, X_test_f, y_train_f, y_test_f = train_test_split(X_f, \n",
    "                                                    y_f, \n",
    "                                                    test_size=0.2, \n",
    "                                                    random_state=42)\n",
    "\n",
    "X_train_f, X_validate_f, y_train_f, y_validate_f = train_test_split(X_train_f, y_train_f, \n",
    "                                                            test_size = .25, random_state = 42)\n",
    "# scale X train/test/validate\n",
    "scaler = StandardScaler()\n",
    "X_train_f_scaled = scaler.fit_transform(X_train_f)\n",
    "X_test_f_scaled = scaler.transform(X_test_f)\n",
    "X_validate_f_scaled = scaler.transform(X_validate_f)\n"
   ]
  },
  {
   "cell_type": "code",
   "execution_count": 26,
   "id": "d760d1fe",
   "metadata": {},
   "outputs": [
    {
     "name": "stdout",
     "output_type": "stream",
     "text": [
      "Logistic regression recall: 0.4731\n"
     ]
    }
   ],
   "source": [
    "# logistic regression with only engineered features\n",
    "log_reg_f = LogisticRegression().fit(X_train_f_scaled, y_train_f)\n",
    "y_pred_f = log_reg_f.predict(X_validate_f_scaled) \n",
    "print(\"Logistic regression recall:\", round(recall_score(log_reg_f.predict(X_test_f_scaled), y_test_f), 4))\n"
   ]
  },
  {
   "cell_type": "markdown",
   "id": "b0fb9ef8",
   "metadata": {},
   "source": [
    "Logistic regression with only engineered features performs worse than first iteration of [logistic regression](#6b). "
   ]
  },
  {
   "cell_type": "markdown",
   "id": "047a4cdc",
   "metadata": {},
   "source": [
    "[back to top](#top)"
   ]
  },
  {
   "cell_type": "markdown",
   "id": "3111659a",
   "metadata": {},
   "source": [
    "### Logistic regression, original + engineered features<a id='6h2'></a> "
   ]
  },
  {
   "cell_type": "code",
   "execution_count": 27,
   "id": "b94a1ab1",
   "metadata": {},
   "outputs": [],
   "source": [
    "# separate target from features \n",
    "y_ff = heart_disease_df_map['y_heart_disease'] \n",
    "X_ff = heart_disease_df_map.loc[:, [\n",
    "    'behaviors', \n",
    "    'demographics', \n",
    "    'disease', \n",
    "    'health',\n",
    "    'behavior_activity', \n",
    "    'behavior_alcohol', \n",
    "    'behavior_sleep',\n",
    "    'behavior_tobacco',\n",
    "    'demg_age',\n",
    "    'demg_gender', \n",
    "    'demg_race',\n",
    "    'disease_asthma', \n",
    "    'disease_diabetes', \n",
    "    'disease_kidney', \n",
    "    'disease_skin', \n",
    "    'disease_stroke', \n",
    "    'health_bmi', \n",
    "    'health_general', \n",
    "    'health_mental',\n",
    "    'health_mobility', \n",
    "    'health_physical'\n",
    "    ]]\n",
    "\n",
    "# split data test/train/validate\n",
    "X_train_ff, X_test_ff, y_train_ff, y_test_ff = train_test_split(X_ff, \n",
    "                                                    y_ff, \n",
    "                                                    test_size=0.2, \n",
    "                                                    random_state=42)\n",
    "X_train_ff, X_validate_ff, y_train_ff, y_validate_ff = train_test_split(X_train_ff, y_train_ff, \n",
    "                                                            test_size = .25, random_state = 42)\n",
    "\n",
    "# Scale X train/test/validate\n",
    "scaler = StandardScaler()\n",
    "X_train_ff_scaled = scaler.fit_transform(X_train_ff)\n",
    "X_test_ff_scaled = scaler.transform(X_test_ff)\n",
    "X_validate_ff_scaled = scaler.transform(X_validate_ff)\n"
   ]
  },
  {
   "cell_type": "code",
   "execution_count": 28,
   "id": "879b346c",
   "metadata": {},
   "outputs": [
    {
     "name": "stdout",
     "output_type": "stream",
     "text": [
      "Logistic regression recall: 0.5327\n"
     ]
    }
   ],
   "source": [
    "# Logistic regression with engineered  +  feat eng\n",
    "log_reg_ff = LogisticRegression().fit(X_train_ff_scaled, y_train_ff)\n",
    "y_pred_ff = log_reg_ff.predict(X_validate_ff_scaled) \n",
    "print(\"Logistic regression recall:\", round(recall_score(log_reg_ff.predict(X_test_ff_scaled), y_test_ff), 4))\n"
   ]
  },
  {
   "cell_type": "markdown",
   "id": "c677fb40",
   "metadata": {},
   "source": [
    "Logistic regression with original + engineered features performs better than [logistic regression model with only engineered features](#6h1) and the same as the first iteration of [logistic regression](#6b). "
   ]
  },
  {
   "cell_type": "markdown",
   "id": "affaacbb",
   "metadata": {},
   "source": [
    "[back to top](#top)"
   ]
  },
  {
   "cell_type": "markdown",
   "id": "c4ed3627",
   "metadata": {},
   "source": [
    "## 7 | Model Selection<a id='7'></a> "
   ]
  },
  {
   "cell_type": "markdown",
   "id": "247dfb79",
   "metadata": {},
   "source": [
    "**7a. Finalize and test.** \n",
    "- When satisfied with the results of your tuning in _Model Iterations_, establish your final model choices:\n",
    "        - features, \n",
    "        - preprocessing, \n",
    "        - imbalance handling strategy, and \n",
    "        - hyperparameters\n",
    "    - retrain this model on all training + validation data. \n",
    "- Make predictions on the test data and score these predictions, reporting this score as your estimate of the model's generalization performance."
   ]
  },
  {
   "cell_type": "code",
   "execution_count": null,
   "id": "6bd4696b",
   "metadata": {},
   "outputs": [],
   "source": [
    "# Test data from above: X_test_m, y_test_m"
   ]
  },
  {
   "cell_type": "code",
   "execution_count": null,
   "id": "bcc0099f",
   "metadata": {},
   "outputs": [],
   "source": [
    "# Confusion matrix on y_validate, y_pred_lg\n",
    "print(\"[model] confusion matrix: \\n\\n\", confusion_matrix(y_validate, y_pred_lg))"
   ]
  },
  {
   "cell_type": "code",
   "execution_count": null,
   "id": "7c65844b",
   "metadata": {},
   "outputs": [],
   "source": [
    "# Confusion matrix on y_validate, y_pred_lg\n",
    "cm = confusion_matrix(y_validate, y_pred_lg)\n",
    "\n",
    "plt.figure(figsize=(7,5))\n",
    "\n",
    "ax = sns.heatmap(cm/np.sum(cm),fmt='.2%', annot=True, cmap='Blues')\n",
    "\n",
    "ax.set_xlabel('\\nPredicted Values')\n",
    "ax.set_ylabel('Actual Values ');\n",
    "\n",
    "ax.xaxis.set_ticklabels(['No Heart Disease','Yes Heart Disease'])\n",
    "ax.yaxis.set_ticklabels(['No Heart Disease','Yes Heart Disease'])\n",
    "\n",
    "plt.show()"
   ]
  },
  {
   "cell_type": "markdown",
   "id": "3b81a4fd",
   "metadata": {},
   "source": [
    "**Interpret:** \n",
    "- Extract and study your final model coefficients or feature importances. Are there any interesting or unexpected takeaways? \n",
    "- How do the model coefficients/importances align with your intuition and domain knowledge about the problem? \n",
    "- Be careful about complicating factors in interpretation such as differing feature scales and multicollinearity.\n"
   ]
  },
  {
   "cell_type": "code",
   "execution_count": null,
   "id": "670f6dd4",
   "metadata": {},
   "outputs": [],
   "source": []
  },
  {
   "cell_type": "code",
   "execution_count": null,
   "id": "56064b3a",
   "metadata": {},
   "outputs": [],
   "source": []
  },
  {
   "cell_type": "markdown",
   "id": "7454c591",
   "metadata": {},
   "source": [
    "[back to top](#top)"
   ]
  }
 ],
 "metadata": {
  "kernelspec": {
   "display_name": "Python 3 (ipykernel)",
   "language": "python",
   "name": "python3"
  },
  "language_info": {
   "codemirror_mode": {
    "name": "ipython",
    "version": 3
   },
   "file_extension": ".py",
   "mimetype": "text/x-python",
   "name": "python",
   "nbconvert_exporter": "python",
   "pygments_lexer": "ipython3",
   "version": "3.8.12"
  }
 },
 "nbformat": 4,
 "nbformat_minor": 5
}
