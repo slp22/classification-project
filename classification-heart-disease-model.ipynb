{
 "cells": [
  {
   "cell_type": "markdown",
   "id": "69987c01",
   "metadata": {},
   "source": [
    "#### Classification | Model\n",
    "\n",
    "# Predicting Heart Disease  "
   ]
  },
  {
   "cell_type": "markdown",
   "id": "1f7f9750",
   "metadata": {},
   "source": [
    "### Classification Model Stepwise Analysis <a id='top'></a> \n",
    "\n",
    "1. [Research Question](#1)<br/>\n",
    "2. [DataFrames](#2) <br/>\n",
    "3. [Exploratory Data Analysis](#3)<br/>\n",
    "   [Data Summary](#31)<br/>\n",
    "   [Classification Viability](#32)<br/>\n",
    "   [Classification Metrics](#33)<br/>\n",
    "4. [Baseline](#4)<br/>\n",
    "5. [Validation](#5)<br/>\n",
    "6. [Model Iterations](#6) <br/>\n",
    "    1 [Dummy Classifier](#61)<br/>\n",
    "    2 [Logistic Regression](#62)<br/>\n",
    "    3 [Decision Trees: Depth 2](#63)<br/>\n",
    "    4 [Decision Trees: Depth 4](#64)<br/>\n",
    "    5 [Random Forests](#65)<br/>\n",
    "    6 [Gradient Boosted Trees: xgboost](#66)<br/>\n",
    "    7 [Naive Bayes: Bernoulli](#67)<br/>\n",
    "    8 [Naive Bayes: Gaussian](#68)<br/>\n",
    "    9 [Naive Bayes: Multinomial](#69)<br/>\n",
    "    10 [Ensemble:  Naive Bayes Hard Voting Classifier](#610)<br/>\n",
    "    11 [Ensemble:  Naive Bayes Soft Voting Classifier](#611)<br/>\n",
    "    12 [Ensemble:  Stacking Classifier (non-NBs)](#612)<br/>\n",
    "    [Feature Engineering](#fe)<br/>\n",
    "    13 [Logistic regression: Question groups](#613)<br/>\n",
    "    14 [Logistic regression: Risk factors](#614)<br/>\n",
    "    15 [Logistic regression: Question groups + Risk factor features](#615)<br/>\n",
    "    [Class Imbalance Handling](#cih)<br/>\n",
    "    16 [Logistic regression: threshold = 0.05](#616)<br/>\n",
    "    [Model Tuning: GridSearchCV](#gscv)<br/>\n",
    "    17 [Logistic regression: GridSearchCV](#617)<br/>\n",
    "    18 [Logistic regression: GridSearchCV + threshold = 0.05](#618)<br/>\n",
    "7. [Model: Predicting Heart Disease ](#7)<br/>\n",
    "    [Test Model](#71)<br/>\n",
    "    [Confusion Matrix](#72)<br/>\n",
    "    [ROC AUC (X, y)](#73) <br/>\n",
    "    [Feature Importance](#74) <br/>\n",
    "    [Predictions](#75)\n"
   ]
  },
  {
   "cell_type": "code",
   "execution_count": 4,
   "id": "a0f0943c",
   "metadata": {},
   "outputs": [],
   "source": [
    "import pandas as pd\n",
    "import numpy as np\n",
    "import imblearn.over_sampling\n",
    "import matplotlib.pyplot as plt\n",
    "import seaborn as sns\n",
    "import xgboost as xgb\n",
    "import dataframe_image as dfi\n",
    "import pickle\n",
    "import warnings\n",
    "warnings.filterwarnings(\"ignore\")\n",
    "# import plotly.express as px\n",
    "# import plotly.graph_objects as go\n",
    "                        \n",
    "plt.style.use('ggplot')\n",
    "%matplotlib inline\n",
    "sns.set_style(\"whitegrid\")\n",
    "\n",
    "np.set_printoptions(suppress=True)\n",
    "\n",
    "from mlxtend.classifier import StackingClassifier\n",
    "from plotly.subplots import make_subplots           \n",
    "from sklearn import tree\n",
    "from sklearn.compose import make_column_transformer\n",
    "from sklearn.dummy import DummyClassifier\n",
    "from sklearn.ensemble import RandomForestClassifier, VotingClassifier\n",
    "from sklearn.linear_model import LogisticRegression\n",
    "from sklearn.metrics import *\n",
    "from sklearn.model_selection import cross_val_score, GridSearchCV, train_test_split\n",
    "from sklearn.naive_bayes import BernoulliNB, MultinomialNB, GaussianNB\n",
    "from sklearn.preprocessing import LabelEncoder, StandardScaler, OrdinalEncoder\n",
    "from sklearn.tree import DecisionTreeClassifier\n",
    "from sklearn.utils import shuffle"
   ]
  },
  {
   "cell_type": "markdown",
   "id": "daa472b2",
   "metadata": {},
   "source": [
    "# 1 | Research Design<a id='1'></a> \n",
    "\n",
    "* **Research Question:** What model can best predict patients' risk for heart disease?\n",
    "* **Impact Hypothesis:** Reduce the number of patients who develop heart disease (arterial plaque or heart attack).\n",
    "* **Data source:** [Personal Key Indicators of Heart Disease](https://www.kaggle.com/datasets/kamilpytlak/personal-key-indicators-of-heart-disease), n=319,795\n",
    "* **Error metric:** [Recall](#3c) and [ROC AUC](#3c)"
   ]
  },
  {
   "cell_type": "markdown",
   "id": "a984a11a",
   "metadata": {},
   "source": [
    "#### [Data Dictionary](https://www.cdc.gov/brfss/annual_data/2020/pdf/codebook20_llcp-v2-508.pdf)<a id='1a'></a>\n",
    "_Target_\n",
    "- `y_heart_disease`: Y/N | coronary heart disease (CHD) or myocardial infarction (MI)\n",
    "\n",
    "_Health Behaviors_\n",
    "- `behavior_activity`: Num (0-30) | # days did physical activity/ exercise other than regular job\n",
    "- `behavior_alcohol`: Y/N | heavy drinker, defined as men: 14+/wk, women: 7+/wk (includes beer, wine, malt beverage, liquor)\n",
    "- `behavior_sleep`: Num (0-24) | # hours of sleep in a 24-hour period, on average\n",
    "- `behavior_tobacco`: Y/N | smoked at least 100 cigarettes in your life\n",
    "\n",
    "_Demographics_\n",
    "- `demg_age`: 18-24, 25-29, 30-34, 35-39, 40-44, 45-49, 50-54, 55-59, 60-64, 65-69, 70-74, 75-79, 80+\n",
    "- `demg_gender`: male/female\n",
    "- `demg_race`: White, Black, Asian, American Indian/Alaskan Native, Hispanic, Other race\n",
    "\n",
    "_Health Measures_\n",
    "- `health_bmi`: Num | Body Mass Index (BMI)\n",
    "- `health_physical`: Num (0-30) | # days physical health  not good, includes physical illness and injury\n",
    "- `health_mental`: Num (0-30 ) | # days mental health not good, includes stress, depression, and problems with emotions\n",
    "- `health_general`: Excellent, Very Good, Fair, Poor | Would you say that in general your health is...\n",
    "- `health_mobility`: Y/N | serious difficulty walking or climbing stairs\n",
    "\n",
    "_Chronic Disease_\n",
    "- `disease_asthma`: Y/N\n",
    "- `disease_diabetes`: Y/N/Y pregnancy/N borderline\n",
    "- `disease_kidney`: Y/N | kidney disease, excludes kidney stones, bladder infection or incontinence\n",
    "- `disease_skin`: Y/N | skin cancer\n",
    "- `disease_stroke`: Y/N"
   ]
  },
  {
   "cell_type": "markdown",
   "id": "93f17f49",
   "metadata": {},
   "source": [
    "[back to top](#top)"
   ]
  },
  {
   "cell_type": "markdown",
   "id": "35969908",
   "metadata": {},
   "source": [
    "# 2 | [DataFrames](https://github.com/slp22/classification-project/blob/main/classification-heart-disease_mvp.ipynb)<a id='2'></a>  \n"
   ]
  },
  {
   "cell_type": "code",
   "execution_count": 5,
   "id": "74246ed2",
   "metadata": {},
   "outputs": [],
   "source": [
    "# load clean and transformed dataframes from mvp \n",
    "heart_disease_df = pd.read_csv('data/heart_disease_df.csv')\n",
    "heart_disease_df_map = pd.read_csv('data/heart_disease_df_map.csv') \n"
   ]
  },
  {
   "cell_type": "code",
   "execution_count": 3,
   "id": "2e6760b5",
   "metadata": {},
   "outputs": [
    {
     "data": {
      "text/html": [
       "<div>\n",
       "<style scoped>\n",
       "    .dataframe tbody tr th:only-of-type {\n",
       "        vertical-align: middle;\n",
       "    }\n",
       "\n",
       "    .dataframe tbody tr th {\n",
       "        vertical-align: top;\n",
       "    }\n",
       "\n",
       "    .dataframe thead th {\n",
       "        text-align: right;\n",
       "    }\n",
       "</style>\n",
       "<table border=\"1\" class=\"dataframe\">\n",
       "  <thead>\n",
       "    <tr style=\"text-align: right;\">\n",
       "      <th></th>\n",
       "      <th>behavior_activity</th>\n",
       "      <th>behavior_alcohol</th>\n",
       "      <th>behavior_sleep</th>\n",
       "      <th>behavior_tobacco</th>\n",
       "      <th>demg_age</th>\n",
       "      <th>demg_gender</th>\n",
       "      <th>demg_race</th>\n",
       "      <th>disease_asthma</th>\n",
       "      <th>disease_diabetes</th>\n",
       "      <th>disease_kidney</th>\n",
       "      <th>disease_skin</th>\n",
       "      <th>disease_stroke</th>\n",
       "      <th>health_bmi</th>\n",
       "      <th>health_general</th>\n",
       "      <th>health_mental</th>\n",
       "      <th>health_mobility</th>\n",
       "      <th>health_physical</th>\n",
       "      <th>y_heart_disease</th>\n",
       "    </tr>\n",
       "  </thead>\n",
       "  <tbody>\n",
       "    <tr>\n",
       "      <th>0</th>\n",
       "      <td>Yes</td>\n",
       "      <td>No</td>\n",
       "      <td>5.0</td>\n",
       "      <td>Yes</td>\n",
       "      <td>55-59</td>\n",
       "      <td>Female</td>\n",
       "      <td>White</td>\n",
       "      <td>Yes</td>\n",
       "      <td>Yes</td>\n",
       "      <td>No</td>\n",
       "      <td>Yes</td>\n",
       "      <td>No</td>\n",
       "      <td>16.60</td>\n",
       "      <td>Very good</td>\n",
       "      <td>30.0</td>\n",
       "      <td>No</td>\n",
       "      <td>3.0</td>\n",
       "      <td>No</td>\n",
       "    </tr>\n",
       "    <tr>\n",
       "      <th>1</th>\n",
       "      <td>Yes</td>\n",
       "      <td>No</td>\n",
       "      <td>7.0</td>\n",
       "      <td>No</td>\n",
       "      <td>80 or older</td>\n",
       "      <td>Female</td>\n",
       "      <td>White</td>\n",
       "      <td>No</td>\n",
       "      <td>No</td>\n",
       "      <td>No</td>\n",
       "      <td>No</td>\n",
       "      <td>Yes</td>\n",
       "      <td>20.34</td>\n",
       "      <td>Very good</td>\n",
       "      <td>0.0</td>\n",
       "      <td>No</td>\n",
       "      <td>0.0</td>\n",
       "      <td>No</td>\n",
       "    </tr>\n",
       "    <tr>\n",
       "      <th>2</th>\n",
       "      <td>Yes</td>\n",
       "      <td>No</td>\n",
       "      <td>8.0</td>\n",
       "      <td>Yes</td>\n",
       "      <td>65-69</td>\n",
       "      <td>Male</td>\n",
       "      <td>White</td>\n",
       "      <td>Yes</td>\n",
       "      <td>Yes</td>\n",
       "      <td>No</td>\n",
       "      <td>No</td>\n",
       "      <td>No</td>\n",
       "      <td>26.58</td>\n",
       "      <td>Fair</td>\n",
       "      <td>30.0</td>\n",
       "      <td>No</td>\n",
       "      <td>20.0</td>\n",
       "      <td>No</td>\n",
       "    </tr>\n",
       "  </tbody>\n",
       "</table>\n",
       "</div>"
      ],
      "text/plain": [
       "  behavior_activity behavior_alcohol  behavior_sleep behavior_tobacco  \\\n",
       "0               Yes               No             5.0              Yes   \n",
       "1               Yes               No             7.0               No   \n",
       "2               Yes               No             8.0              Yes   \n",
       "\n",
       "      demg_age demg_gender demg_race disease_asthma disease_diabetes  \\\n",
       "0        55-59      Female     White            Yes              Yes   \n",
       "1  80 or older      Female     White             No               No   \n",
       "2        65-69        Male     White            Yes              Yes   \n",
       "\n",
       "  disease_kidney disease_skin disease_stroke  health_bmi health_general  \\\n",
       "0             No          Yes             No       16.60      Very good   \n",
       "1             No           No            Yes       20.34      Very good   \n",
       "2             No           No             No       26.58           Fair   \n",
       "\n",
       "   health_mental health_mobility  health_physical y_heart_disease  \n",
       "0           30.0              No              3.0              No  \n",
       "1            0.0              No              0.0              No  \n",
       "2           30.0              No             20.0              No  "
      ]
     },
     "execution_count": 3,
     "metadata": {},
     "output_type": "execute_result"
    }
   ],
   "source": [
    "# clean df\n",
    "heart_disease_df.head(3)\n"
   ]
  },
  {
   "cell_type": "code",
   "execution_count": 4,
   "id": "659590fb",
   "metadata": {},
   "outputs": [
    {
     "data": {
      "text/html": [
       "<div>\n",
       "<style scoped>\n",
       "    .dataframe tbody tr th:only-of-type {\n",
       "        vertical-align: middle;\n",
       "    }\n",
       "\n",
       "    .dataframe tbody tr th {\n",
       "        vertical-align: top;\n",
       "    }\n",
       "\n",
       "    .dataframe thead th {\n",
       "        text-align: right;\n",
       "    }\n",
       "</style>\n",
       "<table border=\"1\" class=\"dataframe\">\n",
       "  <thead>\n",
       "    <tr style=\"text-align: right;\">\n",
       "      <th></th>\n",
       "      <th>behavior_activity</th>\n",
       "      <th>behavior_alcohol</th>\n",
       "      <th>behavior_sleep</th>\n",
       "      <th>behavior_tobacco</th>\n",
       "      <th>demg_age</th>\n",
       "      <th>demg_gender</th>\n",
       "      <th>demg_race</th>\n",
       "      <th>disease_asthma</th>\n",
       "      <th>disease_diabetes</th>\n",
       "      <th>disease_kidney</th>\n",
       "      <th>disease_skin</th>\n",
       "      <th>disease_stroke</th>\n",
       "      <th>health_bmi</th>\n",
       "      <th>health_general</th>\n",
       "      <th>health_mental</th>\n",
       "      <th>health_mobility</th>\n",
       "      <th>health_physical</th>\n",
       "      <th>y_heart_disease</th>\n",
       "    </tr>\n",
       "  </thead>\n",
       "  <tbody>\n",
       "    <tr>\n",
       "      <th>0</th>\n",
       "      <td>1</td>\n",
       "      <td>0</td>\n",
       "      <td>5.0</td>\n",
       "      <td>1</td>\n",
       "      <td>55</td>\n",
       "      <td>1</td>\n",
       "      <td>6</td>\n",
       "      <td>1</td>\n",
       "      <td>1</td>\n",
       "      <td>0</td>\n",
       "      <td>1</td>\n",
       "      <td>0</td>\n",
       "      <td>16.60</td>\n",
       "      <td>4</td>\n",
       "      <td>30.0</td>\n",
       "      <td>0</td>\n",
       "      <td>3.0</td>\n",
       "      <td>0</td>\n",
       "    </tr>\n",
       "    <tr>\n",
       "      <th>1</th>\n",
       "      <td>1</td>\n",
       "      <td>0</td>\n",
       "      <td>7.0</td>\n",
       "      <td>0</td>\n",
       "      <td>80</td>\n",
       "      <td>1</td>\n",
       "      <td>6</td>\n",
       "      <td>0</td>\n",
       "      <td>0</td>\n",
       "      <td>0</td>\n",
       "      <td>0</td>\n",
       "      <td>1</td>\n",
       "      <td>20.34</td>\n",
       "      <td>4</td>\n",
       "      <td>0.0</td>\n",
       "      <td>0</td>\n",
       "      <td>0.0</td>\n",
       "      <td>0</td>\n",
       "    </tr>\n",
       "    <tr>\n",
       "      <th>2</th>\n",
       "      <td>1</td>\n",
       "      <td>0</td>\n",
       "      <td>8.0</td>\n",
       "      <td>1</td>\n",
       "      <td>65</td>\n",
       "      <td>2</td>\n",
       "      <td>6</td>\n",
       "      <td>1</td>\n",
       "      <td>1</td>\n",
       "      <td>0</td>\n",
       "      <td>0</td>\n",
       "      <td>0</td>\n",
       "      <td>26.58</td>\n",
       "      <td>2</td>\n",
       "      <td>30.0</td>\n",
       "      <td>0</td>\n",
       "      <td>20.0</td>\n",
       "      <td>0</td>\n",
       "    </tr>\n",
       "  </tbody>\n",
       "</table>\n",
       "</div>"
      ],
      "text/plain": [
       "   behavior_activity  behavior_alcohol  behavior_sleep  behavior_tobacco  \\\n",
       "0                  1                 0             5.0                 1   \n",
       "1                  1                 0             7.0                 0   \n",
       "2                  1                 0             8.0                 1   \n",
       "\n",
       "   demg_age  demg_gender  demg_race  disease_asthma  disease_diabetes  \\\n",
       "0        55            1          6               1                 1   \n",
       "1        80            1          6               0                 0   \n",
       "2        65            2          6               1                 1   \n",
       "\n",
       "   disease_kidney  disease_skin  disease_stroke  health_bmi  health_general  \\\n",
       "0               0             1               0       16.60               4   \n",
       "1               0             0               1       20.34               4   \n",
       "2               0             0               0       26.58               2   \n",
       "\n",
       "   health_mental  health_mobility  health_physical  y_heart_disease  \n",
       "0           30.0                0              3.0                0  \n",
       "1            0.0                0              0.0                0  \n",
       "2           30.0                0             20.0                0  "
      ]
     },
     "execution_count": 4,
     "metadata": {},
     "output_type": "execute_result"
    }
   ],
   "source": [
    "# transformed df: mapped categorical variables to numerical values \n",
    "heart_disease_df_map.head(3)\n"
   ]
  },
  {
   "cell_type": "markdown",
   "id": "f81cb7e6",
   "metadata": {},
   "source": [
    "[back to top](#top)"
   ]
  },
  {
   "cell_type": "markdown",
   "id": "c6983cdb",
   "metadata": {},
   "source": [
    "# 3 | Exploratory Data Analysis<a id='3'></a> "
   ]
  },
  {
   "cell_type": "markdown",
   "id": "6cdd76aa",
   "metadata": {},
   "source": [
    "#### Using `heart_disease_df_map` with mapped variables for modeling.\n",
    "##### Note: Full EDA part of [MVP](https://github.com/slp22/classification-project/blob/main/classification-heart-disease_mvp.ipynb)."
   ]
  },
  {
   "cell_type": "markdown",
   "id": "1c5e792a",
   "metadata": {},
   "source": [
    "### 3.1 Data Summary<a id='31'></a> "
   ]
  },
  {
   "cell_type": "code",
   "execution_count": 5,
   "id": "d208109a",
   "metadata": {},
   "outputs": [
    {
     "name": "stdout",
     "output_type": "stream",
     "text": [
      "<class 'pandas.core.frame.DataFrame'>\n",
      "RangeIndex: 319795 entries, 0 to 319794\n",
      "Data columns (total 18 columns):\n",
      " #   Column             Non-Null Count   Dtype  \n",
      "---  ------             --------------   -----  \n",
      " 0   behavior_activity  319795 non-null  int64  \n",
      " 1   behavior_alcohol   319795 non-null  int64  \n",
      " 2   behavior_sleep     319795 non-null  float64\n",
      " 3   behavior_tobacco   319795 non-null  int64  \n",
      " 4   demg_age           319795 non-null  int64  \n",
      " 5   demg_gender        319795 non-null  int64  \n",
      " 6   demg_race          319795 non-null  int64  \n",
      " 7   disease_asthma     319795 non-null  int64  \n",
      " 8   disease_diabetes   319795 non-null  int64  \n",
      " 9   disease_kidney     319795 non-null  int64  \n",
      " 10  disease_skin       319795 non-null  int64  \n",
      " 11  disease_stroke     319795 non-null  int64  \n",
      " 12  health_bmi         319795 non-null  float64\n",
      " 13  health_general     319795 non-null  int64  \n",
      " 14  health_mental      319795 non-null  float64\n",
      " 15  health_mobility    319795 non-null  int64  \n",
      " 16  health_physical    319795 non-null  float64\n",
      " 17  y_heart_disease    319795 non-null  int64  \n",
      "dtypes: float64(4), int64(14)\n",
      "memory usage: 43.9 MB\n"
     ]
    }
   ],
   "source": [
    "# dataframe info\n",
    "heart_disease_df_map.info()\n"
   ]
  },
  {
   "cell_type": "markdown",
   "id": "a05ed68f",
   "metadata": {},
   "source": [
    "#### No missing data, all data types are numerical."
   ]
  },
  {
   "cell_type": "markdown",
   "id": "22a2bfd6",
   "metadata": {},
   "source": [
    "[back to top](#top)"
   ]
  },
  {
   "cell_type": "markdown",
   "id": "76d6ea2d",
   "metadata": {},
   "source": [
    "### 3.2 Classification Viability<a id='32'></a> "
   ]
  },
  {
   "cell_type": "code",
   "execution_count": 6,
   "id": "69813756",
   "metadata": {},
   "outputs": [
    {
     "data": {
      "text/html": [
       "<style type=\"text/css\">\n",
       "#T_71cfa_row0_col0, #T_71cfa_row0_col3, #T_71cfa_row0_col7, #T_71cfa_row1_col0, #T_71cfa_row1_col1, #T_71cfa_row1_col2, #T_71cfa_row1_col3, #T_71cfa_row1_col4, #T_71cfa_row1_col5, #T_71cfa_row1_col6, #T_71cfa_row1_col7, #T_71cfa_row2_col0, #T_71cfa_row3_col0, #T_71cfa_row3_col3, #T_71cfa_row3_col4, #T_71cfa_row3_col5, #T_71cfa_row3_col7, #T_71cfa_row4_col0, #T_71cfa_row5_col0, #T_71cfa_row6_col0, #T_71cfa_row7_col0, #T_71cfa_row7_col1, #T_71cfa_row7_col3, #T_71cfa_row7_col4, #T_71cfa_row7_col5, #T_71cfa_row7_col6, #T_71cfa_row7_col7, #T_71cfa_row8_col0, #T_71cfa_row8_col1, #T_71cfa_row8_col3, #T_71cfa_row8_col4, #T_71cfa_row8_col5, #T_71cfa_row8_col6, #T_71cfa_row9_col0, #T_71cfa_row9_col1, #T_71cfa_row9_col2, #T_71cfa_row9_col3, #T_71cfa_row9_col4, #T_71cfa_row9_col5, #T_71cfa_row9_col6, #T_71cfa_row9_col7, #T_71cfa_row10_col0, #T_71cfa_row10_col1, #T_71cfa_row10_col3, #T_71cfa_row10_col4, #T_71cfa_row10_col5, #T_71cfa_row10_col6, #T_71cfa_row10_col7, #T_71cfa_row11_col0, #T_71cfa_row11_col1, #T_71cfa_row11_col2, #T_71cfa_row11_col3, #T_71cfa_row11_col4, #T_71cfa_row11_col5, #T_71cfa_row11_col6, #T_71cfa_row11_col7, #T_71cfa_row12_col0, #T_71cfa_row13_col0, #T_71cfa_row14_col0, #T_71cfa_row14_col3, #T_71cfa_row14_col4, #T_71cfa_row14_col5, #T_71cfa_row15_col0, #T_71cfa_row15_col1, #T_71cfa_row15_col3, #T_71cfa_row15_col4, #T_71cfa_row15_col5, #T_71cfa_row15_col6, #T_71cfa_row15_col7, #T_71cfa_row16_col0, #T_71cfa_row16_col3, #T_71cfa_row16_col4, #T_71cfa_row16_col5, #T_71cfa_row17_col0, #T_71cfa_row17_col1, #T_71cfa_row17_col3, #T_71cfa_row17_col4, #T_71cfa_row17_col5, #T_71cfa_row17_col6, #T_71cfa_row17_col7 {\n",
       "  background-color: #f7fbff;\n",
       "  color: #000000;\n",
       "}\n",
       "#T_71cfa_row0_col1, #T_71cfa_row0_col2, #T_71cfa_row0_col6, #T_71cfa_row3_col6 {\n",
       "  background-color: #f5f9fe;\n",
       "  color: #000000;\n",
       "}\n",
       "#T_71cfa_row0_col4, #T_71cfa_row5_col4 {\n",
       "  background-color: #f2f8fd;\n",
       "  color: #000000;\n",
       "}\n",
       "#T_71cfa_row0_col5, #T_71cfa_row3_col2, #T_71cfa_row5_col2, #T_71cfa_row5_col5 {\n",
       "  background-color: #f4f9fe;\n",
       "  color: #000000;\n",
       "}\n",
       "#T_71cfa_row2_col1 {\n",
       "  background-color: #dceaf6;\n",
       "  color: #000000;\n",
       "}\n",
       "#T_71cfa_row2_col2, #T_71cfa_row13_col1 {\n",
       "  background-color: #eaf2fb;\n",
       "  color: #000000;\n",
       "}\n",
       "#T_71cfa_row2_col3, #T_71cfa_row5_col3, #T_71cfa_row6_col2, #T_71cfa_row6_col3, #T_71cfa_row13_col3 {\n",
       "  background-color: #ecf4fb;\n",
       "  color: #000000;\n",
       "}\n",
       "#T_71cfa_row2_col4, #T_71cfa_row6_col4 {\n",
       "  background-color: #d9e8f5;\n",
       "  color: #000000;\n",
       "}\n",
       "#T_71cfa_row2_col5 {\n",
       "  background-color: #deebf7;\n",
       "  color: #000000;\n",
       "}\n",
       "#T_71cfa_row2_col6 {\n",
       "  background-color: #dfebf7;\n",
       "  color: #000000;\n",
       "}\n",
       "#T_71cfa_row2_col7 {\n",
       "  background-color: #c7dcef;\n",
       "  color: #000000;\n",
       "}\n",
       "#T_71cfa_row3_col1, #T_71cfa_row10_col2, #T_71cfa_row17_col2 {\n",
       "  background-color: #f6faff;\n",
       "  color: #000000;\n",
       "}\n",
       "#T_71cfa_row4_col1, #T_71cfa_row4_col2, #T_71cfa_row4_col3, #T_71cfa_row4_col4, #T_71cfa_row4_col5, #T_71cfa_row4_col6, #T_71cfa_row12_col7 {\n",
       "  background-color: #08306b;\n",
       "  color: #f1f1f1;\n",
       "}\n",
       "#T_71cfa_row4_col7 {\n",
       "  background-color: #0e59a2;\n",
       "  color: #f1f1f1;\n",
       "}\n",
       "#T_71cfa_row5_col1, #T_71cfa_row5_col6, #T_71cfa_row16_col6 {\n",
       "  background-color: #f2f7fd;\n",
       "  color: #000000;\n",
       "}\n",
       "#T_71cfa_row5_col7, #T_71cfa_row7_col2, #T_71cfa_row15_col2 {\n",
       "  background-color: #f5fafe;\n",
       "  color: #000000;\n",
       "}\n",
       "#T_71cfa_row6_col1 {\n",
       "  background-color: #e3eef8;\n",
       "  color: #000000;\n",
       "}\n",
       "#T_71cfa_row6_col5 {\n",
       "  background-color: #e2edf8;\n",
       "  color: #000000;\n",
       "}\n",
       "#T_71cfa_row6_col6 {\n",
       "  background-color: #e5eff9;\n",
       "  color: #000000;\n",
       "}\n",
       "#T_71cfa_row6_col7 {\n",
       "  background-color: #edf4fc;\n",
       "  color: #000000;\n",
       "}\n",
       "#T_71cfa_row8_col2, #T_71cfa_row8_col7 {\n",
       "  background-color: #f3f8fe;\n",
       "  color: #000000;\n",
       "}\n",
       "#T_71cfa_row12_col1 {\n",
       "  background-color: #5da5d1;\n",
       "  color: #f1f1f1;\n",
       "}\n",
       "#T_71cfa_row12_col2 {\n",
       "  background-color: #a8cee4;\n",
       "  color: #000000;\n",
       "}\n",
       "#T_71cfa_row12_col3 {\n",
       "  background-color: #3787c0;\n",
       "  color: #f1f1f1;\n",
       "}\n",
       "#T_71cfa_row12_col4 {\n",
       "  background-color: #4a98c9;\n",
       "  color: #f1f1f1;\n",
       "}\n",
       "#T_71cfa_row12_col5 {\n",
       "  background-color: #6caed6;\n",
       "  color: #f1f1f1;\n",
       "}\n",
       "#T_71cfa_row12_col6 {\n",
       "  background-color: #72b2d8;\n",
       "  color: #f1f1f1;\n",
       "}\n",
       "#T_71cfa_row13_col2, #T_71cfa_row14_col6 {\n",
       "  background-color: #eef5fc;\n",
       "  color: #000000;\n",
       "}\n",
       "#T_71cfa_row13_col4 {\n",
       "  background-color: #e8f1fa;\n",
       "  color: #000000;\n",
       "}\n",
       "#T_71cfa_row13_col5, #T_71cfa_row14_col1 {\n",
       "  background-color: #e9f2fa;\n",
       "  color: #000000;\n",
       "}\n",
       "#T_71cfa_row13_col6 {\n",
       "  background-color: #ebf3fb;\n",
       "  color: #000000;\n",
       "}\n",
       "#T_71cfa_row13_col7 {\n",
       "  background-color: #eff6fc;\n",
       "  color: #000000;\n",
       "}\n",
       "#T_71cfa_row14_col2, #T_71cfa_row16_col2 {\n",
       "  background-color: #85bcdc;\n",
       "  color: #000000;\n",
       "}\n",
       "#T_71cfa_row14_col7, #T_71cfa_row16_col7 {\n",
       "  background-color: #b3d3e8;\n",
       "  color: #000000;\n",
       "}\n",
       "#T_71cfa_row16_col1 {\n",
       "  background-color: #eaf3fb;\n",
       "  color: #000000;\n",
       "}\n",
       "</style>\n",
       "<table id=\"T_71cfa\">\n",
       "  <thead>\n",
       "    <tr>\n",
       "      <th class=\"blank level0\" >&nbsp;</th>\n",
       "      <th id=\"T_71cfa_level0_col0\" class=\"col_heading level0 col0\" >count</th>\n",
       "      <th id=\"T_71cfa_level0_col1\" class=\"col_heading level0 col1\" >mean</th>\n",
       "      <th id=\"T_71cfa_level0_col2\" class=\"col_heading level0 col2\" >std</th>\n",
       "      <th id=\"T_71cfa_level0_col3\" class=\"col_heading level0 col3\" >min</th>\n",
       "      <th id=\"T_71cfa_level0_col4\" class=\"col_heading level0 col4\" >25%</th>\n",
       "      <th id=\"T_71cfa_level0_col5\" class=\"col_heading level0 col5\" >50%</th>\n",
       "      <th id=\"T_71cfa_level0_col6\" class=\"col_heading level0 col6\" >75%</th>\n",
       "      <th id=\"T_71cfa_level0_col7\" class=\"col_heading level0 col7\" >max</th>\n",
       "    </tr>\n",
       "  </thead>\n",
       "  <tbody>\n",
       "    <tr>\n",
       "      <th id=\"T_71cfa_level0_row0\" class=\"row_heading level0 row0\" >behavior_activity</th>\n",
       "      <td id=\"T_71cfa_row0_col0\" class=\"data row0 col0\" >319795.000000</td>\n",
       "      <td id=\"T_71cfa_row0_col1\" class=\"data row0 col1\" >0.775362</td>\n",
       "      <td id=\"T_71cfa_row0_col2\" class=\"data row0 col2\" >0.417344</td>\n",
       "      <td id=\"T_71cfa_row0_col3\" class=\"data row0 col3\" >0.000000</td>\n",
       "      <td id=\"T_71cfa_row0_col4\" class=\"data row0 col4\" >1.000000</td>\n",
       "      <td id=\"T_71cfa_row0_col5\" class=\"data row0 col5\" >1.000000</td>\n",
       "      <td id=\"T_71cfa_row0_col6\" class=\"data row0 col6\" >1.000000</td>\n",
       "      <td id=\"T_71cfa_row0_col7\" class=\"data row0 col7\" >1.000000</td>\n",
       "    </tr>\n",
       "    <tr>\n",
       "      <th id=\"T_71cfa_level0_row1\" class=\"row_heading level0 row1\" >behavior_alcohol</th>\n",
       "      <td id=\"T_71cfa_row1_col0\" class=\"data row1 col0\" >319795.000000</td>\n",
       "      <td id=\"T_71cfa_row1_col1\" class=\"data row1 col1\" >0.068097</td>\n",
       "      <td id=\"T_71cfa_row1_col2\" class=\"data row1 col2\" >0.251912</td>\n",
       "      <td id=\"T_71cfa_row1_col3\" class=\"data row1 col3\" >0.000000</td>\n",
       "      <td id=\"T_71cfa_row1_col4\" class=\"data row1 col4\" >0.000000</td>\n",
       "      <td id=\"T_71cfa_row1_col5\" class=\"data row1 col5\" >0.000000</td>\n",
       "      <td id=\"T_71cfa_row1_col6\" class=\"data row1 col6\" >0.000000</td>\n",
       "      <td id=\"T_71cfa_row1_col7\" class=\"data row1 col7\" >1.000000</td>\n",
       "    </tr>\n",
       "    <tr>\n",
       "      <th id=\"T_71cfa_level0_row2\" class=\"row_heading level0 row2\" >behavior_sleep</th>\n",
       "      <td id=\"T_71cfa_row2_col0\" class=\"data row2 col0\" >319795.000000</td>\n",
       "      <td id=\"T_71cfa_row2_col1\" class=\"data row2 col1\" >7.097075</td>\n",
       "      <td id=\"T_71cfa_row2_col2\" class=\"data row2 col2\" >1.436007</td>\n",
       "      <td id=\"T_71cfa_row2_col3\" class=\"data row2 col3\" >1.000000</td>\n",
       "      <td id=\"T_71cfa_row2_col4\" class=\"data row2 col4\" >6.000000</td>\n",
       "      <td id=\"T_71cfa_row2_col5\" class=\"data row2 col5\" >7.000000</td>\n",
       "      <td id=\"T_71cfa_row2_col6\" class=\"data row2 col6\" >8.000000</td>\n",
       "      <td id=\"T_71cfa_row2_col7\" class=\"data row2 col7\" >24.000000</td>\n",
       "    </tr>\n",
       "    <tr>\n",
       "      <th id=\"T_71cfa_level0_row3\" class=\"row_heading level0 row3\" >behavior_tobacco</th>\n",
       "      <td id=\"T_71cfa_row3_col0\" class=\"data row3 col0\" >319795.000000</td>\n",
       "      <td id=\"T_71cfa_row3_col1\" class=\"data row3 col1\" >0.412477</td>\n",
       "      <td id=\"T_71cfa_row3_col2\" class=\"data row3 col2\" >0.492281</td>\n",
       "      <td id=\"T_71cfa_row3_col3\" class=\"data row3 col3\" >0.000000</td>\n",
       "      <td id=\"T_71cfa_row3_col4\" class=\"data row3 col4\" >0.000000</td>\n",
       "      <td id=\"T_71cfa_row3_col5\" class=\"data row3 col5\" >0.000000</td>\n",
       "      <td id=\"T_71cfa_row3_col6\" class=\"data row3 col6\" >1.000000</td>\n",
       "      <td id=\"T_71cfa_row3_col7\" class=\"data row3 col7\" >1.000000</td>\n",
       "    </tr>\n",
       "    <tr>\n",
       "      <th id=\"T_71cfa_level0_row4\" class=\"row_heading level0 row4\" >demg_age</th>\n",
       "      <td id=\"T_71cfa_row4_col0\" class=\"data row4 col0\" >319795.000000</td>\n",
       "      <td id=\"T_71cfa_row4_col1\" class=\"data row4 col1\" >52.440945</td>\n",
       "      <td id=\"T_71cfa_row4_col2\" class=\"data row4 col2\" >18.069747</td>\n",
       "      <td id=\"T_71cfa_row4_col3\" class=\"data row4 col3\" >18.000000</td>\n",
       "      <td id=\"T_71cfa_row4_col4\" class=\"data row4 col4\" >40.000000</td>\n",
       "      <td id=\"T_71cfa_row4_col5\" class=\"data row4 col5\" >55.000000</td>\n",
       "      <td id=\"T_71cfa_row4_col6\" class=\"data row4 col6\" >65.000000</td>\n",
       "      <td id=\"T_71cfa_row4_col7\" class=\"data row4 col7\" >80.000000</td>\n",
       "    </tr>\n",
       "    <tr>\n",
       "      <th id=\"T_71cfa_level0_row5\" class=\"row_heading level0 row5\" >demg_gender</th>\n",
       "      <td id=\"T_71cfa_row5_col0\" class=\"data row5 col0\" >319795.000000</td>\n",
       "      <td id=\"T_71cfa_row5_col1\" class=\"data row5 col1\" >1.475273</td>\n",
       "      <td id=\"T_71cfa_row5_col2\" class=\"data row5 col2\" >0.499389</td>\n",
       "      <td id=\"T_71cfa_row5_col3\" class=\"data row5 col3\" >1.000000</td>\n",
       "      <td id=\"T_71cfa_row5_col4\" class=\"data row5 col4\" >1.000000</td>\n",
       "      <td id=\"T_71cfa_row5_col5\" class=\"data row5 col5\" >1.000000</td>\n",
       "      <td id=\"T_71cfa_row5_col6\" class=\"data row5 col6\" >2.000000</td>\n",
       "      <td id=\"T_71cfa_row5_col7\" class=\"data row5 col7\" >2.000000</td>\n",
       "    </tr>\n",
       "    <tr>\n",
       "      <th id=\"T_71cfa_level0_row6\" class=\"row_heading level0 row6\" >demg_race</th>\n",
       "      <td id=\"T_71cfa_row6_col0\" class=\"data row6 col0\" >319795.000000</td>\n",
       "      <td id=\"T_71cfa_row6_col1\" class=\"data row6 col1\" >5.396742</td>\n",
       "      <td id=\"T_71cfa_row6_col2\" class=\"data row6 col2\" >1.212208</td>\n",
       "      <td id=\"T_71cfa_row6_col3\" class=\"data row6 col3\" >1.000000</td>\n",
       "      <td id=\"T_71cfa_row6_col4\" class=\"data row6 col4\" >6.000000</td>\n",
       "      <td id=\"T_71cfa_row6_col5\" class=\"data row6 col5\" >6.000000</td>\n",
       "      <td id=\"T_71cfa_row6_col6\" class=\"data row6 col6\" >6.000000</td>\n",
       "      <td id=\"T_71cfa_row6_col7\" class=\"data row6 col7\" >6.000000</td>\n",
       "    </tr>\n",
       "    <tr>\n",
       "      <th id=\"T_71cfa_level0_row7\" class=\"row_heading level0 row7\" >disease_asthma</th>\n",
       "      <td id=\"T_71cfa_row7_col0\" class=\"data row7 col0\" >319795.000000</td>\n",
       "      <td id=\"T_71cfa_row7_col1\" class=\"data row7 col1\" >0.134061</td>\n",
       "      <td id=\"T_71cfa_row7_col2\" class=\"data row7 col2\" >0.340718</td>\n",
       "      <td id=\"T_71cfa_row7_col3\" class=\"data row7 col3\" >0.000000</td>\n",
       "      <td id=\"T_71cfa_row7_col4\" class=\"data row7 col4\" >0.000000</td>\n",
       "      <td id=\"T_71cfa_row7_col5\" class=\"data row7 col5\" >0.000000</td>\n",
       "      <td id=\"T_71cfa_row7_col6\" class=\"data row7 col6\" >0.000000</td>\n",
       "      <td id=\"T_71cfa_row7_col7\" class=\"data row7 col7\" >1.000000</td>\n",
       "    </tr>\n",
       "    <tr>\n",
       "      <th id=\"T_71cfa_level0_row8\" class=\"row_heading level0 row8\" >disease_diabetes</th>\n",
       "      <td id=\"T_71cfa_row8_col0\" class=\"data row8 col0\" >319795.000000</td>\n",
       "      <td id=\"T_71cfa_row8_col1\" class=\"data row8 col1\" >0.207205</td>\n",
       "      <td id=\"T_71cfa_row8_col2\" class=\"data row8 col2\" >0.554528</td>\n",
       "      <td id=\"T_71cfa_row8_col3\" class=\"data row8 col3\" >0.000000</td>\n",
       "      <td id=\"T_71cfa_row8_col4\" class=\"data row8 col4\" >0.000000</td>\n",
       "      <td id=\"T_71cfa_row8_col5\" class=\"data row8 col5\" >0.000000</td>\n",
       "      <td id=\"T_71cfa_row8_col6\" class=\"data row8 col6\" >0.000000</td>\n",
       "      <td id=\"T_71cfa_row8_col7\" class=\"data row8 col7\" >3.000000</td>\n",
       "    </tr>\n",
       "    <tr>\n",
       "      <th id=\"T_71cfa_level0_row9\" class=\"row_heading level0 row9\" >disease_kidney</th>\n",
       "      <td id=\"T_71cfa_row9_col0\" class=\"data row9 col0\" >319795.000000</td>\n",
       "      <td id=\"T_71cfa_row9_col1\" class=\"data row9 col1\" >0.036833</td>\n",
       "      <td id=\"T_71cfa_row9_col2\" class=\"data row9 col2\" >0.188352</td>\n",
       "      <td id=\"T_71cfa_row9_col3\" class=\"data row9 col3\" >0.000000</td>\n",
       "      <td id=\"T_71cfa_row9_col4\" class=\"data row9 col4\" >0.000000</td>\n",
       "      <td id=\"T_71cfa_row9_col5\" class=\"data row9 col5\" >0.000000</td>\n",
       "      <td id=\"T_71cfa_row9_col6\" class=\"data row9 col6\" >0.000000</td>\n",
       "      <td id=\"T_71cfa_row9_col7\" class=\"data row9 col7\" >1.000000</td>\n",
       "    </tr>\n",
       "    <tr>\n",
       "      <th id=\"T_71cfa_level0_row10\" class=\"row_heading level0 row10\" >disease_skin</th>\n",
       "      <td id=\"T_71cfa_row10_col0\" class=\"data row10 col0\" >319795.000000</td>\n",
       "      <td id=\"T_71cfa_row10_col1\" class=\"data row10 col1\" >0.093244</td>\n",
       "      <td id=\"T_71cfa_row10_col2\" class=\"data row10 col2\" >0.290775</td>\n",
       "      <td id=\"T_71cfa_row10_col3\" class=\"data row10 col3\" >0.000000</td>\n",
       "      <td id=\"T_71cfa_row10_col4\" class=\"data row10 col4\" >0.000000</td>\n",
       "      <td id=\"T_71cfa_row10_col5\" class=\"data row10 col5\" >0.000000</td>\n",
       "      <td id=\"T_71cfa_row10_col6\" class=\"data row10 col6\" >0.000000</td>\n",
       "      <td id=\"T_71cfa_row10_col7\" class=\"data row10 col7\" >1.000000</td>\n",
       "    </tr>\n",
       "    <tr>\n",
       "      <th id=\"T_71cfa_level0_row11\" class=\"row_heading level0 row11\" >disease_stroke</th>\n",
       "      <td id=\"T_71cfa_row11_col0\" class=\"data row11 col0\" >319795.000000</td>\n",
       "      <td id=\"T_71cfa_row11_col1\" class=\"data row11 col1\" >0.037740</td>\n",
       "      <td id=\"T_71cfa_row11_col2\" class=\"data row11 col2\" >0.190567</td>\n",
       "      <td id=\"T_71cfa_row11_col3\" class=\"data row11 col3\" >0.000000</td>\n",
       "      <td id=\"T_71cfa_row11_col4\" class=\"data row11 col4\" >0.000000</td>\n",
       "      <td id=\"T_71cfa_row11_col5\" class=\"data row11 col5\" >0.000000</td>\n",
       "      <td id=\"T_71cfa_row11_col6\" class=\"data row11 col6\" >0.000000</td>\n",
       "      <td id=\"T_71cfa_row11_col7\" class=\"data row11 col7\" >1.000000</td>\n",
       "    </tr>\n",
       "    <tr>\n",
       "      <th id=\"T_71cfa_level0_row12\" class=\"row_heading level0 row12\" >health_bmi</th>\n",
       "      <td id=\"T_71cfa_row12_col0\" class=\"data row12 col0\" >319795.000000</td>\n",
       "      <td id=\"T_71cfa_row12_col1\" class=\"data row12 col1\" >28.325399</td>\n",
       "      <td id=\"T_71cfa_row12_col2\" class=\"data row12 col2\" >6.356100</td>\n",
       "      <td id=\"T_71cfa_row12_col3\" class=\"data row12 col3\" >12.020000</td>\n",
       "      <td id=\"T_71cfa_row12_col4\" class=\"data row12 col4\" >24.030000</td>\n",
       "      <td id=\"T_71cfa_row12_col5\" class=\"data row12 col5\" >27.340000</td>\n",
       "      <td id=\"T_71cfa_row12_col6\" class=\"data row12 col6\" >31.420000</td>\n",
       "      <td id=\"T_71cfa_row12_col7\" class=\"data row12 col7\" >94.850000</td>\n",
       "    </tr>\n",
       "    <tr>\n",
       "      <th id=\"T_71cfa_level0_row13\" class=\"row_heading level0 row13\" >health_general</th>\n",
       "      <td id=\"T_71cfa_row13_col0\" class=\"data row13 col0\" >319795.000000</td>\n",
       "      <td id=\"T_71cfa_row13_col1\" class=\"data row13 col1\" >3.595028</td>\n",
       "      <td id=\"T_71cfa_row13_col2\" class=\"data row13 col2\" >1.042918</td>\n",
       "      <td id=\"T_71cfa_row13_col3\" class=\"data row13 col3\" >1.000000</td>\n",
       "      <td id=\"T_71cfa_row13_col4\" class=\"data row13 col4\" >3.000000</td>\n",
       "      <td id=\"T_71cfa_row13_col5\" class=\"data row13 col5\" >4.000000</td>\n",
       "      <td id=\"T_71cfa_row13_col6\" class=\"data row13 col6\" >4.000000</td>\n",
       "      <td id=\"T_71cfa_row13_col7\" class=\"data row13 col7\" >5.000000</td>\n",
       "    </tr>\n",
       "    <tr>\n",
       "      <th id=\"T_71cfa_level0_row14\" class=\"row_heading level0 row14\" >health_mental</th>\n",
       "      <td id=\"T_71cfa_row14_col0\" class=\"data row14 col0\" >319795.000000</td>\n",
       "      <td id=\"T_71cfa_row14_col1\" class=\"data row14 col1\" >3.898366</td>\n",
       "      <td id=\"T_71cfa_row14_col2\" class=\"data row14 col2\" >7.955235</td>\n",
       "      <td id=\"T_71cfa_row14_col3\" class=\"data row14 col3\" >0.000000</td>\n",
       "      <td id=\"T_71cfa_row14_col4\" class=\"data row14 col4\" >0.000000</td>\n",
       "      <td id=\"T_71cfa_row14_col5\" class=\"data row14 col5\" >0.000000</td>\n",
       "      <td id=\"T_71cfa_row14_col6\" class=\"data row14 col6\" >3.000000</td>\n",
       "      <td id=\"T_71cfa_row14_col7\" class=\"data row14 col7\" >30.000000</td>\n",
       "    </tr>\n",
       "    <tr>\n",
       "      <th id=\"T_71cfa_level0_row15\" class=\"row_heading level0 row15\" >health_mobility</th>\n",
       "      <td id=\"T_71cfa_row15_col0\" class=\"data row15 col0\" >319795.000000</td>\n",
       "      <td id=\"T_71cfa_row15_col1\" class=\"data row15 col1\" >0.138870</td>\n",
       "      <td id=\"T_71cfa_row15_col2\" class=\"data row15 col2\" >0.345812</td>\n",
       "      <td id=\"T_71cfa_row15_col3\" class=\"data row15 col3\" >0.000000</td>\n",
       "      <td id=\"T_71cfa_row15_col4\" class=\"data row15 col4\" >0.000000</td>\n",
       "      <td id=\"T_71cfa_row15_col5\" class=\"data row15 col5\" >0.000000</td>\n",
       "      <td id=\"T_71cfa_row15_col6\" class=\"data row15 col6\" >0.000000</td>\n",
       "      <td id=\"T_71cfa_row15_col7\" class=\"data row15 col7\" >1.000000</td>\n",
       "    </tr>\n",
       "    <tr>\n",
       "      <th id=\"T_71cfa_level0_row16\" class=\"row_heading level0 row16\" >health_physical</th>\n",
       "      <td id=\"T_71cfa_row16_col0\" class=\"data row16 col0\" >319795.000000</td>\n",
       "      <td id=\"T_71cfa_row16_col1\" class=\"data row16 col1\" >3.371710</td>\n",
       "      <td id=\"T_71cfa_row16_col2\" class=\"data row16 col2\" >7.950850</td>\n",
       "      <td id=\"T_71cfa_row16_col3\" class=\"data row16 col3\" >0.000000</td>\n",
       "      <td id=\"T_71cfa_row16_col4\" class=\"data row16 col4\" >0.000000</td>\n",
       "      <td id=\"T_71cfa_row16_col5\" class=\"data row16 col5\" >0.000000</td>\n",
       "      <td id=\"T_71cfa_row16_col6\" class=\"data row16 col6\" >2.000000</td>\n",
       "      <td id=\"T_71cfa_row16_col7\" class=\"data row16 col7\" >30.000000</td>\n",
       "    </tr>\n",
       "    <tr>\n",
       "      <th id=\"T_71cfa_level0_row17\" class=\"row_heading level0 row17\" >y_heart_disease</th>\n",
       "      <td id=\"T_71cfa_row17_col0\" class=\"data row17 col0\" >319795.000000</td>\n",
       "      <td id=\"T_71cfa_row17_col1\" class=\"data row17 col1\" >0.085595</td>\n",
       "      <td id=\"T_71cfa_row17_col2\" class=\"data row17 col2\" >0.279766</td>\n",
       "      <td id=\"T_71cfa_row17_col3\" class=\"data row17 col3\" >0.000000</td>\n",
       "      <td id=\"T_71cfa_row17_col4\" class=\"data row17 col4\" >0.000000</td>\n",
       "      <td id=\"T_71cfa_row17_col5\" class=\"data row17 col5\" >0.000000</td>\n",
       "      <td id=\"T_71cfa_row17_col6\" class=\"data row17 col6\" >0.000000</td>\n",
       "      <td id=\"T_71cfa_row17_col7\" class=\"data row17 col7\" >1.000000</td>\n",
       "    </tr>\n",
       "  </tbody>\n",
       "</table>\n"
      ],
      "text/plain": [
       "<pandas.io.formats.style.Styler at 0x7f90f066a430>"
      ]
     },
     "execution_count": 6,
     "metadata": {},
     "output_type": "execute_result"
    }
   ],
   "source": [
    "# descriptive statistics\n",
    "heart_disease_df_map.describe().T.style.background_gradient(cmap='Blues')\n"
   ]
  },
  {
   "cell_type": "code",
   "execution_count": 7,
   "id": "7274fb9b",
   "metadata": {},
   "outputs": [
    {
     "data": {
      "text/html": [
       "<style type=\"text/css\">\n",
       "#T_192d9_row0_col0, #T_192d9_row1_col1, #T_192d9_row2_col2, #T_192d9_row3_col3, #T_192d9_row4_col4, #T_192d9_row5_col5, #T_192d9_row6_col6, #T_192d9_row7_col7, #T_192d9_row8_col8, #T_192d9_row9_col9, #T_192d9_row10_col10, #T_192d9_row11_col11, #T_192d9_row12_col12, #T_192d9_row13_col13, #T_192d9_row14_col14, #T_192d9_row15_col15, #T_192d9_row16_col16, #T_192d9_row17_col17 {\n",
       "  background-color: #08306b;\n",
       "  color: #f1f1f1;\n",
       "}\n",
       "#T_192d9_row0_col1, #T_192d9_row5_col6, #T_192d9_row8_col10 {\n",
       "  background-color: #e9f2fa;\n",
       "  color: #000000;\n",
       "}\n",
       "#T_192d9_row0_col2, #T_192d9_row7_col4, #T_192d9_row9_col2, #T_192d9_row15_col10 {\n",
       "  background-color: #e1edf8;\n",
       "  color: #000000;\n",
       "}\n",
       "#T_192d9_row0_col3, #T_192d9_row0_col12, #T_192d9_row7_col2 {\n",
       "  background-color: #eaf3fb;\n",
       "  color: #000000;\n",
       "}\n",
       "#T_192d9_row0_col4, #T_192d9_row9_col6 {\n",
       "  background-color: #ecf4fb;\n",
       "  color: #000000;\n",
       "}\n",
       "#T_192d9_row0_col5, #T_192d9_row1_col8 {\n",
       "  background-color: #dceaf6;\n",
       "  color: #000000;\n",
       "}\n",
       "#T_192d9_row0_col6, #T_192d9_row1_col4, #T_192d9_row6_col5, #T_192d9_row9_col10, #T_192d9_row13_col6 {\n",
       "  background-color: #e2edf8;\n",
       "  color: #000000;\n",
       "}\n",
       "#T_192d9_row0_col7, #T_192d9_row9_col5, #T_192d9_row13_col1 {\n",
       "  background-color: #e7f0fa;\n",
       "  color: #000000;\n",
       "}\n",
       "#T_192d9_row0_col8, #T_192d9_row1_col6, #T_192d9_row2_col6, #T_192d9_row2_col10, #T_192d9_row11_col5, #T_192d9_row15_col2, #T_192d9_row16_col10, #T_192d9_row17_col6 {\n",
       "  background-color: #e6f0f9;\n",
       "  color: #000000;\n",
       "}\n",
       "#T_192d9_row0_col9, #T_192d9_row2_col7, #T_192d9_row3_col2, #T_192d9_row3_col10 {\n",
       "  background-color: #e7f1fa;\n",
       "  color: #000000;\n",
       "}\n",
       "#T_192d9_row0_col10, #T_192d9_row7_col10, #T_192d9_row10_col1, #T_192d9_row11_col6, #T_192d9_row15_col13 {\n",
       "  background-color: #eef5fc;\n",
       "  color: #000000;\n",
       "}\n",
       "#T_192d9_row0_col11, #T_192d9_row2_col5, #T_192d9_row8_col5 {\n",
       "  background-color: #e8f1fa;\n",
       "  color: #000000;\n",
       "}\n",
       "#T_192d9_row0_col13 {\n",
       "  background-color: #66abd4;\n",
       "  color: #f1f1f1;\n",
       "}\n",
       "#T_192d9_row0_col14, #T_192d9_row1_col7, #T_192d9_row10_col7, #T_192d9_row11_col2 {\n",
       "  background-color: #dfecf7;\n",
       "  color: #000000;\n",
       "}\n",
       "#T_192d9_row0_col15, #T_192d9_row1_col5, #T_192d9_row11_col10 {\n",
       "  background-color: #e4eff9;\n",
       "  color: #000000;\n",
       "}\n",
       "#T_192d9_row0_col16, #T_192d9_row1_col17, #T_192d9_row3_col5, #T_192d9_row7_col3, #T_192d9_row12_col3, #T_192d9_row12_col13 {\n",
       "  background-color: #d6e5f4;\n",
       "  color: #000000;\n",
       "}\n",
       "#T_192d9_row0_col17, #T_192d9_row3_col6, #T_192d9_row5_col14, #T_192d9_row12_col5, #T_192d9_row13_col5, #T_192d9_row17_col2 {\n",
       "  background-color: #e0ecf8;\n",
       "  color: #000000;\n",
       "}\n",
       "#T_192d9_row1_col0, #T_192d9_row7_col13, #T_192d9_row11_col14 {\n",
       "  background-color: #caddf0;\n",
       "  color: #000000;\n",
       "}\n",
       "#T_192d9_row1_col2, #T_192d9_row6_col7, #T_192d9_row8_col2, #T_192d9_row10_col5, #T_192d9_row14_col1 {\n",
       "  background-color: #e3eef8;\n",
       "  color: #000000;\n",
       "}\n",
       "#T_192d9_row1_col3, #T_192d9_row2_col4, #T_192d9_row5_col15 {\n",
       "  background-color: #c7dcef;\n",
       "  color: #000000;\n",
       "}\n",
       "#T_192d9_row1_col9, #T_192d9_row2_col3, #T_192d9_row4_col0, #T_192d9_row6_col8 {\n",
       "  background-color: #dfebf7;\n",
       "  color: #000000;\n",
       "}\n",
       "#T_192d9_row1_col10, #T_192d9_row14_col6, #T_192d9_row16_col1 {\n",
       "  background-color: #eff6fc;\n",
       "  color: #000000;\n",
       "}\n",
       "#T_192d9_row1_col11 {\n",
       "  background-color: #deebf7;\n",
       "  color: #000000;\n",
       "}\n",
       "#T_192d9_row1_col12, #T_192d9_row2_col9, #T_192d9_row2_col11, #T_192d9_row5_col8, #T_192d9_row9_col0, #T_192d9_row9_col7, #T_192d9_row11_col0, #T_192d9_row11_col7, #T_192d9_row17_col5 {\n",
       "  background-color: #d9e7f5;\n",
       "  color: #000000;\n",
       "}\n",
       "#T_192d9_row1_col13 {\n",
       "  background-color: #a8cee4;\n",
       "  color: #000000;\n",
       "}\n",
       "#T_192d9_row1_col14, #T_192d9_row12_col17 {\n",
       "  background-color: #c9ddf0;\n",
       "  color: #000000;\n",
       "}\n",
       "#T_192d9_row1_col15, #T_192d9_row3_col4, #T_192d9_row17_col8 {\n",
       "  background-color: #c1d9ed;\n",
       "  color: #000000;\n",
       "}\n",
       "#T_192d9_row1_col16 {\n",
       "  background-color: #b2d2e8;\n",
       "  color: #000000;\n",
       "}\n",
       "#T_192d9_row2_col0, #T_192d9_row5_col3, #T_192d9_row9_col11, #T_192d9_row14_col3, #T_192d9_row14_col7 {\n",
       "  background-color: #ccdff1;\n",
       "  color: #000000;\n",
       "}\n",
       "#T_192d9_row2_col1, #T_192d9_row7_col1, #T_192d9_row16_col2, #T_192d9_row16_col5, #T_192d9_row16_col6 {\n",
       "  background-color: #edf4fc;\n",
       "  color: #000000;\n",
       "}\n",
       "#T_192d9_row2_col8, #T_192d9_row10_col14 {\n",
       "  background-color: #d6e6f4;\n",
       "  color: #000000;\n",
       "}\n",
       "#T_192d9_row2_col12 {\n",
       "  background-color: #dae8f6;\n",
       "  color: #000000;\n",
       "}\n",
       "#T_192d9_row2_col13 {\n",
       "  background-color: #a0cbe2;\n",
       "  color: #000000;\n",
       "}\n",
       "#T_192d9_row2_col14, #T_192d9_row5_col4, #T_192d9_row12_col0 {\n",
       "  background-color: #e3eef9;\n",
       "  color: #000000;\n",
       "}\n",
       "#T_192d9_row2_col15, #T_192d9_row11_col4, #T_192d9_row16_col12 {\n",
       "  background-color: #bed8ec;\n",
       "  color: #000000;\n",
       "}\n",
       "#T_192d9_row2_col16, #T_192d9_row3_col17, #T_192d9_row6_col15 {\n",
       "  background-color: #bcd7eb;\n",
       "  color: #000000;\n",
       "}\n",
       "#T_192d9_row2_col17, #T_192d9_row3_col8, #T_192d9_row10_col9, #T_192d9_row11_col3, #T_192d9_row12_col7 {\n",
       "  background-color: #d0e1f2;\n",
       "  color: #000000;\n",
       "}\n",
       "#T_192d9_row3_col0, #T_192d9_row3_col7, #T_192d9_row5_col9, #T_192d9_row5_col11, #T_192d9_row8_col0, #T_192d9_row10_col2, #T_192d9_row14_col0 {\n",
       "  background-color: #dbe9f6;\n",
       "  color: #000000;\n",
       "}\n",
       "#T_192d9_row3_col1, #T_192d9_row12_col11, #T_192d9_row13_col2, #T_192d9_row14_col13, #T_192d9_row17_col13 {\n",
       "  background-color: #d7e6f5;\n",
       "  color: #000000;\n",
       "}\n",
       "#T_192d9_row3_col9, #T_192d9_row6_col10, #T_192d9_row7_col11, #T_192d9_row9_col3, #T_192d9_row10_col3 {\n",
       "  background-color: #d4e4f4;\n",
       "  color: #000000;\n",
       "}\n",
       "#T_192d9_row3_col11, #T_192d9_row4_col2, #T_192d9_row4_col13 {\n",
       "  background-color: #d0e2f2;\n",
       "  color: #000000;\n",
       "}\n",
       "#T_192d9_row3_col12, #T_192d9_row6_col3, #T_192d9_row7_col8, #T_192d9_row8_col11, #T_192d9_row11_col12 {\n",
       "  background-color: #cfe1f2;\n",
       "  color: #000000;\n",
       "}\n",
       "#T_192d9_row3_col13, #T_192d9_row4_col6, #T_192d9_row5_col12, #T_192d9_row9_col13 {\n",
       "  background-color: #cee0f2;\n",
       "  color: #000000;\n",
       "}\n",
       "#T_192d9_row3_col14, #T_192d9_row6_col0, #T_192d9_row7_col12, #T_192d9_row16_col8 {\n",
       "  background-color: #c2d9ee;\n",
       "  color: #000000;\n",
       "}\n",
       "#T_192d9_row3_col15 {\n",
       "  background-color: #9dcae1;\n",
       "  color: #000000;\n",
       "}\n",
       "#T_192d9_row3_col16, #T_192d9_row7_col16 {\n",
       "  background-color: #92c4de;\n",
       "  color: #000000;\n",
       "}\n",
       "#T_192d9_row4_col1, #T_192d9_row8_col6, #T_192d9_row13_col3, #T_192d9_row13_col4, #T_192d9_row13_col7, #T_192d9_row13_col8, #T_192d9_row13_col9, #T_192d9_row13_col10, #T_192d9_row13_col11, #T_192d9_row13_col12, #T_192d9_row13_col14, #T_192d9_row13_col15, #T_192d9_row13_col16, #T_192d9_row13_col17, #T_192d9_row14_col2, #T_192d9_row14_col5, #T_192d9_row15_col0, #T_192d9_row16_col13 {\n",
       "  background-color: #f7fbff;\n",
       "  color: #000000;\n",
       "}\n",
       "#T_192d9_row4_col3, #T_192d9_row4_col11, #T_192d9_row9_col4, #T_192d9_row16_col11 {\n",
       "  background-color: #c3daee;\n",
       "  color: #000000;\n",
       "}\n",
       "#T_192d9_row4_col5, #T_192d9_row7_col5, #T_192d9_row9_col1, #T_192d9_row14_col4, #T_192d9_row15_col5 {\n",
       "  background-color: #f2f7fd;\n",
       "  color: #000000;\n",
       "}\n",
       "#T_192d9_row4_col7, #T_192d9_row4_col14 {\n",
       "  background-color: #eaf2fb;\n",
       "  color: #000000;\n",
       "}\n",
       "#T_192d9_row4_col8, #T_192d9_row4_col10, #T_192d9_row5_col16 {\n",
       "  background-color: #b7d4ea;\n",
       "  color: #000000;\n",
       "}\n",
       "#T_192d9_row4_col9, #T_192d9_row5_col17, #T_192d9_row15_col3, #T_192d9_row16_col4 {\n",
       "  background-color: #c6dbef;\n",
       "  color: #000000;\n",
       "}\n",
       "#T_192d9_row4_col12, #T_192d9_row7_col0, #T_192d9_row10_col11, #T_192d9_row14_col11 {\n",
       "  background-color: #d3e3f3;\n",
       "  color: #000000;\n",
       "}\n",
       "#T_192d9_row4_col15 {\n",
       "  background-color: #7ab6d9;\n",
       "  color: #000000;\n",
       "}\n",
       "#T_192d9_row4_col16, #T_192d9_row8_col15, #T_192d9_row8_col16, #T_192d9_row9_col15, #T_192d9_row12_col16, #T_192d9_row14_col15 {\n",
       "  background-color: #94c4df;\n",
       "  color: #000000;\n",
       "}\n",
       "#T_192d9_row4_col17, #T_192d9_row10_col4 {\n",
       "  background-color: #9cc9e1;\n",
       "  color: #000000;\n",
       "}\n",
       "#T_192d9_row5_col0 {\n",
       "  background-color: #c4daee;\n",
       "  color: #000000;\n",
       "}\n",
       "#T_192d9_row5_col1, #T_192d9_row5_col7, #T_192d9_row5_col10, #T_192d9_row12_col2 {\n",
       "  background-color: #ebf3fb;\n",
       "  color: #000000;\n",
       "}\n",
       "#T_192d9_row5_col2, #T_192d9_row6_col1 {\n",
       "  background-color: #e5eff9;\n",
       "  color: #000000;\n",
       "}\n",
       "#T_192d9_row5_col13 {\n",
       "  background-color: #a9cfe5;\n",
       "  color: #000000;\n",
       "}\n",
       "#T_192d9_row6_col2, #T_192d9_row6_col11, #T_192d9_row17_col0, #T_192d9_row17_col10 {\n",
       "  background-color: #dce9f6;\n",
       "  color: #000000;\n",
       "}\n",
       "#T_192d9_row6_col4, #T_192d9_row15_col8, #T_192d9_row15_col11 {\n",
       "  background-color: #b8d5ea;\n",
       "  color: #000000;\n",
       "}\n",
       "#T_192d9_row6_col9 {\n",
       "  background-color: #d9e8f5;\n",
       "  color: #000000;\n",
       "}\n",
       "#T_192d9_row6_col12, #T_192d9_row8_col7, #T_192d9_row10_col12, #T_192d9_row12_col4, #T_192d9_row17_col7 {\n",
       "  background-color: #d8e7f5;\n",
       "  color: #000000;\n",
       "}\n",
       "#T_192d9_row6_col13, #T_192d9_row7_col15 {\n",
       "  background-color: #a1cbe2;\n",
       "  color: #000000;\n",
       "}\n",
       "#T_192d9_row6_col14, #T_192d9_row7_col9, #T_192d9_row8_col3, #T_192d9_row10_col6, #T_192d9_row14_col9 {\n",
       "  background-color: #d3e4f3;\n",
       "  color: #000000;\n",
       "}\n",
       "#T_192d9_row6_col16 {\n",
       "  background-color: #aed1e7;\n",
       "  color: #000000;\n",
       "}\n",
       "#T_192d9_row6_col17, #T_192d9_row9_col14, #T_192d9_row11_col9, #T_192d9_row16_col7 {\n",
       "  background-color: #cbdef1;\n",
       "  color: #000000;\n",
       "}\n",
       "#T_192d9_row7_col6, #T_192d9_row11_col1, #T_192d9_row15_col6, #T_192d9_row16_col0 {\n",
       "  background-color: #f0f6fd;\n",
       "  color: #000000;\n",
       "}\n",
       "#T_192d9_row7_col14, #T_192d9_row8_col4 {\n",
       "  background-color: #bad6eb;\n",
       "  color: #000000;\n",
       "}\n",
       "#T_192d9_row7_col17, #T_192d9_row8_col9, #T_192d9_row9_col12, #T_192d9_row11_col8, #T_192d9_row17_col12 {\n",
       "  background-color: #cadef0;\n",
       "  color: #000000;\n",
       "}\n",
       "#T_192d9_row8_col1 {\n",
       "  background-color: #f5f9fe;\n",
       "  color: #000000;\n",
       "}\n",
       "#T_192d9_row8_col12, #T_192d9_row15_col14 {\n",
       "  background-color: #b0d2e7;\n",
       "  color: #000000;\n",
       "}\n",
       "#T_192d9_row8_col13, #T_192d9_row10_col8 {\n",
       "  background-color: #d2e3f3;\n",
       "  color: #000000;\n",
       "}\n",
       "#T_192d9_row8_col14, #T_192d9_row10_col0, #T_192d9_row14_col17, #T_192d9_row17_col14 {\n",
       "  background-color: #cddff1;\n",
       "  color: #000000;\n",
       "}\n",
       "#T_192d9_row8_col17, #T_192d9_row10_col13 {\n",
       "  background-color: #b9d6ea;\n",
       "  color: #000000;\n",
       "}\n",
       "#T_192d9_row9_col8, #T_192d9_row12_col14, #T_192d9_row16_col3 {\n",
       "  background-color: #c7dbef;\n",
       "  color: #000000;\n",
       "}\n",
       "#T_192d9_row9_col16, #T_192d9_row12_col15 {\n",
       "  background-color: #8cc0dd;\n",
       "  color: #000000;\n",
       "}\n",
       "#T_192d9_row9_col17, #T_192d9_row17_col11 {\n",
       "  background-color: #b3d3e8;\n",
       "  color: #000000;\n",
       "}\n",
       "#T_192d9_row10_col15 {\n",
       "  background-color: #aacfe5;\n",
       "  color: #000000;\n",
       "}\n",
       "#T_192d9_row10_col16, #T_192d9_row11_col17, #T_192d9_row17_col4 {\n",
       "  background-color: #a5cde3;\n",
       "  color: #000000;\n",
       "}\n",
       "#T_192d9_row10_col17, #T_192d9_row16_col9, #T_192d9_row17_col9 {\n",
       "  background-color: #bfd8ed;\n",
       "  color: #000000;\n",
       "}\n",
       "#T_192d9_row11_col13, #T_192d9_row15_col7 {\n",
       "  background-color: #cde0f1;\n",
       "  color: #000000;\n",
       "}\n",
       "#T_192d9_row11_col15, #T_192d9_row11_col16 {\n",
       "  background-color: #8dc1dd;\n",
       "  color: #000000;\n",
       "}\n",
       "#T_192d9_row12_col1, #T_192d9_row12_col6, #T_192d9_row12_col10, #T_192d9_row14_col10 {\n",
       "  background-color: #f4f9fe;\n",
       "  color: #000000;\n",
       "}\n",
       "#T_192d9_row12_col8 {\n",
       "  background-color: #b4d3e9;\n",
       "  color: #000000;\n",
       "}\n",
       "#T_192d9_row12_col9, #T_192d9_row14_col8 {\n",
       "  background-color: #d1e2f3;\n",
       "  color: #000000;\n",
       "}\n",
       "#T_192d9_row13_col0, #T_192d9_row17_col16 {\n",
       "  background-color: #84bcdb;\n",
       "  color: #000000;\n",
       "}\n",
       "#T_192d9_row14_col12, #T_192d9_row17_col3 {\n",
       "  background-color: #c8dcf0;\n",
       "  color: #000000;\n",
       "}\n",
       "#T_192d9_row14_col16 {\n",
       "  background-color: #64a9d3;\n",
       "  color: #f1f1f1;\n",
       "}\n",
       "#T_192d9_row15_col1 {\n",
       "  background-color: #f3f8fe;\n",
       "  color: #000000;\n",
       "}\n",
       "#T_192d9_row15_col4 {\n",
       "  background-color: #a3cce3;\n",
       "  color: #000000;\n",
       "}\n",
       "#T_192d9_row15_col9 {\n",
       "  background-color: #bdd7ec;\n",
       "  color: #000000;\n",
       "}\n",
       "#T_192d9_row15_col12, #T_192d9_row16_col17 {\n",
       "  background-color: #abd0e6;\n",
       "  color: #000000;\n",
       "}\n",
       "#T_192d9_row15_col16 {\n",
       "  background-color: #4594c7;\n",
       "  color: #f1f1f1;\n",
       "}\n",
       "#T_192d9_row15_col17 {\n",
       "  background-color: #a4cce3;\n",
       "  color: #000000;\n",
       "}\n",
       "#T_192d9_row16_col14 {\n",
       "  background-color: #89bedc;\n",
       "  color: #000000;\n",
       "}\n",
       "#T_192d9_row16_col15 {\n",
       "  background-color: #4b98ca;\n",
       "  color: #f1f1f1;\n",
       "}\n",
       "#T_192d9_row17_col1 {\n",
       "  background-color: #f2f8fd;\n",
       "  color: #000000;\n",
       "}\n",
       "#T_192d9_row17_col15 {\n",
       "  background-color: #85bcdc;\n",
       "  color: #000000;\n",
       "}\n",
       "</style>\n",
       "<table id=\"T_192d9\">\n",
       "  <thead>\n",
       "    <tr>\n",
       "      <th class=\"blank level0\" >&nbsp;</th>\n",
       "      <th id=\"T_192d9_level0_col0\" class=\"col_heading level0 col0\" >behavior_activity</th>\n",
       "      <th id=\"T_192d9_level0_col1\" class=\"col_heading level0 col1\" >behavior_alcohol</th>\n",
       "      <th id=\"T_192d9_level0_col2\" class=\"col_heading level0 col2\" >behavior_sleep</th>\n",
       "      <th id=\"T_192d9_level0_col3\" class=\"col_heading level0 col3\" >behavior_tobacco</th>\n",
       "      <th id=\"T_192d9_level0_col4\" class=\"col_heading level0 col4\" >demg_age</th>\n",
       "      <th id=\"T_192d9_level0_col5\" class=\"col_heading level0 col5\" >demg_gender</th>\n",
       "      <th id=\"T_192d9_level0_col6\" class=\"col_heading level0 col6\" >demg_race</th>\n",
       "      <th id=\"T_192d9_level0_col7\" class=\"col_heading level0 col7\" >disease_asthma</th>\n",
       "      <th id=\"T_192d9_level0_col8\" class=\"col_heading level0 col8\" >disease_diabetes</th>\n",
       "      <th id=\"T_192d9_level0_col9\" class=\"col_heading level0 col9\" >disease_kidney</th>\n",
       "      <th id=\"T_192d9_level0_col10\" class=\"col_heading level0 col10\" >disease_skin</th>\n",
       "      <th id=\"T_192d9_level0_col11\" class=\"col_heading level0 col11\" >disease_stroke</th>\n",
       "      <th id=\"T_192d9_level0_col12\" class=\"col_heading level0 col12\" >health_bmi</th>\n",
       "      <th id=\"T_192d9_level0_col13\" class=\"col_heading level0 col13\" >health_general</th>\n",
       "      <th id=\"T_192d9_level0_col14\" class=\"col_heading level0 col14\" >health_mental</th>\n",
       "      <th id=\"T_192d9_level0_col15\" class=\"col_heading level0 col15\" >health_mobility</th>\n",
       "      <th id=\"T_192d9_level0_col16\" class=\"col_heading level0 col16\" >health_physical</th>\n",
       "      <th id=\"T_192d9_level0_col17\" class=\"col_heading level0 col17\" >y_heart_disease</th>\n",
       "    </tr>\n",
       "  </thead>\n",
       "  <tbody>\n",
       "    <tr>\n",
       "      <th id=\"T_192d9_level0_row0\" class=\"row_heading level0 row0\" >behavior_activity</th>\n",
       "      <td id=\"T_192d9_row0_col0\" class=\"data row0 col0\" >1.000000</td>\n",
       "      <td id=\"T_192d9_row0_col1\" class=\"data row0 col1\" >0.017487</td>\n",
       "      <td id=\"T_192d9_row0_col2\" class=\"data row0 col2\" >0.003849</td>\n",
       "      <td id=\"T_192d9_row0_col3\" class=\"data row0 col3\" >-0.097174</td>\n",
       "      <td id=\"T_192d9_row0_col4\" class=\"data row0 col4\" >-0.121465</td>\n",
       "      <td id=\"T_192d9_row0_col5\" class=\"data row0 col5\" >0.048247</td>\n",
       "      <td id=\"T_192d9_row0_col6\" class=\"data row0 col6\" >0.056767</td>\n",
       "      <td id=\"T_192d9_row0_col7\" class=\"data row0 col7\" >-0.041526</td>\n",
       "      <td id=\"T_192d9_row0_col8\" class=\"data row0 col8\" >-0.097539</td>\n",
       "      <td id=\"T_192d9_row0_col9\" class=\"data row0 col9\" >-0.081827</td>\n",
       "      <td id=\"T_192d9_row0_col10\" class=\"data row0 col10\" >-0.001328</td>\n",
       "      <td id=\"T_192d9_row0_col11\" class=\"data row0 col11\" >-0.079455</td>\n",
       "      <td id=\"T_192d9_row0_col12\" class=\"data row0 col12\" >-0.150616</td>\n",
       "      <td id=\"T_192d9_row0_col13\" class=\"data row0 col13\" >0.281249</td>\n",
       "      <td id=\"T_192d9_row0_col14\" class=\"data row0 col14\" >-0.095808</td>\n",
       "      <td id=\"T_192d9_row0_col15\" class=\"data row0 col15\" >-0.278524</td>\n",
       "      <td id=\"T_192d9_row0_col16\" class=\"data row0 col16\" >-0.232283</td>\n",
       "      <td id=\"T_192d9_row0_col17\" class=\"data row0 col17\" >-0.100030</td>\n",
       "    </tr>\n",
       "    <tr>\n",
       "      <th id=\"T_192d9_level0_row1\" class=\"row_heading level0 row1\" >behavior_alcohol</th>\n",
       "      <td id=\"T_192d9_row1_col0\" class=\"data row1 col0\" >0.017487</td>\n",
       "      <td id=\"T_192d9_row1_col1\" class=\"data row1 col1\" >1.000000</td>\n",
       "      <td id=\"T_192d9_row1_col2\" class=\"data row1 col2\" >-0.005065</td>\n",
       "      <td id=\"T_192d9_row1_col3\" class=\"data row1 col3\" >0.111768</td>\n",
       "      <td id=\"T_192d9_row1_col4\" class=\"data row1 col4\" >-0.058837</td>\n",
       "      <td id=\"T_192d9_row1_col5\" class=\"data row1 col5\" >0.004200</td>\n",
       "      <td id=\"T_192d9_row1_col6\" class=\"data row1 col6\" >0.036702</td>\n",
       "      <td id=\"T_192d9_row1_col7\" class=\"data row1 col7\" >-0.002202</td>\n",
       "      <td id=\"T_192d9_row1_col8\" class=\"data row1 col8\" >-0.042695</td>\n",
       "      <td id=\"T_192d9_row1_col9\" class=\"data row1 col9\" >-0.028280</td>\n",
       "      <td id=\"T_192d9_row1_col10\" class=\"data row1 col10\" >-0.005702</td>\n",
       "      <td id=\"T_192d9_row1_col11\" class=\"data row1 col11\" >-0.019858</td>\n",
       "      <td id=\"T_192d9_row1_col12\" class=\"data row1 col12\" >-0.038816</td>\n",
       "      <td id=\"T_192d9_row1_col13\" class=\"data row1 col13\" >0.029780</td>\n",
       "      <td id=\"T_192d9_row1_col14\" class=\"data row1 col14\" >0.051282</td>\n",
       "      <td id=\"T_192d9_row1_col15\" class=\"data row1 col15\" >-0.035328</td>\n",
       "      <td id=\"T_192d9_row1_col16\" class=\"data row1 col16\" >-0.017254</td>\n",
       "      <td id=\"T_192d9_row1_col17\" class=\"data row1 col17\" >-0.032080</td>\n",
       "    </tr>\n",
       "    <tr>\n",
       "      <th id=\"T_192d9_level0_row2\" class=\"row_heading level0 row2\" >behavior_sleep</th>\n",
       "      <td id=\"T_192d9_row2_col0\" class=\"data row2 col0\" >0.003849</td>\n",
       "      <td id=\"T_192d9_row2_col1\" class=\"data row2 col1\" >-0.005065</td>\n",
       "      <td id=\"T_192d9_row2_col2\" class=\"data row2 col2\" >1.000000</td>\n",
       "      <td id=\"T_192d9_row2_col3\" class=\"data row2 col3\" >-0.030336</td>\n",
       "      <td id=\"T_192d9_row2_col4\" class=\"data row2 col4\" >0.103071</td>\n",
       "      <td id=\"T_192d9_row2_col5\" class=\"data row2 col5\" >-0.015704</td>\n",
       "      <td id=\"T_192d9_row2_col6\" class=\"data row2 col6\" >0.035889</td>\n",
       "      <td id=\"T_192d9_row2_col7\" class=\"data row2 col7\" >-0.048245</td>\n",
       "      <td id=\"T_192d9_row2_col8\" class=\"data row2 col8\" >-0.005166</td>\n",
       "      <td id=\"T_192d9_row2_col9\" class=\"data row2 col9\" >0.006238</td>\n",
       "      <td id=\"T_192d9_row2_col10\" class=\"data row2 col10\" >0.041266</td>\n",
       "      <td id=\"T_192d9_row2_col11\" class=\"data row2 col11\" >0.011900</td>\n",
       "      <td id=\"T_192d9_row2_col12\" class=\"data row2 col12\" >-0.051822</td>\n",
       "      <td id=\"T_192d9_row2_col13\" class=\"data row2 col13\" >0.063071</td>\n",
       "      <td id=\"T_192d9_row2_col14\" class=\"data row2 col14\" >-0.119717</td>\n",
       "      <td id=\"T_192d9_row2_col15\" class=\"data row2 col15\" >-0.022216</td>\n",
       "      <td id=\"T_192d9_row2_col16\" class=\"data row2 col16\" >-0.061387</td>\n",
       "      <td id=\"T_192d9_row2_col17\" class=\"data row2 col17\" >0.008327</td>\n",
       "    </tr>\n",
       "    <tr>\n",
       "      <th id=\"T_192d9_level0_row3\" class=\"row_heading level0 row3\" >behavior_tobacco</th>\n",
       "      <td id=\"T_192d9_row3_col0\" class=\"data row3 col0\" >-0.097174</td>\n",
       "      <td id=\"T_192d9_row3_col1\" class=\"data row3 col1\" >0.111768</td>\n",
       "      <td id=\"T_192d9_row3_col2\" class=\"data row3 col2\" >-0.030336</td>\n",
       "      <td id=\"T_192d9_row3_col3\" class=\"data row3 col3\" >1.000000</td>\n",
       "      <td id=\"T_192d9_row3_col4\" class=\"data row3 col4\" >0.130384</td>\n",
       "      <td id=\"T_192d9_row3_col5\" class=\"data row3 col5\" >0.085052</td>\n",
       "      <td id=\"T_192d9_row3_col6\" class=\"data row3 col6\" >0.065499</td>\n",
       "      <td id=\"T_192d9_row3_col7\" class=\"data row3 col7\" >0.024149</td>\n",
       "      <td id=\"T_192d9_row3_col8\" class=\"data row3 col8\" >0.038993</td>\n",
       "      <td id=\"T_192d9_row3_col9\" class=\"data row3 col9\" >0.034920</td>\n",
       "      <td id=\"T_192d9_row3_col10\" class=\"data row3 col10\" >0.033977</td>\n",
       "      <td id=\"T_192d9_row3_col11\" class=\"data row3 col11\" >0.061226</td>\n",
       "      <td id=\"T_192d9_row3_col12\" class=\"data row3 col12\" >0.023118</td>\n",
       "      <td id=\"T_192d9_row3_col13\" class=\"data row3 col13\" >-0.174717</td>\n",
       "      <td id=\"T_192d9_row3_col14\" class=\"data row3 col14\" >0.085157</td>\n",
       "      <td id=\"T_192d9_row3_col15\" class=\"data row3 col15\" >0.120074</td>\n",
       "      <td id=\"T_192d9_row3_col16\" class=\"data row3 col16\" >0.115352</td>\n",
       "      <td id=\"T_192d9_row3_col17\" class=\"data row3 col17\" >0.107764</td>\n",
       "    </tr>\n",
       "    <tr>\n",
       "      <th id=\"T_192d9_level0_row4\" class=\"row_heading level0 row4\" >demg_age</th>\n",
       "      <td id=\"T_192d9_row4_col0\" class=\"data row4 col0\" >-0.121465</td>\n",
       "      <td id=\"T_192d9_row4_col1\" class=\"data row4 col1\" >-0.058837</td>\n",
       "      <td id=\"T_192d9_row4_col2\" class=\"data row4 col2\" >0.103071</td>\n",
       "      <td id=\"T_192d9_row4_col3\" class=\"data row4 col3\" >0.130384</td>\n",
       "      <td id=\"T_192d9_row4_col4\" class=\"data row4 col4\" >1.000000</td>\n",
       "      <td id=\"T_192d9_row4_col5\" class=\"data row4 col5\" >-0.067682</td>\n",
       "      <td id=\"T_192d9_row4_col6\" class=\"data row4 col6\" >0.162777</td>\n",
       "      <td id=\"T_192d9_row4_col7\" class=\"data row4 col7\" >-0.058235</td>\n",
       "      <td id=\"T_192d9_row4_col8\" class=\"data row4 col8\" >0.154070</td>\n",
       "      <td id=\"T_192d9_row4_col9\" class=\"data row4 col9\" >0.122697</td>\n",
       "      <td id=\"T_192d9_row4_col10\" class=\"data row4 col10\" >0.262208</td>\n",
       "      <td id=\"T_192d9_row4_col11\" class=\"data row4 col11\" >0.137280</td>\n",
       "      <td id=\"T_192d9_row4_col12\" class=\"data row4 col12\" >-0.001740</td>\n",
       "      <td id=\"T_192d9_row4_col13\" class=\"data row4 col13\" >-0.188236</td>\n",
       "      <td id=\"T_192d9_row4_col14\" class=\"data row4 col14\" >-0.155455</td>\n",
       "      <td id=\"T_192d9_row4_col15\" class=\"data row4 col15\" >0.242552</td>\n",
       "      <td id=\"T_192d9_row4_col16\" class=\"data row4 col16\" >0.110789</td>\n",
       "      <td id=\"T_192d9_row4_col17\" class=\"data row4 col17\" >0.232325</td>\n",
       "    </tr>\n",
       "    <tr>\n",
       "      <th id=\"T_192d9_level0_row5\" class=\"row_heading level0 row5\" >demg_gender</th>\n",
       "      <td id=\"T_192d9_row5_col0\" class=\"data row5 col0\" >0.048247</td>\n",
       "      <td id=\"T_192d9_row5_col1\" class=\"data row5 col1\" >0.004200</td>\n",
       "      <td id=\"T_192d9_row5_col2\" class=\"data row5 col2\" >-0.015704</td>\n",
       "      <td id=\"T_192d9_row5_col3\" class=\"data row5 col3\" >0.085052</td>\n",
       "      <td id=\"T_192d9_row5_col4\" class=\"data row5 col4\" >-0.067682</td>\n",
       "      <td id=\"T_192d9_row5_col5\" class=\"data row5 col5\" >1.000000</td>\n",
       "      <td id=\"T_192d9_row5_col6\" class=\"data row5 col6\" >0.018855</td>\n",
       "      <td id=\"T_192d9_row5_col7\" class=\"data row5 col7\" >-0.069191</td>\n",
       "      <td id=\"T_192d9_row5_col8\" class=\"data row5 col8\" >-0.018350</td>\n",
       "      <td id=\"T_192d9_row5_col9\" class=\"data row5 col9\" >-0.009084</td>\n",
       "      <td id=\"T_192d9_row5_col10\" class=\"data row5 col10\" >0.013434</td>\n",
       "      <td id=\"T_192d9_row5_col11\" class=\"data row5 col11\" >-0.003091</td>\n",
       "      <td id=\"T_192d9_row5_col12\" class=\"data row5 col12\" >0.026940</td>\n",
       "      <td id=\"T_192d9_row5_col13\" class=\"data row5 col13\" >0.025947</td>\n",
       "      <td id=\"T_192d9_row5_col14\" class=\"data row5 col14\" >-0.100058</td>\n",
       "      <td id=\"T_192d9_row5_col15\" class=\"data row5 col15\" >-0.068860</td>\n",
       "      <td id=\"T_192d9_row5_col16\" class=\"data row5 col16\" >-0.040904</td>\n",
       "      <td id=\"T_192d9_row5_col17\" class=\"data row5 col17\" >0.070040</td>\n",
       "    </tr>\n",
       "    <tr>\n",
       "      <th id=\"T_192d9_level0_row6\" class=\"row_heading level0 row6\" >demg_race</th>\n",
       "      <td id=\"T_192d9_row6_col0\" class=\"data row6 col0\" >0.056767</td>\n",
       "      <td id=\"T_192d9_row6_col1\" class=\"data row6 col1\" >0.036702</td>\n",
       "      <td id=\"T_192d9_row6_col2\" class=\"data row6 col2\" >0.035889</td>\n",
       "      <td id=\"T_192d9_row6_col3\" class=\"data row6 col3\" >0.065499</td>\n",
       "      <td id=\"T_192d9_row6_col4\" class=\"data row6 col4\" >0.162777</td>\n",
       "      <td id=\"T_192d9_row6_col5\" class=\"data row6 col5\" >0.018855</td>\n",
       "      <td id=\"T_192d9_row6_col6\" class=\"data row6 col6\" >1.000000</td>\n",
       "      <td id=\"T_192d9_row6_col7\" class=\"data row6 col7\" >-0.017975</td>\n",
       "      <td id=\"T_192d9_row6_col8\" class=\"data row6 col8\" >-0.056252</td>\n",
       "      <td id=\"T_192d9_row6_col9\" class=\"data row6 col9\" >0.003709</td>\n",
       "      <td id=\"T_192d9_row6_col10\" class=\"data row6 col10\" >0.134780</td>\n",
       "      <td id=\"T_192d9_row6_col11\" class=\"data row6 col11\" >-0.003956</td>\n",
       "      <td id=\"T_192d9_row6_col12\" class=\"data row6 col12\" >-0.037424</td>\n",
       "      <td id=\"T_192d9_row6_col13\" class=\"data row6 col13\" >0.057986</td>\n",
       "      <td id=\"T_192d9_row6_col14\" class=\"data row6 col14\" >-0.014491</td>\n",
       "      <td id=\"T_192d9_row6_col15\" class=\"data row6 col15\" >-0.015831</td>\n",
       "      <td id=\"T_192d9_row6_col16\" class=\"data row6 col16\" >-0.000847</td>\n",
       "      <td id=\"T_192d9_row6_col17\" class=\"data row6 col17\" >0.034854</td>\n",
       "    </tr>\n",
       "    <tr>\n",
       "      <th id=\"T_192d9_level0_row7\" class=\"row_heading level0 row7\" >disease_asthma</th>\n",
       "      <td id=\"T_192d9_row7_col0\" class=\"data row7 col0\" >-0.041526</td>\n",
       "      <td id=\"T_192d9_row7_col1\" class=\"data row7 col1\" >-0.002202</td>\n",
       "      <td id=\"T_192d9_row7_col2\" class=\"data row7 col2\" >-0.048245</td>\n",
       "      <td id=\"T_192d9_row7_col3\" class=\"data row7 col3\" >0.024149</td>\n",
       "      <td id=\"T_192d9_row7_col4\" class=\"data row7 col4\" >-0.058235</td>\n",
       "      <td id=\"T_192d9_row7_col5\" class=\"data row7 col5\" >-0.069191</td>\n",
       "      <td id=\"T_192d9_row7_col6\" class=\"data row7 col6\" >-0.017975</td>\n",
       "      <td id=\"T_192d9_row7_col7\" class=\"data row7 col7\" >1.000000</td>\n",
       "      <td id=\"T_192d9_row7_col8\" class=\"data row7 col8\" >0.044136</td>\n",
       "      <td id=\"T_192d9_row7_col9\" class=\"data row7 col9\" >0.039707</td>\n",
       "      <td id=\"T_192d9_row7_col10\" class=\"data row7 col10\" >-0.000396</td>\n",
       "      <td id=\"T_192d9_row7_col11\" class=\"data row7 col11\" >0.038866</td>\n",
       "      <td id=\"T_192d9_row7_col12\" class=\"data row7 col12\" >0.092345</td>\n",
       "      <td id=\"T_192d9_row7_col13\" class=\"data row7 col13\" >-0.137342</td>\n",
       "      <td id=\"T_192d9_row7_col14\" class=\"data row7 col14\" >0.114008</td>\n",
       "      <td id=\"T_192d9_row7_col15\" class=\"data row7 col15\" >0.103222</td>\n",
       "      <td id=\"T_192d9_row7_col16\" class=\"data row7 col16\" >0.117907</td>\n",
       "      <td id=\"T_192d9_row7_col17\" class=\"data row7 col17\" >0.041444</td>\n",
       "    </tr>\n",
       "    <tr>\n",
       "      <th id=\"T_192d9_level0_row8\" class=\"row_heading level0 row8\" >disease_diabetes</th>\n",
       "      <td id=\"T_192d9_row8_col0\" class=\"data row8 col0\" >-0.097539</td>\n",
       "      <td id=\"T_192d9_row8_col1\" class=\"data row8 col1\" >-0.042695</td>\n",
       "      <td id=\"T_192d9_row8_col2\" class=\"data row8 col2\" >-0.005166</td>\n",
       "      <td id=\"T_192d9_row8_col3\" class=\"data row8 col3\" >0.038993</td>\n",
       "      <td id=\"T_192d9_row8_col4\" class=\"data row8 col4\" >0.154070</td>\n",
       "      <td id=\"T_192d9_row8_col5\" class=\"data row8 col5\" >-0.018350</td>\n",
       "      <td id=\"T_192d9_row8_col6\" class=\"data row8 col6\" >-0.056252</td>\n",
       "      <td id=\"T_192d9_row8_col7\" class=\"data row8 col7\" >0.044136</td>\n",
       "      <td id=\"T_192d9_row8_col8\" class=\"data row8 col8\" >1.000000</td>\n",
       "      <td id=\"T_192d9_row8_col9\" class=\"data row8 col9\" >0.095186</td>\n",
       "      <td id=\"T_192d9_row8_col10\" class=\"data row8 col10\" >0.024113</td>\n",
       "      <td id=\"T_192d9_row8_col11\" class=\"data row8 col11\" >0.072476</td>\n",
       "      <td id=\"T_192d9_row8_col12\" class=\"data row8 col12\" >0.163437</td>\n",
       "      <td id=\"T_192d9_row8_col13\" class=\"data row8 col13\" >-0.204278</td>\n",
       "      <td id=\"T_192d9_row8_col14\" class=\"data row8 col14\" >0.029970</td>\n",
       "      <td id=\"T_192d9_row8_col15\" class=\"data row8 col15\" >0.152876</td>\n",
       "      <td id=\"T_192d9_row8_col16\" class=\"data row8 col16\" >0.111644</td>\n",
       "      <td id=\"T_192d9_row8_col17\" class=\"data row8 col17\" >0.118281</td>\n",
       "    </tr>\n",
       "    <tr>\n",
       "      <th id=\"T_192d9_level0_row9\" class=\"row_heading level0 row9\" >disease_kidney</th>\n",
       "      <td id=\"T_192d9_row9_col0\" class=\"data row9 col0\" >-0.081827</td>\n",
       "      <td id=\"T_192d9_row9_col1\" class=\"data row9 col1\" >-0.028280</td>\n",
       "      <td id=\"T_192d9_row9_col2\" class=\"data row9 col2\" >0.006238</td>\n",
       "      <td id=\"T_192d9_row9_col3\" class=\"data row9 col3\" >0.034920</td>\n",
       "      <td id=\"T_192d9_row9_col4\" class=\"data row9 col4\" >0.122697</td>\n",
       "      <td id=\"T_192d9_row9_col5\" class=\"data row9 col5\" >-0.009084</td>\n",
       "      <td id=\"T_192d9_row9_col6\" class=\"data row9 col6\" >0.003709</td>\n",
       "      <td id=\"T_192d9_row9_col7\" class=\"data row9 col7\" >0.039707</td>\n",
       "      <td id=\"T_192d9_row9_col8\" class=\"data row9 col8\" >0.095186</td>\n",
       "      <td id=\"T_192d9_row9_col9\" class=\"data row9 col9\" >1.000000</td>\n",
       "      <td id=\"T_192d9_row9_col10\" class=\"data row9 col10\" >0.061816</td>\n",
       "      <td id=\"T_192d9_row9_col11\" class=\"data row9 col11\" >0.091167</td>\n",
       "      <td id=\"T_192d9_row9_col12\" class=\"data row9 col12\" >0.050768</td>\n",
       "      <td id=\"T_192d9_row9_col13\" class=\"data row9 col13\" >-0.174642</td>\n",
       "      <td id=\"T_192d9_row9_col14\" class=\"data row9 col14\" >0.037281</td>\n",
       "      <td id=\"T_192d9_row9_col15\" class=\"data row9 col15\" >0.153064</td>\n",
       "      <td id=\"T_192d9_row9_col16\" class=\"data row9 col16\" >0.142197</td>\n",
       "      <td id=\"T_192d9_row9_col17\" class=\"data row9 col17\" >0.145197</td>\n",
       "    </tr>\n",
       "    <tr>\n",
       "      <th id=\"T_192d9_level0_row10\" class=\"row_heading level0 row10\" >disease_skin</th>\n",
       "      <td id=\"T_192d9_row10_col0\" class=\"data row10 col0\" >-0.001328</td>\n",
       "      <td id=\"T_192d9_row10_col1\" class=\"data row10 col1\" >-0.005702</td>\n",
       "      <td id=\"T_192d9_row10_col2\" class=\"data row10 col2\" >0.041266</td>\n",
       "      <td id=\"T_192d9_row10_col3\" class=\"data row10 col3\" >0.033977</td>\n",
       "      <td id=\"T_192d9_row10_col4\" class=\"data row10 col4\" >0.262208</td>\n",
       "      <td id=\"T_192d9_row10_col5\" class=\"data row10 col5\" >0.013434</td>\n",
       "      <td id=\"T_192d9_row10_col6\" class=\"data row10 col6\" >0.134780</td>\n",
       "      <td id=\"T_192d9_row10_col7\" class=\"data row10 col7\" >-0.000396</td>\n",
       "      <td id=\"T_192d9_row10_col8\" class=\"data row10 col8\" >0.024113</td>\n",
       "      <td id=\"T_192d9_row10_col9\" class=\"data row10 col9\" >0.061816</td>\n",
       "      <td id=\"T_192d9_row10_col10\" class=\"data row10 col10\" >1.000000</td>\n",
       "      <td id=\"T_192d9_row10_col11\" class=\"data row10 col11\" >0.048116</td>\n",
       "      <td id=\"T_192d9_row10_col12\" class=\"data row10 col12\" >-0.033644</td>\n",
       "      <td id=\"T_192d9_row10_col13\" class=\"data row10 col13\" >-0.050641</td>\n",
       "      <td id=\"T_192d9_row10_col14\" class=\"data row10 col14\" >-0.033412</td>\n",
       "      <td id=\"T_192d9_row10_col15\" class=\"data row10 col15\" >0.064840</td>\n",
       "      <td id=\"T_192d9_row10_col16\" class=\"data row10 col16\" >0.041700</td>\n",
       "      <td id=\"T_192d9_row10_col17\" class=\"data row10 col17\" >0.093317</td>\n",
       "    </tr>\n",
       "    <tr>\n",
       "      <th id=\"T_192d9_level0_row11\" class=\"row_heading level0 row11\" >disease_stroke</th>\n",
       "      <td id=\"T_192d9_row11_col0\" class=\"data row11 col0\" >-0.079455</td>\n",
       "      <td id=\"T_192d9_row11_col1\" class=\"data row11 col1\" >-0.019858</td>\n",
       "      <td id=\"T_192d9_row11_col2\" class=\"data row11 col2\" >0.011900</td>\n",
       "      <td id=\"T_192d9_row11_col3\" class=\"data row11 col3\" >0.061226</td>\n",
       "      <td id=\"T_192d9_row11_col4\" class=\"data row11 col4\" >0.137280</td>\n",
       "      <td id=\"T_192d9_row11_col5\" class=\"data row11 col5\" >-0.003091</td>\n",
       "      <td id=\"T_192d9_row11_col6\" class=\"data row11 col6\" >-0.003956</td>\n",
       "      <td id=\"T_192d9_row11_col7\" class=\"data row11 col7\" >0.038866</td>\n",
       "      <td id=\"T_192d9_row11_col8\" class=\"data row11 col8\" >0.072476</td>\n",
       "      <td id=\"T_192d9_row11_col9\" class=\"data row11 col9\" >0.091167</td>\n",
       "      <td id=\"T_192d9_row11_col10\" class=\"data row11 col10\" >0.048116</td>\n",
       "      <td id=\"T_192d9_row11_col11\" class=\"data row11 col11\" >1.000000</td>\n",
       "      <td id=\"T_192d9_row11_col12\" class=\"data row11 col12\" >0.019733</td>\n",
       "      <td id=\"T_192d9_row11_col13\" class=\"data row11 col13\" >-0.168090</td>\n",
       "      <td id=\"T_192d9_row11_col14\" class=\"data row11 col14\" >0.046467</td>\n",
       "      <td id=\"T_192d9_row11_col15\" class=\"data row11 col15\" >0.174143</td>\n",
       "      <td id=\"T_192d9_row11_col16\" class=\"data row11 col16\" >0.137014</td>\n",
       "      <td id=\"T_192d9_row11_col17\" class=\"data row11 col17\" >0.196835</td>\n",
       "    </tr>\n",
       "    <tr>\n",
       "      <th id=\"T_192d9_level0_row12\" class=\"row_heading level0 row12\" >health_bmi</th>\n",
       "      <td id=\"T_192d9_row12_col0\" class=\"data row12 col0\" >-0.150616</td>\n",
       "      <td id=\"T_192d9_row12_col1\" class=\"data row12 col1\" >-0.038816</td>\n",
       "      <td id=\"T_192d9_row12_col2\" class=\"data row12 col2\" >-0.051822</td>\n",
       "      <td id=\"T_192d9_row12_col3\" class=\"data row12 col3\" >0.023118</td>\n",
       "      <td id=\"T_192d9_row12_col4\" class=\"data row12 col4\" >-0.001740</td>\n",
       "      <td id=\"T_192d9_row12_col5\" class=\"data row12 col5\" >0.026940</td>\n",
       "      <td id=\"T_192d9_row12_col6\" class=\"data row12 col6\" >-0.037424</td>\n",
       "      <td id=\"T_192d9_row12_col7\" class=\"data row12 col7\" >0.092345</td>\n",
       "      <td id=\"T_192d9_row12_col8\" class=\"data row12 col8\" >0.163437</td>\n",
       "      <td id=\"T_192d9_row12_col9\" class=\"data row12 col9\" >0.050768</td>\n",
       "      <td id=\"T_192d9_row12_col10\" class=\"data row12 col10\" >-0.033644</td>\n",
       "      <td id=\"T_192d9_row12_col11\" class=\"data row12 col11\" >0.019733</td>\n",
       "      <td id=\"T_192d9_row12_col12\" class=\"data row12 col12\" >1.000000</td>\n",
       "      <td id=\"T_192d9_row12_col13\" class=\"data row12 col13\" >-0.230720</td>\n",
       "      <td id=\"T_192d9_row12_col14\" class=\"data row12 col14\" >0.064131</td>\n",
       "      <td id=\"T_192d9_row12_col15\" class=\"data row12 col15\" >0.181678</td>\n",
       "      <td id=\"T_192d9_row12_col16\" class=\"data row12 col16\" >0.109788</td>\n",
       "      <td id=\"T_192d9_row12_col17\" class=\"data row12 col17\" >0.051803</td>\n",
       "    </tr>\n",
       "    <tr>\n",
       "      <th id=\"T_192d9_level0_row13\" class=\"row_heading level0 row13\" >health_general</th>\n",
       "      <td id=\"T_192d9_row13_col0\" class=\"data row13 col0\" >0.281249</td>\n",
       "      <td id=\"T_192d9_row13_col1\" class=\"data row13 col1\" >0.029780</td>\n",
       "      <td id=\"T_192d9_row13_col2\" class=\"data row13 col2\" >0.063071</td>\n",
       "      <td id=\"T_192d9_row13_col3\" class=\"data row13 col3\" >-0.174717</td>\n",
       "      <td id=\"T_192d9_row13_col4\" class=\"data row13 col4\" >-0.188236</td>\n",
       "      <td id=\"T_192d9_row13_col5\" class=\"data row13 col5\" >0.025947</td>\n",
       "      <td id=\"T_192d9_row13_col6\" class=\"data row13 col6\" >0.057986</td>\n",
       "      <td id=\"T_192d9_row13_col7\" class=\"data row13 col7\" >-0.137342</td>\n",
       "      <td id=\"T_192d9_row13_col8\" class=\"data row13 col8\" >-0.204278</td>\n",
       "      <td id=\"T_192d9_row13_col9\" class=\"data row13 col9\" >-0.174642</td>\n",
       "      <td id=\"T_192d9_row13_col10\" class=\"data row13 col10\" >-0.050641</td>\n",
       "      <td id=\"T_192d9_row13_col11\" class=\"data row13 col11\" >-0.168090</td>\n",
       "      <td id=\"T_192d9_row13_col12\" class=\"data row13 col12\" >-0.230720</td>\n",
       "      <td id=\"T_192d9_row13_col13\" class=\"data row13 col13\" >1.000000</td>\n",
       "      <td id=\"T_192d9_row13_col14\" class=\"data row13 col14\" >-0.241625</td>\n",
       "      <td id=\"T_192d9_row13_col15\" class=\"data row13 col15\" >-0.413797</td>\n",
       "      <td id=\"T_192d9_row13_col16\" class=\"data row13 col16\" >-0.482697</td>\n",
       "      <td id=\"T_192d9_row13_col17\" class=\"data row13 col17\" >-0.243182</td>\n",
       "    </tr>\n",
       "    <tr>\n",
       "      <th id=\"T_192d9_level0_row14\" class=\"row_heading level0 row14\" >health_mental</th>\n",
       "      <td id=\"T_192d9_row14_col0\" class=\"data row14 col0\" >-0.095808</td>\n",
       "      <td id=\"T_192d9_row14_col1\" class=\"data row14 col1\" >0.051282</td>\n",
       "      <td id=\"T_192d9_row14_col2\" class=\"data row14 col2\" >-0.119717</td>\n",
       "      <td id=\"T_192d9_row14_col3\" class=\"data row14 col3\" >0.085157</td>\n",
       "      <td id=\"T_192d9_row14_col4\" class=\"data row14 col4\" >-0.155455</td>\n",
       "      <td id=\"T_192d9_row14_col5\" class=\"data row14 col5\" >-0.100058</td>\n",
       "      <td id=\"T_192d9_row14_col6\" class=\"data row14 col6\" >-0.014491</td>\n",
       "      <td id=\"T_192d9_row14_col7\" class=\"data row14 col7\" >0.114008</td>\n",
       "      <td id=\"T_192d9_row14_col8\" class=\"data row14 col8\" >0.029970</td>\n",
       "      <td id=\"T_192d9_row14_col9\" class=\"data row14 col9\" >0.037281</td>\n",
       "      <td id=\"T_192d9_row14_col10\" class=\"data row14 col10\" >-0.033412</td>\n",
       "      <td id=\"T_192d9_row14_col11\" class=\"data row14 col11\" >0.046467</td>\n",
       "      <td id=\"T_192d9_row14_col12\" class=\"data row14 col12\" >0.064131</td>\n",
       "      <td id=\"T_192d9_row14_col13\" class=\"data row14 col13\" >-0.241625</td>\n",
       "      <td id=\"T_192d9_row14_col14\" class=\"data row14 col14\" >1.000000</td>\n",
       "      <td id=\"T_192d9_row14_col15\" class=\"data row14 col15\" >0.152235</td>\n",
       "      <td id=\"T_192d9_row14_col16\" class=\"data row14 col16\" >0.287987</td>\n",
       "      <td id=\"T_192d9_row14_col17\" class=\"data row14 col17\" >0.028591</td>\n",
       "    </tr>\n",
       "    <tr>\n",
       "      <th id=\"T_192d9_level0_row15\" class=\"row_heading level0 row15\" >health_mobility</th>\n",
       "      <td id=\"T_192d9_row15_col0\" class=\"data row15 col0\" >-0.278524</td>\n",
       "      <td id=\"T_192d9_row15_col1\" class=\"data row15 col1\" >-0.035328</td>\n",
       "      <td id=\"T_192d9_row15_col2\" class=\"data row15 col2\" >-0.022216</td>\n",
       "      <td id=\"T_192d9_row15_col3\" class=\"data row15 col3\" >0.120074</td>\n",
       "      <td id=\"T_192d9_row15_col4\" class=\"data row15 col4\" >0.242552</td>\n",
       "      <td id=\"T_192d9_row15_col5\" class=\"data row15 col5\" >-0.068860</td>\n",
       "      <td id=\"T_192d9_row15_col6\" class=\"data row15 col6\" >-0.015831</td>\n",
       "      <td id=\"T_192d9_row15_col7\" class=\"data row15 col7\" >0.103222</td>\n",
       "      <td id=\"T_192d9_row15_col8\" class=\"data row15 col8\" >0.152876</td>\n",
       "      <td id=\"T_192d9_row15_col9\" class=\"data row15 col9\" >0.153064</td>\n",
       "      <td id=\"T_192d9_row15_col10\" class=\"data row15 col10\" >0.064840</td>\n",
       "      <td id=\"T_192d9_row15_col11\" class=\"data row15 col11\" >0.174143</td>\n",
       "      <td id=\"T_192d9_row15_col12\" class=\"data row15 col12\" >0.181678</td>\n",
       "      <td id=\"T_192d9_row15_col13\" class=\"data row15 col13\" >-0.413797</td>\n",
       "      <td id=\"T_192d9_row15_col14\" class=\"data row15 col14\" >0.152235</td>\n",
       "      <td id=\"T_192d9_row15_col15\" class=\"data row15 col15\" >1.000000</td>\n",
       "      <td id=\"T_192d9_row15_col16\" class=\"data row15 col16\" >0.428373</td>\n",
       "      <td id=\"T_192d9_row15_col17\" class=\"data row15 col17\" >0.201258</td>\n",
       "    </tr>\n",
       "    <tr>\n",
       "      <th id=\"T_192d9_level0_row16\" class=\"row_heading level0 row16\" >health_physical</th>\n",
       "      <td id=\"T_192d9_row16_col0\" class=\"data row16 col0\" >-0.232283</td>\n",
       "      <td id=\"T_192d9_row16_col1\" class=\"data row16 col1\" >-0.017254</td>\n",
       "      <td id=\"T_192d9_row16_col2\" class=\"data row16 col2\" >-0.061387</td>\n",
       "      <td id=\"T_192d9_row16_col3\" class=\"data row16 col3\" >0.115352</td>\n",
       "      <td id=\"T_192d9_row16_col4\" class=\"data row16 col4\" >0.110789</td>\n",
       "      <td id=\"T_192d9_row16_col5\" class=\"data row16 col5\" >-0.040904</td>\n",
       "      <td id=\"T_192d9_row16_col6\" class=\"data row16 col6\" >-0.000847</td>\n",
       "      <td id=\"T_192d9_row16_col7\" class=\"data row16 col7\" >0.117907</td>\n",
       "      <td id=\"T_192d9_row16_col8\" class=\"data row16 col8\" >0.111644</td>\n",
       "      <td id=\"T_192d9_row16_col9\" class=\"data row16 col9\" >0.142197</td>\n",
       "      <td id=\"T_192d9_row16_col10\" class=\"data row16 col10\" >0.041700</td>\n",
       "      <td id=\"T_192d9_row16_col11\" class=\"data row16 col11\" >0.137014</td>\n",
       "      <td id=\"T_192d9_row16_col12\" class=\"data row16 col12\" >0.109788</td>\n",
       "      <td id=\"T_192d9_row16_col13\" class=\"data row16 col13\" >-0.482697</td>\n",
       "      <td id=\"T_192d9_row16_col14\" class=\"data row16 col14\" >0.287987</td>\n",
       "      <td id=\"T_192d9_row16_col15\" class=\"data row16 col15\" >0.428373</td>\n",
       "      <td id=\"T_192d9_row16_col16\" class=\"data row16 col16\" >1.000000</td>\n",
       "      <td id=\"T_192d9_row16_col17\" class=\"data row16 col17\" >0.170721</td>\n",
       "    </tr>\n",
       "    <tr>\n",
       "      <th id=\"T_192d9_level0_row17\" class=\"row_heading level0 row17\" >y_heart_disease</th>\n",
       "      <td id=\"T_192d9_row17_col0\" class=\"data row17 col0\" >-0.100030</td>\n",
       "      <td id=\"T_192d9_row17_col1\" class=\"data row17 col1\" >-0.032080</td>\n",
       "      <td id=\"T_192d9_row17_col2\" class=\"data row17 col2\" >0.008327</td>\n",
       "      <td id=\"T_192d9_row17_col3\" class=\"data row17 col3\" >0.107764</td>\n",
       "      <td id=\"T_192d9_row17_col4\" class=\"data row17 col4\" >0.232325</td>\n",
       "      <td id=\"T_192d9_row17_col5\" class=\"data row17 col5\" >0.070040</td>\n",
       "      <td id=\"T_192d9_row17_col6\" class=\"data row17 col6\" >0.034854</td>\n",
       "      <td id=\"T_192d9_row17_col7\" class=\"data row17 col7\" >0.041444</td>\n",
       "      <td id=\"T_192d9_row17_col8\" class=\"data row17 col8\" >0.118281</td>\n",
       "      <td id=\"T_192d9_row17_col9\" class=\"data row17 col9\" >0.145197</td>\n",
       "      <td id=\"T_192d9_row17_col10\" class=\"data row17 col10\" >0.093317</td>\n",
       "      <td id=\"T_192d9_row17_col11\" class=\"data row17 col11\" >0.196835</td>\n",
       "      <td id=\"T_192d9_row17_col12\" class=\"data row17 col12\" >0.051803</td>\n",
       "      <td id=\"T_192d9_row17_col13\" class=\"data row17 col13\" >-0.243182</td>\n",
       "      <td id=\"T_192d9_row17_col14\" class=\"data row17 col14\" >0.028591</td>\n",
       "      <td id=\"T_192d9_row17_col15\" class=\"data row17 col15\" >0.201258</td>\n",
       "      <td id=\"T_192d9_row17_col16\" class=\"data row17 col16\" >0.170721</td>\n",
       "      <td id=\"T_192d9_row17_col17\" class=\"data row17 col17\" >1.000000</td>\n",
       "    </tr>\n",
       "  </tbody>\n",
       "</table>\n"
      ],
      "text/plain": [
       "<pandas.io.formats.style.Styler at 0x7f90f06d0190>"
      ]
     },
     "execution_count": 7,
     "metadata": {},
     "output_type": "execute_result"
    }
   ],
   "source": [
    "# correlation matrix\n",
    "heart_disease_df_map.corr().style.background_gradient(cmap='Blues')\n"
   ]
  },
  {
   "cell_type": "code",
   "execution_count": 8,
   "id": "fd662adc",
   "metadata": {},
   "outputs": [
    {
     "data": {
      "text/html": [
       "<style type=\"text/css\">\n",
       "#T_f1e07_row0_col0, #T_f1e07_row1_col1, #T_f1e07_row2_col2, #T_f1e07_row3_col3, #T_f1e07_row4_col4, #T_f1e07_row5_col5, #T_f1e07_row6_col6, #T_f1e07_row7_col7 {\n",
       "  background-color: #08306b;\n",
       "  color: #f1f1f1;\n",
       "}\n",
       "#T_f1e07_row0_col1 {\n",
       "  background-color: #dceaf6;\n",
       "  color: #000000;\n",
       "}\n",
       "#T_f1e07_row0_col2, #T_f1e07_row3_col5 {\n",
       "  background-color: #e8f1fa;\n",
       "  color: #000000;\n",
       "}\n",
       "#T_f1e07_row0_col3 {\n",
       "  background-color: #eaf2fb;\n",
       "  color: #000000;\n",
       "}\n",
       "#T_f1e07_row0_col4, #T_f1e07_row1_col6 {\n",
       "  background-color: #e5eff9;\n",
       "  color: #000000;\n",
       "}\n",
       "#T_f1e07_row0_col5, #T_f1e07_row3_col2 {\n",
       "  background-color: #e7f0fa;\n",
       "  color: #000000;\n",
       "}\n",
       "#T_f1e07_row0_col6 {\n",
       "  background-color: #e0ecf8;\n",
       "  color: #000000;\n",
       "}\n",
       "#T_f1e07_row0_col7 {\n",
       "  background-color: #dbe9f6;\n",
       "  color: #000000;\n",
       "}\n",
       "#T_f1e07_row1_col0, #T_f1e07_row1_col4 {\n",
       "  background-color: #dce9f6;\n",
       "  color: #000000;\n",
       "}\n",
       "#T_f1e07_row1_col2, #T_f1e07_row7_col0 {\n",
       "  background-color: #e3eef9;\n",
       "  color: #000000;\n",
       "}\n",
       "#T_f1e07_row1_col3, #T_f1e07_row2_col0, #T_f1e07_row2_col4, #T_f1e07_row2_col5, #T_f1e07_row2_col6, #T_f1e07_row2_col7, #T_f1e07_row3_col1, #T_f1e07_row5_col3, #T_f1e07_row6_col2 {\n",
       "  background-color: #f7fbff;\n",
       "  color: #000000;\n",
       "}\n",
       "#T_f1e07_row1_col5, #T_f1e07_row4_col5, #T_f1e07_row4_col7 {\n",
       "  background-color: #dfecf7;\n",
       "  color: #000000;\n",
       "}\n",
       "#T_f1e07_row1_col7, #T_f1e07_row3_col7 {\n",
       "  background-color: #e7f1fa;\n",
       "  color: #000000;\n",
       "}\n",
       "#T_f1e07_row2_col1 {\n",
       "  background-color: #f3f8fe;\n",
       "  color: #000000;\n",
       "}\n",
       "#T_f1e07_row2_col3, #T_f1e07_row5_col2 {\n",
       "  background-color: #f6faff;\n",
       "  color: #000000;\n",
       "}\n",
       "#T_f1e07_row3_col0 {\n",
       "  background-color: #e9f2fa;\n",
       "  color: #000000;\n",
       "}\n",
       "#T_f1e07_row3_col4 {\n",
       "  background-color: #a6cee4;\n",
       "  color: #000000;\n",
       "}\n",
       "#T_f1e07_row3_col6 {\n",
       "  background-color: #e1edf8;\n",
       "  color: #000000;\n",
       "}\n",
       "#T_f1e07_row4_col0 {\n",
       "  background-color: #e3eef8;\n",
       "  color: #000000;\n",
       "}\n",
       "#T_f1e07_row4_col1 {\n",
       "  background-color: #dae8f6;\n",
       "  color: #000000;\n",
       "}\n",
       "#T_f1e07_row4_col2 {\n",
       "  background-color: #e6f0f9;\n",
       "  color: #000000;\n",
       "}\n",
       "#T_f1e07_row4_col3 {\n",
       "  background-color: #a4cce3;\n",
       "  color: #000000;\n",
       "}\n",
       "#T_f1e07_row4_col6 {\n",
       "  background-color: #dfebf7;\n",
       "  color: #000000;\n",
       "}\n",
       "#T_f1e07_row5_col0, #T_f1e07_row5_col7, #T_f1e07_row6_col1 {\n",
       "  background-color: #f5f9fe;\n",
       "  color: #000000;\n",
       "}\n",
       "#T_f1e07_row5_col1 {\n",
       "  background-color: #eef5fc;\n",
       "  color: #000000;\n",
       "}\n",
       "#T_f1e07_row5_col4, #T_f1e07_row6_col3, #T_f1e07_row6_col4 {\n",
       "  background-color: #f0f6fd;\n",
       "  color: #000000;\n",
       "}\n",
       "#T_f1e07_row5_col6, #T_f1e07_row7_col4 {\n",
       "  background-color: #ebf3fb;\n",
       "  color: #000000;\n",
       "}\n",
       "#T_f1e07_row6_col0 {\n",
       "  background-color: #eff6fc;\n",
       "  color: #000000;\n",
       "}\n",
       "#T_f1e07_row6_col5, #T_f1e07_row7_col6 {\n",
       "  background-color: #ecf4fb;\n",
       "  color: #000000;\n",
       "}\n",
       "#T_f1e07_row6_col7, #T_f1e07_row7_col5 {\n",
       "  background-color: #f1f7fd;\n",
       "  color: #000000;\n",
       "}\n",
       "#T_f1e07_row7_col1, #T_f1e07_row7_col3 {\n",
       "  background-color: #f2f7fd;\n",
       "  color: #000000;\n",
       "}\n",
       "#T_f1e07_row7_col2 {\n",
       "  background-color: #f2f8fd;\n",
       "  color: #000000;\n",
       "}\n",
       "</style>\n",
       "<table id=\"T_f1e07\">\n",
       "  <thead>\n",
       "    <tr>\n",
       "      <th class=\"blank level0\" >&nbsp;</th>\n",
       "      <th id=\"T_f1e07_level0_col0\" class=\"col_heading level0 col0\" >y_heart_disease</th>\n",
       "      <th id=\"T_f1e07_level0_col1\" class=\"col_heading level0 col1\" >demg_age</th>\n",
       "      <th id=\"T_f1e07_level0_col2\" class=\"col_heading level0 col2\" >behavior_tobacco</th>\n",
       "      <th id=\"T_f1e07_level0_col3\" class=\"col_heading level0 col3\" >health_physical</th>\n",
       "      <th id=\"T_f1e07_level0_col4\" class=\"col_heading level0 col4\" >health_mobility</th>\n",
       "      <th id=\"T_f1e07_level0_col5\" class=\"col_heading level0 col5\" >disease_diabetes</th>\n",
       "      <th id=\"T_f1e07_level0_col6\" class=\"col_heading level0 col6\" >disease_kidney</th>\n",
       "      <th id=\"T_f1e07_level0_col7\" class=\"col_heading level0 col7\" >disease_stroke</th>\n",
       "    </tr>\n",
       "  </thead>\n",
       "  <tbody>\n",
       "    <tr>\n",
       "      <th id=\"T_f1e07_level0_row0\" class=\"row_heading level0 row0\" >y_heart_disease</th>\n",
       "      <td id=\"T_f1e07_row0_col0\" class=\"data row0 col0\" >1.000000</td>\n",
       "      <td id=\"T_f1e07_row0_col1\" class=\"data row0 col1\" >0.232325</td>\n",
       "      <td id=\"T_f1e07_row0_col2\" class=\"data row0 col2\" >0.107764</td>\n",
       "      <td id=\"T_f1e07_row0_col3\" class=\"data row0 col3\" >0.170721</td>\n",
       "      <td id=\"T_f1e07_row0_col4\" class=\"data row0 col4\" >0.201258</td>\n",
       "      <td id=\"T_f1e07_row0_col5\" class=\"data row0 col5\" >0.118281</td>\n",
       "      <td id=\"T_f1e07_row0_col6\" class=\"data row0 col6\" >0.145197</td>\n",
       "      <td id=\"T_f1e07_row0_col7\" class=\"data row0 col7\" >0.196835</td>\n",
       "    </tr>\n",
       "    <tr>\n",
       "      <th id=\"T_f1e07_level0_row1\" class=\"row_heading level0 row1\" >demg_age</th>\n",
       "      <td id=\"T_f1e07_row1_col0\" class=\"data row1 col0\" >0.232325</td>\n",
       "      <td id=\"T_f1e07_row1_col1\" class=\"data row1 col1\" >1.000000</td>\n",
       "      <td id=\"T_f1e07_row1_col2\" class=\"data row1 col2\" >0.130384</td>\n",
       "      <td id=\"T_f1e07_row1_col3\" class=\"data row1 col3\" >0.110789</td>\n",
       "      <td id=\"T_f1e07_row1_col4\" class=\"data row1 col4\" >0.242552</td>\n",
       "      <td id=\"T_f1e07_row1_col5\" class=\"data row1 col5\" >0.154070</td>\n",
       "      <td id=\"T_f1e07_row1_col6\" class=\"data row1 col6\" >0.122697</td>\n",
       "      <td id=\"T_f1e07_row1_col7\" class=\"data row1 col7\" >0.137280</td>\n",
       "    </tr>\n",
       "    <tr>\n",
       "      <th id=\"T_f1e07_level0_row2\" class=\"row_heading level0 row2\" >behavior_tobacco</th>\n",
       "      <td id=\"T_f1e07_row2_col0\" class=\"data row2 col0\" >0.107764</td>\n",
       "      <td id=\"T_f1e07_row2_col1\" class=\"data row2 col1\" >0.130384</td>\n",
       "      <td id=\"T_f1e07_row2_col2\" class=\"data row2 col2\" >1.000000</td>\n",
       "      <td id=\"T_f1e07_row2_col3\" class=\"data row2 col3\" >0.115352</td>\n",
       "      <td id=\"T_f1e07_row2_col4\" class=\"data row2 col4\" >0.120074</td>\n",
       "      <td id=\"T_f1e07_row2_col5\" class=\"data row2 col5\" >0.038993</td>\n",
       "      <td id=\"T_f1e07_row2_col6\" class=\"data row2 col6\" >0.034920</td>\n",
       "      <td id=\"T_f1e07_row2_col7\" class=\"data row2 col7\" >0.061226</td>\n",
       "    </tr>\n",
       "    <tr>\n",
       "      <th id=\"T_f1e07_level0_row3\" class=\"row_heading level0 row3\" >health_physical</th>\n",
       "      <td id=\"T_f1e07_row3_col0\" class=\"data row3 col0\" >0.170721</td>\n",
       "      <td id=\"T_f1e07_row3_col1\" class=\"data row3 col1\" >0.110789</td>\n",
       "      <td id=\"T_f1e07_row3_col2\" class=\"data row3 col2\" >0.115352</td>\n",
       "      <td id=\"T_f1e07_row3_col3\" class=\"data row3 col3\" >1.000000</td>\n",
       "      <td id=\"T_f1e07_row3_col4\" class=\"data row3 col4\" >0.428373</td>\n",
       "      <td id=\"T_f1e07_row3_col5\" class=\"data row3 col5\" >0.111644</td>\n",
       "      <td id=\"T_f1e07_row3_col6\" class=\"data row3 col6\" >0.142197</td>\n",
       "      <td id=\"T_f1e07_row3_col7\" class=\"data row3 col7\" >0.137014</td>\n",
       "    </tr>\n",
       "    <tr>\n",
       "      <th id=\"T_f1e07_level0_row4\" class=\"row_heading level0 row4\" >health_mobility</th>\n",
       "      <td id=\"T_f1e07_row4_col0\" class=\"data row4 col0\" >0.201258</td>\n",
       "      <td id=\"T_f1e07_row4_col1\" class=\"data row4 col1\" >0.242552</td>\n",
       "      <td id=\"T_f1e07_row4_col2\" class=\"data row4 col2\" >0.120074</td>\n",
       "      <td id=\"T_f1e07_row4_col3\" class=\"data row4 col3\" >0.428373</td>\n",
       "      <td id=\"T_f1e07_row4_col4\" class=\"data row4 col4\" >1.000000</td>\n",
       "      <td id=\"T_f1e07_row4_col5\" class=\"data row4 col5\" >0.152876</td>\n",
       "      <td id=\"T_f1e07_row4_col6\" class=\"data row4 col6\" >0.153064</td>\n",
       "      <td id=\"T_f1e07_row4_col7\" class=\"data row4 col7\" >0.174143</td>\n",
       "    </tr>\n",
       "    <tr>\n",
       "      <th id=\"T_f1e07_level0_row5\" class=\"row_heading level0 row5\" >disease_diabetes</th>\n",
       "      <td id=\"T_f1e07_row5_col0\" class=\"data row5 col0\" >0.118281</td>\n",
       "      <td id=\"T_f1e07_row5_col1\" class=\"data row5 col1\" >0.154070</td>\n",
       "      <td id=\"T_f1e07_row5_col2\" class=\"data row5 col2\" >0.038993</td>\n",
       "      <td id=\"T_f1e07_row5_col3\" class=\"data row5 col3\" >0.111644</td>\n",
       "      <td id=\"T_f1e07_row5_col4\" class=\"data row5 col4\" >0.152876</td>\n",
       "      <td id=\"T_f1e07_row5_col5\" class=\"data row5 col5\" >1.000000</td>\n",
       "      <td id=\"T_f1e07_row5_col6\" class=\"data row5 col6\" >0.095186</td>\n",
       "      <td id=\"T_f1e07_row5_col7\" class=\"data row5 col7\" >0.072476</td>\n",
       "    </tr>\n",
       "    <tr>\n",
       "      <th id=\"T_f1e07_level0_row6\" class=\"row_heading level0 row6\" >disease_kidney</th>\n",
       "      <td id=\"T_f1e07_row6_col0\" class=\"data row6 col0\" >0.145197</td>\n",
       "      <td id=\"T_f1e07_row6_col1\" class=\"data row6 col1\" >0.122697</td>\n",
       "      <td id=\"T_f1e07_row6_col2\" class=\"data row6 col2\" >0.034920</td>\n",
       "      <td id=\"T_f1e07_row6_col3\" class=\"data row6 col3\" >0.142197</td>\n",
       "      <td id=\"T_f1e07_row6_col4\" class=\"data row6 col4\" >0.153064</td>\n",
       "      <td id=\"T_f1e07_row6_col5\" class=\"data row6 col5\" >0.095186</td>\n",
       "      <td id=\"T_f1e07_row6_col6\" class=\"data row6 col6\" >1.000000</td>\n",
       "      <td id=\"T_f1e07_row6_col7\" class=\"data row6 col7\" >0.091167</td>\n",
       "    </tr>\n",
       "    <tr>\n",
       "      <th id=\"T_f1e07_level0_row7\" class=\"row_heading level0 row7\" >disease_stroke</th>\n",
       "      <td id=\"T_f1e07_row7_col0\" class=\"data row7 col0\" >0.196835</td>\n",
       "      <td id=\"T_f1e07_row7_col1\" class=\"data row7 col1\" >0.137280</td>\n",
       "      <td id=\"T_f1e07_row7_col2\" class=\"data row7 col2\" >0.061226</td>\n",
       "      <td id=\"T_f1e07_row7_col3\" class=\"data row7 col3\" >0.137014</td>\n",
       "      <td id=\"T_f1e07_row7_col4\" class=\"data row7 col4\" >0.174143</td>\n",
       "      <td id=\"T_f1e07_row7_col5\" class=\"data row7 col5\" >0.072476</td>\n",
       "      <td id=\"T_f1e07_row7_col6\" class=\"data row7 col6\" >0.091167</td>\n",
       "      <td id=\"T_f1e07_row7_col7\" class=\"data row7 col7\" >1.000000</td>\n",
       "    </tr>\n",
       "  </tbody>\n",
       "</table>\n"
      ],
      "text/plain": [
       "<pandas.io.formats.style.Styler at 0x7f90f06f1340>"
      ]
     },
     "execution_count": 8,
     "metadata": {},
     "output_type": "execute_result"
    }
   ],
   "source": [
    "# correlation matrix subset\n",
    "heart_disease_df_map[['y_heart_disease', 'demg_age', 'behavior_tobacco','health_physical', 'health_mobility', 'disease_diabetes','disease_kidney','disease_stroke',]].corr().style.background_gradient(cmap='Blues')\n"
   ]
  },
  {
   "cell_type": "markdown",
   "id": "f1f0dca5",
   "metadata": {},
   "source": [
    "#### A classification model is viable."
   ]
  },
  {
   "cell_type": "markdown",
   "id": "81bb0dab",
   "metadata": {},
   "source": [
    "[back to top](#top)"
   ]
  },
  {
   "cell_type": "code",
   "execution_count": 9,
   "id": "de33d58b",
   "metadata": {},
   "outputs": [
    {
     "data": {
      "image/png": "[encoded data removed]",
      "text/plain": [
       "<Figure size 432x288 with 1 Axes>"
      ]
     },
     "metadata": {},
     "output_type": "display_data"
    }
   ],
   "source": [
    "# target vs age\n",
    "ax = sns.boxplot(x='y_heart_disease', y='demg_age', data=heart_disease_df_map)\n",
    "ax.set_xticklabels(['No', 'Yes']);\n"
   ]
  },
  {
   "cell_type": "code",
   "execution_count": 10,
   "id": "fe9c4496",
   "metadata": {},
   "outputs": [
    {
     "data": {
      "image/png": "[encoded data removed]",
      "text/plain": [
       "<Figure size 432x288 with 1 Axes>"
      ]
     },
     "metadata": {},
     "output_type": "display_data"
    }
   ],
   "source": [
    "# target vs mobility\n",
    "sns.boxplot(x='y_heart_disease', y='health_bmi', data=heart_disease_df_map)\n",
    "ax.set_xticklabels(['No', 'Yes']);\n"
   ]
  },
  {
   "cell_type": "code",
   "execution_count": 11,
   "id": "ed54dfa5",
   "metadata": {},
   "outputs": [
    {
     "data": {
      "image/png": "[encoded data removed]",
      "text/plain": [
       "<Figure size 432x288 with 1 Axes>"
      ]
     },
     "metadata": {},
     "output_type": "display_data"
    }
   ],
   "source": [
    "# target vs physical health\n",
    "sns.boxplot(x='y_heart_disease', y='health_physical', data=heart_disease_df_map)\n",
    "ax.set_xticklabels(['No', 'Yes']);\n"
   ]
  },
  {
   "cell_type": "code",
   "execution_count": 12,
   "id": "8c5d4d6b",
   "metadata": {},
   "outputs": [
    {
     "name": "stdout",
     "output_type": "stream",
     "text": [
      "Positives/Negatives Ratio: 9.36 %\n",
      "No     292422\n",
      "Yes     27373\n",
      "Name: y_heart_disease, dtype: int64\n"
     ]
    }
   ],
   "source": [
    "# target distribution\n",
    "print('Positives/Negatives Ratio:', round(27373/292422, 4) * 100, '%')\n",
    "print(heart_disease_df['y_heart_disease'].value_counts())\n"
   ]
  },
  {
   "cell_type": "markdown",
   "id": "f90d7cac",
   "metadata": {},
   "source": [
    "[back to top](#top)"
   ]
  },
  {
   "cell_type": "markdown",
   "id": "36c7ed45",
   "metadata": {},
   "source": [
    "### 3.3 Classification Metrics<a id='33'></a> "
   ]
  },
  {
   "cell_type": "markdown",
   "id": "dae9fb9b",
   "metadata": {},
   "source": [
    "* **Recall** to maximize on patients who are true positives for heart disease.\n",
    "* **ROC AUC** to identify high vs low risk patients. "
   ]
  },
  {
   "cell_type": "markdown",
   "id": "8a71be59",
   "metadata": {},
   "source": [
    "[back to top](#top)"
   ]
  },
  {
   "cell_type": "markdown",
   "id": "a3c710fb",
   "metadata": {},
   "source": [
    "# 4 | Baseline<a id='4'></a> "
   ]
  },
  {
   "cell_type": "markdown",
   "id": "1678c1ca",
   "metadata": {},
   "source": [
    "#### Logistic regression with three features based on correlation matrix."
   ]
  },
  {
   "cell_type": "code",
   "execution_count": 6,
   "id": "37677e9b",
   "metadata": {},
   "outputs": [],
   "source": [
    "# separate target from features based on the correlation matrix\n",
    "y_base = heart_disease_df_map['y_heart_disease'] \n",
    "X_base = heart_disease_df_map.loc[:, [\n",
    "#     'behavior_activity', \n",
    "#     'behavior_alcohol', \n",
    "#     'behavior_sleep',\n",
    "#     'behavior_tobacco',\n",
    "    'demg_age',\n",
    "#     'demg_gender', \n",
    "#     'demg_race',\n",
    "#     'disease_asthma', \n",
    "#     'disease_diabetes', \n",
    "#     'disease_kidney', \n",
    "#     'disease_skin', \n",
    "#     'disease_stroke', \n",
    "#     'health_bmi', \n",
    "#     'health_general', \n",
    "#     'health_mental',\n",
    "    'health_mobility', \n",
    "    'health_physical'\n",
    "    ]]\n",
    "\n",
    "# split baseline data test/train/validate\n",
    "X_train_base, X_test_base, y_train_base, y_test_base = train_test_split(X_base,\n",
    "                                                                        y_base,\n",
    "                                                                        test_size=0.2,\n",
    "                                                                        random_state=42)\n",
    "X_train_base, X_val_base, y_train_base, y_val_base = train_test_split(X_train_base, \n",
    "                                                                                y_train_base, \n",
    "                                                                                test_size = .25, \n",
    "                                                                                random_state = 42)\n",
    "\n",
    "# scale baseline X train/test\n",
    "scaler = StandardScaler()\n",
    "X_train_scaled_base = scaler.fit_transform(X_train_base)\n",
    "X_test_scaled_base = scaler.transform(X_test_base)\n",
    "X_val_scaled_base = scaler.transform(X_val_base)\n"
   ]
  },
  {
   "cell_type": "code",
   "execution_count": 7,
   "id": "2eac6c45",
   "metadata": {},
   "outputs": [],
   "source": [
    "# baseline logistic regression X train scaled & y train\n",
    "log_reg_base = LogisticRegression()\n",
    "log_reg_base.fit(X_train_scaled_base, y_train_base)\n",
    "\n",
    "# baseline predict on X_validate_scaled_m \n",
    "y_pred_base = log_reg_base.predict(X_val_scaled_base) "
   ]
  },
  {
   "cell_type": "code",
   "execution_count": 8,
   "id": "6dc386cb",
   "metadata": {},
   "outputs": [
    {
     "data": {
      "text/plain": [
       "['Baseline logistic regression',\n",
       " 'log_reg_base',\n",
       " 0.02132701421800948,\n",
       " 0.7858257042010828]"
      ]
     },
     "execution_count": 8,
     "metadata": {},
     "output_type": "execute_result"
    }
   ],
   "source": [
    "# score on recall and roc auc\n",
    "zero = [\"Baseline logistic regression\", 'log_reg_base',\n",
    "        recall_score(y_val_base, y_pred_base),\n",
    "        roc_auc_score(y_val_base, log_reg_base.predict_proba(X_val_scaled_base)[:,1])]\n",
    "zero"
   ]
  },
  {
   "cell_type": "markdown",
   "id": "33917bdd",
   "metadata": {},
   "source": [
    "[back to top](#top)"
   ]
  },
  {
   "cell_type": "markdown",
   "id": "bc6f8fac",
   "metadata": {},
   "source": [
    "# 5 | Validation<a id='5'></a>"
   ]
  },
  {
   "cell_type": "markdown",
   "id": "ae0c37fa",
   "metadata": {},
   "source": [
    "#### Validation and testing scheme to use in [model selection](#7). "
   ]
  },
  {
   "cell_type": "code",
   "execution_count": 9,
   "id": "bad7c7ef",
   "metadata": {},
   "outputs": [],
   "source": [
    "# separate target from features \n",
    "y = heart_disease_df_map['y_heart_disease'] \n",
    "X = heart_disease_df_map.loc[:, [\n",
    "    'behavior_activity', \n",
    "    'behavior_alcohol', \n",
    "    'behavior_sleep',\n",
    "    'behavior_tobacco',\n",
    "    'demg_age',\n",
    "    'demg_gender', \n",
    "    'demg_race',\n",
    "    'disease_asthma', \n",
    "    'disease_diabetes', \n",
    "    'disease_kidney', \n",
    "    'disease_skin', \n",
    "    'disease_stroke', \n",
    "    'health_bmi', \n",
    "    'health_general', \n",
    "    'health_mental',\n",
    "    'health_mobility', \n",
    "    'health_physical'\n",
    "    ]]\n",
    "\n",
    "# split data test/train/validate\n",
    "X_train, X_test, y_train, y_test = train_test_split(X, \n",
    "                                                    y, \n",
    "                                                    test_size=0.2, \n",
    "                                                    random_state=42)\n",
    "X_train, X_val, y_train, y_val = train_test_split(X_train, \n",
    "                                                            y_train, \n",
    "                                                            test_size = .25, \n",
    "                                                            random_state = 42)\n",
    "\n",
    "# scale X train/test/validate\n",
    "scaler = StandardScaler()\n",
    "X_train_scaled = scaler.fit_transform(X_train)\n",
    "X_test_scaled = scaler.transform(X_test)\n",
    "X_val_scaled = scaler.transform(X_val)\n",
    "X_scaled = scaler.transform(X) \n"
   ]
  },
  {
   "cell_type": "markdown",
   "id": "3822eed6",
   "metadata": {},
   "source": [
    "[back to top](#top)"
   ]
  },
  {
   "cell_type": "markdown",
   "id": "dd1a1148",
   "metadata": {},
   "source": [
    "# 6 | Model Iterations <a id='6'></a> "
   ]
  },
  {
   "cell_type": "markdown",
   "id": "b574c532",
   "metadata": {},
   "source": [
    "### 6.1 Dummy Classifier<a id='61'></a> "
   ]
  },
  {
   "cell_type": "code",
   "execution_count": 10,
   "id": "296b5c0a",
   "metadata": {},
   "outputs": [],
   "source": [
    "clf = DummyClassifier(strategy= 'most_frequent')\n",
    "clf.fit(X_train,y_train)\n",
    "y_pred_clf = clf.predict(X_val)\n"
   ]
  },
  {
   "cell_type": "code",
   "execution_count": 11,
   "id": "0856a7da",
   "metadata": {},
   "outputs": [
    {
     "data": {
      "text/plain": [
       "['Dummy classifier', 'clf', 0.0, 0.5]"
      ]
     },
     "execution_count": 11,
     "metadata": {},
     "output_type": "execute_result"
    }
   ],
   "source": [
    "one = [\"Dummy classifier\", 'clf',\n",
    "         recall_score(y_val, y_pred_clf), \n",
    "         roc_auc_score(y_val, clf.predict_proba(X_val)[:,1])]\n",
    "one"
   ]
  },
  {
   "cell_type": "markdown",
   "id": "b77126ea",
   "metadata": {},
   "source": [
    "#### Dummy classifier performed worse than [baseline](#4).<br/>"
   ]
  },
  {
   "cell_type": "markdown",
   "id": "09011a22",
   "metadata": {},
   "source": [
    "[back to top](#top)"
   ]
  },
  {
   "cell_type": "markdown",
   "id": "c7feeffa",
   "metadata": {},
   "source": [
    "### 6.2 Logistic Regression<a id='62'></a> "
   ]
  },
  {
   "cell_type": "code",
   "execution_count": 12,
   "id": "95db7d9b",
   "metadata": {},
   "outputs": [],
   "source": [
    "log_reg = LogisticRegression()\n",
    "log_reg.fit(X_train_scaled, y_train)\n",
    "y_pred_log_reg = log_reg.predict(X_val_scaled) \n"
   ]
  },
  {
   "cell_type": "code",
   "execution_count": 13,
   "id": "47132cd6",
   "metadata": {},
   "outputs": [
    {
     "data": {
      "text/plain": [
       "['Logistic regression', 'log_reg', 0.0995260663507109, 0.8411422086561615]"
      ]
     },
     "execution_count": 13,
     "metadata": {},
     "output_type": "execute_result"
    }
   ],
   "source": [
    "two = [\"Logistic regression\", 'log_reg',\n",
    "       recall_score(y_val, y_pred_log_reg), \n",
    "       roc_auc_score(y_val, log_reg.predict_proba(X_val_scaled)[:,1])]\n",
    "two"
   ]
  },
  {
   "cell_type": "markdown",
   "id": "9c286909",
   "metadata": {},
   "source": [
    "#### Logistic regression (with all features) performed better than [baseline](#4).<br/>"
   ]
  },
  {
   "cell_type": "code",
   "execution_count": 14,
   "id": "69ac995b",
   "metadata": {},
   "outputs": [
    {
     "data": {
      "text/plain": [
       "array([[57968,   505],\n",
       "       [ 4940,   546]])"
      ]
     },
     "execution_count": 14,
     "metadata": {},
     "output_type": "execute_result"
    }
   ],
   "source": [
    "# confusion matrix for log_reg\n",
    "\n",
    "cm_log_reg = confusion_matrix(y_val, y_pred_log_reg)\n",
    "cm_log_reg\n"
   ]
  },
  {
   "cell_type": "markdown",
   "id": "c39d97de",
   "metadata": {},
   "source": [
    "[back to top](#top)"
   ]
  },
  {
   "cell_type": "markdown",
   "id": "5e80998b",
   "metadata": {},
   "source": [
    "### 6.3 Decision Trees: Depth 2<a id='63'></a> "
   ]
  },
  {
   "cell_type": "code",
   "execution_count": 15,
   "id": "a1ab90c0",
   "metadata": {},
   "outputs": [],
   "source": [
    "dt_2 = DecisionTreeClassifier(max_depth=2,criterion=\"entropy\")\n",
    "dt_2.fit(X_train, y_train)\n",
    "y_pred_dt_2 = dt_2.predict(X_val)\n"
   ]
  },
  {
   "cell_type": "code",
   "execution_count": 16,
   "id": "a0699295",
   "metadata": {},
   "outputs": [
    {
     "data": {
      "text/plain": [
       "['Decision tree (depth=2)', 'dt_2', 0.0, 0.7653574312653932]"
      ]
     },
     "execution_count": 16,
     "metadata": {},
     "output_type": "execute_result"
    }
   ],
   "source": [
    "three = [\"Decision tree (depth=2)\", 'dt_2', \n",
    "       recall_score(y_val, y_pred_dt_2), \n",
    "       roc_auc_score(y_val, dt_2.predict_proba(X_val)[:,1])]\n",
    "three"
   ]
  },
  {
   "cell_type": "code",
   "execution_count": 17,
   "id": "880d4952",
   "metadata": {},
   "outputs": [
    {
     "data": {
      "image/png": "[encoded data removed]",
      "text/plain": [
       "<Figure size 432x288 with 1 Axes>"
      ]
     },
     "metadata": {},
     "output_type": "display_data"
    }
   ],
   "source": [
    "tree.plot_tree(dt_2);"
   ]
  },
  {
   "cell_type": "markdown",
   "id": "c8640a19",
   "metadata": {},
   "source": [
    "### 6.4 Decision Trees: Depth 4<a id='64'></a> "
   ]
  },
  {
   "cell_type": "code",
   "execution_count": 18,
   "id": "ac35669d",
   "metadata": {},
   "outputs": [],
   "source": [
    "dt_4 = DecisionTreeClassifier(max_depth=4,criterion=\"entropy\")\n",
    "dt_4.fit(X_train, y_train)\n",
    "y_pred_dt_4 = dt_4.predict(X_val)\n"
   ]
  },
  {
   "cell_type": "code",
   "execution_count": 19,
   "id": "92801912",
   "metadata": {},
   "outputs": [
    {
     "data": {
      "text/plain": [
       "['Decision tree (depth=4)', 'dt_4', 0.0, 0.8112940974985579]"
      ]
     },
     "execution_count": 19,
     "metadata": {},
     "output_type": "execute_result"
    }
   ],
   "source": [
    "four = [\"Decision tree (depth=4)\", 'dt_4',\n",
    "         recall_score(y_val, y_pred_dt_4),\n",
    "         roc_auc_score(y_val, dt_4.predict_proba(X_val)[:,1])]\n",
    "four"
   ]
  },
  {
   "cell_type": "code",
   "execution_count": 20,
   "id": "8da6d0ce",
   "metadata": {},
   "outputs": [
    {
     "data": {
      "image/png": "[encoded data removed]",
      "text/plain": [
       "<Figure size 432x288 with 1 Axes>"
      ]
     },
     "metadata": {},
     "output_type": "display_data"
    }
   ],
   "source": [
    "tree.plot_tree(dt_4);"
   ]
  },
  {
   "cell_type": "markdown",
   "id": "c8c5e669",
   "metadata": {},
   "source": [
    "#### Decision trees performed worse than [logistic regression](#62). "
   ]
  },
  {
   "cell_type": "markdown",
   "id": "a1d74b96",
   "metadata": {},
   "source": [
    "[back to top](#top)"
   ]
  },
  {
   "cell_type": "markdown",
   "id": "4269a34f",
   "metadata": {},
   "source": [
    "### 6.5 Random Forests <a id='65'></a> "
   ]
  },
  {
   "cell_type": "code",
   "execution_count": 21,
   "id": "2dac965d",
   "metadata": {},
   "outputs": [],
   "source": [
    "forest = RandomForestClassifier().fit(X_train, y_train)\n",
    "y_pred_forest = forest.predict(X_val)\n"
   ]
  },
  {
   "cell_type": "code",
   "execution_count": 22,
   "id": "2f687a47",
   "metadata": {},
   "outputs": [
    {
     "data": {
      "text/plain": [
       "['Random forest', 'forest', 0.11647830842143639, 0.7970890765560125]"
      ]
     },
     "execution_count": 22,
     "metadata": {},
     "output_type": "execute_result"
    }
   ],
   "source": [
    "five = [\"Random forest\", 'forest',\n",
    "        recall_score(y_val, y_pred_forest),\n",
    "        roc_auc_score(y_val, forest.predict_proba(X_val)[:,1])]\n",
    "five"
   ]
  },
  {
   "cell_type": "markdown",
   "id": "3c20d5e5",
   "metadata": {},
   "source": [
    "#### Random forest performed worse than [logistic regression](#62). "
   ]
  },
  {
   "cell_type": "markdown",
   "id": "8d5f2337",
   "metadata": {},
   "source": [
    "[back to top](#top)"
   ]
  },
  {
   "cell_type": "markdown",
   "id": "bdb5d266",
   "metadata": {},
   "source": [
    "### 6.6 Gradient Boosted Trees: xgboost<a id='66'></a> "
   ]
  },
  {
   "cell_type": "code",
   "execution_count": 23,
   "id": "14f4e3c1",
   "metadata": {},
   "outputs": [],
   "source": [
    "# XGBoost\n",
    "\n",
    "gbm = xgb.XGBRegressor( \n",
    "                    n_estimators=30000,\n",
    "                    max_depth=3,\n",
    "                    objective=\"binary:logistic\",\n",
    "                    eval_metric='auc',\n",
    "                    learning_rate=.1,\n",
    "                    subsample=1,\n",
    "                    min_child_weight=1,\n",
    "                    colsample_bytree=.8\n",
    "                    )\n",
    "\n",
    "eval_set=[(X_train, y_train),(X_val,y_val)] \n",
    "\n",
    "gbm_fit = gbm.fit( \n",
    "                    X_train, y_train, \n",
    "                    eval_set=eval_set,\n",
    "#                     eval_metric='auc',\n",
    "                    early_stopping_rounds=20,\n",
    "                    verbose=False \n",
    "                   )"
   ]
  },
  {
   "cell_type": "markdown",
   "id": "f32a8fa2",
   "metadata": {},
   "source": [
    "#### [220]\tvalidation_0-auc: 0.84848\tvalidation_1-auc: 0.84449\n"
   ]
  },
  {
   "cell_type": "code",
   "execution_count": 24,
   "id": "c7c20b91",
   "metadata": {},
   "outputs": [
    {
     "data": {
      "text/plain": [
       "array([0.00727439, 0.02875089, 0.1310833 , ..., 0.00484608, 0.12610735,\n",
       "       0.00575493], dtype=float32)"
      ]
     },
     "execution_count": 24,
     "metadata": {},
     "output_type": "execute_result"
    }
   ],
   "source": [
    "y_pred_gbm = gbm.predict(X_val)\n",
    "y_pred_gbm"
   ]
  },
  {
   "cell_type": "code",
   "execution_count": 25,
   "id": "1e1fe028",
   "metadata": {},
   "outputs": [
    {
     "data": {
      "text/plain": [
       "['XGBoost', 'gbm', 0.08494349252643091, 0.5390770170719649]"
      ]
     },
     "execution_count": 25,
     "metadata": {},
     "output_type": "execute_result"
    }
   ],
   "source": [
    "six = [\"XGBoost\", 'gbm',\n",
    "        recall_score(y_val, np.round(gbm.predict(X_val))), \n",
    "        roc_auc_score(y_val, np.round(gbm.predict(X_val)))]\n",
    "six\n"
   ]
  },
  {
   "cell_type": "markdown",
   "id": "e7d1f0c6",
   "metadata": {},
   "source": [
    "#### XGBoost performed worse than [logistic regression](#62). "
   ]
  },
  {
   "cell_type": "markdown",
   "id": "a30ccd64",
   "metadata": {},
   "source": [
    "[back to top](#top)"
   ]
  },
  {
   "cell_type": "markdown",
   "id": "1402028c",
   "metadata": {},
   "source": [
    "### 6.7. Naive Bayes: Bernoulli<a id='67'></a> "
   ]
  },
  {
   "cell_type": "code",
   "execution_count": 26,
   "id": "356ffcc1",
   "metadata": {},
   "outputs": [],
   "source": [
    "# BernoulliNB() \n",
    "bern = BernoulliNB().fit(X_train, y_train)\n",
    "y_predict_bern = bern.predict(X_val) \n"
   ]
  },
  {
   "cell_type": "code",
   "execution_count": 27,
   "id": "43052ebe",
   "metadata": {},
   "outputs": [
    {
     "data": {
      "text/plain": [
       "['Bernoulli NB', 'bern', 0.22748815165876776, 0.7624059816559161]"
      ]
     },
     "execution_count": 27,
     "metadata": {},
     "output_type": "execute_result"
    }
   ],
   "source": [
    "seven = [\"Bernoulli NB\", 'bern',\n",
    "       recall_score(y_val, y_predict_bern),\n",
    "       roc_auc_score(y_val, bern.predict_proba(X_val)[:,1])]\n",
    "\n",
    "seven"
   ]
  },
  {
   "cell_type": "markdown",
   "id": "87840b31",
   "metadata": {},
   "source": [
    "### 6.8. Naive Bayes: Gaussian<a id='68'></a> "
   ]
  },
  {
   "cell_type": "code",
   "execution_count": 28,
   "id": "3a109b93",
   "metadata": {},
   "outputs": [],
   "source": [
    "gaus = GaussianNB().fit(X_train, y_train)\n",
    "y_pred_gaus = gaus.predict(X_val)\n"
   ]
  },
  {
   "cell_type": "code",
   "execution_count": 29,
   "id": "0234be31",
   "metadata": {},
   "outputs": [
    {
     "data": {
      "text/plain": [
       "['Gaussian NB', 'gaus', 0.47101713452424354, 0.8053429818657589]"
      ]
     },
     "execution_count": 29,
     "metadata": {},
     "output_type": "execute_result"
    }
   ],
   "source": [
    "eight = [\"Gaussian NB\",'gaus',\n",
    "         recall_score(y_val, y_pred_gaus),\n",
    "         roc_auc_score(y_val, gaus.predict_proba(X_val)[:,1])]\n",
    "eight"
   ]
  },
  {
   "cell_type": "markdown",
   "id": "ae83bf64",
   "metadata": {},
   "source": [
    "### 6.9. Naive Bayes: Multinomial<a id='69'></a> "
   ]
  },
  {
   "cell_type": "code",
   "execution_count": 30,
   "id": "c54792ce",
   "metadata": {},
   "outputs": [],
   "source": [
    "multi = MultinomialNB().fit(X_train, y_train)\n",
    "y_pred_multi = multi.predict(X_val)\n"
   ]
  },
  {
   "cell_type": "code",
   "execution_count": 31,
   "id": "f1c4461e",
   "metadata": {},
   "outputs": [
    {
     "data": {
      "text/plain": [
       "['Multinomial NB', 'multi', 0.33594604447685017, 0.7628424887440532]"
      ]
     },
     "execution_count": 31,
     "metadata": {},
     "output_type": "execute_result"
    }
   ],
   "source": [
    "nine = [\"Multinomial NB\", 'multi',\n",
    "        recall_score(y_val, y_pred_multi),\n",
    "        roc_auc_score(y_val, multi.predict_proba(X_val)[:,1])]\n",
    "nine"
   ]
  },
  {
   "cell_type": "markdown",
   "id": "cbac64cf",
   "metadata": {},
   "source": [
    "#### Naive Bayes performed worse than [logistic regression](#62). "
   ]
  },
  {
   "cell_type": "markdown",
   "id": "4a9097e4",
   "metadata": {},
   "source": [
    "[back to top](#top)"
   ]
  },
  {
   "cell_type": "markdown",
   "id": "8b98422c",
   "metadata": {},
   "source": [
    "### 6.10 Ensemble: Naive Bayes Hard Voting Classifier <a id='610'></a> "
   ]
  },
  {
   "cell_type": "code",
   "execution_count": 32,
   "id": "634f2b2d",
   "metadata": {},
   "outputs": [
    {
     "data": {
      "text/plain": [
       "[('bern', BernoulliNB()), ('gaus', GaussianNB()), ('multi', MultinomialNB())]"
      ]
     },
     "execution_count": 32,
     "metadata": {},
     "output_type": "execute_result"
    }
   ],
   "source": [
    "# set up voting classifier ensemble\n",
    "\n",
    "nb_names = ['bern', 'gaus', 'multi']\n",
    "nb_vars = [eval(n) for n in nb_names]\n",
    "\n",
    "nb_list = list(zip(nb_names, nb_vars))\n",
    "nb_list\n"
   ]
  },
  {
   "cell_type": "code",
   "execution_count": 33,
   "id": "61b8431b",
   "metadata": {},
   "outputs": [],
   "source": [
    "vote_hard = VotingClassifier(estimators= nb_list,\n",
    "                             voting='hard',\n",
    "                             n_jobs=-1)\n",
    "vote_hard.fit(X_train, y_train)\n",
    "y_pred_hard = vote_hard.predict(X_val)\n"
   ]
  },
  {
   "cell_type": "code",
   "execution_count": 34,
   "id": "d058128c",
   "metadata": {},
   "outputs": [
    {
     "data": {
      "text/plain": [
       "['Hard NB Voting Classifier',\n",
       " 'vote_hard',\n",
       " 0.34506015311702515,\n",
       " 0.6335377211124092]"
      ]
     },
     "execution_count": 34,
     "metadata": {},
     "output_type": "execute_result"
    }
   ],
   "source": [
    "ten = [\"Hard NB Voting Classifier\", 'vote_hard',\n",
    "       recall_score(y_val, y_pred_hard),\n",
    "       roc_auc_score(y_val, vote_hard.predict(X_val))]\n",
    "ten"
   ]
  },
  {
   "cell_type": "markdown",
   "id": "924e9ede",
   "metadata": {},
   "source": [
    "### 6.11 Ensemble: Naive Bayes Soft Voting Classifier <a id='611'></a> "
   ]
  },
  {
   "cell_type": "code",
   "execution_count": 35,
   "id": "4ed93738",
   "metadata": {},
   "outputs": [],
   "source": [
    "vote_soft = VotingClassifier(estimators= nb_list,\n",
    "                             voting='soft',\n",
    "                             n_jobs=-1)\n",
    "\n",
    "vote_soft.fit(X_train, y_train)\n",
    "y_pred_soft = vote_soft.predict(X_val)\n"
   ]
  },
  {
   "cell_type": "code",
   "execution_count": 36,
   "id": "028aea91",
   "metadata": {},
   "outputs": [
    {
     "data": {
      "text/plain": [
       "['Soft NB Voting Classifier',\n",
       " 'vote_soft',\n",
       " 0.35727305869485965,\n",
       " 0.7759019684959619]"
      ]
     },
     "execution_count": 36,
     "metadata": {},
     "output_type": "execute_result"
    }
   ],
   "source": [
    "eleven = [\"Soft NB Voting Classifier\", 'vote_soft',\n",
    "       recall_score(y_val, y_pred_soft), \n",
    "       roc_auc_score(y_val, vote_soft.predict_proba(X_val)[:,1])]\n",
    "eleven"
   ]
  },
  {
   "cell_type": "markdown",
   "id": "dd581cb2",
   "metadata": {},
   "source": [
    "#### Voting classifier ensemble of Naive Bayes performed worse than [logistic regression](#62). "
   ]
  },
  {
   "cell_type": "markdown",
   "id": "9f8041fb",
   "metadata": {},
   "source": [
    "[back to top](#top)"
   ]
  },
  {
   "cell_type": "markdown",
   "id": "bbd47bab",
   "metadata": {},
   "source": [
    "# ⚠️\n",
    "###  6.12 Ensemble:  Stacking Classifier (non-NBs) <a id='612'></a> "
   ]
  },
  {
   "cell_type": "code",
   "execution_count": 44,
   "id": "ee7ac7f4",
   "metadata": {},
   "outputs": [
    {
     "data": {
      "text/plain": [
       "[('clf', DummyClassifier(strategy='most_frequent')),\n",
       " ('log_reg', LogisticRegression()),\n",
       " ('dt_2', DecisionTreeClassifier(criterion='entropy', max_depth=2)),\n",
       " ('dt_4', DecisionTreeClassifier(criterion='entropy', max_depth=4)),\n",
       " ('forest', RandomForestClassifier()),\n",
       " ('gbm',\n",
       "  XGBRegressor(base_score=0.5, booster='gbtree', callbacks=None,\n",
       "               colsample_bylevel=1, colsample_bynode=1, colsample_bytree=0.8,\n",
       "               early_stopping_rounds=None, enable_categorical=False,\n",
       "               eval_metric='auc', gamma=0, gpu_id=-1, grow_policy='depthwise',\n",
       "               importance_type=None, interaction_constraints='',\n",
       "               learning_rate=0.1, max_bin=256, max_cat_to_onehot=4,\n",
       "               max_delta_step=0, max_depth=3, max_leaves=0, min_child_weight=1,\n",
       "               missing=nan, monotone_constraints='()', n_estimators=30000,\n",
       "               n_jobs=0, num_parallel_tree=1, objective='binary:logistic',\n",
       "               predictor='auto', random_state=0, reg_alpha=0, ...))]"
      ]
     },
     "execution_count": 44,
     "metadata": {},
     "output_type": "execute_result"
    }
   ],
   "source": [
    "model_names = ['clf', 'log_reg', 'dt_2', 'dt_4', 'forest', 'gbm']\n",
    "\n",
    "model_vars = [eval(n) for n in model_names]\n",
    "model_list = list(zip(model_names, model_vars))\n",
    "model_list"
   ]
  },
  {
   "cell_type": "code",
   "execution_count": 45,
   "id": "ae4bf0b3",
   "metadata": {},
   "outputs": [],
   "source": [
    "stacked = StackingClassifier(classifiers= model_list, \n",
    "                             meta_classifier=LogisticRegression(),\n",
    "                             use_probas=False) "
   ]
  },
  {
   "cell_type": "code",
   "execution_count": 47,
   "id": "20ce37c9",
   "metadata": {},
   "outputs": [],
   "source": [
    "# stacked.fit(X_train, y_train)\n",
    "# y_pred_stack = stacked.predict(X_val)\n"
   ]
  },
  {
   "cell_type": "code",
   "execution_count": 37,
   "id": "a399b118",
   "metadata": {},
   "outputs": [
    {
     "data": {
      "text/plain": [
       "['Stacked', 'stacked', 'NaN', 'NaN']"
      ]
     },
     "execution_count": 37,
     "metadata": {},
     "output_type": "execute_result"
    }
   ],
   "source": [
    "twelve = [\"Stacked\", 'stacked',\n",
    "          'NaN',\n",
    "#            'recall_score(y_val, y_pred_stack)',\n",
    "           'NaN',\n",
    "#           roc_auc_score(y_val, stacked.predict_proba(X_val)[:,1])\n",
    "          ]\n",
    "twelve"
   ]
  },
  {
   "cell_type": "markdown",
   "id": "bc7cc4bf",
   "metadata": {},
   "source": [
    "#### Stacking ensemble (excluding Naive Bayes) did not run.  \n"
   ]
  },
  {
   "cell_type": "markdown",
   "id": "5a3545ba",
   "metadata": {},
   "source": [
    "[back to top](#top)"
   ]
  },
  {
   "cell_type": "markdown",
   "id": "0c638f89",
   "metadata": {},
   "source": [
    "## Feature Engineering <a id='fe'></a> "
   ]
  },
  {
   "cell_type": "markdown",
   "id": "a521d88d",
   "metadata": {},
   "source": [
    "### Features: Question groups\n",
    "Groups of similar survey question questions as defined by [data dictionary](https://www.cdc.gov/brfss/annual_data/2020/pdf/codebook20_llcp-v2-508.pdf)."
   ]
  },
  {
   "cell_type": "code",
   "execution_count": 38,
   "id": "6cb50fe6",
   "metadata": {},
   "outputs": [
    {
     "data": {
      "text/plain": [
       "Index(['behavior_activity', 'behavior_alcohol', 'behavior_sleep',\n",
       "       'behavior_tobacco', 'demg_age', 'demg_gender', 'demg_race',\n",
       "       'disease_asthma', 'disease_diabetes', 'disease_kidney', 'disease_skin',\n",
       "       'disease_stroke', 'health_bmi', 'health_general', 'health_mental',\n",
       "       'health_mobility', 'health_physical', 'y_heart_disease', 'behaviors',\n",
       "       'demographics', 'disease', 'measures'],\n",
       "      dtype='object')"
      ]
     },
     "execution_count": 38,
     "metadata": {},
     "output_type": "execute_result"
    }
   ],
   "source": [
    "# 1 behaviors = physical activity days/month + sleep time hrs/day + alcohol + tobacco use\n",
    "heart_disease_df_map['behaviors'] = (\n",
    "    heart_disease_df_map['behavior_activity'] +\n",
    "    heart_disease_df_map['behavior_alcohol'] +  \n",
    "    heart_disease_df_map['behavior_sleep'] +\n",
    "    heart_disease_df_map['behavior_tobacco'])\n",
    "\n",
    "# 2 demographics = age + gender + race\n",
    "heart_disease_df_map['demographics'] = (\n",
    "    heart_disease_df_map['demg_age'] +\n",
    "    heart_disease_df_map['demg_gender'] +  \n",
    "    heart_disease_df_map['demg_race'])\n",
    "\n",
    "# 3 disease = asthma + diabetes + kidney + skin cancer + stroke\n",
    "heart_disease_df_map['disease'] = (\n",
    "    heart_disease_df_map['disease_asthma'] +\n",
    "    heart_disease_df_map['disease_diabetes'] +  \n",
    "    heart_disease_df_map['disease_kidney'] +\n",
    "    heart_disease_df_map['disease_skin'] +\n",
    "    heart_disease_df_map['disease_stroke'])\n",
    "\n",
    "# 4 (health) measures = bmi + general health + mental + mobility + physical\n",
    "heart_disease_df_map['measures'] = (\n",
    "    heart_disease_df_map['health_bmi'] +\n",
    "    heart_disease_df_map['health_general'] +  \n",
    "    heart_disease_df_map['health_mental'] +\n",
    "    heart_disease_df_map['health_mobility'] +\n",
    "    heart_disease_df_map['health_physical'])\n",
    "\n",
    "heart_disease_df_map.columns\n"
   ]
  },
  {
   "cell_type": "markdown",
   "id": "bae7953d",
   "metadata": {},
   "source": [
    "### Features: Risk factors\n",
    "Heart disease risk factors as outlined by [CDC](https://www.cdc.gov/heartdisease/facts.htm). "
   ]
  },
  {
   "cell_type": "code",
   "execution_count": 39,
   "id": "76c09d23",
   "metadata": {},
   "outputs": [
    {
     "data": {
      "text/plain": [
       "Index(['behavior_activity', 'behavior_alcohol', 'behavior_sleep',\n",
       "       'behavior_tobacco', 'demg_age', 'demg_gender', 'demg_race',\n",
       "       'disease_asthma', 'disease_diabetes', 'disease_kidney', 'disease_skin',\n",
       "       'disease_stroke', 'health_bmi', 'health_general', 'health_mental',\n",
       "       'health_mobility', 'health_physical', 'y_heart_disease', 'behaviors',\n",
       "       'demographics', 'disease', 'measures', 'risk_factors'],\n",
       "      dtype='object')"
      ]
     },
     "execution_count": 39,
     "metadata": {},
     "output_type": "execute_result"
    }
   ],
   "source": [
    "# risk factors = diabetes + bmi + physical activity + alcohol\n",
    "heart_disease_df_map['risk_factors'] = (\n",
    "    heart_disease_df_map['disease_diabetes'] +\n",
    "    heart_disease_df_map['health_bmi'] +  \n",
    "    heart_disease_df_map['behavior_activity'] +\n",
    "    heart_disease_df_map['behavior_alcohol'])\n",
    "\n",
    "heart_disease_df_map.columns\n"
   ]
  },
  {
   "cell_type": "code",
   "execution_count": 51,
   "id": "993b1083",
   "metadata": {},
   "outputs": [
    {
     "data": {
      "text/html": [
       "<style type=\"text/css\">\n",
       "#T_c17f1_row0_col0, #T_c17f1_row1_col1, #T_c17f1_row2_col2, #T_c17f1_row3_col3, #T_c17f1_row4_col4, #T_c17f1_row5_col5 {\n",
       "  background-color: #08306b;\n",
       "  color: #f1f1f1;\n",
       "}\n",
       "#T_c17f1_row0_col1, #T_c17f1_row1_col2 {\n",
       "  background-color: #deebf7;\n",
       "  color: #000000;\n",
       "}\n",
       "#T_c17f1_row0_col2 {\n",
       "  background-color: #c3daee;\n",
       "  color: #000000;\n",
       "}\n",
       "#T_c17f1_row0_col3, #T_c17f1_row0_col4, #T_c17f1_row2_col0, #T_c17f1_row5_col3 {\n",
       "  background-color: #cbdef1;\n",
       "  color: #000000;\n",
       "}\n",
       "#T_c17f1_row0_col5, #T_c17f1_row4_col0 {\n",
       "  background-color: #e1edf8;\n",
       "  color: #000000;\n",
       "}\n",
       "#T_c17f1_row1_col0, #T_c17f1_row1_col3, #T_c17f1_row1_col4, #T_c17f1_row1_col5, #T_c17f1_row4_col1, #T_c17f1_row4_col2 {\n",
       "  background-color: #f7fbff;\n",
       "  color: #000000;\n",
       "}\n",
       "#T_c17f1_row2_col1 {\n",
       "  background-color: #cfe1f2;\n",
       "  color: #000000;\n",
       "}\n",
       "#T_c17f1_row2_col3 {\n",
       "  background-color: #c7dcef;\n",
       "  color: #000000;\n",
       "}\n",
       "#T_c17f1_row2_col4 {\n",
       "  background-color: #e6f0f9;\n",
       "  color: #000000;\n",
       "}\n",
       "#T_c17f1_row2_col5, #T_c17f1_row5_col1 {\n",
       "  background-color: #ebf3fb;\n",
       "  color: #000000;\n",
       "}\n",
       "#T_c17f1_row3_col0 {\n",
       "  background-color: #d0e1f2;\n",
       "  color: #000000;\n",
       "}\n",
       "#T_c17f1_row3_col1 {\n",
       "  background-color: #e3eef9;\n",
       "  color: #000000;\n",
       "}\n",
       "#T_c17f1_row3_col2, #T_c17f1_row3_col5 {\n",
       "  background-color: #c4daee;\n",
       "  color: #000000;\n",
       "}\n",
       "#T_c17f1_row3_col4 {\n",
       "  background-color: #b7d4ea;\n",
       "  color: #000000;\n",
       "}\n",
       "#T_c17f1_row4_col3 {\n",
       "  background-color: #ccdff1;\n",
       "  color: #000000;\n",
       "}\n",
       "#T_c17f1_row4_col5 {\n",
       "  background-color: #5da5d1;\n",
       "  color: #f1f1f1;\n",
       "}\n",
       "#T_c17f1_row5_col0 {\n",
       "  background-color: #eef5fc;\n",
       "  color: #000000;\n",
       "}\n",
       "#T_c17f1_row5_col2 {\n",
       "  background-color: #f1f7fd;\n",
       "  color: #000000;\n",
       "}\n",
       "#T_c17f1_row5_col4 {\n",
       "  background-color: #539ecd;\n",
       "  color: #f1f1f1;\n",
       "}\n",
       "</style>\n",
       "<table id=\"T_c17f1\">\n",
       "  <thead>\n",
       "    <tr>\n",
       "      <th class=\"blank level0\" >&nbsp;</th>\n",
       "      <th id=\"T_c17f1_level0_col0\" class=\"col_heading level0 col0\" >y_heart_disease</th>\n",
       "      <th id=\"T_c17f1_level0_col1\" class=\"col_heading level0 col1\" >behaviors</th>\n",
       "      <th id=\"T_c17f1_level0_col2\" class=\"col_heading level0 col2\" >demographics</th>\n",
       "      <th id=\"T_c17f1_level0_col3\" class=\"col_heading level0 col3\" >disease</th>\n",
       "      <th id=\"T_c17f1_level0_col4\" class=\"col_heading level0 col4\" >measures</th>\n",
       "      <th id=\"T_c17f1_level0_col5\" class=\"col_heading level0 col5\" >risk_factors</th>\n",
       "    </tr>\n",
       "  </thead>\n",
       "  <tbody>\n",
       "    <tr>\n",
       "      <th id=\"T_c17f1_level0_row0\" class=\"row_heading level0 row0\" >y_heart_disease</th>\n",
       "      <td id=\"T_c17f1_row0_col0\" class=\"data row0 col0\" >1.000000</td>\n",
       "      <td id=\"T_c17f1_row0_col1\" class=\"data row0 col1\" >0.009616</td>\n",
       "      <td id=\"T_c17f1_row0_col2\" class=\"data row0 col2\" >0.233874</td>\n",
       "      <td id=\"T_c17f1_row0_col3\" class=\"data row0 col3\" >0.210036</td>\n",
       "      <td id=\"T_c17f1_row0_col4\" class=\"data row0 col4\" >0.119176</td>\n",
       "      <td id=\"T_c17f1_row0_col5\" class=\"data row0 col5\" >0.053805</td>\n",
       "    </tr>\n",
       "    <tr>\n",
       "      <th id=\"T_c17f1_level0_row1\" class=\"row_heading level0 row1\" >behaviors</th>\n",
       "      <td id=\"T_c17f1_row1_col0\" class=\"data row1 col0\" >0.009616</td>\n",
       "      <td id=\"T_c17f1_row1_col1\" class=\"data row1 col1\" >1.000000</td>\n",
       "      <td id=\"T_c17f1_row1_col2\" class=\"data row1 col2\" >0.097460</td>\n",
       "      <td id=\"T_c17f1_row1_col3\" class=\"data row1 col3\" >-0.021126</td>\n",
       "      <td id=\"T_c17f1_row1_col4\" class=\"data row1 col4\" >-0.133773</td>\n",
       "      <td id=\"T_c17f1_row1_col5\" class=\"data row1 col5\" >-0.064085</td>\n",
       "    </tr>\n",
       "    <tr>\n",
       "      <th id=\"T_c17f1_level0_row2\" class=\"row_heading level0 row2\" >demographics</th>\n",
       "      <td id=\"T_c17f1_row2_col0\" class=\"data row2 col0\" >0.233874</td>\n",
       "      <td id=\"T_c17f1_row2_col1\" class=\"data row2 col1\" >0.097460</td>\n",
       "      <td id=\"T_c17f1_row2_col2\" class=\"data row2 col2\" >1.000000</td>\n",
       "      <td id=\"T_c17f1_row2_col3\" class=\"data row2 col3\" >0.230155</td>\n",
       "      <td id=\"T_c17f1_row2_col4\" class=\"data row2 col4\" >-0.035811</td>\n",
       "      <td id=\"T_c17f1_row2_col5\" class=\"data row2 col5\" >-0.000299</td>\n",
       "    </tr>\n",
       "    <tr>\n",
       "      <th id=\"T_c17f1_level0_row3\" class=\"row_heading level0 row3\" >disease</th>\n",
       "      <td id=\"T_c17f1_row3_col0\" class=\"data row3 col0\" >0.210036</td>\n",
       "      <td id=\"T_c17f1_row3_col1\" class=\"data row3 col1\" >-0.021126</td>\n",
       "      <td id=\"T_c17f1_row3_col2\" class=\"data row3 col2\" >0.230155</td>\n",
       "      <td id=\"T_c17f1_row3_col3\" class=\"data row3 col3\" >1.000000</td>\n",
       "      <td id=\"T_c17f1_row3_col4\" class=\"data row3 col4\" >0.205334</td>\n",
       "      <td id=\"T_c17f1_row3_col5\" class=\"data row3 col5\" >0.207090</td>\n",
       "    </tr>\n",
       "    <tr>\n",
       "      <th id=\"T_c17f1_level0_row4\" class=\"row_heading level0 row4\" >measures</th>\n",
       "      <td id=\"T_c17f1_row4_col0\" class=\"data row4 col0\" >0.119176</td>\n",
       "      <td id=\"T_c17f1_row4_col1\" class=\"data row4 col1\" >-0.133773</td>\n",
       "      <td id=\"T_c17f1_row4_col2\" class=\"data row4 col2\" >-0.035811</td>\n",
       "      <td id=\"T_c17f1_row4_col3\" class=\"data row4 col3\" >0.205334</td>\n",
       "      <td id=\"T_c17f1_row4_col4\" class=\"data row4 col4\" >1.000000</td>\n",
       "      <td id=\"T_c17f1_row4_col5\" class=\"data row4 col5\" >0.513235</td>\n",
       "    </tr>\n",
       "    <tr>\n",
       "      <th id=\"T_c17f1_level0_row5\" class=\"row_heading level0 row5\" >risk_factors</th>\n",
       "      <td id=\"T_c17f1_row5_col0\" class=\"data row5 col0\" >0.053805</td>\n",
       "      <td id=\"T_c17f1_row5_col1\" class=\"data row5 col1\" >-0.064085</td>\n",
       "      <td id=\"T_c17f1_row5_col2\" class=\"data row5 col2\" >-0.000299</td>\n",
       "      <td id=\"T_c17f1_row5_col3\" class=\"data row5 col3\" >0.207090</td>\n",
       "      <td id=\"T_c17f1_row5_col4\" class=\"data row5 col4\" >0.513235</td>\n",
       "      <td id=\"T_c17f1_row5_col5\" class=\"data row5 col5\" >1.000000</td>\n",
       "    </tr>\n",
       "  </tbody>\n",
       "</table>\n"
      ],
      "text/plain": [
       "<pandas.io.formats.style.Styler at 0x7f90d976a850>"
      ]
     },
     "execution_count": 51,
     "metadata": {},
     "output_type": "execute_result"
    }
   ],
   "source": [
    "# correlation matrix subset\n",
    "heart_disease_df_map[['y_heart_disease', \n",
    "                      'behaviors', \n",
    "                      'demographics',\n",
    "                      'disease', \n",
    "                      'measures', \n",
    "                      'risk_factors']].corr().style.background_gradient(cmap='Blues')\n"
   ]
  },
  {
   "cell_type": "markdown",
   "id": "75a6e8da",
   "metadata": {},
   "source": [
    "### 6.13 Logistic regression: question groups<a id='613'></a> "
   ]
  },
  {
   "cell_type": "code",
   "execution_count": 40,
   "id": "04afa725",
   "metadata": {},
   "outputs": [],
   "source": [
    "# separate target from question groups features: y/X_grp\n",
    "y_grp = heart_disease_df_map['y_heart_disease'] \n",
    "X_grp = heart_disease_df_map.loc[:, ['behaviors', \n",
    "                                   'demographics', \n",
    "                                   'disease', \n",
    "                                   'measures']]\n",
    "\n",
    "# split data test/train/validate\n",
    "X_train_grp, X_test_grp, y_train_grp, y_test_grp = train_test_split(X_grp, \n",
    "                                                    y_grp, \n",
    "                                                    test_size=0.2, \n",
    "                                                    random_state=42)\n",
    "\n",
    "X_train_grp, X_val_grp, y_train_grp, y_val_grp = train_test_split(X_train_grp, \n",
    "                                                                    y_train_grp, \n",
    "                                                                    test_size = .25, \n",
    "                                                                    random_state = 42)\n",
    "# scale X train/test/validate\n",
    "scaler = StandardScaler()\n",
    "X_train_grp_scaled = scaler.fit_transform(X_train_grp)\n",
    "X_test_grp_scaled = scaler.transform(X_test_grp)\n",
    "X_val_grp_scaled = scaler.transform(X_val_grp)\n"
   ]
  },
  {
   "cell_type": "code",
   "execution_count": 41,
   "id": "b7509ac3",
   "metadata": {},
   "outputs": [],
   "source": [
    "# LR question groups features\n",
    "log_reg_grp = LogisticRegression()\n",
    "log_reg_grp.fit(X_train_grp_scaled, y_train_grp)\n",
    "y_pred_grp = log_reg_grp.predict(X_val_grp_scaled) \n"
   ]
  },
  {
   "cell_type": "code",
   "execution_count": 42,
   "id": "9504e5a0",
   "metadata": {},
   "outputs": [
    {
     "data": {
      "text/plain": [
       "['Logistic regression group features',\n",
       " 'log_reg_grp',\n",
       " 0.024425811155668976,\n",
       " 0.7971619825669125]"
      ]
     },
     "execution_count": 42,
     "metadata": {},
     "output_type": "execute_result"
    }
   ],
   "source": [
    "thirteen = [\"Logistic regression group features\", 'log_reg_grp',\n",
    "           recall_score(y_val_grp, y_pred_grp), \n",
    "           roc_auc_score(y_val_grp, log_reg_grp.predict_proba(X_val_grp_scaled)[:,1])]\n",
    "thirteen"
   ]
  },
  {
   "cell_type": "markdown",
   "id": "b9c53e76",
   "metadata": {},
   "source": [
    "[back to top](#top)"
   ]
  },
  {
   "cell_type": "markdown",
   "id": "ed2b5bd6",
   "metadata": {},
   "source": [
    "### 6.14 Logistic regression: risk factors<a id='614'></a> "
   ]
  },
  {
   "cell_type": "code",
   "execution_count": 43,
   "id": "5e35285e",
   "metadata": {},
   "outputs": [],
   "source": [
    "# separate target from engineered features: y/X_risk\n",
    "y_risk = heart_disease_df_map['y_heart_disease'] \n",
    "X_risk = heart_disease_df_map.loc[:, ['disease_diabetes',\n",
    "                                    'health_bmi',\n",
    "                                    'behavior_activity', \n",
    "                                   'behavior_alcohol']]\n",
    "\n",
    "# split data test/train/validate\n",
    "X_train_risk, X_test_risk, y_train_risk, y_test_risk = train_test_split(X_risk, \n",
    "                                                    y_risk, \n",
    "                                                    test_size=0.2, \n",
    "                                                    random_state=42)\n",
    "\n",
    "X_train_risk, X_val_risk, y_train_risk, y_val_risk = train_test_split(X_train_risk, \n",
    "                                                                        y_train_risk, \n",
    "                                                                        test_size = .25, \n",
    "                                                                        random_state = 42)\n",
    "# scale X train/test/validate\n",
    "scaler = StandardScaler()\n",
    "X_train_risk_scaled = scaler.fit_transform(X_train_risk)\n",
    "X_test_risk_scaled = scaler.transform(X_test_risk)\n",
    "X_val_risk_scaled = scaler.transform(X_val_risk)\n"
   ]
  },
  {
   "cell_type": "code",
   "execution_count": 44,
   "id": "ec53f6a3",
   "metadata": {},
   "outputs": [],
   "source": [
    "# LR risk factor features\n",
    "log_reg_risk = LogisticRegression()\n",
    "log_reg_risk.fit(X_train_risk_scaled, y_train_risk)\n",
    "y_pred_risk = log_reg_risk.predict(X_val_risk_scaled) \n"
   ]
  },
  {
   "cell_type": "code",
   "execution_count": 45,
   "id": "76bf03b2",
   "metadata": {},
   "outputs": [
    {
     "data": {
      "text/plain": [
       "['Logistic regression risk factor features',\n",
       " 'log_reg_risk',\n",
       " 0.0,\n",
       " 0.6459868877415583]"
      ]
     },
     "execution_count": 45,
     "metadata": {},
     "output_type": "execute_result"
    }
   ],
   "source": [
    "fourteen = [\"Logistic regression risk factor features\", 'log_reg_risk',\n",
    "            recall_score(y_val_risk, y_pred_risk), \n",
    "            roc_auc_score(y_val_risk, log_reg_risk.predict_proba(X_val_risk_scaled)[:,1])]\n",
    "fourteen"
   ]
  },
  {
   "cell_type": "markdown",
   "id": "047a4cdc",
   "metadata": {},
   "source": [
    "[back to top](#top)"
   ]
  },
  {
   "cell_type": "markdown",
   "id": "bf977e38",
   "metadata": {},
   "source": [
    "### 6.15 Logistic regression: question groups + risk factor features<a id='615'></a> "
   ]
  },
  {
   "cell_type": "code",
   "execution_count": 46,
   "id": "529ed6c8",
   "metadata": {},
   "outputs": [],
   "source": [
    "# separate target from question groups + risk factor features: y/X_grp_risk\n",
    "y_grp_risk = heart_disease_df_map['y_heart_disease'] \n",
    "X_grp_risk = heart_disease_df_map.loc[:, [\n",
    "    'behaviors', \n",
    "    'demographics', \n",
    "    'disease', \n",
    "    'measures',\n",
    "    'behavior_activity',\n",
    "    'behavior_alcohol',\n",
    "    'disease_diabetes',\n",
    "    'health_bmi'\n",
    "    ]]\n",
    "\n",
    "# split data test/train/validate\n",
    "X_train_grp_risk, X_test_grp_risk, y_train_grp_risk, y_test_grp_risk = train_test_split(X_grp_risk, \n",
    "                                                    y_grp_risk, \n",
    "                                                    test_size=0.2, \n",
    "                                                    random_state=42)\n",
    "X_train_grp_risk, X_val_grp_risk, y_train_grp_risk, y_val_grp_risk = train_test_split(X_train_grp_risk, \n",
    "                                                                            y_train_grp_risk, \n",
    "                                                                            test_size = .25, \n",
    "                                                                            random_state = 42)\n",
    "\n",
    "# Scale X train/test/validate\n",
    "scaler = StandardScaler()\n",
    "X_train_grp_risk_scaled = scaler.fit_transform(X_train_grp_risk)\n",
    "X_test_grp_risk_scaled = scaler.transform(X_test_grp_risk)\n",
    "X_val_grp_risk_scaled = scaler.transform(X_val_grp_risk)\n"
   ]
  },
  {
   "cell_type": "code",
   "execution_count": 47,
   "id": "a8d86fd5",
   "metadata": {},
   "outputs": [],
   "source": [
    "# LR question groups + risk factor features\n",
    "log_reg_grp_risk = LogisticRegression()\n",
    "log_reg_grp_risk.fit(X_train_grp_risk_scaled, y_train_grp_risk)\n",
    "y_pred_grp_risk = log_reg_grp_risk.predict(X_val_grp_risk_scaled) \n"
   ]
  },
  {
   "cell_type": "code",
   "execution_count": 48,
   "id": "3235f20e",
   "metadata": {},
   "outputs": [
    {
     "data": {
      "text/plain": [
       "['Logistic regression question groups + risk factor features',\n",
       " 'log_reg_grp_risk',\n",
       " 0.032081662413415965,\n",
       " 0.7997790502397076]"
      ]
     },
     "execution_count": 48,
     "metadata": {},
     "output_type": "execute_result"
    }
   ],
   "source": [
    "fifteen = [\"Logistic regression question groups + risk factor features\", 'log_reg_grp_risk',\n",
    "            recall_score(y_val_grp_risk, y_pred_grp_risk), \n",
    "            roc_auc_score(y_val_grp_risk, log_reg_grp_risk.predict_proba(X_val_grp_risk_scaled)[:,1])]\n",
    "fifteen"
   ]
  },
  {
   "cell_type": "markdown",
   "id": "8760b990",
   "metadata": {},
   "source": [
    "#### Models with feature engineering performed worse than [logistic regression](#62). "
   ]
  },
  {
   "cell_type": "markdown",
   "id": "affaacbb",
   "metadata": {},
   "source": [
    "[back to top](#top)"
   ]
  },
  {
   "cell_type": "markdown",
   "id": "2236494a",
   "metadata": {},
   "source": [
    "## Class Imblance Handling <a id='cih'></a> "
   ]
  },
  {
   "cell_type": "code",
   "execution_count": 49,
   "id": "2b424511",
   "metadata": {},
   "outputs": [
    {
     "data": {
      "text/plain": [
       "0    292422\n",
       "1     27373\n",
       "Name: y_heart_disease, dtype: int64"
      ]
     },
     "execution_count": 49,
     "metadata": {},
     "output_type": "execute_result"
    }
   ],
   "source": [
    "# target imbalance\n",
    "heart_disease_df_map.y_heart_disease.value_counts()"
   ]
  },
  {
   "cell_type": "code",
   "execution_count": 50,
   "id": "a18293b5",
   "metadata": {},
   "outputs": [
    {
     "data": {
      "image/png": "[encoded data removed]",
      "text/plain": [
       "<Figure size 432x288 with 1 Axes>"
      ]
     },
     "metadata": {},
     "output_type": "display_data"
    }
   ],
   "source": [
    "# precision and recall curves for X/y_val\n",
    "y_pred = log_reg.predict(X_val_scaled) \n",
    "\n",
    "precision_curve, recall_curve, threshold_curve = precision_recall_curve(\n",
    "    y_val, log_reg.predict_proba(X_val_scaled)[:,1] )\n",
    "\n",
    "# f, ax = plt.subplots(figsize=(10, 6))\n",
    "plt.plot(threshold_curve, precision_curve[1:],label='precision')\n",
    "plt.plot(threshold_curve, recall_curve[1:], label='recall')\n",
    "plt.legend(loc='center')\n",
    "plt.xlabel('Threshold');\n",
    "plt.title('Precision and Recall Curves (X_val, y_val)')\n",
    "plt.savefig(\"precision-recall-curves.jpeg\");"
   ]
  },
  {
   "cell_type": "markdown",
   "id": "121d1503",
   "metadata": {},
   "source": [
    "### 6.16 Logistic regression: threshold = 0.05<a id='616'></a> \n"
   ]
  },
  {
   "cell_type": "code",
   "execution_count": 51,
   "id": "07e8f96c",
   "metadata": {},
   "outputs": [
    {
     "data": {
      "text/plain": [
       "{'Model': 'Logistic regression threshold = 0.05',\n",
       " 'Variable': 'log_reg',\n",
       " 'Recall': 0.8993802406124681,\n",
       " 'ROC AUC': 0.8411422086561615}"
      ]
     },
     "execution_count": 51,
     "metadata": {},
     "output_type": "execute_result"
    }
   ],
   "source": [
    "# decision threshold = 0.05 based on precision and recall curves\n",
    "y_predict = (log_reg.predict_proba(X_val_scaled)[:,1] > 0.05)\n",
    "\n",
    "# sixteen = [\"Logistic regression threshold = 0.05\", 'log_reg',\n",
    "#             recall_score(y_val, y_predict), \n",
    "#             roc_auc_score(y_val, log_reg.predict_proba(X_val_scaled)[:,1])]\n",
    "# sixteen\n",
    "\n",
    "\n",
    "\n",
    "sixteen = {\n",
    "    'Model': 'Logistic regression threshold = 0.05', \n",
    "    'Variable': 'log_reg', \n",
    "    'Recall': recall_score(y_val, y_predict) ,\n",
    "    'ROC AUC': roc_auc_score(y_val, log_reg.predict_proba(X_val_scaled)[:,1])}\n",
    "sixteen"
   ]
  },
  {
   "cell_type": "markdown",
   "id": "1ce9c736",
   "metadata": {},
   "source": [
    "#### Model with lower decision threshold performed as well as  [logistic regression](#62)."
   ]
  },
  {
   "cell_type": "markdown",
   "id": "713e8c49",
   "metadata": {},
   "source": [
    "[back to top](#top)"
   ]
  },
  {
   "cell_type": "markdown",
   "id": "397a59ae",
   "metadata": {},
   "source": [
    "## Model Tuning: GridSearchCV <a id='gscv'></a> "
   ]
  },
  {
   "cell_type": "markdown",
   "id": "2cce3925",
   "metadata": {},
   "source": [
    "### Best Performing Model <a id='bpm'></a> "
   ]
  },
  {
   "cell_type": "code",
   "execution_count": 64,
   "id": "a2148098",
   "metadata": {},
   "outputs": [
    {
     "data": {
      "text/html": [
       "<div>\n",
       "<style scoped>\n",
       "    .dataframe tbody tr th:only-of-type {\n",
       "        vertical-align: middle;\n",
       "    }\n",
       "\n",
       "    .dataframe tbody tr th {\n",
       "        vertical-align: top;\n",
       "    }\n",
       "\n",
       "    .dataframe thead th {\n",
       "        text-align: right;\n",
       "    }\n",
       "</style>\n",
       "<table border=\"1\" class=\"dataframe\">\n",
       "  <thead>\n",
       "    <tr style=\"text-align: right;\">\n",
       "      <th></th>\n",
       "      <th>Model</th>\n",
       "      <th>Variable</th>\n",
       "      <th>Recall</th>\n",
       "      <th>ROC AUC</th>\n",
       "    </tr>\n",
       "  </thead>\n",
       "  <tbody>\n",
       "    <tr>\n",
       "      <th>0</th>\n",
       "      <td>Baseline logistic regression</td>\n",
       "      <td>log_reg_base</td>\n",
       "      <td>0.021327</td>\n",
       "      <td>0.785826</td>\n",
       "    </tr>\n",
       "    <tr>\n",
       "      <th>1</th>\n",
       "      <td>Dummy classifier</td>\n",
       "      <td>clf</td>\n",
       "      <td>0.0</td>\n",
       "      <td>0.5</td>\n",
       "    </tr>\n",
       "    <tr>\n",
       "      <th>2</th>\n",
       "      <td>Logistic regression</td>\n",
       "      <td>log_reg</td>\n",
       "      <td>0.099526</td>\n",
       "      <td>0.841142</td>\n",
       "    </tr>\n",
       "    <tr>\n",
       "      <th>3</th>\n",
       "      <td>Decision tree (depth=2)</td>\n",
       "      <td>dt_2</td>\n",
       "      <td>0.0</td>\n",
       "      <td>0.765357</td>\n",
       "    </tr>\n",
       "    <tr>\n",
       "      <th>4</th>\n",
       "      <td>Decision tree (depth=4)</td>\n",
       "      <td>dt_4</td>\n",
       "      <td>0.0</td>\n",
       "      <td>0.811294</td>\n",
       "    </tr>\n",
       "    <tr>\n",
       "      <th>5</th>\n",
       "      <td>Random forest</td>\n",
       "      <td>forest</td>\n",
       "      <td>0.11739</td>\n",
       "      <td>0.797064</td>\n",
       "    </tr>\n",
       "    <tr>\n",
       "      <th>6</th>\n",
       "      <td>XGBoost</td>\n",
       "      <td>gbm</td>\n",
       "      <td>0.084943</td>\n",
       "      <td>0.539077</td>\n",
       "    </tr>\n",
       "    <tr>\n",
       "      <th>7</th>\n",
       "      <td>Bernoulli NB</td>\n",
       "      <td>bern</td>\n",
       "      <td>0.227488</td>\n",
       "      <td>0.762406</td>\n",
       "    </tr>\n",
       "    <tr>\n",
       "      <th>8</th>\n",
       "      <td>Gaussian NB</td>\n",
       "      <td>gaus</td>\n",
       "      <td>0.471017</td>\n",
       "      <td>0.805343</td>\n",
       "    </tr>\n",
       "    <tr>\n",
       "      <th>9</th>\n",
       "      <td>Multinomial NB</td>\n",
       "      <td>multi</td>\n",
       "      <td>0.335946</td>\n",
       "      <td>0.762842</td>\n",
       "    </tr>\n",
       "    <tr>\n",
       "      <th>10</th>\n",
       "      <td>Hard NB Voting Classifier</td>\n",
       "      <td>vote_hard</td>\n",
       "      <td>0.34506</td>\n",
       "      <td>0.633538</td>\n",
       "    </tr>\n",
       "    <tr>\n",
       "      <th>11</th>\n",
       "      <td>Soft NB Voting Classifier</td>\n",
       "      <td>vote_soft</td>\n",
       "      <td>0.357273</td>\n",
       "      <td>0.775902</td>\n",
       "    </tr>\n",
       "    <tr>\n",
       "      <th>12</th>\n",
       "      <td>Stacked</td>\n",
       "      <td>stacked</td>\n",
       "      <td>NaN</td>\n",
       "      <td>NaN</td>\n",
       "    </tr>\n",
       "    <tr>\n",
       "      <th>13</th>\n",
       "      <td>Logistic regression group features</td>\n",
       "      <td>log_reg_grp</td>\n",
       "      <td>0.024426</td>\n",
       "      <td>0.797162</td>\n",
       "    </tr>\n",
       "    <tr>\n",
       "      <th>14</th>\n",
       "      <td>Logistic regression risk factor features</td>\n",
       "      <td>log_reg_risk</td>\n",
       "      <td>0.0</td>\n",
       "      <td>0.645987</td>\n",
       "    </tr>\n",
       "    <tr>\n",
       "      <th>15</th>\n",
       "      <td>Logistic regression question groups + risk fac...</td>\n",
       "      <td>log_reg_grp_risk</td>\n",
       "      <td>0.032082</td>\n",
       "      <td>0.799779</td>\n",
       "    </tr>\n",
       "    <tr>\n",
       "      <th>16</th>\n",
       "      <td>Logistic regression threshold = 0.05</td>\n",
       "      <td>log_reg</td>\n",
       "      <td>0.89938</td>\n",
       "      <td>0.841142</td>\n",
       "    </tr>\n",
       "  </tbody>\n",
       "</table>\n",
       "</div>"
      ],
      "text/plain": [
       "                                                Model          Variable  \\\n",
       "0                        Baseline logistic regression      log_reg_base   \n",
       "1                                    Dummy classifier               clf   \n",
       "2                                 Logistic regression           log_reg   \n",
       "3                             Decision tree (depth=2)              dt_2   \n",
       "4                             Decision tree (depth=4)              dt_4   \n",
       "5                                       Random forest            forest   \n",
       "6                                             XGBoost               gbm   \n",
       "7                                        Bernoulli NB              bern   \n",
       "8                                         Gaussian NB              gaus   \n",
       "9                                      Multinomial NB             multi   \n",
       "10                          Hard NB Voting Classifier         vote_hard   \n",
       "11                          Soft NB Voting Classifier         vote_soft   \n",
       "12                                            Stacked           stacked   \n",
       "13                 Logistic regression group features       log_reg_grp   \n",
       "14           Logistic regression risk factor features      log_reg_risk   \n",
       "15  Logistic regression question groups + risk fac...  log_reg_grp_risk   \n",
       "16               Logistic regression threshold = 0.05           log_reg   \n",
       "\n",
       "      Recall   ROC AUC  \n",
       "0   0.021327  0.785826  \n",
       "1        0.0       0.5  \n",
       "2   0.099526  0.841142  \n",
       "3        0.0  0.765357  \n",
       "4        0.0  0.811294  \n",
       "5    0.11739  0.797064  \n",
       "6   0.084943  0.539077  \n",
       "7   0.227488  0.762406  \n",
       "8   0.471017  0.805343  \n",
       "9   0.335946  0.762842  \n",
       "10   0.34506  0.633538  \n",
       "11  0.357273  0.775902  \n",
       "12       NaN       NaN  \n",
       "13  0.024426  0.797162  \n",
       "14       0.0  0.645987  \n",
       "15  0.032082  0.799779  \n",
       "16   0.89938  0.841142  "
      ]
     },
     "execution_count": 64,
     "metadata": {},
     "output_type": "execute_result"
    }
   ],
   "source": [
    "# df to summarize 17 model performance\n",
    "\n",
    "models = zero, one, two, three, four, five, six, seven, eight, nine, ten, eleven, twelve, thirteen, fourteen, fifteen, sixteen\n",
    "model_eval = pd.DataFrame(data = models, columns = ['Model', \n",
    "                                                    'Variable', \n",
    "                                                    'Recall', \n",
    "                                                    'ROC AUC'])\n",
    "model_eval"
   ]
  },
  {
   "cell_type": "markdown",
   "id": "eba41ba6",
   "metadata": {},
   "source": [
    "#### [Logistic regression](#62) performs best on recall and ROC AUC. "
   ]
  },
  {
   "cell_type": "markdown",
   "id": "4de0161a",
   "metadata": {},
   "source": [
    "[back to top](#top)"
   ]
  },
  {
   "cell_type": "markdown",
   "id": "398548f8",
   "metadata": {},
   "source": [
    "### 6.17 Logistic regression: GridSearchCV<a id='617'></a> "
   ]
  },
  {
   "cell_type": "code",
   "execution_count": null,
   "id": "ca1784fe",
   "metadata": {},
   "outputs": [],
   "source": [
    "# find best C params and penalty type\n",
    "grid={\"C\": np.logspace(-3,3,7), \"penalty\":[\"l1\",\"l2\"]}# L1 lasso, L2 ridge\n",
    "logreg = LogisticRegression()\n",
    "logregcv = GridSearchCV(logreg, grid, cv=10)\n",
    "logregcv.fit(X_train,y_train)\n",
    "\n",
    "print(\"Tuned Hpyerparameters :(best parameters) \", logregcv.best_params_)\n",
    "print(\"Accuracy :\", logregcv.best_score_)"
   ]
  },
  {
   "cell_type": "code",
   "execution_count": null,
   "id": "c9f0d796",
   "metadata": {},
   "outputs": [],
   "source": [
    "# score model on X_val with best GridSearchCV params and threshold = default\n",
    "log_reg_gridcv = LogisticRegression(C=0.01, penalty=\"l2\")\n",
    "log_reg_gridcv.fit(X_train_scaled, y_train)\n",
    "\n",
    "y_pred_log_reg_gridcv = log_reg.predict(X_val_scaled)\n"
   ]
  },
  {
   "cell_type": "code",
   "execution_count": null,
   "id": "b4de7e96",
   "metadata": {},
   "outputs": [],
   "source": [
    "seventeen = {\n",
    "    'Model': 'Log reg GridSearchCV + threshold = default', \n",
    "    'Variable': 'log_reg_gridcv', \n",
    "    'Recall': recall_score(y_val, y_pred_log_reg_gridcv) ,\n",
    "    'ROC AUC': roc_auc_score(y_val, log_reg_gridcv.predict_proba(X_val_scaled)[:,1])\n",
    "}\n",
    "seventeen"
   ]
  },
  {
   "cell_type": "code",
   "execution_count": null,
   "id": "26f4a54c",
   "metadata": {},
   "outputs": [],
   "source": [
    "model_eval = model_eval.append(seventeen, ignore_index = True)"
   ]
  },
  {
   "cell_type": "markdown",
   "id": "ce94d38e",
   "metadata": {},
   "source": [
    "### 6.18 Logistic regression: GridSearchCV + threshold = 0.05<a id='618'></a> "
   ]
  },
  {
   "cell_type": "code",
   "execution_count": null,
   "id": "11f2e2bd",
   "metadata": {},
   "outputs": [],
   "source": [
    "# score model on X_val with best GridSearchCV params and threshold = 0.05\n",
    "log_reg_gridcv_2 = LogisticRegression(C=0.01, penalty=\"l2\")\n",
    "log_reg_gridcv_2.fit(X_train_scaled, y_train)\n",
    "y_pred_log_reg_gridcv_2 = (log_reg_gridcv_2.predict_proba(X_val_scaled)[:,1] > 0.05)\n"
   ]
  },
  {
   "cell_type": "code",
   "execution_count": null,
   "id": "16e6e4f8",
   "metadata": {},
   "outputs": [],
   "source": [
    "# add model to model_eval df\n",
    "eighteen = {\n",
    "    'Model': 'Log reg GridSearchCV + threshold =0.05', \n",
    "    'Variable': 'log_reg_gridcv_2', \n",
    "    'Recall': recall_score(y_val, y_pred_log_reg_gridcv_2) ,\n",
    "    'ROC AUC': roc_auc_score(y_val, log_reg_gridcv_2.predict_proba(X_val_scaled)[:,1])\n",
    "}\n",
    "\n",
    "eighteen"
   ]
  },
  {
   "cell_type": "code",
   "execution_count": null,
   "id": "ebc5a602",
   "metadata": {},
   "outputs": [],
   "source": [
    "model_eval = model_eval.append(eighteen, ignore_index = True)"
   ]
  },
  {
   "cell_type": "markdown",
   "id": "7c11276b",
   "metadata": {},
   "source": [
    "#### [Logistic regression GridSearchCV](#616) performs slightly better than [logistic regression](#62). "
   ]
  },
  {
   "cell_type": "markdown",
   "id": "747841ab",
   "metadata": {},
   "source": [
    "[back to top](#top)"
   ]
  },
  {
   "cell_type": "markdown",
   "id": "c4ed3627",
   "metadata": {},
   "source": [
    "# 7 | Model: Predicting Heart Disease  <a id='7'></a> "
   ]
  },
  {
   "cell_type": "markdown",
   "id": "a8af3efb",
   "metadata": {},
   "source": [
    "#### Model winner: `log_reg_gridcv`"
   ]
  },
  {
   "cell_type": "code",
   "execution_count": null,
   "id": "0fdb7f3d",
   "metadata": {},
   "outputs": [],
   "source": [
    "model_eval"
   ]
  },
  {
   "cell_type": "code",
   "execution_count": null,
   "id": "5d78cf53",
   "metadata": {},
   "outputs": [],
   "source": [
    "model_eval.drop([0,12], inplace=True)\n",
    "model_eval.sort_values(by=['Recall', 'ROC AUC'], ascending=False).head(5)"
   ]
  },
  {
   "cell_type": "markdown",
   "id": "3518e741",
   "metadata": {},
   "source": [
    "### 7.1 Test Model<a id='71'></a> "
   ]
  },
  {
   "cell_type": "code",
   "execution_count": null,
   "id": "27291af5",
   "metadata": {},
   "outputs": [],
   "source": [
    "final_model = LogisticRegression(C=0.01, penalty=\"l2\")\n",
    "final_model.fit(X_test, y_test)\n",
    "y_pred = final_model.predict(X_test)\n",
    " \n",
    "\n",
    "final_model_score = {\n",
    "    'Model': 'Final model on test data', \n",
    "    'Variable': 'final_model', \n",
    "    'Recall': recall_score(y_test, y_pred) ,\n",
    "    'ROC AUC': roc_auc_score(y_test, final_model.predict_proba(X_test)[:,1])\n",
    "}\n",
    "final_model_score"
   ]
  },
  {
   "cell_type": "markdown",
   "id": "ac3b2c89",
   "metadata": {},
   "source": [
    "[back to top](#top)"
   ]
  },
  {
   "cell_type": "markdown",
   "id": "60194de4",
   "metadata": {},
   "source": [
    "### 7.2 Confusion Matrix<a id='72'></a> "
   ]
  },
  {
   "cell_type": "code",
   "execution_count": null,
   "id": "2e4f1d49",
   "metadata": {},
   "outputs": [],
   "source": [
    "y_pred_t = (final_model.predict_proba(X_test)[:,1] > 0.05)\n",
    "\n",
    "cm = confusion_matrix(y_test, y_pred_t)\n",
    "cm"
   ]
  },
  {
   "cell_type": "code",
   "execution_count": null,
   "id": "7d7363ba",
   "metadata": {},
   "outputs": [],
   "source": [
    "plt.rcParams['figure.dpi'] = 600\n",
    "plt.rcParams['savefig.dpi'] = 600\n",
    "\n",
    "\n",
    "ax = sns.heatmap(cm/np.sum(cm),fmt='.2%', annot=True, cmap='Reds')\n",
    "\n",
    "ax.xaxis.set_ticklabels(['Healthy','Heart Disease'])\n",
    "ax.yaxis.set_ticklabels(['Healthy','Heart Disease'])\n",
    "\n",
    "plt.title('Confusion Matrix' '\\n' 'threshold = 0.05 (X_test, y_test)')\n",
    "ax.set_xlabel('Predicted')\n",
    "ax.set_ylabel('Actual ')\n",
    "\n",
    "plt.savefig(\"confusion-matrix.jpeg\");\n"
   ]
  },
  {
   "cell_type": "code",
   "execution_count": null,
   "id": "134fe81c",
   "metadata": {},
   "outputs": [],
   "source": [
    "# classification report \n",
    "print(classification_report(y_test, \n",
    "                            final_model.predict(X_test_scaled), \n",
    "                            target_names=['no heart disease', 'yes heart disease']))\n",
    "\n"
   ]
  },
  {
   "cell_type": "markdown",
   "id": "c5455051",
   "metadata": {},
   "source": [
    "[back to top](#top)"
   ]
  },
  {
   "cell_type": "markdown",
   "id": "26d557ca",
   "metadata": {},
   "source": [
    "### 7.3 ROC AUC<a id='73'></a> "
   ]
  },
  {
   "cell_type": "code",
   "execution_count": null,
   "id": "670f6dd4",
   "metadata": {},
   "outputs": [],
   "source": [
    "probs = final_model.predict_proba(X)\n",
    "preds = probs[:,1]\n",
    "fpr, tpr, threshold = roc_curve(y, preds)\n",
    "roc_auc = auc(fpr, tpr)\n",
    "\n",
    "plt.plot(fpr, tpr, 'b', label = 'AUC = %0.2f' % roc_auc)\n",
    "\n",
    "plt.plot([0, 1], [0, 1],'r--')\n",
    "plt.xlim([0, 1])\n",
    "plt.ylim([0, 1])\n",
    "\n",
    "plt.title('ROC AUC Curve (X, y)')\n",
    "plt.legend(loc = 'lower right')\n",
    "plt.ylabel('True Positive Rate')\n",
    "plt.xlabel('False Positive Rate')\n",
    "\n",
    "plt.savefig(\"roc-auc-curve.jpeg\");"
   ]
  },
  {
   "cell_type": "markdown",
   "id": "9d6159ee",
   "metadata": {},
   "source": [
    "[back to top](#top)"
   ]
  },
  {
   "cell_type": "markdown",
   "id": "ffca8222",
   "metadata": {},
   "source": [
    "### 7.4 Feature Importance<a id='74'></a> "
   ]
  },
  {
   "cell_type": "code",
   "execution_count": null,
   "id": "74008910",
   "metadata": {},
   "outputs": [],
   "source": [
    "imp_feat = pd.DataFrame()\n",
    "feat = list(X)\n",
    "imp = final_model.coef_[0]\n",
    "imp_feat['Feature'] = feat\n",
    "imp_feat['Importance'] = imp\n",
    "imp_feat.sort_values(by=['Importance'], ascending=False, inplace=True)\n"
   ]
  },
  {
   "cell_type": "code",
   "execution_count": null,
   "id": "d3096fb3",
   "metadata": {},
   "outputs": [],
   "source": [
    "# visualize feature importance\n",
    "plt.rcParams['figure.dpi'] = 600\n",
    "plt.rcParams['savefig.dpi'] = 600\n",
    "\n",
    "f, ax = plt.subplots(figsize=(12, 6))\n",
    "\n",
    "\n",
    "sns.barplot(x='Importance', y='Feature', data=imp_feat, color='red');\n",
    "plt.title('Feature Importance')\n",
    "\n",
    "plt.savefig(\"feature-importance.jpeg\");\n"
   ]
  },
  {
   "cell_type": "markdown",
   "id": "3005e33a",
   "metadata": {},
   "source": [
    "[back to top](#top)"
   ]
  },
  {
   "cell_type": "markdown",
   "id": "5c6b507e",
   "metadata": {},
   "source": [
    "### 7.5 Predictions<a id='75'></a> "
   ]
  },
  {
   "cell_type": "code",
   "execution_count": null,
   "id": "fad5a047",
   "metadata": {},
   "outputs": [],
   "source": [
    "# refit model to make predictions\n",
    "heart_disease_model = LogisticRegression(C=0.01, penalty=\"l2\")\n",
    "heart_disease_model.fit(X_scaled, y)\n",
    "y_pred = heart_disease_model.predict(X_scaled) \n",
    "# y_pred = (final_model.predict_proba(X_test)[:,1] > 0.05)\n",
    "\n",
    "heart_disease_model"
   ]
  },
  {
   "cell_type": "markdown",
   "id": "086d624e",
   "metadata": {},
   "source": [
    "Value references in [data dictionary](#1a) and [MVP transformations](https://github.com/slp22/classification-project/blob/main/classification-heart-disease_mvp.ipynb). \n",
    "\n",
    "\n",
    "Top 4 important features: age, gender, stroke, tobacco, kidney"
   ]
  },
  {
   "cell_type": "code",
   "execution_count": null,
   "id": "c181c5f8",
   "metadata": {},
   "outputs": [],
   "source": [
    "# 1: middle aged, man, smoker, no chronic disease\n",
    "\n",
    "X_p1 = [[60,  #'demg_age'     middle aged\n",
    "         2,  #'demg_gender'   male\n",
    "         0, #'disease_stroke'\n",
    "         1, #'behavior_tobacco' smoker\n",
    "         0, #'disease_kidney'\n",
    "         \n",
    "         # rest of features will remain constant\n",
    "         1, #'behavior_activity' works out regularly\n",
    "         0, #'behavior_alcohol' not heavy drinker\n",
    "         7, #'behavior_sleep'  7 hrs sleep/night avg\n",
    "         6,  #'demg_race'     white\n",
    "         0, #'disease_asthma'  \n",
    "         0, #'disease_diabetes'\n",
    "         0, #'disease_skin'\n",
    "         24, #'health_bmi'   normal bmi \n",
    "         3, #'health_general' health is good \n",
    "         2, #'health_mental' most days of month mental health is good\n",
    "         0, #'health_mobility' no mobility issues\n",
    "         2 #'health_physical most days of month physical health is good\n",
    "         ]]\n",
    "\n",
    "y_pred_p1 = heart_disease_model.predict(X_p1) \n",
    "y_pred_p_p1 = heart_disease_model.predict_proba(X_p1) \n",
    "print('Patient #1: middle aged, man, smoker, no chronic disease')\n",
    "print('Yes/No heart disease:', y_pred_p1)\n",
    "print('Probability of heart disease:', y_pred_p_p1)\n"
   ]
  },
  {
   "cell_type": "code",
   "execution_count": null,
   "id": "5ddcfb81",
   "metadata": {},
   "outputs": [],
   "source": [
    "# 2: senior, female, stroke, smoker, kidney disease\n",
    "\n",
    "X_p2 = [[80,  #'demg_age'     senior\n",
    "         1,  #'demg_gender'   female\n",
    "         1, #'disease_stroke' stroke\n",
    "         1, #'behavior_tobacco' smoker\n",
    "         1, #'disease_kidney'    kidney disease\n",
    "\n",
    "         # rest of features will remain constant\n",
    "         1, #'behavior_activity' works out regularly\n",
    "         0, #'behavior_alcohol' not heavy drinker\n",
    "         7, #'behavior_sleep'  7 hrs sleep/night avg\n",
    "         6,  #'demg_race'     white\n",
    "         0, #'disease_asthma'  \n",
    "         0, #'disease_diabetes'\n",
    "         0, #'disease_skin'\n",
    "         24, #'health_bmi'   normal bmi \n",
    "         3, #'health_general' health is good \n",
    "         2, #'health_mental' most days of month mental health is good\n",
    "         0, #'health_mobility' no mobility issues\n",
    "         2 #'health_physical most days of month physical health is good\n",
    "         ]]\n",
    "\n",
    "y_pred_p2 = heart_disease_model.predict(X_p2) \n",
    "y_pred_p_p2 = heart_disease_model.predict_proba(X_p2) \n",
    "print('Patient # 2: senior, female, stroke, smoker, kidney disease')\n",
    "print('Yes/No heart disease:', y_pred_p2)\n",
    "print('Probability of heart disease:', y_pred_p_p2)\n"
   ]
  },
  {
   "cell_type": "code",
   "execution_count": null,
   "id": "e1cc2489",
   "metadata": {},
   "outputs": [],
   "source": [
    "# 3: senior, man, not smoker, kidney disease\n",
    "\n",
    "X_p3 = [[85,  #'demg_age'     senior\n",
    "         1,  #'demg_gender'   male\n",
    "         0, #'behavior_tobacco' not smoker\n",
    "         0, #'disease_stroke' stroke\n",
    "         1, #'disease_kidney' kidney disease\n",
    "\n",
    "         # rest of features will remain constant\n",
    "         1, #'behavior_activity' works out regularly\n",
    "         0, #'behavior_alcohol' not heavy drinker\n",
    "         7, #'behavior_sleep'  7 hrs sleep/night avg\n",
    "         6,  #'demg_race'     white\n",
    "         0, #'disease_asthma'  \n",
    "         0, #'disease_diabetes'\n",
    "         0, #'disease_skin'\n",
    "         24, #'health_bmi'   normal bmi \n",
    "         3, #'health_general' health is good \n",
    "         2, #'health_mental' most days of month mental health is good\n",
    "         0, #'health_mobility' no mobility issues\n",
    "         2 #'health_physical most days of month physical health is good\n",
    "         ]]\n",
    "\n",
    "y_pred_p3 = heart_disease_model.predict(X_p3) \n",
    "y_pred_p_p3 = heart_disease_model.predict_proba(X_p3) \n",
    "print('Patient #3: senior, man, not smoker, kidney disease')\n",
    "print('Yes/No heart disease:', y_pred_p3)\n",
    "print('Probability of heart disease:', y_pred_p_p3)\n"
   ]
  },
  {
   "cell_type": "markdown",
   "id": "7454c591",
   "metadata": {},
   "source": [
    "[back to top](#top)"
   ]
  },
  {
   "cell_type": "code",
   "execution_count": null,
   "id": "45b62817",
   "metadata": {},
   "outputs": [],
   "source": []
  },
  {
   "cell_type": "code",
   "execution_count": null,
   "id": "33f5d0d9",
   "metadata": {},
   "outputs": [],
   "source": []
  }
 ],
 "metadata": {
  "kernelspec": {
   "display_name": "Python 3 (unsupervised)",
   "language": "python",
   "name": "unsupervised"
  },
  "language_info": {
   "codemirror_mode": {
    "name": "ipython",
    "version": 3
   },
   "file_extension": ".py",
   "mimetype": "text/x-python",
   "name": "python",
   "nbconvert_exporter": "python",
   "pygments_lexer": "ipython3",
   "version": "3.8.12"
  },
  "widgets": {
   "application/vnd.jupyter.widget-state+json": {
    "state": {},
    "version_major": 2,
    "version_minor": 0
   }
  }
 },
 "nbformat": 4,
 "nbformat_minor": 5
}
