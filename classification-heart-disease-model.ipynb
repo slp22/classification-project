{
 "cells": [
  {
   "cell_type": "markdown",
   "id": "69987c01",
   "metadata": {},
   "source": [
    "#### Classification | Model\n",
    "\n",
    "# Predicting Heart Disease  "
   ]
  },
  {
   "cell_type": "markdown",
   "id": "1f7f9750",
   "metadata": {},
   "source": [
    "## Classification Model Stepwise Analysis <a id='top'></a> \n",
    "\n",
    "1. [Research Question](#1)<br/>\n",
    "2. [DataFrames](#2) <br/>\n",
    "3. [Exporatory Data Analysis](#3)<br/>\n",
    "4. [Baselining](#4)<br/>\n",
    "5. [Validation and Testing](#5)<br/>\n",
    "6. [Model Iterations](#6) <br/>\n",
    "7. [Model Selection ](#7)<br/>\n",
    "\n"
   ]
  },
  {
   "cell_type": "code",
   "execution_count": 89,
   "id": "8c2b0a5d",
   "metadata": {},
   "outputs": [],
   "source": [
    "import pandas as pd\n",
    "import numpy as np\n",
    "import imblearn.over_sampling\n",
    "import matplotlib.pyplot as plt\n",
    "import seaborn as sns\n",
    "import plotly.express as px\n",
    "import plotly.graph_objects as go\n",
    "\n",
    "plt.style.use('ggplot')\n",
    "%matplotlib inline\n",
    "np.set_printoptions(suppress=True) # Suppress scientific notation where possible\n",
    "\n",
    "from ipywidgets import interactive, FloatSlider\n",
    "from plotly.subplots import make_subplots\n",
    "from sklearn.compose import make_column_transformer\n",
    "from sklearn.ensemble import AdaBoostRegressor, RandomForestClassifier\n",
    "from sklearn.linear_model import LinearRegression ,LogisticRegression\n",
    "from sklearn.metrics import *\n",
    "from sklearn.model_selection import GridSearchCV, train_test_split\n",
    "from sklearn.naive_bayes import BernoulliNB, MultinomialNB, GaussianNB\n",
    "from sklearn.neighbors import KNeighborsClassifier\n",
    "from sklearn.preprocessing import LabelEncoder, StandardScaler, OrdinalEncoder\n",
    "from sklearn.svm import SVC ,SVR\n",
    "from sklearn.tree import DecisionTreeClassifier\n",
    "from sklearn.utils import shuffle\n",
    "from xgboost import XGBClassifier\n",
    "\n",
    "\n"
   ]
  },
  {
   "cell_type": "markdown",
   "id": "daa472b2",
   "metadata": {},
   "source": [
    "## 1 | Research Design<a id='1'></a> \n",
    "\n",
    "* **Reserach Question:** How might we predict which patients are at high risk of heart disease?\n",
    "* **Impact Hypothesis:** Reduce the number of patients who develop heart disease (arterial plaque or heart attack).\n",
    "* **Data source:** [Personal Key Indicators of Heart Disease](https://www.kaggle.com/datasets/kamilpytlak/personal-key-indicators-of-heart-disease), n=319,795\n",
    "* **Error metric:** Recall"
   ]
  },
  {
   "cell_type": "markdown",
   "id": "c9df4888",
   "metadata": {},
   "source": [
    "### [Data Dictionary](https://www.cdc.gov/brfss/annual_data/2020/pdf/codebook20_llcp-v2-508.pdf)<br/>\n",
    "_Target_\n",
    "- `y_heart_disease`: Y/N | coronary heart disease (CHD) or myocardial infarction (MI)\n",
    "\n",
    "_Health Behaviors_\n",
    "- `behavior_activity`: Num (0-30) | # days did physical activity/ exercise other than regular job\n",
    "- `behavior_alcohol`: Y/N | heavy drinker, defined as men: 14+/wk, women: 7+/wk (includes beer, wine, malt beverage, liquor)\n",
    "- `behavior_sleep`: Num (0-24) | # hours of sleep in a 24-hour period, on average\n",
    "- `behavior_tobacco`: Y/N | smoked at least 100 cigarettes in your life\n",
    "\n",
    "_Demographics_\n",
    "- `demg_age`: 18-24, 25-29, 30-34, 35-39, 40-44, 45-49, 50-54, 55-59, 60-64, 65-69, 70-74, 75-79, 80+\n",
    "- `demg_gender`: male/female\n",
    "- `demg_race`: White, Black, Asian, American Indian/Alaskan Native, Hispanic, Other race\n",
    "\n",
    "_Health Measures_\n",
    "- `health_bmi`: Num | Body Mass Index (BMI)\n",
    "- `health_physical`: Num (0-30) | # days physical health  not good, includes physical illness and injury\n",
    "- `health_mental`: Num (0-30 ) | # days mental health not good, includes stress, depression, and problems with emotions\n",
    "- `health_general`: Excellent, Very Good, Fair, Poor | Would you say that in general your health is...\n",
    "- `health_mobility`: Y/N | serious difficulty walking or climbing stairs\n",
    "\n",
    "_Chronic Disease_\n",
    "- `disease_asthma`: Y/N\n",
    "- `disease_diabetes`: Y/N/Y pregnancy/N borderline\n",
    "- `disease_kidney`: Y/N | kidney disease, excludes kidney stones, bladder infection or incontinence\n",
    "- `disease_skin`: Y/N | skin cancer\n",
    "- `disease_stroke`: Y/N"
   ]
  },
  {
   "cell_type": "markdown",
   "id": "35969908",
   "metadata": {},
   "source": [
    "## 2 | [DataFrames](https://github.com/slp22/classification-project/blob/main/classification-heart-disease_mvp.ipynb)<a id='2'></a>  \n"
   ]
  },
  {
   "cell_type": "code",
   "execution_count": null,
   "id": "74246ed2",
   "metadata": {},
   "outputs": [],
   "source": [
    "# Load cleaned and transformed dataframes from mvp \n",
    "heart_disease_df = pd.read_csv('heart_disease_df.csv') # Cleaned df\n",
    "heart_disease_df_map = pd.read_csv('heart_disease_df_map.csv') # Mapped variables df\n",
    "\n"
   ]
  },
  {
   "cell_type": "code",
   "execution_count": 199,
   "id": "2e6760b5",
   "metadata": {},
   "outputs": [
    {
     "data": {
      "text/html": [
       "<div>\n",
       "<style scoped>\n",
       "    .dataframe tbody tr th:only-of-type {\n",
       "        vertical-align: middle;\n",
       "    }\n",
       "\n",
       "    .dataframe tbody tr th {\n",
       "        vertical-align: top;\n",
       "    }\n",
       "\n",
       "    .dataframe thead th {\n",
       "        text-align: right;\n",
       "    }\n",
       "</style>\n",
       "<table border=\"1\" class=\"dataframe\">\n",
       "  <thead>\n",
       "    <tr style=\"text-align: right;\">\n",
       "      <th></th>\n",
       "      <th>behavior_activity</th>\n",
       "      <th>behavior_alcohol</th>\n",
       "      <th>behavior_sleep</th>\n",
       "      <th>behavior_tobacco</th>\n",
       "      <th>demg_age</th>\n",
       "      <th>demg_gender</th>\n",
       "      <th>demg_race</th>\n",
       "      <th>disease_asthma</th>\n",
       "      <th>disease_diabetes</th>\n",
       "      <th>disease_kidney</th>\n",
       "      <th>disease_skin</th>\n",
       "      <th>disease_stroke</th>\n",
       "      <th>health_bmi</th>\n",
       "      <th>health_general</th>\n",
       "      <th>health_mental</th>\n",
       "      <th>health_mobility</th>\n",
       "      <th>health_physical</th>\n",
       "      <th>y_heart_disease</th>\n",
       "    </tr>\n",
       "  </thead>\n",
       "  <tbody>\n",
       "    <tr>\n",
       "      <th>0</th>\n",
       "      <td>Yes</td>\n",
       "      <td>No</td>\n",
       "      <td>5.0</td>\n",
       "      <td>Yes</td>\n",
       "      <td>55-59</td>\n",
       "      <td>Female</td>\n",
       "      <td>White</td>\n",
       "      <td>Yes</td>\n",
       "      <td>Yes</td>\n",
       "      <td>No</td>\n",
       "      <td>Yes</td>\n",
       "      <td>No</td>\n",
       "      <td>16.60</td>\n",
       "      <td>Very good</td>\n",
       "      <td>30.0</td>\n",
       "      <td>No</td>\n",
       "      <td>3.0</td>\n",
       "      <td>No</td>\n",
       "    </tr>\n",
       "    <tr>\n",
       "      <th>1</th>\n",
       "      <td>Yes</td>\n",
       "      <td>No</td>\n",
       "      <td>7.0</td>\n",
       "      <td>No</td>\n",
       "      <td>80 or older</td>\n",
       "      <td>Female</td>\n",
       "      <td>White</td>\n",
       "      <td>No</td>\n",
       "      <td>No</td>\n",
       "      <td>No</td>\n",
       "      <td>No</td>\n",
       "      <td>Yes</td>\n",
       "      <td>20.34</td>\n",
       "      <td>Very good</td>\n",
       "      <td>0.0</td>\n",
       "      <td>No</td>\n",
       "      <td>0.0</td>\n",
       "      <td>No</td>\n",
       "    </tr>\n",
       "    <tr>\n",
       "      <th>2</th>\n",
       "      <td>Yes</td>\n",
       "      <td>No</td>\n",
       "      <td>8.0</td>\n",
       "      <td>Yes</td>\n",
       "      <td>65-69</td>\n",
       "      <td>Male</td>\n",
       "      <td>White</td>\n",
       "      <td>Yes</td>\n",
       "      <td>Yes</td>\n",
       "      <td>No</td>\n",
       "      <td>No</td>\n",
       "      <td>No</td>\n",
       "      <td>26.58</td>\n",
       "      <td>Fair</td>\n",
       "      <td>30.0</td>\n",
       "      <td>No</td>\n",
       "      <td>20.0</td>\n",
       "      <td>No</td>\n",
       "    </tr>\n",
       "  </tbody>\n",
       "</table>\n",
       "</div>"
      ],
      "text/plain": [
       "  behavior_activity behavior_alcohol  behavior_sleep behavior_tobacco  \\\n",
       "0               Yes               No             5.0              Yes   \n",
       "1               Yes               No             7.0               No   \n",
       "2               Yes               No             8.0              Yes   \n",
       "\n",
       "      demg_age demg_gender demg_race disease_asthma disease_diabetes  \\\n",
       "0        55-59      Female     White            Yes              Yes   \n",
       "1  80 or older      Female     White             No               No   \n",
       "2        65-69        Male     White            Yes              Yes   \n",
       "\n",
       "  disease_kidney disease_skin disease_stroke  health_bmi health_general  \\\n",
       "0             No          Yes             No       16.60      Very good   \n",
       "1             No           No            Yes       20.34      Very good   \n",
       "2             No           No             No       26.58           Fair   \n",
       "\n",
       "   health_mental health_mobility  health_physical y_heart_disease  \n",
       "0           30.0              No              3.0              No  \n",
       "1            0.0              No              0.0              No  \n",
       "2           30.0              No             20.0              No  "
      ]
     },
     "execution_count": 199,
     "metadata": {},
     "output_type": "execute_result"
    }
   ],
   "source": [
    "# Clean df\n",
    "heart_disease_df.head(3)"
   ]
  },
  {
   "cell_type": "code",
   "execution_count": 54,
   "id": "65900860",
   "metadata": {},
   "outputs": [
    {
     "data": {
      "text/html": [
       "<div>\n",
       "<style scoped>\n",
       "    .dataframe tbody tr th:only-of-type {\n",
       "        vertical-align: middle;\n",
       "    }\n",
       "\n",
       "    .dataframe tbody tr th {\n",
       "        vertical-align: top;\n",
       "    }\n",
       "\n",
       "    .dataframe thead th {\n",
       "        text-align: right;\n",
       "    }\n",
       "</style>\n",
       "<table border=\"1\" class=\"dataframe\">\n",
       "  <thead>\n",
       "    <tr style=\"text-align: right;\">\n",
       "      <th></th>\n",
       "      <th>behavior_activity</th>\n",
       "      <th>behavior_alcohol</th>\n",
       "      <th>behavior_sleep</th>\n",
       "      <th>behavior_tobacco</th>\n",
       "      <th>demg_age</th>\n",
       "      <th>demg_gender</th>\n",
       "      <th>demg_race</th>\n",
       "      <th>disease_asthma</th>\n",
       "      <th>disease_diabetes</th>\n",
       "      <th>disease_kidney</th>\n",
       "      <th>disease_skin</th>\n",
       "      <th>disease_stroke</th>\n",
       "      <th>health_bmi</th>\n",
       "      <th>health_general</th>\n",
       "      <th>health_mental</th>\n",
       "      <th>health_mobility</th>\n",
       "      <th>health_physical</th>\n",
       "      <th>y_heart_disease</th>\n",
       "    </tr>\n",
       "  </thead>\n",
       "  <tbody>\n",
       "    <tr>\n",
       "      <th>0</th>\n",
       "      <td>1</td>\n",
       "      <td>0</td>\n",
       "      <td>5.0</td>\n",
       "      <td>1</td>\n",
       "      <td>55</td>\n",
       "      <td>1</td>\n",
       "      <td>6</td>\n",
       "      <td>1</td>\n",
       "      <td>1</td>\n",
       "      <td>0</td>\n",
       "      <td>1</td>\n",
       "      <td>0</td>\n",
       "      <td>16.60</td>\n",
       "      <td>4</td>\n",
       "      <td>30.0</td>\n",
       "      <td>0</td>\n",
       "      <td>3.0</td>\n",
       "      <td>0</td>\n",
       "    </tr>\n",
       "    <tr>\n",
       "      <th>1</th>\n",
       "      <td>1</td>\n",
       "      <td>0</td>\n",
       "      <td>7.0</td>\n",
       "      <td>0</td>\n",
       "      <td>80</td>\n",
       "      <td>1</td>\n",
       "      <td>6</td>\n",
       "      <td>0</td>\n",
       "      <td>0</td>\n",
       "      <td>0</td>\n",
       "      <td>0</td>\n",
       "      <td>1</td>\n",
       "      <td>20.34</td>\n",
       "      <td>4</td>\n",
       "      <td>0.0</td>\n",
       "      <td>0</td>\n",
       "      <td>0.0</td>\n",
       "      <td>0</td>\n",
       "    </tr>\n",
       "    <tr>\n",
       "      <th>2</th>\n",
       "      <td>1</td>\n",
       "      <td>0</td>\n",
       "      <td>8.0</td>\n",
       "      <td>1</td>\n",
       "      <td>65</td>\n",
       "      <td>2</td>\n",
       "      <td>6</td>\n",
       "      <td>1</td>\n",
       "      <td>1</td>\n",
       "      <td>0</td>\n",
       "      <td>0</td>\n",
       "      <td>0</td>\n",
       "      <td>26.58</td>\n",
       "      <td>2</td>\n",
       "      <td>30.0</td>\n",
       "      <td>0</td>\n",
       "      <td>20.0</td>\n",
       "      <td>0</td>\n",
       "    </tr>\n",
       "  </tbody>\n",
       "</table>\n",
       "</div>"
      ],
      "text/plain": [
       "   behavior_activity  behavior_alcohol  behavior_sleep  behavior_tobacco  \\\n",
       "0                  1                 0             5.0                 1   \n",
       "1                  1                 0             7.0                 0   \n",
       "2                  1                 0             8.0                 1   \n",
       "\n",
       "   demg_age  demg_gender  demg_race  disease_asthma  disease_diabetes  \\\n",
       "0        55            1          6               1                 1   \n",
       "1        80            1          6               0                 0   \n",
       "2        65            2          6               1                 1   \n",
       "\n",
       "   disease_kidney  disease_skin  disease_stroke  health_bmi  health_general  \\\n",
       "0               0             1               0       16.60               4   \n",
       "1               0             0               1       20.34               4   \n",
       "2               0             0               0       26.58               2   \n",
       "\n",
       "   health_mental  health_mobility  health_physical  y_heart_disease  \n",
       "0           30.0                0              3.0                0  \n",
       "1            0.0                0              0.0                0  \n",
       "2           30.0                0             20.0                0  "
      ]
     },
     "execution_count": 54,
     "metadata": {},
     "output_type": "execute_result"
    }
   ],
   "source": [
    "# Mapped df\n",
    "heart_disease_df_map.head(3)"
   ]
  },
  {
   "cell_type": "markdown",
   "id": "c6983cdb",
   "metadata": {},
   "source": [
    "## 3 | Exporatory Data Analysis<a id='3'></a> "
   ]
  },
  {
   "cell_type": "markdown",
   "id": "7e006366",
   "metadata": {},
   "source": [
    "**3a. Look at, summarize, and clean the data.**"
   ]
  },
  {
   "cell_type": "code",
   "execution_count": null,
   "id": "38ab2dde",
   "metadata": {},
   "outputs": [],
   "source": [
    "heart_disease_df_map.info()"
   ]
  },
  {
   "cell_type": "markdown",
   "id": "d2ab8451",
   "metadata": {},
   "source": [
    "**3b. Scope out classification viability.** \n",
    "- Look at key statistics and visualizations related to classification - \n",
    "    - correlation matrix, \n",
    "    - target distribution (how imbalanced are the classes you're predicting?), \n",
    "    - target vs. feature plots (e.g. seaborn pairplot with the target value passed as a hue, see logistic regression notebook for a good example). \n",
    "- Get some initial expectations for model performance and identify features that intuitively, visually, and based on their per-class distributions (e.g. box plots by target class) are likely to work well."
   ]
  },
  {
   "cell_type": "code",
   "execution_count": null,
   "id": "24db01b9",
   "metadata": {},
   "outputs": [],
   "source": [
    "# Basic statistics\n",
    "heart_disease_df_map.describe()[1:][['health_bmi',\n",
    "                                 'health_physical',\n",
    "                                 'health_mental', \n",
    "                                 'behavior_sleep'\n",
    "                                ]].T.style.background_gradient(cmap='Blues')\n"
   ]
  },
  {
   "cell_type": "markdown",
   "id": "81bb0dab",
   "metadata": {},
   "source": [
    "[back to top](#top)"
   ]
  },
  {
   "cell_type": "code",
   "execution_count": null,
   "id": "565a4c08",
   "metadata": {},
   "outputs": [],
   "source": [
    "# Correlation matrix \n",
    "sns.pairplot(heart_disease_df_map, hue='y_heart_disease');\n"
   ]
  },
  {
   "cell_type": "markdown",
   "id": "807c6433",
   "metadata": {},
   "source": [
    "- Get some initial expectations for model performance and identify features that intuitively, visually, and based on their per-class distributions (e.g. box plots by target class) are likely to work well."
   ]
  },
  {
   "cell_type": "code",
   "execution_count": 202,
   "id": "10903369",
   "metadata": {},
   "outputs": [
    {
     "data": {
      "image/png": "[encoded data removed]",
      "text/plain": [
       "<Figure size 432x288 with 1 Axes>"
      ]
     },
     "metadata": {
      "needs_background": "light"
     },
     "output_type": "display_data"
    }
   ],
   "source": [
    "sns.boxplot(x='y_heart_disease', y='health_bmi', data=heart_disease_df_map);"
   ]
  },
  {
   "cell_type": "code",
   "execution_count": 203,
   "id": "09bd2de8",
   "metadata": {},
   "outputs": [
    {
     "data": {
      "image/png": "[encoded data removed]",
      "text/plain": [
       "<Figure size 432x288 with 1 Axes>"
      ]
     },
     "metadata": {
      "needs_background": "light"
     },
     "output_type": "display_data"
    }
   ],
   "source": [
    "sns.boxplot(x='y_heart_disease', y='health_physical', data=heart_disease_df_map);"
   ]
  },
  {
   "cell_type": "code",
   "execution_count": 62,
   "id": "3aa45525",
   "metadata": {},
   "outputs": [
    {
     "name": "stdout",
     "output_type": "stream",
     "text": [
      "\n",
      "Data in heart_disease_df:\n",
      "No     292422\n",
      "Yes     27373\n",
      "Name: y_heart_disease, dtype: int64\n",
      "Yes/No Ratio: 9.36 %\n"
     ]
    }
   ],
   "source": [
    "# Target distribution\n",
    "\n",
    "print('\\nData in heart_disease_df:')\n",
    "print(heart_disease_df['y_heart_disease'].value_counts())\n",
    "print('Yes/No Ratio:', round(27373/292422, 4) * 100, '%')"
   ]
  },
  {
   "cell_type": "code",
   "execution_count": null,
   "id": "b6f6b9fd",
   "metadata": {},
   "outputs": [],
   "source": [
    "# Target vs. feature plots \n",
    "# sns pairplot with the target value passed as a hue, see logistic regression notebook \n",
    "\n"
   ]
  },
  {
   "cell_type": "markdown",
   "id": "abfd865e",
   "metadata": {},
   "source": [
    "**Determine the most relevant classification metric(s):** \n",
    "- Given the model's use case and the distribution of the target, what metrics are most relevant for this problem? \n",
    "- It's critical to establish this before modeling so that you can properly decide how well a model is actually working. \n",
    "- Is the class distribution balanced and accuracy is a meaningful metric? Do you need to have good recall and precision for the positive class (use F1)? \n",
    "- Is recall more important than precision (use F_beta with beta > 1, care about recall beta times more than precision)? \n",
    "- Is it a probability ranking problem (use ROC AUC)? Think carefully about cost-benefit analysis from the use case perspective to decide on the right metric(s)."
   ]
  },
  {
   "cell_type": "code",
   "execution_count": null,
   "id": "296638d6",
   "metadata": {},
   "outputs": [],
   "source": []
  },
  {
   "cell_type": "code",
   "execution_count": null,
   "id": "6b86a666",
   "metadata": {},
   "outputs": [],
   "source": []
  },
  {
   "cell_type": "markdown",
   "id": "8a71be59",
   "metadata": {},
   "source": [
    "[back to top](#top)"
   ]
  },
  {
   "cell_type": "markdown",
   "id": "a3c710fb",
   "metadata": {},
   "source": [
    "## 4. Baselining<a id='4'></a> "
   ]
  },
  {
   "cell_type": "markdown",
   "id": "1678c1ca",
   "metadata": {},
   "source": [
    "- Build a simple baseline model such as \n",
    "    - logistic regression, \n",
    "    - KNN, or \n",
    "    - naive Bayes, \n",
    "    using a small handful of features (you might get lucky and be able to explain your targets with very few features). \n",
    "- Start with features that are most likely to be predictive based on your domain knowledge and EDA (step 1) and/or are simple to handle (e.g. numeric without null values). \n",
    "- Calculate the model evaluation metrics you've determined are relevant to get a baseline score and feel for how well the model can perform. \n",
    "- Ideally, calculate the baseline score on a hold out set as in part 3, not the training data."
   ]
  },
  {
   "cell_type": "code",
   "execution_count": 180,
   "id": "d045b049",
   "metadata": {},
   "outputs": [],
   "source": [
    "# separate target from some features using mapped variables\n",
    "y_map = heart_disease_df_map['y_heart_disease'] \n",
    "\n",
    "X_map = heart_disease_df_map.loc[:, [\n",
    "#     'behavior_activity', \n",
    "#     'behavior_alcohol', \n",
    "#     'behavior_sleep',\n",
    "#     'behavior_tobacco',\n",
    "    'demg_age',\n",
    "    'demg_gender', \n",
    "    'demg_race',\n",
    "    'disease_asthma', \n",
    "    'disease_diabetes', \n",
    "    'disease_kidney', \n",
    "    'disease_skin', \n",
    "    'disease_stroke', \n",
    "#     'health_bmi', \n",
    "#     'health_general', \n",
    "#     'health_mental',\n",
    "#     'health_mobility', \n",
    "#     'health_physical'\n",
    "    ]]"
   ]
  },
  {
   "cell_type": "code",
   "execution_count": 191,
   "id": "a31c1244",
   "metadata": {},
   "outputs": [],
   "source": [
    "# split heart_disease_df_map test/train/validate\n",
    "X_train_m, X_test_m, y_train_m, y_test_m = train_test_split(X_map, \n",
    "                                                    y_map, \n",
    "                                                    test_size=0.2, \n",
    "                                                    random_state=42)\n",
    "\n",
    "X_train_m, X_validate_m, y_train_m, y_validate_m = train_test_split(X_train_m, y_train_m, \n",
    "                                                            test_size = .25, random_state = 42)\n"
   ]
  },
  {
   "cell_type": "code",
   "execution_count": 196,
   "id": "f91db148",
   "metadata": {},
   "outputs": [
    {
     "name": "stdout",
     "output_type": "stream",
     "text": [
      "Baseline probability of heart disease: 8.49 %\n"
     ]
    }
   ],
   "source": [
    "# baseline rate of target using the mean of training data\n",
    "print('Baseline probability of heart disease:',   (round(np.mean(y_train_m), 4)*100),'%')\n"
   ]
  },
  {
   "cell_type": "code",
   "execution_count": 193,
   "id": "d5775f18",
   "metadata": {},
   "outputs": [],
   "source": [
    "# scale map X train/test\n",
    "scaler_map = StandardScaler()\n",
    "X_train_scaled_m = scaler_map.fit_transform(X_train_m)\n",
    "X_test_scaled_m = scaler_map.transform(X_test_m)\n",
    "X_validate_scaled_m = scaler_map.transform(X_validate_m)\n",
    "\n",
    "#logistic regression on map X train scaled & y train\n",
    "logreg_map = LogisticRegression().fit(X_train_scaled_m, y_train_m)\n",
    "\n",
    "# predict on X_validate_scaled_m \n",
    "y_pred_m = logreg_map.predict(X_validate_scaled_m) \n"
   ]
  },
  {
   "cell_type": "markdown",
   "id": "3822eed6",
   "metadata": {},
   "source": [
    "[back to top](#top)"
   ]
  },
  {
   "cell_type": "code",
   "execution_count": 194,
   "id": "454742ec",
   "metadata": {},
   "outputs": [
    {
     "name": "stdout",
     "output_type": "stream",
     "text": [
      "Logistic regression recall: 0.5103\n"
     ]
    }
   ],
   "source": [
    "# score map_df on X_test_scaled and y_test\n",
    "print(\"Logistic regression recall:\", round(recall_score(logreg_map.predict(X_test_scaled_m), y_test_m), 4))\n"
   ]
  },
  {
   "cell_type": "markdown",
   "id": "bc6f8fac",
   "metadata": {},
   "source": [
    "## 5. Validation and Testing<a id='5'></a>"
   ]
  },
  {
   "cell_type": "markdown",
   "id": "ebec1830",
   "metadata": {},
   "source": [
    "- Set up a data splitting structure for validating and testing your model. \n",
    "- Cross-validation will often be preferable to simple, single-set validation due to its robustness. \n",
    "- There may also be cases where a specialized validation setup is called for, such as in time series problems. \n",
    "- Using your chosen validation scheme, you can perform iterative feature selection/expansion/engineering and model complexity adjustments in order to complete the next 2 steps. \n",
    "- You will use the test data only once your model is finalized in order to compute a final estimate of generalization performance.\n",
    "\n"
   ]
  },
  {
   "cell_type": "code",
   "execution_count": 195,
   "id": "2402f92c",
   "metadata": {},
   "outputs": [
    {
     "name": "stdout",
     "output_type": "stream",
     "text": [
      "              precision    recall  f1-score   support\n",
      "\n",
      "           0       0.92      0.99      0.95     58473\n",
      "           1       0.47      0.05      0.10      5486\n",
      "\n",
      "    accuracy                           0.91     63959\n",
      "   macro avg       0.69      0.52      0.53     63959\n",
      "weighted avg       0.88      0.91      0.88     63959\n",
      "\n"
     ]
    }
   ],
   "source": [
    "# score y_validate, y_predict with all metrics\n",
    "\n",
    "print(classification_report(y_validate_m, y_pred_m))"
   ]
  },
  {
   "cell_type": "code",
   "execution_count": null,
   "id": "0c887f4f",
   "metadata": {},
   "outputs": [],
   "source": []
  },
  {
   "cell_type": "markdown",
   "id": "d1a3323e",
   "metadata": {},
   "source": [
    "[back to top](#top)"
   ]
  },
  {
   "cell_type": "markdown",
   "id": "dd1a1148",
   "metadata": {},
   "source": [
    "## 6. Model Iterations <a id='6'></a> "
   ]
  },
  {
   "cell_type": "markdown",
   "id": "e2dc5899",
   "metadata": {},
   "source": [
    "- Starting from the baseline and in an iterative, validated loop ask: \n",
    "    - Do you need more complexity or less (underfitting vs. overfitting)? \n",
    "    - Do you need a fancier model (nonlinear, additional feature engineering / transformations)? \n",
    "    - If you need more complexity, try tree-based models such as random forest or gradient boosted trees. \n",
    "    - Are you overfitting and need to make your model more conservative by removing features or using regularization? - Hopefully you can quickly acquire an understanding of which direction you need to go in from your baseline and early modeling results, then make more fine-tuned changes as you go.\n",
    "\n",
    "\n",
    "- The impact of model choices should be consistently measured against the same validation data as in part 3, using your relevant classification performance metrics such as F1 or ROC AUC. \n"
   ]
  },
  {
   "cell_type": "code",
   "execution_count": null,
   "id": "bad7c7ef",
   "metadata": {},
   "outputs": [],
   "source": []
  },
  {
   "cell_type": "markdown",
   "id": "2e3ef44d",
   "metadata": {},
   "source": [
    "#### k-Nearst Neighbors"
   ]
  },
  {
   "cell_type": "code",
   "execution_count": null,
   "id": "0783404b",
   "metadata": {},
   "outputs": [],
   "source": []
  },
  {
   "cell_type": "markdown",
   "id": "09011a22",
   "metadata": {},
   "source": [
    "[back to top](#top)"
   ]
  },
  {
   "cell_type": "markdown",
   "id": "c7feeffa",
   "metadata": {},
   "source": [
    "#### Logistic Regression "
   ]
  },
  {
   "cell_type": "code",
   "execution_count": null,
   "id": "cc357b7a",
   "metadata": {},
   "outputs": [],
   "source": []
  },
  {
   "cell_type": "markdown",
   "id": "c39d97de",
   "metadata": {},
   "source": [
    "[back to top](#top)"
   ]
  },
  {
   "cell_type": "markdown",
   "id": "5e80998b",
   "metadata": {},
   "source": [
    "#### Random Forests"
   ]
  },
  {
   "cell_type": "code",
   "execution_count": null,
   "id": "2dac965d",
   "metadata": {},
   "outputs": [],
   "source": []
  },
  {
   "cell_type": "markdown",
   "id": "8d5f2337",
   "metadata": {},
   "source": [
    "[back to top](#top)"
   ]
  },
  {
   "cell_type": "markdown",
   "id": "bdb5d266",
   "metadata": {},
   "source": [
    "#### Gradient Boosted Trees"
   ]
  },
  {
   "cell_type": "code",
   "execution_count": null,
   "id": "14f4e3c1",
   "metadata": {},
   "outputs": [],
   "source": []
  },
  {
   "cell_type": "markdown",
   "id": "a30ccd64",
   "metadata": {},
   "source": [
    "[back to top](#top)"
   ]
  },
  {
   "cell_type": "markdown",
   "id": "8b98422c",
   "metadata": {},
   "source": [
    "#### Ensembling"
   ]
  },
  {
   "cell_type": "code",
   "execution_count": null,
   "id": "ae903622",
   "metadata": {},
   "outputs": [],
   "source": []
  },
  {
   "cell_type": "markdown",
   "id": "9ac96809",
   "metadata": {},
   "source": [
    "[back to top](#top)"
   ]
  },
  {
   "cell_type": "markdown",
   "id": "1402028c",
   "metadata": {},
   "source": [
    "#### Naive Bayes"
   ]
  },
  {
   "cell_type": "code",
   "execution_count": null,
   "id": "356ffcc1",
   "metadata": {},
   "outputs": [],
   "source": []
  },
  {
   "cell_type": "markdown",
   "id": "5a3545ba",
   "metadata": {},
   "source": [
    "[back to top](#top)"
   ]
  },
  {
   "cell_type": "code",
   "execution_count": null,
   "id": "399496cf",
   "metadata": {},
   "outputs": [],
   "source": []
  },
  {
   "cell_type": "markdown",
   "id": "713e8c49",
   "metadata": {},
   "source": [
    "[back to top](#top)"
   ]
  },
  {
   "cell_type": "markdown",
   "id": "2236494a",
   "metadata": {},
   "source": [
    "### Class Imblance Handling "
   ]
  },
  {
   "cell_type": "markdown",
   "id": "f2208311",
   "metadata": {},
   "source": [
    "- If your target class distribution is (highly) imbalanced, make sure to try imbalance handling strategies such as \n",
    "    - resampling, \n",
    "    - class_weight adjustments, and \n",
    "    - decision threshold tuning that dovetail with the metrics you’re most interested in. \n",
    "- These methods are part of the modeling process, whether they happen before, during, or after training."
   ]
  },
  {
   "cell_type": "code",
   "execution_count": 82,
   "id": "2b424511",
   "metadata": {},
   "outputs": [
    {
     "data": {
      "text/plain": [
       "No     292422\n",
       "Yes     27373\n",
       "Name: y_heart_disease, dtype: int64"
      ]
     },
     "execution_count": 82,
     "metadata": {},
     "output_type": "execute_result"
    }
   ],
   "source": [
    "# Target imbalance\n",
    "heart_disease_df.y_heart_disease.value_counts()"
   ]
  },
  {
   "cell_type": "code",
   "execution_count": 88,
   "id": "cb32b606",
   "metadata": {},
   "outputs": [
    {
     "data": {
      "image/png": "[encoded data removed]",
      "text/plain": [
       "<Figure size 480x320 with 2 Axes>"
      ]
     },
     "metadata": {
      "needs_background": "light"
     },
     "output_type": "display_data"
    }
   ],
   "source": [
    "# Correlation matrix on heart_disease_df_map\n",
    "\n",
    "predictions = [0]*len(heart_disease_df_map) \n",
    "\n",
    "fraud_confusion = confusion_matrix(heart_disease_df_map.y_heart_disease, predictions)\n",
    "plt.figure(dpi=80)\n",
    "sns.heatmap(fraud_confusion, cmap=plt.cm.Blues, annot=True, square=True, fmt='d',\n",
    "           xticklabels=['healthy', 'heart disease'],\n",
    "           yticklabels=['healthy', 'heart disease']);\n",
    "plt.xlabel('prediction')\n",
    "plt.ylabel('actual');"
   ]
  },
  {
   "cell_type": "code",
   "execution_count": null,
   "id": "06595dbf",
   "metadata": {},
   "outputs": [],
   "source": [
    "# Correlation matrix slider on heart_disease_df_map\n",
    "\n",
    "def make_confusion_matrix(model, threshold=0.5):\n",
    "    # Predict class 1 if probability of being in class 1 is greater than threshold\n",
    "    # (model.predict(X_test) does this automatically with a threshold of 0.5)\n",
    "    y_predict = (model.predict_proba(X_test)[:, 1] >= threshold)\n",
    "    heart_diz_confusion = confusion_matrix(y_test, y_predict)\n",
    "    plt.figure(dpi=80)\n",
    "    sns.heatmap(    heart_diz_confusion, cmap=plt.cm.Blues, annot=True, square=True, fmt='d',\n",
    "           xticklabels=['healthy', 'heart disease'],\n",
    "           yticklabels=['healthy', 'heart disease']);\n",
    "    plt.xlabel('prediction')\n",
    "    plt.ylabel('actual')"
   ]
  },
  {
   "cell_type": "code",
   "execution_count": null,
   "id": "e1b09b39",
   "metadata": {},
   "outputs": [],
   "source": [
    "# Let's see how our confusion matrix changes with changes to the cutoff! \n",
    "\n",
    "\n",
    "interactive(lambda threshold: make_confusion_matrix(lm, threshold), threshold=(0.0,1.0,0.02))"
   ]
  },
  {
   "cell_type": "markdown",
   "id": "047a4cdc",
   "metadata": {},
   "source": [
    "[back to top](#top)"
   ]
  },
  {
   "cell_type": "markdown",
   "id": "0c638f89",
   "metadata": {},
   "source": [
    "### Feature Engineering "
   ]
  },
  {
   "cell_type": "markdown",
   "id": "c37fb29a",
   "metadata": {},
   "source": [
    "- The [feature engineering](https://app.thisismetis.com/courses/162/pages/home-feature-engineering-for-classification) lesson provides a model for how you might track your progress while iteratively expanding your model. "
   ]
  },
  {
   "cell_type": "code",
   "execution_count": null,
   "id": "c133acc9",
   "metadata": {},
   "outputs": [],
   "source": [
    "class_0 = val_df[val_df['HeartDisease'] == 0]\n",
    "class_1 = val_df[val_df['HeartDisease'] == 1]\n",
    "\n",
    "class_1 = class_1.sample(len(class_0),replace=True)\n",
    "val_df = pd.concat([class_0, class_1], axis=0)\n",
    "print('Data in Test:')\n",
    "print(val_df['HeartDisease'].value_counts())"
   ]
  },
  {
   "cell_type": "code",
   "execution_count": 27,
   "id": "6cb50fe6",
   "metadata": {},
   "outputs": [],
   "source": []
  },
  {
   "cell_type": "code",
   "execution_count": null,
   "id": "60989abd",
   "metadata": {},
   "outputs": [],
   "source": []
  },
  {
   "cell_type": "code",
   "execution_count": null,
   "id": "de1eb8af",
   "metadata": {},
   "outputs": [],
   "source": []
  },
  {
   "cell_type": "code",
   "execution_count": null,
   "id": "04afa725",
   "metadata": {},
   "outputs": [],
   "source": []
  },
  {
   "cell_type": "code",
   "execution_count": null,
   "id": "618bb232",
   "metadata": {},
   "outputs": [],
   "source": []
  },
  {
   "cell_type": "code",
   "execution_count": null,
   "id": "3dd685c9",
   "metadata": {},
   "outputs": [],
   "source": []
  },
  {
   "cell_type": "markdown",
   "id": "affaacbb",
   "metadata": {},
   "source": [
    "[back to top](#top)"
   ]
  },
  {
   "cell_type": "markdown",
   "id": "c4ed3627",
   "metadata": {},
   "source": [
    "## 7. Model Selection<a id='7'></a> "
   ]
  },
  {
   "cell_type": "markdown",
   "id": "247dfb79",
   "metadata": {},
   "source": [
    "**Finalize and test:** \n",
    "- When satisfied with the results of your tuning in _Model Iterations_, establish your final model choices:\n",
    "        - features, \n",
    "        - preprocessing, \n",
    "        - imbalance handling strategy, and \n",
    "        - hyperparameters\n",
    "    - retrain this model on all training + validation data. \n",
    "- Make predictions on the test data and score these predictions, reporting this score as your estimate of the model's generalization performance."
   ]
  },
  {
   "cell_type": "code",
   "execution_count": null,
   "id": "a578daa2",
   "metadata": {},
   "outputs": [],
   "source": [
    "# Confusion matrix \n",
    "print(\"kNN confusion matrix: \\n\\n\", confusion_matrix(label_test, knn.predict(X_test)))"
   ]
  },
  {
   "cell_type": "code",
   "execution_count": null,
   "id": "75c9378e",
   "metadata": {},
   "outputs": [],
   "source": [
    "# Confusion matrix \n",
    "logit_confusion = confusion_matrix(label_test, logit.predict(X_test))\n",
    "plt.figure(dpi=150)\n",
    "sns.heatmap(logit_confusion, cmap=plt.cm.Blues, annot=True, square=True,\n",
    "           xticklabels=iris_dataset['target_names'],\n",
    "           yticklabels=iris_dataset['target_names'])\n",
    "\n",
    "plt.xlabel('Predicted species')\n",
    "plt.ylabel('Actual species')\n",
    "plt.title('Logistic regression confusion matrix');\n",
    "\n",
    "plt.savefig(\"confusion_matrix_logit_iris\")"
   ]
  },
  {
   "cell_type": "markdown",
   "id": "6f641ed2",
   "metadata": {},
   "source": [
    "**Interpret:** \n",
    "- Extract and study your final model coefficients or feature importances. Are there any interesting or unexpected takeaways? \n",
    "- How do the model coefficients/importances align with your intuition and domain knowledge about the problem? \n",
    "- Be careful about complicating factors in interpretation such as differing feature scales and multicollinearity.\n"
   ]
  },
  {
   "cell_type": "code",
   "execution_count": null,
   "id": "670f6dd4",
   "metadata": {},
   "outputs": [],
   "source": []
  },
  {
   "cell_type": "code",
   "execution_count": null,
   "id": "56064b3a",
   "metadata": {},
   "outputs": [],
   "source": []
  },
  {
   "cell_type": "markdown",
   "id": "7454c591",
   "metadata": {},
   "source": [
    "[back to top](#top)"
   ]
  }
 ],
 "metadata": {
  "kernelspec": {
   "display_name": "Python 3 (ipykernel)",
   "language": "python",
   "name": "python3"
  },
  "language_info": {
   "codemirror_mode": {
    "name": "ipython",
    "version": 3
   },
   "file_extension": ".py",
   "mimetype": "text/x-python",
   "name": "python",
   "nbconvert_exporter": "python",
   "pygments_lexer": "ipython3",
   "version": "3.8.12"
  }
 },
 "nbformat": 4,
 "nbformat_minor": 5
}
