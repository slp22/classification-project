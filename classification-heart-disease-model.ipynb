{
 "cells": [
  {
   "cell_type": "markdown",
   "id": "69987c01",
   "metadata": {},
   "source": [
    "# Predicting Heart Disease  "
   ]
  },
  {
   "cell_type": "markdown",
   "id": "1f7f9750",
   "metadata": {},
   "source": [
    "## Classification Model Stepwise Analysis <a id='top'></a> \n",
    "\n",
    "1. [Research Question](#1)<br/>\n",
    "2. [Data](#2) <br/>\n",
    "3. [Exporatory Data Analysis](#3)<br/>\n",
    "   [3a. Explore features correlation](#3a)<br/>\n",
    "   [3b. Explore and handle categorical data](#3b)<br/>\n",
    "4. [Cross-Validation](#4)<br/>\n",
    "5. [Modeling](#5)<br/>\n",
    "6. [Model Tuning](#6) <br/>\n",
    "   [6a. Regularization](#6a)<br/>\n",
    "   [6b. Features engineering](#6b)<br/>\n",
    "   [6c. Modeling with new features](#6c)<br/> \n",
    "   [6d. Linear regression assumptions](#6d)<br/>\n",
    "7. [Best Model ](#7)<br/>\n",
    "8. [Results](#8)<br/>\n"
   ]
  },
  {
   "cell_type": "code",
   "execution_count": null,
   "id": "8c2b0a5d",
   "metadata": {},
   "outputs": [],
   "source": [
    "import numpy as np\n",
    "import pandas as pd\n",
    "\n",
    "from sklearn.preprocessing import LabelEncoder\n",
    "from sklearn.model_selection import train_test_split \n",
    "from sklearn.linear_model import LinearRegression ,LogisticRegression\n",
    "from sklearn.tree import DecisionTreeClassifier\n",
    "from sklearn.neighbors import KNeighborsClassifier\n",
    "from sklearn.naive_bayes import GaussianNB\n",
    "from sklearn.ensemble import AdaBoostRegressor\n",
    "from sklearn.ensemble import RandomForestClassifier\n",
    "from sklearn.svm import SVC ,SVR\n",
    "from sklearn.metrics import *\n",
    "from sklearn.model_selection import GridSearchCV\n",
    "\n",
    "import matplotlib.pyplot as plt\n",
    "import seaborn as sns\n",
    "import plotly.express as px\n",
    "import plotly.graph_objects as go\n",
    "from plotly.subplots import make_subplots"
   ]
  },
  {
   "cell_type": "markdown",
   "id": "daa472b2",
   "metadata": {},
   "source": [
    "## 1. Research Question<a id='1'></a> \n",
    "\n",
    "* RQ. ???\n",
    "* Data source: ??? \n",
    "* Error metric: ???\n"
   ]
  },
  {
   "cell_type": "markdown",
   "id": "35969908",
   "metadata": {},
   "source": [
    "## 2. [Personal Key Indicators of Heart Disease](https://www.kaggle.com/datasets/kamilpytlak/personal-key-indicators-of-heart-disease)<a id='2'></a>  \n"
   ]
  },
  {
   "cell_type": "code",
   "execution_count": 3,
   "id": "74246ed2",
   "metadata": {},
   "outputs": [],
   "source": [
    "df = pd.read_csv('heart_2020_cleaned.csv')"
   ]
  },
  {
   "cell_type": "code",
   "execution_count": 4,
   "id": "2e6760b5",
   "metadata": {},
   "outputs": [
    {
     "name": "stdout",
     "output_type": "stream",
     "text": [
      "<class 'pandas.core.frame.DataFrame'>\n",
      "RangeIndex: 319795 entries, 0 to 319794\n",
      "Data columns (total 18 columns):\n",
      " #   Column            Non-Null Count   Dtype  \n",
      "---  ------            --------------   -----  \n",
      " 0   HeartDisease      319795 non-null  object \n",
      " 1   BMI               319795 non-null  float64\n",
      " 2   Smoking           319795 non-null  object \n",
      " 3   AlcoholDrinking   319795 non-null  object \n",
      " 4   Stroke            319795 non-null  object \n",
      " 5   PhysicalHealth    319795 non-null  float64\n",
      " 6   MentalHealth      319795 non-null  float64\n",
      " 7   DiffWalking       319795 non-null  object \n",
      " 8   Sex               319795 non-null  object \n",
      " 9   AgeCategory       319795 non-null  object \n",
      " 10  Race              319795 non-null  object \n",
      " 11  Diabetic          319795 non-null  object \n",
      " 12  PhysicalActivity  319795 non-null  object \n",
      " 13  GenHealth         319795 non-null  object \n",
      " 14  SleepTime         319795 non-null  float64\n",
      " 15  Asthma            319795 non-null  object \n",
      " 16  KidneyDisease     319795 non-null  object \n",
      " 17  SkinCancer        319795 non-null  object \n",
      "dtypes: float64(4), object(14)\n",
      "memory usage: 43.9+ MB\n"
     ]
    }
   ],
   "source": [
    "df.info()"
   ]
  },
  {
   "cell_type": "markdown",
   "id": "c6983cdb",
   "metadata": {},
   "source": [
    "## 3. Exporatory Data Analysis<a id='3'></a> "
   ]
  },
  {
   "cell_type": "code",
   "execution_count": null,
   "id": "7e8f8a30",
   "metadata": {},
   "outputs": [],
   "source": []
  },
  {
   "cell_type": "markdown",
   "id": "8a71be59",
   "metadata": {},
   "source": [
    "[back to top](#top)"
   ]
  },
  {
   "cell_type": "markdown",
   "id": "a3c710fb",
   "metadata": {},
   "source": [
    "## 4. Cross-Validation<a id='4'></a> "
   ]
  },
  {
   "cell_type": "code",
   "execution_count": null,
   "id": "76303903",
   "metadata": {},
   "outputs": [],
   "source": []
  },
  {
   "cell_type": "markdown",
   "id": "d1a3323e",
   "metadata": {},
   "source": [
    "[back to top](#top)"
   ]
  },
  {
   "cell_type": "markdown",
   "id": "dd1a1148",
   "metadata": {},
   "source": [
    "## 5. Modeling<a id='5'></a> "
   ]
  },
  {
   "cell_type": "markdown",
   "id": "4a95494a",
   "metadata": {},
   "source": [
    "### baseline model "
   ]
  },
  {
   "cell_type": "code",
   "execution_count": null,
   "id": "bad7c7ef",
   "metadata": {},
   "outputs": [],
   "source": []
  },
  {
   "cell_type": "markdown",
   "id": "c39d97de",
   "metadata": {},
   "source": [
    "[back to top](#top)"
   ]
  },
  {
   "cell_type": "markdown",
   "id": "350346e9",
   "metadata": {},
   "source": [
    "## 6. Model Tuning<a id='6'></a> "
   ]
  },
  {
   "cell_type": "markdown",
   "id": "2a44c444",
   "metadata": {},
   "source": [
    "### 6a. Regularization<a id='6a'></a> \n"
   ]
  },
  {
   "cell_type": "markdown",
   "id": "2e3ef44d",
   "metadata": {},
   "source": [
    "#### Lasso/Grid/Ridge... Model\n"
   ]
  },
  {
   "cell_type": "code",
   "execution_count": null,
   "id": "14f4e3c1",
   "metadata": {},
   "outputs": [],
   "source": []
  },
  {
   "cell_type": "markdown",
   "id": "5a3545ba",
   "metadata": {},
   "source": [
    "[back to top](#top)"
   ]
  },
  {
   "cell_type": "markdown",
   "id": "01f83384",
   "metadata": {},
   "source": [
    "### Error metric: ???"
   ]
  },
  {
   "cell_type": "code",
   "execution_count": null,
   "id": "8d3805bb",
   "metadata": {},
   "outputs": [],
   "source": []
  },
  {
   "cell_type": "markdown",
   "id": "047a4cdc",
   "metadata": {},
   "source": [
    "[back to top](#top)"
   ]
  },
  {
   "cell_type": "markdown",
   "id": "4ff7b6f3",
   "metadata": {},
   "source": [
    "### 6b. Features engineering<a id='6b'></a> "
   ]
  },
  {
   "cell_type": "code",
   "execution_count": null,
   "id": "6db291b8",
   "metadata": {},
   "outputs": [],
   "source": []
  },
  {
   "cell_type": "markdown",
   "id": "d742de70",
   "metadata": {},
   "source": [
    "[back to top](#top)"
   ]
  },
  {
   "cell_type": "markdown",
   "id": "479379f7",
   "metadata": {},
   "source": [
    "### 6c. Modeling with new features<a id='6c'></a> "
   ]
  },
  {
   "cell_type": "markdown",
   "id": "8acaf924",
   "metadata": {},
   "source": [
    "[back to top](#top)"
   ]
  },
  {
   "cell_type": "markdown",
   "id": "c4ed3627",
   "metadata": {},
   "source": [
    "## 7. Best Model<a id='7'></a> "
   ]
  },
  {
   "cell_type": "code",
   "execution_count": null,
   "id": "3fd241c4",
   "metadata": {},
   "outputs": [],
   "source": []
  },
  {
   "cell_type": "markdown",
   "id": "affaacbb",
   "metadata": {},
   "source": [
    "[back to top](#top)"
   ]
  },
  {
   "cell_type": "markdown",
   "id": "23dc4ab0",
   "metadata": {},
   "source": [
    "## 8. Results<a id='8'></a> "
   ]
  },
  {
   "cell_type": "code",
   "execution_count": null,
   "id": "0fc3dff4",
   "metadata": {},
   "outputs": [],
   "source": []
  },
  {
   "cell_type": "markdown",
   "id": "7454c591",
   "metadata": {},
   "source": [
    "[back to top](#top)"
   ]
  },
  {
   "cell_type": "code",
   "execution_count": null,
   "id": "88d3a7be",
   "metadata": {},
   "outputs": [],
   "source": []
  }
 ],
 "metadata": {
  "kernelspec": {
   "display_name": "Python 3 (ipykernel)",
   "language": "python",
   "name": "python3"
  },
  "language_info": {
   "codemirror_mode": {
    "name": "ipython",
    "version": 3
   },
   "file_extension": ".py",
   "mimetype": "text/x-python",
   "name": "python",
   "nbconvert_exporter": "python",
   "pygments_lexer": "ipython3",
   "version": "3.8.12"
  }
 },
 "nbformat": 4,
 "nbformat_minor": 5
}
