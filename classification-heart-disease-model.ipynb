{
 "cells": [
  {
   "cell_type": "markdown",
   "id": "69987c01",
   "metadata": {},
   "source": [
    "#### Classification | Model\n",
    "\n",
    "# Predicting Heart Disease  "
   ]
  },
  {
   "cell_type": "markdown",
   "id": "1f7f9750",
   "metadata": {},
   "source": [
    "## Classification Model Stepwise Analysis <a id='top'></a> \n",
    "\n",
    "1. [Research Question](#1)<br/>\n",
    "2. [DataFrames](#2) <br/>\n",
    "3. [Exporatory Data Analysis](#3)<br/>\n",
    "    Summarize<br/>\n",
    "    Classification Viability<br/>\n",
    "    Classification Metrics<br/>\n",
    "4. [Baselining](#4)<br/>\n",
    "5. [Validation](#5)<br/>\n",
    "6. [Model Iterations](#6) <br/>\n",
    "    model 1<br/>\n",
    "    model 1<br/>\n",
    "    model 1<br/>\n",
    "    model 1<br/>\n",
    "    model 1<br/>\n",
    "    model 1<br/>\n",
    "    [Feature Engineering](#68)<br/>\n",
    "    Class Imbalance<br/>\n",
    "7. [Model Selection ](#7)<br/>\n",
    "\n"
   ]
  },
  {
   "cell_type": "code",
   "execution_count": 128,
   "id": "8c2b0a5d",
   "metadata": {},
   "outputs": [],
   "source": [
    "import pandas as pd\n",
    "import numpy as np\n",
    "import imblearn.over_sampling\n",
    "import matplotlib.pyplot as plt\n",
    "import seaborn as sns\n",
    "import xgboost as xgb\n",
    "import pickle\n",
    "import plotly.express as px\n",
    "import plotly.graph_objects as go\n",
    "import warnings\n",
    "warnings.filterwarnings(\"ignore\")\n",
    "\n",
    "plt.style.use('ggplot')\n",
    "%matplotlib inline\n",
    "np.set_printoptions(suppress=True) \n",
    "sns.set_style(\"whitegrid\")\n",
    "\n",
    "from imblearn.under_sampling import RandomUnderSampler\n",
    "# from ipywidgets import interactive, FloatSlider\n",
    "from mlxtend.classifier import StackingClassifier \n",
    "from plotly.subplots import make_subplots\n",
    "from sklearn import tree\n",
    "from sklearn.compose import make_column_transformer\n",
    "from sklearn.ensemble import RandomForestClassifier, VotingClassifier\n",
    "from sklearn.linear_model import LogisticRegression\n",
    "from sklearn.metrics import *\n",
    "from sklearn.model_selection import cross_val_score, GridSearchCV, train_test_split\n",
    "from sklearn.naive_bayes import BernoulliNB, MultinomialNB, GaussianNB\n",
    "from sklearn.neighbors import KNeighborsClassifier\n",
    "from sklearn.pipeline import Pipeline\n",
    "from sklearn.preprocessing import LabelEncoder, StandardScaler, OrdinalEncoder\n",
    "from sklearn.svm import SVC ,SVR\n",
    "from sklearn.tree import DecisionTreeClassifier\n",
    "from sklearn.utils import shuffle\n",
    "\n",
    "\n",
    "\n"
   ]
  },
  {
   "cell_type": "markdown",
   "id": "daa472b2",
   "metadata": {},
   "source": [
    "## 1 | Research Design<a id='1'></a> \n",
    "\n",
    "* **Reserach Question:** How might we predict which patients are at high risk of heart disease?\n",
    "* **Impact Hypothesis:** Reduce the number of patients who develop heart disease (arterial plaque or heart attack).\n",
    "* **Data source:** [Personal Key Indicators of Heart Disease](https://www.kaggle.com/datasets/kamilpytlak/personal-key-indicators-of-heart-disease), n=319,795\n",
    "* **Error metric:** [Recall](#3c) and [ROC AUC](#3c)"
   ]
  },
  {
   "cell_type": "markdown",
   "id": "a984a11a",
   "metadata": {},
   "source": [
    "#### [Data Dictionary](https://www.cdc.gov/brfss/annual_data/2020/pdf/codebook20_llcp-v2-508.pdf)<a id='1a'></a>\n",
    "_Target_\n",
    "- `y_heart_disease`: Y/N | coronary heart disease (CHD) or myocardial infarction (MI)\n",
    "\n",
    "_Health Behaviors_\n",
    "- `behavior_activity`: Num (0-30) | # days did physical activity/ exercise other than regular job\n",
    "- `behavior_alcohol`: Y/N | heavy drinker, defined as men: 14+/wk, women: 7+/wk (includes beer, wine, malt beverage, liquor)\n",
    "- `behavior_sleep`: Num (0-24) | # hours of sleep in a 24-hour period, on average\n",
    "- `behavior_tobacco`: Y/N | smoked at least 100 cigarettes in your life\n",
    "\n",
    "_Demographics_\n",
    "- `demg_age`: 18-24, 25-29, 30-34, 35-39, 40-44, 45-49, 50-54, 55-59, 60-64, 65-69, 70-74, 75-79, 80+\n",
    "- `demg_gender`: male/female\n",
    "- `demg_race`: White, Black, Asian, American Indian/Alaskan Native, Hispanic, Other race\n",
    "\n",
    "_Health Measures_\n",
    "- `health_bmi`: Num | Body Mass Index (BMI)\n",
    "- `health_physical`: Num (0-30) | # days physical health  not good, includes physical illness and injury\n",
    "- `health_mental`: Num (0-30 ) | # days mental health not good, includes stress, depression, and problems with emotions\n",
    "- `health_general`: Excellent, Very Good, Fair, Poor | Would you say that in general your health is...\n",
    "- `health_mobility`: Y/N | serious difficulty walking or climbing stairs\n",
    "\n",
    "_Chronic Disease_\n",
    "- `disease_asthma`: Y/N\n",
    "- `disease_diabetes`: Y/N/Y pregnancy/N borderline\n",
    "- `disease_kidney`: Y/N | kidney disease, excludes kidney stones, bladder infection or incontinence\n",
    "- `disease_skin`: Y/N | skin cancer\n",
    "- `disease_stroke`: Y/N"
   ]
  },
  {
   "cell_type": "markdown",
   "id": "93f17f49",
   "metadata": {},
   "source": [
    "[back to top](#top)"
   ]
  },
  {
   "cell_type": "markdown",
   "id": "35969908",
   "metadata": {},
   "source": [
    "## 2 | [DataFrames](https://github.com/slp22/classification-project/blob/main/classification-heart-disease_mvp.ipynb)<a id='2'></a>  \n"
   ]
  },
  {
   "cell_type": "code",
   "execution_count": 3,
   "id": "74246ed2",
   "metadata": {},
   "outputs": [],
   "source": [
    "# load clean and transformed dataframes from mvp \n",
    "heart_disease_df = pd.read_csv('heart_disease_df.csv')\n",
    "heart_disease_df_map = pd.read_csv('heart_disease_df_map.csv') \n"
   ]
  },
  {
   "cell_type": "code",
   "execution_count": null,
   "id": "2e6760b5",
   "metadata": {},
   "outputs": [],
   "source": [
    "# clean df\n",
    "heart_disease_df.head(3)\n"
   ]
  },
  {
   "cell_type": "code",
   "execution_count": 4,
   "id": "659590fb",
   "metadata": {},
   "outputs": [
    {
     "data": {
      "text/html": [
       "<div>\n",
       "<style scoped>\n",
       "    .dataframe tbody tr th:only-of-type {\n",
       "        vertical-align: middle;\n",
       "    }\n",
       "\n",
       "    .dataframe tbody tr th {\n",
       "        vertical-align: top;\n",
       "    }\n",
       "\n",
       "    .dataframe thead th {\n",
       "        text-align: right;\n",
       "    }\n",
       "</style>\n",
       "<table border=\"1\" class=\"dataframe\">\n",
       "  <thead>\n",
       "    <tr style=\"text-align: right;\">\n",
       "      <th></th>\n",
       "      <th>behavior_activity</th>\n",
       "      <th>behavior_alcohol</th>\n",
       "      <th>behavior_sleep</th>\n",
       "      <th>behavior_tobacco</th>\n",
       "      <th>demg_age</th>\n",
       "      <th>demg_gender</th>\n",
       "      <th>demg_race</th>\n",
       "      <th>disease_asthma</th>\n",
       "      <th>disease_diabetes</th>\n",
       "      <th>disease_kidney</th>\n",
       "      <th>disease_skin</th>\n",
       "      <th>disease_stroke</th>\n",
       "      <th>health_bmi</th>\n",
       "      <th>health_general</th>\n",
       "      <th>health_mental</th>\n",
       "      <th>health_mobility</th>\n",
       "      <th>health_physical</th>\n",
       "      <th>y_heart_disease</th>\n",
       "    </tr>\n",
       "  </thead>\n",
       "  <tbody>\n",
       "    <tr>\n",
       "      <th>0</th>\n",
       "      <td>1</td>\n",
       "      <td>0</td>\n",
       "      <td>5.0</td>\n",
       "      <td>1</td>\n",
       "      <td>55</td>\n",
       "      <td>1</td>\n",
       "      <td>6</td>\n",
       "      <td>1</td>\n",
       "      <td>1</td>\n",
       "      <td>0</td>\n",
       "      <td>1</td>\n",
       "      <td>0</td>\n",
       "      <td>16.60</td>\n",
       "      <td>4</td>\n",
       "      <td>30.0</td>\n",
       "      <td>0</td>\n",
       "      <td>3.0</td>\n",
       "      <td>0</td>\n",
       "    </tr>\n",
       "    <tr>\n",
       "      <th>1</th>\n",
       "      <td>1</td>\n",
       "      <td>0</td>\n",
       "      <td>7.0</td>\n",
       "      <td>0</td>\n",
       "      <td>80</td>\n",
       "      <td>1</td>\n",
       "      <td>6</td>\n",
       "      <td>0</td>\n",
       "      <td>0</td>\n",
       "      <td>0</td>\n",
       "      <td>0</td>\n",
       "      <td>1</td>\n",
       "      <td>20.34</td>\n",
       "      <td>4</td>\n",
       "      <td>0.0</td>\n",
       "      <td>0</td>\n",
       "      <td>0.0</td>\n",
       "      <td>0</td>\n",
       "    </tr>\n",
       "    <tr>\n",
       "      <th>2</th>\n",
       "      <td>1</td>\n",
       "      <td>0</td>\n",
       "      <td>8.0</td>\n",
       "      <td>1</td>\n",
       "      <td>65</td>\n",
       "      <td>2</td>\n",
       "      <td>6</td>\n",
       "      <td>1</td>\n",
       "      <td>1</td>\n",
       "      <td>0</td>\n",
       "      <td>0</td>\n",
       "      <td>0</td>\n",
       "      <td>26.58</td>\n",
       "      <td>2</td>\n",
       "      <td>30.0</td>\n",
       "      <td>0</td>\n",
       "      <td>20.0</td>\n",
       "      <td>0</td>\n",
       "    </tr>\n",
       "  </tbody>\n",
       "</table>\n",
       "</div>"
      ],
      "text/plain": [
       "   behavior_activity  behavior_alcohol  behavior_sleep  behavior_tobacco  \\\n",
       "0                  1                 0             5.0                 1   \n",
       "1                  1                 0             7.0                 0   \n",
       "2                  1                 0             8.0                 1   \n",
       "\n",
       "   demg_age  demg_gender  demg_race  disease_asthma  disease_diabetes  \\\n",
       "0        55            1          6               1                 1   \n",
       "1        80            1          6               0                 0   \n",
       "2        65            2          6               1                 1   \n",
       "\n",
       "   disease_kidney  disease_skin  disease_stroke  health_bmi  health_general  \\\n",
       "0               0             1               0       16.60               4   \n",
       "1               0             0               1       20.34               4   \n",
       "2               0             0               0       26.58               2   \n",
       "\n",
       "   health_mental  health_mobility  health_physical  y_heart_disease  \n",
       "0           30.0                0              3.0                0  \n",
       "1            0.0                0              0.0                0  \n",
       "2           30.0                0             20.0                0  "
      ]
     },
     "execution_count": 4,
     "metadata": {},
     "output_type": "execute_result"
    }
   ],
   "source": [
    "# transformed df: mapped categorical variables to numerical values \n",
    "heart_disease_df_map.head(3)\n"
   ]
  },
  {
   "cell_type": "markdown",
   "id": "f81cb7e6",
   "metadata": {},
   "source": [
    "[back to top](#top)"
   ]
  },
  {
   "cell_type": "markdown",
   "id": "c6983cdb",
   "metadata": {},
   "source": [
    "## 3 | Exporatory Data Analysis<a id='3'></a> "
   ]
  },
  {
   "cell_type": "markdown",
   "id": "6cdd76aa",
   "metadata": {},
   "source": [
    "#### Using `heart_disease_df_map` with mapped variables for modeling.\n",
    "##### Note: Full EDA part of [MVP](https://github.com/slp22/classification-project/blob/main/classification-heart-disease_mvp.ipynb)."
   ]
  },
  {
   "cell_type": "markdown",
   "id": "1c5e792a",
   "metadata": {},
   "source": [
    "### 3.1 Summarize data<a id='31'></a> "
   ]
  },
  {
   "cell_type": "code",
   "execution_count": null,
   "id": "d208109a",
   "metadata": {},
   "outputs": [],
   "source": [
    "# dataframe info\n",
    "heart_disease_df_map.info()\n"
   ]
  },
  {
   "cell_type": "markdown",
   "id": "a05ed68f",
   "metadata": {},
   "source": [
    "#### No missing data, all data types are numerical."
   ]
  },
  {
   "cell_type": "markdown",
   "id": "22a2bfd6",
   "metadata": {},
   "source": [
    "[back to top](#top)"
   ]
  },
  {
   "cell_type": "markdown",
   "id": "76d6ea2d",
   "metadata": {},
   "source": [
    "### 3.2 Classification viability<a id='32'></a> "
   ]
  },
  {
   "cell_type": "code",
   "execution_count": null,
   "id": "69813756",
   "metadata": {},
   "outputs": [],
   "source": [
    "# descriptive statistics\n",
    "heart_disease_df_map.describe().T.style.background_gradient(cmap='Blues')\n"
   ]
  },
  {
   "cell_type": "code",
   "execution_count": 5,
   "id": "7274fb9b",
   "metadata": {},
   "outputs": [
    {
     "data": {
      "text/html": [
       "<style type=\"text/css\">\n",
       "#T_02891_row0_col0, #T_02891_row1_col1, #T_02891_row2_col2, #T_02891_row3_col3, #T_02891_row4_col4, #T_02891_row5_col5, #T_02891_row6_col6, #T_02891_row7_col7, #T_02891_row8_col8, #T_02891_row9_col9, #T_02891_row10_col10, #T_02891_row11_col11, #T_02891_row12_col12, #T_02891_row13_col13, #T_02891_row14_col14, #T_02891_row15_col15, #T_02891_row16_col16, #T_02891_row17_col17 {\n",
       "  background-color: #08306b;\n",
       "  color: #f1f1f1;\n",
       "}\n",
       "#T_02891_row0_col1, #T_02891_row5_col6, #T_02891_row8_col10 {\n",
       "  background-color: #e9f2fa;\n",
       "  color: #000000;\n",
       "}\n",
       "#T_02891_row0_col2, #T_02891_row7_col4, #T_02891_row9_col2, #T_02891_row15_col10 {\n",
       "  background-color: #e1edf8;\n",
       "  color: #000000;\n",
       "}\n",
       "#T_02891_row0_col3, #T_02891_row0_col12, #T_02891_row7_col2 {\n",
       "  background-color: #eaf3fb;\n",
       "  color: #000000;\n",
       "}\n",
       "#T_02891_row0_col4, #T_02891_row9_col6 {\n",
       "  background-color: #ecf4fb;\n",
       "  color: #000000;\n",
       "}\n",
       "#T_02891_row0_col5, #T_02891_row1_col8 {\n",
       "  background-color: #dceaf6;\n",
       "  color: #000000;\n",
       "}\n",
       "#T_02891_row0_col6, #T_02891_row1_col4, #T_02891_row6_col5, #T_02891_row9_col10, #T_02891_row13_col6 {\n",
       "  background-color: #e2edf8;\n",
       "  color: #000000;\n",
       "}\n",
       "#T_02891_row0_col7, #T_02891_row9_col5, #T_02891_row13_col1 {\n",
       "  background-color: #e7f0fa;\n",
       "  color: #000000;\n",
       "}\n",
       "#T_02891_row0_col8, #T_02891_row1_col6, #T_02891_row2_col6, #T_02891_row2_col10, #T_02891_row11_col5, #T_02891_row15_col2, #T_02891_row16_col10, #T_02891_row17_col6 {\n",
       "  background-color: #e6f0f9;\n",
       "  color: #000000;\n",
       "}\n",
       "#T_02891_row0_col9, #T_02891_row2_col7, #T_02891_row3_col2, #T_02891_row3_col10 {\n",
       "  background-color: #e7f1fa;\n",
       "  color: #000000;\n",
       "}\n",
       "#T_02891_row0_col10, #T_02891_row7_col10, #T_02891_row10_col1, #T_02891_row11_col6, #T_02891_row15_col13 {\n",
       "  background-color: #eef5fc;\n",
       "  color: #000000;\n",
       "}\n",
       "#T_02891_row0_col11, #T_02891_row2_col5, #T_02891_row8_col5 {\n",
       "  background-color: #e8f1fa;\n",
       "  color: #000000;\n",
       "}\n",
       "#T_02891_row0_col13 {\n",
       "  background-color: #66abd4;\n",
       "  color: #f1f1f1;\n",
       "}\n",
       "#T_02891_row0_col14, #T_02891_row1_col7, #T_02891_row10_col7, #T_02891_row11_col2 {\n",
       "  background-color: #dfecf7;\n",
       "  color: #000000;\n",
       "}\n",
       "#T_02891_row0_col15, #T_02891_row1_col5, #T_02891_row11_col10 {\n",
       "  background-color: #e4eff9;\n",
       "  color: #000000;\n",
       "}\n",
       "#T_02891_row0_col16, #T_02891_row1_col17, #T_02891_row3_col5, #T_02891_row7_col3, #T_02891_row12_col3, #T_02891_row12_col13 {\n",
       "  background-color: #d6e5f4;\n",
       "  color: #000000;\n",
       "}\n",
       "#T_02891_row0_col17, #T_02891_row3_col6, #T_02891_row5_col14, #T_02891_row12_col5, #T_02891_row13_col5, #T_02891_row17_col2 {\n",
       "  background-color: #e0ecf8;\n",
       "  color: #000000;\n",
       "}\n",
       "#T_02891_row1_col0, #T_02891_row7_col13, #T_02891_row11_col14 {\n",
       "  background-color: #caddf0;\n",
       "  color: #000000;\n",
       "}\n",
       "#T_02891_row1_col2, #T_02891_row6_col7, #T_02891_row8_col2, #T_02891_row10_col5, #T_02891_row14_col1 {\n",
       "  background-color: #e3eef8;\n",
       "  color: #000000;\n",
       "}\n",
       "#T_02891_row1_col3, #T_02891_row2_col4, #T_02891_row5_col15 {\n",
       "  background-color: #c7dcef;\n",
       "  color: #000000;\n",
       "}\n",
       "#T_02891_row1_col9, #T_02891_row2_col3, #T_02891_row4_col0, #T_02891_row6_col8 {\n",
       "  background-color: #dfebf7;\n",
       "  color: #000000;\n",
       "}\n",
       "#T_02891_row1_col10, #T_02891_row14_col6, #T_02891_row16_col1 {\n",
       "  background-color: #eff6fc;\n",
       "  color: #000000;\n",
       "}\n",
       "#T_02891_row1_col11 {\n",
       "  background-color: #deebf7;\n",
       "  color: #000000;\n",
       "}\n",
       "#T_02891_row1_col12, #T_02891_row2_col9, #T_02891_row2_col11, #T_02891_row5_col8, #T_02891_row9_col0, #T_02891_row9_col7, #T_02891_row11_col0, #T_02891_row11_col7, #T_02891_row17_col5 {\n",
       "  background-color: #d9e7f5;\n",
       "  color: #000000;\n",
       "}\n",
       "#T_02891_row1_col13 {\n",
       "  background-color: #a8cee4;\n",
       "  color: #000000;\n",
       "}\n",
       "#T_02891_row1_col14, #T_02891_row12_col17 {\n",
       "  background-color: #c9ddf0;\n",
       "  color: #000000;\n",
       "}\n",
       "#T_02891_row1_col15, #T_02891_row3_col4, #T_02891_row17_col8 {\n",
       "  background-color: #c1d9ed;\n",
       "  color: #000000;\n",
       "}\n",
       "#T_02891_row1_col16 {\n",
       "  background-color: #b2d2e8;\n",
       "  color: #000000;\n",
       "}\n",
       "#T_02891_row2_col0, #T_02891_row5_col3, #T_02891_row9_col11, #T_02891_row14_col3, #T_02891_row14_col7 {\n",
       "  background-color: #ccdff1;\n",
       "  color: #000000;\n",
       "}\n",
       "#T_02891_row2_col1, #T_02891_row7_col1, #T_02891_row16_col2, #T_02891_row16_col5, #T_02891_row16_col6 {\n",
       "  background-color: #edf4fc;\n",
       "  color: #000000;\n",
       "}\n",
       "#T_02891_row2_col8, #T_02891_row10_col14 {\n",
       "  background-color: #d6e6f4;\n",
       "  color: #000000;\n",
       "}\n",
       "#T_02891_row2_col12 {\n",
       "  background-color: #dae8f6;\n",
       "  color: #000000;\n",
       "}\n",
       "#T_02891_row2_col13 {\n",
       "  background-color: #a0cbe2;\n",
       "  color: #000000;\n",
       "}\n",
       "#T_02891_row2_col14, #T_02891_row5_col4, #T_02891_row12_col0 {\n",
       "  background-color: #e3eef9;\n",
       "  color: #000000;\n",
       "}\n",
       "#T_02891_row2_col15, #T_02891_row11_col4, #T_02891_row16_col12 {\n",
       "  background-color: #bed8ec;\n",
       "  color: #000000;\n",
       "}\n",
       "#T_02891_row2_col16, #T_02891_row3_col17, #T_02891_row6_col15 {\n",
       "  background-color: #bcd7eb;\n",
       "  color: #000000;\n",
       "}\n",
       "#T_02891_row2_col17, #T_02891_row3_col8, #T_02891_row10_col9, #T_02891_row11_col3, #T_02891_row12_col7 {\n",
       "  background-color: #d0e1f2;\n",
       "  color: #000000;\n",
       "}\n",
       "#T_02891_row3_col0, #T_02891_row3_col7, #T_02891_row5_col9, #T_02891_row5_col11, #T_02891_row8_col0, #T_02891_row10_col2, #T_02891_row14_col0 {\n",
       "  background-color: #dbe9f6;\n",
       "  color: #000000;\n",
       "}\n",
       "#T_02891_row3_col1, #T_02891_row12_col11, #T_02891_row13_col2, #T_02891_row14_col13, #T_02891_row17_col13 {\n",
       "  background-color: #d7e6f5;\n",
       "  color: #000000;\n",
       "}\n",
       "#T_02891_row3_col9, #T_02891_row6_col10, #T_02891_row7_col11, #T_02891_row9_col3, #T_02891_row10_col3 {\n",
       "  background-color: #d4e4f4;\n",
       "  color: #000000;\n",
       "}\n",
       "#T_02891_row3_col11, #T_02891_row4_col2, #T_02891_row4_col13 {\n",
       "  background-color: #d0e2f2;\n",
       "  color: #000000;\n",
       "}\n",
       "#T_02891_row3_col12, #T_02891_row6_col3, #T_02891_row7_col8, #T_02891_row8_col11, #T_02891_row11_col12 {\n",
       "  background-color: #cfe1f2;\n",
       "  color: #000000;\n",
       "}\n",
       "#T_02891_row3_col13, #T_02891_row4_col6, #T_02891_row5_col12, #T_02891_row9_col13 {\n",
       "  background-color: #cee0f2;\n",
       "  color: #000000;\n",
       "}\n",
       "#T_02891_row3_col14, #T_02891_row6_col0, #T_02891_row7_col12, #T_02891_row16_col8 {\n",
       "  background-color: #c2d9ee;\n",
       "  color: #000000;\n",
       "}\n",
       "#T_02891_row3_col15 {\n",
       "  background-color: #9dcae1;\n",
       "  color: #000000;\n",
       "}\n",
       "#T_02891_row3_col16, #T_02891_row7_col16 {\n",
       "  background-color: #92c4de;\n",
       "  color: #000000;\n",
       "}\n",
       "#T_02891_row4_col1, #T_02891_row8_col6, #T_02891_row13_col3, #T_02891_row13_col4, #T_02891_row13_col7, #T_02891_row13_col8, #T_02891_row13_col9, #T_02891_row13_col10, #T_02891_row13_col11, #T_02891_row13_col12, #T_02891_row13_col14, #T_02891_row13_col15, #T_02891_row13_col16, #T_02891_row13_col17, #T_02891_row14_col2, #T_02891_row14_col5, #T_02891_row15_col0, #T_02891_row16_col13 {\n",
       "  background-color: #f7fbff;\n",
       "  color: #000000;\n",
       "}\n",
       "#T_02891_row4_col3, #T_02891_row4_col11, #T_02891_row9_col4, #T_02891_row16_col11 {\n",
       "  background-color: #c3daee;\n",
       "  color: #000000;\n",
       "}\n",
       "#T_02891_row4_col5, #T_02891_row7_col5, #T_02891_row9_col1, #T_02891_row14_col4, #T_02891_row15_col5 {\n",
       "  background-color: #f2f7fd;\n",
       "  color: #000000;\n",
       "}\n",
       "#T_02891_row4_col7, #T_02891_row4_col14 {\n",
       "  background-color: #eaf2fb;\n",
       "  color: #000000;\n",
       "}\n",
       "#T_02891_row4_col8, #T_02891_row4_col10, #T_02891_row5_col16 {\n",
       "  background-color: #b7d4ea;\n",
       "  color: #000000;\n",
       "}\n",
       "#T_02891_row4_col9, #T_02891_row5_col17, #T_02891_row15_col3, #T_02891_row16_col4 {\n",
       "  background-color: #c6dbef;\n",
       "  color: #000000;\n",
       "}\n",
       "#T_02891_row4_col12, #T_02891_row7_col0, #T_02891_row10_col11, #T_02891_row14_col11 {\n",
       "  background-color: #d3e3f3;\n",
       "  color: #000000;\n",
       "}\n",
       "#T_02891_row4_col15 {\n",
       "  background-color: #7ab6d9;\n",
       "  color: #000000;\n",
       "}\n",
       "#T_02891_row4_col16, #T_02891_row8_col15, #T_02891_row8_col16, #T_02891_row9_col15, #T_02891_row12_col16, #T_02891_row14_col15 {\n",
       "  background-color: #94c4df;\n",
       "  color: #000000;\n",
       "}\n",
       "#T_02891_row4_col17, #T_02891_row10_col4 {\n",
       "  background-color: #9cc9e1;\n",
       "  color: #000000;\n",
       "}\n",
       "#T_02891_row5_col0 {\n",
       "  background-color: #c4daee;\n",
       "  color: #000000;\n",
       "}\n",
       "#T_02891_row5_col1, #T_02891_row5_col7, #T_02891_row5_col10, #T_02891_row12_col2 {\n",
       "  background-color: #ebf3fb;\n",
       "  color: #000000;\n",
       "}\n",
       "#T_02891_row5_col2, #T_02891_row6_col1 {\n",
       "  background-color: #e5eff9;\n",
       "  color: #000000;\n",
       "}\n",
       "#T_02891_row5_col13 {\n",
       "  background-color: #a9cfe5;\n",
       "  color: #000000;\n",
       "}\n",
       "#T_02891_row6_col2, #T_02891_row6_col11, #T_02891_row17_col0, #T_02891_row17_col10 {\n",
       "  background-color: #dce9f6;\n",
       "  color: #000000;\n",
       "}\n",
       "#T_02891_row6_col4, #T_02891_row15_col8, #T_02891_row15_col11 {\n",
       "  background-color: #b8d5ea;\n",
       "  color: #000000;\n",
       "}\n",
       "#T_02891_row6_col9 {\n",
       "  background-color: #d9e8f5;\n",
       "  color: #000000;\n",
       "}\n",
       "#T_02891_row6_col12, #T_02891_row8_col7, #T_02891_row10_col12, #T_02891_row12_col4, #T_02891_row17_col7 {\n",
       "  background-color: #d8e7f5;\n",
       "  color: #000000;\n",
       "}\n",
       "#T_02891_row6_col13, #T_02891_row7_col15 {\n",
       "  background-color: #a1cbe2;\n",
       "  color: #000000;\n",
       "}\n",
       "#T_02891_row6_col14, #T_02891_row7_col9, #T_02891_row8_col3, #T_02891_row10_col6, #T_02891_row14_col9 {\n",
       "  background-color: #d3e4f3;\n",
       "  color: #000000;\n",
       "}\n",
       "#T_02891_row6_col16 {\n",
       "  background-color: #aed1e7;\n",
       "  color: #000000;\n",
       "}\n",
       "#T_02891_row6_col17, #T_02891_row9_col14, #T_02891_row11_col9, #T_02891_row16_col7 {\n",
       "  background-color: #cbdef1;\n",
       "  color: #000000;\n",
       "}\n",
       "#T_02891_row7_col6, #T_02891_row11_col1, #T_02891_row15_col6, #T_02891_row16_col0 {\n",
       "  background-color: #f0f6fd;\n",
       "  color: #000000;\n",
       "}\n",
       "#T_02891_row7_col14, #T_02891_row8_col4 {\n",
       "  background-color: #bad6eb;\n",
       "  color: #000000;\n",
       "}\n",
       "#T_02891_row7_col17, #T_02891_row8_col9, #T_02891_row9_col12, #T_02891_row11_col8, #T_02891_row17_col12 {\n",
       "  background-color: #cadef0;\n",
       "  color: #000000;\n",
       "}\n",
       "#T_02891_row8_col1 {\n",
       "  background-color: #f5f9fe;\n",
       "  color: #000000;\n",
       "}\n",
       "#T_02891_row8_col12, #T_02891_row15_col14 {\n",
       "  background-color: #b0d2e7;\n",
       "  color: #000000;\n",
       "}\n",
       "#T_02891_row8_col13, #T_02891_row10_col8 {\n",
       "  background-color: #d2e3f3;\n",
       "  color: #000000;\n",
       "}\n",
       "#T_02891_row8_col14, #T_02891_row10_col0, #T_02891_row14_col17, #T_02891_row17_col14 {\n",
       "  background-color: #cddff1;\n",
       "  color: #000000;\n",
       "}\n",
       "#T_02891_row8_col17, #T_02891_row10_col13 {\n",
       "  background-color: #b9d6ea;\n",
       "  color: #000000;\n",
       "}\n",
       "#T_02891_row9_col8, #T_02891_row12_col14, #T_02891_row16_col3 {\n",
       "  background-color: #c7dbef;\n",
       "  color: #000000;\n",
       "}\n",
       "#T_02891_row9_col16, #T_02891_row12_col15 {\n",
       "  background-color: #8cc0dd;\n",
       "  color: #000000;\n",
       "}\n",
       "#T_02891_row9_col17, #T_02891_row17_col11 {\n",
       "  background-color: #b3d3e8;\n",
       "  color: #000000;\n",
       "}\n",
       "#T_02891_row10_col15 {\n",
       "  background-color: #aacfe5;\n",
       "  color: #000000;\n",
       "}\n",
       "#T_02891_row10_col16, #T_02891_row11_col17, #T_02891_row17_col4 {\n",
       "  background-color: #a5cde3;\n",
       "  color: #000000;\n",
       "}\n",
       "#T_02891_row10_col17, #T_02891_row16_col9, #T_02891_row17_col9 {\n",
       "  background-color: #bfd8ed;\n",
       "  color: #000000;\n",
       "}\n",
       "#T_02891_row11_col13, #T_02891_row15_col7 {\n",
       "  background-color: #cde0f1;\n",
       "  color: #000000;\n",
       "}\n",
       "#T_02891_row11_col15, #T_02891_row11_col16 {\n",
       "  background-color: #8dc1dd;\n",
       "  color: #000000;\n",
       "}\n",
       "#T_02891_row12_col1, #T_02891_row12_col6, #T_02891_row12_col10, #T_02891_row14_col10 {\n",
       "  background-color: #f4f9fe;\n",
       "  color: #000000;\n",
       "}\n",
       "#T_02891_row12_col8 {\n",
       "  background-color: #b4d3e9;\n",
       "  color: #000000;\n",
       "}\n",
       "#T_02891_row12_col9, #T_02891_row14_col8 {\n",
       "  background-color: #d1e2f3;\n",
       "  color: #000000;\n",
       "}\n",
       "#T_02891_row13_col0, #T_02891_row17_col16 {\n",
       "  background-color: #84bcdb;\n",
       "  color: #000000;\n",
       "}\n",
       "#T_02891_row14_col12, #T_02891_row17_col3 {\n",
       "  background-color: #c8dcf0;\n",
       "  color: #000000;\n",
       "}\n",
       "#T_02891_row14_col16 {\n",
       "  background-color: #64a9d3;\n",
       "  color: #f1f1f1;\n",
       "}\n",
       "#T_02891_row15_col1 {\n",
       "  background-color: #f3f8fe;\n",
       "  color: #000000;\n",
       "}\n",
       "#T_02891_row15_col4 {\n",
       "  background-color: #a3cce3;\n",
       "  color: #000000;\n",
       "}\n",
       "#T_02891_row15_col9 {\n",
       "  background-color: #bdd7ec;\n",
       "  color: #000000;\n",
       "}\n",
       "#T_02891_row15_col12, #T_02891_row16_col17 {\n",
       "  background-color: #abd0e6;\n",
       "  color: #000000;\n",
       "}\n",
       "#T_02891_row15_col16 {\n",
       "  background-color: #4594c7;\n",
       "  color: #f1f1f1;\n",
       "}\n",
       "#T_02891_row15_col17 {\n",
       "  background-color: #a4cce3;\n",
       "  color: #000000;\n",
       "}\n",
       "#T_02891_row16_col14 {\n",
       "  background-color: #89bedc;\n",
       "  color: #000000;\n",
       "}\n",
       "#T_02891_row16_col15 {\n",
       "  background-color: #4b98ca;\n",
       "  color: #f1f1f1;\n",
       "}\n",
       "#T_02891_row17_col1 {\n",
       "  background-color: #f2f8fd;\n",
       "  color: #000000;\n",
       "}\n",
       "#T_02891_row17_col15 {\n",
       "  background-color: #85bcdc;\n",
       "  color: #000000;\n",
       "}\n",
       "</style>\n",
       "<table id=\"T_02891\">\n",
       "  <thead>\n",
       "    <tr>\n",
       "      <th class=\"blank level0\" >&nbsp;</th>\n",
       "      <th id=\"T_02891_level0_col0\" class=\"col_heading level0 col0\" >behavior_activity</th>\n",
       "      <th id=\"T_02891_level0_col1\" class=\"col_heading level0 col1\" >behavior_alcohol</th>\n",
       "      <th id=\"T_02891_level0_col2\" class=\"col_heading level0 col2\" >behavior_sleep</th>\n",
       "      <th id=\"T_02891_level0_col3\" class=\"col_heading level0 col3\" >behavior_tobacco</th>\n",
       "      <th id=\"T_02891_level0_col4\" class=\"col_heading level0 col4\" >demg_age</th>\n",
       "      <th id=\"T_02891_level0_col5\" class=\"col_heading level0 col5\" >demg_gender</th>\n",
       "      <th id=\"T_02891_level0_col6\" class=\"col_heading level0 col6\" >demg_race</th>\n",
       "      <th id=\"T_02891_level0_col7\" class=\"col_heading level0 col7\" >disease_asthma</th>\n",
       "      <th id=\"T_02891_level0_col8\" class=\"col_heading level0 col8\" >disease_diabetes</th>\n",
       "      <th id=\"T_02891_level0_col9\" class=\"col_heading level0 col9\" >disease_kidney</th>\n",
       "      <th id=\"T_02891_level0_col10\" class=\"col_heading level0 col10\" >disease_skin</th>\n",
       "      <th id=\"T_02891_level0_col11\" class=\"col_heading level0 col11\" >disease_stroke</th>\n",
       "      <th id=\"T_02891_level0_col12\" class=\"col_heading level0 col12\" >health_bmi</th>\n",
       "      <th id=\"T_02891_level0_col13\" class=\"col_heading level0 col13\" >health_general</th>\n",
       "      <th id=\"T_02891_level0_col14\" class=\"col_heading level0 col14\" >health_mental</th>\n",
       "      <th id=\"T_02891_level0_col15\" class=\"col_heading level0 col15\" >health_mobility</th>\n",
       "      <th id=\"T_02891_level0_col16\" class=\"col_heading level0 col16\" >health_physical</th>\n",
       "      <th id=\"T_02891_level0_col17\" class=\"col_heading level0 col17\" >y_heart_disease</th>\n",
       "    </tr>\n",
       "  </thead>\n",
       "  <tbody>\n",
       "    <tr>\n",
       "      <th id=\"T_02891_level0_row0\" class=\"row_heading level0 row0\" >behavior_activity</th>\n",
       "      <td id=\"T_02891_row0_col0\" class=\"data row0 col0\" >1.000000</td>\n",
       "      <td id=\"T_02891_row0_col1\" class=\"data row0 col1\" >0.017487</td>\n",
       "      <td id=\"T_02891_row0_col2\" class=\"data row0 col2\" >0.003849</td>\n",
       "      <td id=\"T_02891_row0_col3\" class=\"data row0 col3\" >-0.097174</td>\n",
       "      <td id=\"T_02891_row0_col4\" class=\"data row0 col4\" >-0.121465</td>\n",
       "      <td id=\"T_02891_row0_col5\" class=\"data row0 col5\" >0.048247</td>\n",
       "      <td id=\"T_02891_row0_col6\" class=\"data row0 col6\" >0.056767</td>\n",
       "      <td id=\"T_02891_row0_col7\" class=\"data row0 col7\" >-0.041526</td>\n",
       "      <td id=\"T_02891_row0_col8\" class=\"data row0 col8\" >-0.097539</td>\n",
       "      <td id=\"T_02891_row0_col9\" class=\"data row0 col9\" >-0.081827</td>\n",
       "      <td id=\"T_02891_row0_col10\" class=\"data row0 col10\" >-0.001328</td>\n",
       "      <td id=\"T_02891_row0_col11\" class=\"data row0 col11\" >-0.079455</td>\n",
       "      <td id=\"T_02891_row0_col12\" class=\"data row0 col12\" >-0.150616</td>\n",
       "      <td id=\"T_02891_row0_col13\" class=\"data row0 col13\" >0.281249</td>\n",
       "      <td id=\"T_02891_row0_col14\" class=\"data row0 col14\" >-0.095808</td>\n",
       "      <td id=\"T_02891_row0_col15\" class=\"data row0 col15\" >-0.278524</td>\n",
       "      <td id=\"T_02891_row0_col16\" class=\"data row0 col16\" >-0.232283</td>\n",
       "      <td id=\"T_02891_row0_col17\" class=\"data row0 col17\" >-0.100030</td>\n",
       "    </tr>\n",
       "    <tr>\n",
       "      <th id=\"T_02891_level0_row1\" class=\"row_heading level0 row1\" >behavior_alcohol</th>\n",
       "      <td id=\"T_02891_row1_col0\" class=\"data row1 col0\" >0.017487</td>\n",
       "      <td id=\"T_02891_row1_col1\" class=\"data row1 col1\" >1.000000</td>\n",
       "      <td id=\"T_02891_row1_col2\" class=\"data row1 col2\" >-0.005065</td>\n",
       "      <td id=\"T_02891_row1_col3\" class=\"data row1 col3\" >0.111768</td>\n",
       "      <td id=\"T_02891_row1_col4\" class=\"data row1 col4\" >-0.058837</td>\n",
       "      <td id=\"T_02891_row1_col5\" class=\"data row1 col5\" >0.004200</td>\n",
       "      <td id=\"T_02891_row1_col6\" class=\"data row1 col6\" >0.036702</td>\n",
       "      <td id=\"T_02891_row1_col7\" class=\"data row1 col7\" >-0.002202</td>\n",
       "      <td id=\"T_02891_row1_col8\" class=\"data row1 col8\" >-0.042695</td>\n",
       "      <td id=\"T_02891_row1_col9\" class=\"data row1 col9\" >-0.028280</td>\n",
       "      <td id=\"T_02891_row1_col10\" class=\"data row1 col10\" >-0.005702</td>\n",
       "      <td id=\"T_02891_row1_col11\" class=\"data row1 col11\" >-0.019858</td>\n",
       "      <td id=\"T_02891_row1_col12\" class=\"data row1 col12\" >-0.038816</td>\n",
       "      <td id=\"T_02891_row1_col13\" class=\"data row1 col13\" >0.029780</td>\n",
       "      <td id=\"T_02891_row1_col14\" class=\"data row1 col14\" >0.051282</td>\n",
       "      <td id=\"T_02891_row1_col15\" class=\"data row1 col15\" >-0.035328</td>\n",
       "      <td id=\"T_02891_row1_col16\" class=\"data row1 col16\" >-0.017254</td>\n",
       "      <td id=\"T_02891_row1_col17\" class=\"data row1 col17\" >-0.032080</td>\n",
       "    </tr>\n",
       "    <tr>\n",
       "      <th id=\"T_02891_level0_row2\" class=\"row_heading level0 row2\" >behavior_sleep</th>\n",
       "      <td id=\"T_02891_row2_col0\" class=\"data row2 col0\" >0.003849</td>\n",
       "      <td id=\"T_02891_row2_col1\" class=\"data row2 col1\" >-0.005065</td>\n",
       "      <td id=\"T_02891_row2_col2\" class=\"data row2 col2\" >1.000000</td>\n",
       "      <td id=\"T_02891_row2_col3\" class=\"data row2 col3\" >-0.030336</td>\n",
       "      <td id=\"T_02891_row2_col4\" class=\"data row2 col4\" >0.103071</td>\n",
       "      <td id=\"T_02891_row2_col5\" class=\"data row2 col5\" >-0.015704</td>\n",
       "      <td id=\"T_02891_row2_col6\" class=\"data row2 col6\" >0.035889</td>\n",
       "      <td id=\"T_02891_row2_col7\" class=\"data row2 col7\" >-0.048245</td>\n",
       "      <td id=\"T_02891_row2_col8\" class=\"data row2 col8\" >-0.005166</td>\n",
       "      <td id=\"T_02891_row2_col9\" class=\"data row2 col9\" >0.006238</td>\n",
       "      <td id=\"T_02891_row2_col10\" class=\"data row2 col10\" >0.041266</td>\n",
       "      <td id=\"T_02891_row2_col11\" class=\"data row2 col11\" >0.011900</td>\n",
       "      <td id=\"T_02891_row2_col12\" class=\"data row2 col12\" >-0.051822</td>\n",
       "      <td id=\"T_02891_row2_col13\" class=\"data row2 col13\" >0.063071</td>\n",
       "      <td id=\"T_02891_row2_col14\" class=\"data row2 col14\" >-0.119717</td>\n",
       "      <td id=\"T_02891_row2_col15\" class=\"data row2 col15\" >-0.022216</td>\n",
       "      <td id=\"T_02891_row2_col16\" class=\"data row2 col16\" >-0.061387</td>\n",
       "      <td id=\"T_02891_row2_col17\" class=\"data row2 col17\" >0.008327</td>\n",
       "    </tr>\n",
       "    <tr>\n",
       "      <th id=\"T_02891_level0_row3\" class=\"row_heading level0 row3\" >behavior_tobacco</th>\n",
       "      <td id=\"T_02891_row3_col0\" class=\"data row3 col0\" >-0.097174</td>\n",
       "      <td id=\"T_02891_row3_col1\" class=\"data row3 col1\" >0.111768</td>\n",
       "      <td id=\"T_02891_row3_col2\" class=\"data row3 col2\" >-0.030336</td>\n",
       "      <td id=\"T_02891_row3_col3\" class=\"data row3 col3\" >1.000000</td>\n",
       "      <td id=\"T_02891_row3_col4\" class=\"data row3 col4\" >0.130384</td>\n",
       "      <td id=\"T_02891_row3_col5\" class=\"data row3 col5\" >0.085052</td>\n",
       "      <td id=\"T_02891_row3_col6\" class=\"data row3 col6\" >0.065499</td>\n",
       "      <td id=\"T_02891_row3_col7\" class=\"data row3 col7\" >0.024149</td>\n",
       "      <td id=\"T_02891_row3_col8\" class=\"data row3 col8\" >0.038993</td>\n",
       "      <td id=\"T_02891_row3_col9\" class=\"data row3 col9\" >0.034920</td>\n",
       "      <td id=\"T_02891_row3_col10\" class=\"data row3 col10\" >0.033977</td>\n",
       "      <td id=\"T_02891_row3_col11\" class=\"data row3 col11\" >0.061226</td>\n",
       "      <td id=\"T_02891_row3_col12\" class=\"data row3 col12\" >0.023118</td>\n",
       "      <td id=\"T_02891_row3_col13\" class=\"data row3 col13\" >-0.174717</td>\n",
       "      <td id=\"T_02891_row3_col14\" class=\"data row3 col14\" >0.085157</td>\n",
       "      <td id=\"T_02891_row3_col15\" class=\"data row3 col15\" >0.120074</td>\n",
       "      <td id=\"T_02891_row3_col16\" class=\"data row3 col16\" >0.115352</td>\n",
       "      <td id=\"T_02891_row3_col17\" class=\"data row3 col17\" >0.107764</td>\n",
       "    </tr>\n",
       "    <tr>\n",
       "      <th id=\"T_02891_level0_row4\" class=\"row_heading level0 row4\" >demg_age</th>\n",
       "      <td id=\"T_02891_row4_col0\" class=\"data row4 col0\" >-0.121465</td>\n",
       "      <td id=\"T_02891_row4_col1\" class=\"data row4 col1\" >-0.058837</td>\n",
       "      <td id=\"T_02891_row4_col2\" class=\"data row4 col2\" >0.103071</td>\n",
       "      <td id=\"T_02891_row4_col3\" class=\"data row4 col3\" >0.130384</td>\n",
       "      <td id=\"T_02891_row4_col4\" class=\"data row4 col4\" >1.000000</td>\n",
       "      <td id=\"T_02891_row4_col5\" class=\"data row4 col5\" >-0.067682</td>\n",
       "      <td id=\"T_02891_row4_col6\" class=\"data row4 col6\" >0.162777</td>\n",
       "      <td id=\"T_02891_row4_col7\" class=\"data row4 col7\" >-0.058235</td>\n",
       "      <td id=\"T_02891_row4_col8\" class=\"data row4 col8\" >0.154070</td>\n",
       "      <td id=\"T_02891_row4_col9\" class=\"data row4 col9\" >0.122697</td>\n",
       "      <td id=\"T_02891_row4_col10\" class=\"data row4 col10\" >0.262208</td>\n",
       "      <td id=\"T_02891_row4_col11\" class=\"data row4 col11\" >0.137280</td>\n",
       "      <td id=\"T_02891_row4_col12\" class=\"data row4 col12\" >-0.001740</td>\n",
       "      <td id=\"T_02891_row4_col13\" class=\"data row4 col13\" >-0.188236</td>\n",
       "      <td id=\"T_02891_row4_col14\" class=\"data row4 col14\" >-0.155455</td>\n",
       "      <td id=\"T_02891_row4_col15\" class=\"data row4 col15\" >0.242552</td>\n",
       "      <td id=\"T_02891_row4_col16\" class=\"data row4 col16\" >0.110789</td>\n",
       "      <td id=\"T_02891_row4_col17\" class=\"data row4 col17\" >0.232325</td>\n",
       "    </tr>\n",
       "    <tr>\n",
       "      <th id=\"T_02891_level0_row5\" class=\"row_heading level0 row5\" >demg_gender</th>\n",
       "      <td id=\"T_02891_row5_col0\" class=\"data row5 col0\" >0.048247</td>\n",
       "      <td id=\"T_02891_row5_col1\" class=\"data row5 col1\" >0.004200</td>\n",
       "      <td id=\"T_02891_row5_col2\" class=\"data row5 col2\" >-0.015704</td>\n",
       "      <td id=\"T_02891_row5_col3\" class=\"data row5 col3\" >0.085052</td>\n",
       "      <td id=\"T_02891_row5_col4\" class=\"data row5 col4\" >-0.067682</td>\n",
       "      <td id=\"T_02891_row5_col5\" class=\"data row5 col5\" >1.000000</td>\n",
       "      <td id=\"T_02891_row5_col6\" class=\"data row5 col6\" >0.018855</td>\n",
       "      <td id=\"T_02891_row5_col7\" class=\"data row5 col7\" >-0.069191</td>\n",
       "      <td id=\"T_02891_row5_col8\" class=\"data row5 col8\" >-0.018350</td>\n",
       "      <td id=\"T_02891_row5_col9\" class=\"data row5 col9\" >-0.009084</td>\n",
       "      <td id=\"T_02891_row5_col10\" class=\"data row5 col10\" >0.013434</td>\n",
       "      <td id=\"T_02891_row5_col11\" class=\"data row5 col11\" >-0.003091</td>\n",
       "      <td id=\"T_02891_row5_col12\" class=\"data row5 col12\" >0.026940</td>\n",
       "      <td id=\"T_02891_row5_col13\" class=\"data row5 col13\" >0.025947</td>\n",
       "      <td id=\"T_02891_row5_col14\" class=\"data row5 col14\" >-0.100058</td>\n",
       "      <td id=\"T_02891_row5_col15\" class=\"data row5 col15\" >-0.068860</td>\n",
       "      <td id=\"T_02891_row5_col16\" class=\"data row5 col16\" >-0.040904</td>\n",
       "      <td id=\"T_02891_row5_col17\" class=\"data row5 col17\" >0.070040</td>\n",
       "    </tr>\n",
       "    <tr>\n",
       "      <th id=\"T_02891_level0_row6\" class=\"row_heading level0 row6\" >demg_race</th>\n",
       "      <td id=\"T_02891_row6_col0\" class=\"data row6 col0\" >0.056767</td>\n",
       "      <td id=\"T_02891_row6_col1\" class=\"data row6 col1\" >0.036702</td>\n",
       "      <td id=\"T_02891_row6_col2\" class=\"data row6 col2\" >0.035889</td>\n",
       "      <td id=\"T_02891_row6_col3\" class=\"data row6 col3\" >0.065499</td>\n",
       "      <td id=\"T_02891_row6_col4\" class=\"data row6 col4\" >0.162777</td>\n",
       "      <td id=\"T_02891_row6_col5\" class=\"data row6 col5\" >0.018855</td>\n",
       "      <td id=\"T_02891_row6_col6\" class=\"data row6 col6\" >1.000000</td>\n",
       "      <td id=\"T_02891_row6_col7\" class=\"data row6 col7\" >-0.017975</td>\n",
       "      <td id=\"T_02891_row6_col8\" class=\"data row6 col8\" >-0.056252</td>\n",
       "      <td id=\"T_02891_row6_col9\" class=\"data row6 col9\" >0.003709</td>\n",
       "      <td id=\"T_02891_row6_col10\" class=\"data row6 col10\" >0.134780</td>\n",
       "      <td id=\"T_02891_row6_col11\" class=\"data row6 col11\" >-0.003956</td>\n",
       "      <td id=\"T_02891_row6_col12\" class=\"data row6 col12\" >-0.037424</td>\n",
       "      <td id=\"T_02891_row6_col13\" class=\"data row6 col13\" >0.057986</td>\n",
       "      <td id=\"T_02891_row6_col14\" class=\"data row6 col14\" >-0.014491</td>\n",
       "      <td id=\"T_02891_row6_col15\" class=\"data row6 col15\" >-0.015831</td>\n",
       "      <td id=\"T_02891_row6_col16\" class=\"data row6 col16\" >-0.000847</td>\n",
       "      <td id=\"T_02891_row6_col17\" class=\"data row6 col17\" >0.034854</td>\n",
       "    </tr>\n",
       "    <tr>\n",
       "      <th id=\"T_02891_level0_row7\" class=\"row_heading level0 row7\" >disease_asthma</th>\n",
       "      <td id=\"T_02891_row7_col0\" class=\"data row7 col0\" >-0.041526</td>\n",
       "      <td id=\"T_02891_row7_col1\" class=\"data row7 col1\" >-0.002202</td>\n",
       "      <td id=\"T_02891_row7_col2\" class=\"data row7 col2\" >-0.048245</td>\n",
       "      <td id=\"T_02891_row7_col3\" class=\"data row7 col3\" >0.024149</td>\n",
       "      <td id=\"T_02891_row7_col4\" class=\"data row7 col4\" >-0.058235</td>\n",
       "      <td id=\"T_02891_row7_col5\" class=\"data row7 col5\" >-0.069191</td>\n",
       "      <td id=\"T_02891_row7_col6\" class=\"data row7 col6\" >-0.017975</td>\n",
       "      <td id=\"T_02891_row7_col7\" class=\"data row7 col7\" >1.000000</td>\n",
       "      <td id=\"T_02891_row7_col8\" class=\"data row7 col8\" >0.044136</td>\n",
       "      <td id=\"T_02891_row7_col9\" class=\"data row7 col9\" >0.039707</td>\n",
       "      <td id=\"T_02891_row7_col10\" class=\"data row7 col10\" >-0.000396</td>\n",
       "      <td id=\"T_02891_row7_col11\" class=\"data row7 col11\" >0.038866</td>\n",
       "      <td id=\"T_02891_row7_col12\" class=\"data row7 col12\" >0.092345</td>\n",
       "      <td id=\"T_02891_row7_col13\" class=\"data row7 col13\" >-0.137342</td>\n",
       "      <td id=\"T_02891_row7_col14\" class=\"data row7 col14\" >0.114008</td>\n",
       "      <td id=\"T_02891_row7_col15\" class=\"data row7 col15\" >0.103222</td>\n",
       "      <td id=\"T_02891_row7_col16\" class=\"data row7 col16\" >0.117907</td>\n",
       "      <td id=\"T_02891_row7_col17\" class=\"data row7 col17\" >0.041444</td>\n",
       "    </tr>\n",
       "    <tr>\n",
       "      <th id=\"T_02891_level0_row8\" class=\"row_heading level0 row8\" >disease_diabetes</th>\n",
       "      <td id=\"T_02891_row8_col0\" class=\"data row8 col0\" >-0.097539</td>\n",
       "      <td id=\"T_02891_row8_col1\" class=\"data row8 col1\" >-0.042695</td>\n",
       "      <td id=\"T_02891_row8_col2\" class=\"data row8 col2\" >-0.005166</td>\n",
       "      <td id=\"T_02891_row8_col3\" class=\"data row8 col3\" >0.038993</td>\n",
       "      <td id=\"T_02891_row8_col4\" class=\"data row8 col4\" >0.154070</td>\n",
       "      <td id=\"T_02891_row8_col5\" class=\"data row8 col5\" >-0.018350</td>\n",
       "      <td id=\"T_02891_row8_col6\" class=\"data row8 col6\" >-0.056252</td>\n",
       "      <td id=\"T_02891_row8_col7\" class=\"data row8 col7\" >0.044136</td>\n",
       "      <td id=\"T_02891_row8_col8\" class=\"data row8 col8\" >1.000000</td>\n",
       "      <td id=\"T_02891_row8_col9\" class=\"data row8 col9\" >0.095186</td>\n",
       "      <td id=\"T_02891_row8_col10\" class=\"data row8 col10\" >0.024113</td>\n",
       "      <td id=\"T_02891_row8_col11\" class=\"data row8 col11\" >0.072476</td>\n",
       "      <td id=\"T_02891_row8_col12\" class=\"data row8 col12\" >0.163437</td>\n",
       "      <td id=\"T_02891_row8_col13\" class=\"data row8 col13\" >-0.204278</td>\n",
       "      <td id=\"T_02891_row8_col14\" class=\"data row8 col14\" >0.029970</td>\n",
       "      <td id=\"T_02891_row8_col15\" class=\"data row8 col15\" >0.152876</td>\n",
       "      <td id=\"T_02891_row8_col16\" class=\"data row8 col16\" >0.111644</td>\n",
       "      <td id=\"T_02891_row8_col17\" class=\"data row8 col17\" >0.118281</td>\n",
       "    </tr>\n",
       "    <tr>\n",
       "      <th id=\"T_02891_level0_row9\" class=\"row_heading level0 row9\" >disease_kidney</th>\n",
       "      <td id=\"T_02891_row9_col0\" class=\"data row9 col0\" >-0.081827</td>\n",
       "      <td id=\"T_02891_row9_col1\" class=\"data row9 col1\" >-0.028280</td>\n",
       "      <td id=\"T_02891_row9_col2\" class=\"data row9 col2\" >0.006238</td>\n",
       "      <td id=\"T_02891_row9_col3\" class=\"data row9 col3\" >0.034920</td>\n",
       "      <td id=\"T_02891_row9_col4\" class=\"data row9 col4\" >0.122697</td>\n",
       "      <td id=\"T_02891_row9_col5\" class=\"data row9 col5\" >-0.009084</td>\n",
       "      <td id=\"T_02891_row9_col6\" class=\"data row9 col6\" >0.003709</td>\n",
       "      <td id=\"T_02891_row9_col7\" class=\"data row9 col7\" >0.039707</td>\n",
       "      <td id=\"T_02891_row9_col8\" class=\"data row9 col8\" >0.095186</td>\n",
       "      <td id=\"T_02891_row9_col9\" class=\"data row9 col9\" >1.000000</td>\n",
       "      <td id=\"T_02891_row9_col10\" class=\"data row9 col10\" >0.061816</td>\n",
       "      <td id=\"T_02891_row9_col11\" class=\"data row9 col11\" >0.091167</td>\n",
       "      <td id=\"T_02891_row9_col12\" class=\"data row9 col12\" >0.050768</td>\n",
       "      <td id=\"T_02891_row9_col13\" class=\"data row9 col13\" >-0.174642</td>\n",
       "      <td id=\"T_02891_row9_col14\" class=\"data row9 col14\" >0.037281</td>\n",
       "      <td id=\"T_02891_row9_col15\" class=\"data row9 col15\" >0.153064</td>\n",
       "      <td id=\"T_02891_row9_col16\" class=\"data row9 col16\" >0.142197</td>\n",
       "      <td id=\"T_02891_row9_col17\" class=\"data row9 col17\" >0.145197</td>\n",
       "    </tr>\n",
       "    <tr>\n",
       "      <th id=\"T_02891_level0_row10\" class=\"row_heading level0 row10\" >disease_skin</th>\n",
       "      <td id=\"T_02891_row10_col0\" class=\"data row10 col0\" >-0.001328</td>\n",
       "      <td id=\"T_02891_row10_col1\" class=\"data row10 col1\" >-0.005702</td>\n",
       "      <td id=\"T_02891_row10_col2\" class=\"data row10 col2\" >0.041266</td>\n",
       "      <td id=\"T_02891_row10_col3\" class=\"data row10 col3\" >0.033977</td>\n",
       "      <td id=\"T_02891_row10_col4\" class=\"data row10 col4\" >0.262208</td>\n",
       "      <td id=\"T_02891_row10_col5\" class=\"data row10 col5\" >0.013434</td>\n",
       "      <td id=\"T_02891_row10_col6\" class=\"data row10 col6\" >0.134780</td>\n",
       "      <td id=\"T_02891_row10_col7\" class=\"data row10 col7\" >-0.000396</td>\n",
       "      <td id=\"T_02891_row10_col8\" class=\"data row10 col8\" >0.024113</td>\n",
       "      <td id=\"T_02891_row10_col9\" class=\"data row10 col9\" >0.061816</td>\n",
       "      <td id=\"T_02891_row10_col10\" class=\"data row10 col10\" >1.000000</td>\n",
       "      <td id=\"T_02891_row10_col11\" class=\"data row10 col11\" >0.048116</td>\n",
       "      <td id=\"T_02891_row10_col12\" class=\"data row10 col12\" >-0.033644</td>\n",
       "      <td id=\"T_02891_row10_col13\" class=\"data row10 col13\" >-0.050641</td>\n",
       "      <td id=\"T_02891_row10_col14\" class=\"data row10 col14\" >-0.033412</td>\n",
       "      <td id=\"T_02891_row10_col15\" class=\"data row10 col15\" >0.064840</td>\n",
       "      <td id=\"T_02891_row10_col16\" class=\"data row10 col16\" >0.041700</td>\n",
       "      <td id=\"T_02891_row10_col17\" class=\"data row10 col17\" >0.093317</td>\n",
       "    </tr>\n",
       "    <tr>\n",
       "      <th id=\"T_02891_level0_row11\" class=\"row_heading level0 row11\" >disease_stroke</th>\n",
       "      <td id=\"T_02891_row11_col0\" class=\"data row11 col0\" >-0.079455</td>\n",
       "      <td id=\"T_02891_row11_col1\" class=\"data row11 col1\" >-0.019858</td>\n",
       "      <td id=\"T_02891_row11_col2\" class=\"data row11 col2\" >0.011900</td>\n",
       "      <td id=\"T_02891_row11_col3\" class=\"data row11 col3\" >0.061226</td>\n",
       "      <td id=\"T_02891_row11_col4\" class=\"data row11 col4\" >0.137280</td>\n",
       "      <td id=\"T_02891_row11_col5\" class=\"data row11 col5\" >-0.003091</td>\n",
       "      <td id=\"T_02891_row11_col6\" class=\"data row11 col6\" >-0.003956</td>\n",
       "      <td id=\"T_02891_row11_col7\" class=\"data row11 col7\" >0.038866</td>\n",
       "      <td id=\"T_02891_row11_col8\" class=\"data row11 col8\" >0.072476</td>\n",
       "      <td id=\"T_02891_row11_col9\" class=\"data row11 col9\" >0.091167</td>\n",
       "      <td id=\"T_02891_row11_col10\" class=\"data row11 col10\" >0.048116</td>\n",
       "      <td id=\"T_02891_row11_col11\" class=\"data row11 col11\" >1.000000</td>\n",
       "      <td id=\"T_02891_row11_col12\" class=\"data row11 col12\" >0.019733</td>\n",
       "      <td id=\"T_02891_row11_col13\" class=\"data row11 col13\" >-0.168090</td>\n",
       "      <td id=\"T_02891_row11_col14\" class=\"data row11 col14\" >0.046467</td>\n",
       "      <td id=\"T_02891_row11_col15\" class=\"data row11 col15\" >0.174143</td>\n",
       "      <td id=\"T_02891_row11_col16\" class=\"data row11 col16\" >0.137014</td>\n",
       "      <td id=\"T_02891_row11_col17\" class=\"data row11 col17\" >0.196835</td>\n",
       "    </tr>\n",
       "    <tr>\n",
       "      <th id=\"T_02891_level0_row12\" class=\"row_heading level0 row12\" >health_bmi</th>\n",
       "      <td id=\"T_02891_row12_col0\" class=\"data row12 col0\" >-0.150616</td>\n",
       "      <td id=\"T_02891_row12_col1\" class=\"data row12 col1\" >-0.038816</td>\n",
       "      <td id=\"T_02891_row12_col2\" class=\"data row12 col2\" >-0.051822</td>\n",
       "      <td id=\"T_02891_row12_col3\" class=\"data row12 col3\" >0.023118</td>\n",
       "      <td id=\"T_02891_row12_col4\" class=\"data row12 col4\" >-0.001740</td>\n",
       "      <td id=\"T_02891_row12_col5\" class=\"data row12 col5\" >0.026940</td>\n",
       "      <td id=\"T_02891_row12_col6\" class=\"data row12 col6\" >-0.037424</td>\n",
       "      <td id=\"T_02891_row12_col7\" class=\"data row12 col7\" >0.092345</td>\n",
       "      <td id=\"T_02891_row12_col8\" class=\"data row12 col8\" >0.163437</td>\n",
       "      <td id=\"T_02891_row12_col9\" class=\"data row12 col9\" >0.050768</td>\n",
       "      <td id=\"T_02891_row12_col10\" class=\"data row12 col10\" >-0.033644</td>\n",
       "      <td id=\"T_02891_row12_col11\" class=\"data row12 col11\" >0.019733</td>\n",
       "      <td id=\"T_02891_row12_col12\" class=\"data row12 col12\" >1.000000</td>\n",
       "      <td id=\"T_02891_row12_col13\" class=\"data row12 col13\" >-0.230720</td>\n",
       "      <td id=\"T_02891_row12_col14\" class=\"data row12 col14\" >0.064131</td>\n",
       "      <td id=\"T_02891_row12_col15\" class=\"data row12 col15\" >0.181678</td>\n",
       "      <td id=\"T_02891_row12_col16\" class=\"data row12 col16\" >0.109788</td>\n",
       "      <td id=\"T_02891_row12_col17\" class=\"data row12 col17\" >0.051803</td>\n",
       "    </tr>\n",
       "    <tr>\n",
       "      <th id=\"T_02891_level0_row13\" class=\"row_heading level0 row13\" >health_general</th>\n",
       "      <td id=\"T_02891_row13_col0\" class=\"data row13 col0\" >0.281249</td>\n",
       "      <td id=\"T_02891_row13_col1\" class=\"data row13 col1\" >0.029780</td>\n",
       "      <td id=\"T_02891_row13_col2\" class=\"data row13 col2\" >0.063071</td>\n",
       "      <td id=\"T_02891_row13_col3\" class=\"data row13 col3\" >-0.174717</td>\n",
       "      <td id=\"T_02891_row13_col4\" class=\"data row13 col4\" >-0.188236</td>\n",
       "      <td id=\"T_02891_row13_col5\" class=\"data row13 col5\" >0.025947</td>\n",
       "      <td id=\"T_02891_row13_col6\" class=\"data row13 col6\" >0.057986</td>\n",
       "      <td id=\"T_02891_row13_col7\" class=\"data row13 col7\" >-0.137342</td>\n",
       "      <td id=\"T_02891_row13_col8\" class=\"data row13 col8\" >-0.204278</td>\n",
       "      <td id=\"T_02891_row13_col9\" class=\"data row13 col9\" >-0.174642</td>\n",
       "      <td id=\"T_02891_row13_col10\" class=\"data row13 col10\" >-0.050641</td>\n",
       "      <td id=\"T_02891_row13_col11\" class=\"data row13 col11\" >-0.168090</td>\n",
       "      <td id=\"T_02891_row13_col12\" class=\"data row13 col12\" >-0.230720</td>\n",
       "      <td id=\"T_02891_row13_col13\" class=\"data row13 col13\" >1.000000</td>\n",
       "      <td id=\"T_02891_row13_col14\" class=\"data row13 col14\" >-0.241625</td>\n",
       "      <td id=\"T_02891_row13_col15\" class=\"data row13 col15\" >-0.413797</td>\n",
       "      <td id=\"T_02891_row13_col16\" class=\"data row13 col16\" >-0.482697</td>\n",
       "      <td id=\"T_02891_row13_col17\" class=\"data row13 col17\" >-0.243182</td>\n",
       "    </tr>\n",
       "    <tr>\n",
       "      <th id=\"T_02891_level0_row14\" class=\"row_heading level0 row14\" >health_mental</th>\n",
       "      <td id=\"T_02891_row14_col0\" class=\"data row14 col0\" >-0.095808</td>\n",
       "      <td id=\"T_02891_row14_col1\" class=\"data row14 col1\" >0.051282</td>\n",
       "      <td id=\"T_02891_row14_col2\" class=\"data row14 col2\" >-0.119717</td>\n",
       "      <td id=\"T_02891_row14_col3\" class=\"data row14 col3\" >0.085157</td>\n",
       "      <td id=\"T_02891_row14_col4\" class=\"data row14 col4\" >-0.155455</td>\n",
       "      <td id=\"T_02891_row14_col5\" class=\"data row14 col5\" >-0.100058</td>\n",
       "      <td id=\"T_02891_row14_col6\" class=\"data row14 col6\" >-0.014491</td>\n",
       "      <td id=\"T_02891_row14_col7\" class=\"data row14 col7\" >0.114008</td>\n",
       "      <td id=\"T_02891_row14_col8\" class=\"data row14 col8\" >0.029970</td>\n",
       "      <td id=\"T_02891_row14_col9\" class=\"data row14 col9\" >0.037281</td>\n",
       "      <td id=\"T_02891_row14_col10\" class=\"data row14 col10\" >-0.033412</td>\n",
       "      <td id=\"T_02891_row14_col11\" class=\"data row14 col11\" >0.046467</td>\n",
       "      <td id=\"T_02891_row14_col12\" class=\"data row14 col12\" >0.064131</td>\n",
       "      <td id=\"T_02891_row14_col13\" class=\"data row14 col13\" >-0.241625</td>\n",
       "      <td id=\"T_02891_row14_col14\" class=\"data row14 col14\" >1.000000</td>\n",
       "      <td id=\"T_02891_row14_col15\" class=\"data row14 col15\" >0.152235</td>\n",
       "      <td id=\"T_02891_row14_col16\" class=\"data row14 col16\" >0.287987</td>\n",
       "      <td id=\"T_02891_row14_col17\" class=\"data row14 col17\" >0.028591</td>\n",
       "    </tr>\n",
       "    <tr>\n",
       "      <th id=\"T_02891_level0_row15\" class=\"row_heading level0 row15\" >health_mobility</th>\n",
       "      <td id=\"T_02891_row15_col0\" class=\"data row15 col0\" >-0.278524</td>\n",
       "      <td id=\"T_02891_row15_col1\" class=\"data row15 col1\" >-0.035328</td>\n",
       "      <td id=\"T_02891_row15_col2\" class=\"data row15 col2\" >-0.022216</td>\n",
       "      <td id=\"T_02891_row15_col3\" class=\"data row15 col3\" >0.120074</td>\n",
       "      <td id=\"T_02891_row15_col4\" class=\"data row15 col4\" >0.242552</td>\n",
       "      <td id=\"T_02891_row15_col5\" class=\"data row15 col5\" >-0.068860</td>\n",
       "      <td id=\"T_02891_row15_col6\" class=\"data row15 col6\" >-0.015831</td>\n",
       "      <td id=\"T_02891_row15_col7\" class=\"data row15 col7\" >0.103222</td>\n",
       "      <td id=\"T_02891_row15_col8\" class=\"data row15 col8\" >0.152876</td>\n",
       "      <td id=\"T_02891_row15_col9\" class=\"data row15 col9\" >0.153064</td>\n",
       "      <td id=\"T_02891_row15_col10\" class=\"data row15 col10\" >0.064840</td>\n",
       "      <td id=\"T_02891_row15_col11\" class=\"data row15 col11\" >0.174143</td>\n",
       "      <td id=\"T_02891_row15_col12\" class=\"data row15 col12\" >0.181678</td>\n",
       "      <td id=\"T_02891_row15_col13\" class=\"data row15 col13\" >-0.413797</td>\n",
       "      <td id=\"T_02891_row15_col14\" class=\"data row15 col14\" >0.152235</td>\n",
       "      <td id=\"T_02891_row15_col15\" class=\"data row15 col15\" >1.000000</td>\n",
       "      <td id=\"T_02891_row15_col16\" class=\"data row15 col16\" >0.428373</td>\n",
       "      <td id=\"T_02891_row15_col17\" class=\"data row15 col17\" >0.201258</td>\n",
       "    </tr>\n",
       "    <tr>\n",
       "      <th id=\"T_02891_level0_row16\" class=\"row_heading level0 row16\" >health_physical</th>\n",
       "      <td id=\"T_02891_row16_col0\" class=\"data row16 col0\" >-0.232283</td>\n",
       "      <td id=\"T_02891_row16_col1\" class=\"data row16 col1\" >-0.017254</td>\n",
       "      <td id=\"T_02891_row16_col2\" class=\"data row16 col2\" >-0.061387</td>\n",
       "      <td id=\"T_02891_row16_col3\" class=\"data row16 col3\" >0.115352</td>\n",
       "      <td id=\"T_02891_row16_col4\" class=\"data row16 col4\" >0.110789</td>\n",
       "      <td id=\"T_02891_row16_col5\" class=\"data row16 col5\" >-0.040904</td>\n",
       "      <td id=\"T_02891_row16_col6\" class=\"data row16 col6\" >-0.000847</td>\n",
       "      <td id=\"T_02891_row16_col7\" class=\"data row16 col7\" >0.117907</td>\n",
       "      <td id=\"T_02891_row16_col8\" class=\"data row16 col8\" >0.111644</td>\n",
       "      <td id=\"T_02891_row16_col9\" class=\"data row16 col9\" >0.142197</td>\n",
       "      <td id=\"T_02891_row16_col10\" class=\"data row16 col10\" >0.041700</td>\n",
       "      <td id=\"T_02891_row16_col11\" class=\"data row16 col11\" >0.137014</td>\n",
       "      <td id=\"T_02891_row16_col12\" class=\"data row16 col12\" >0.109788</td>\n",
       "      <td id=\"T_02891_row16_col13\" class=\"data row16 col13\" >-0.482697</td>\n",
       "      <td id=\"T_02891_row16_col14\" class=\"data row16 col14\" >0.287987</td>\n",
       "      <td id=\"T_02891_row16_col15\" class=\"data row16 col15\" >0.428373</td>\n",
       "      <td id=\"T_02891_row16_col16\" class=\"data row16 col16\" >1.000000</td>\n",
       "      <td id=\"T_02891_row16_col17\" class=\"data row16 col17\" >0.170721</td>\n",
       "    </tr>\n",
       "    <tr>\n",
       "      <th id=\"T_02891_level0_row17\" class=\"row_heading level0 row17\" >y_heart_disease</th>\n",
       "      <td id=\"T_02891_row17_col0\" class=\"data row17 col0\" >-0.100030</td>\n",
       "      <td id=\"T_02891_row17_col1\" class=\"data row17 col1\" >-0.032080</td>\n",
       "      <td id=\"T_02891_row17_col2\" class=\"data row17 col2\" >0.008327</td>\n",
       "      <td id=\"T_02891_row17_col3\" class=\"data row17 col3\" >0.107764</td>\n",
       "      <td id=\"T_02891_row17_col4\" class=\"data row17 col4\" >0.232325</td>\n",
       "      <td id=\"T_02891_row17_col5\" class=\"data row17 col5\" >0.070040</td>\n",
       "      <td id=\"T_02891_row17_col6\" class=\"data row17 col6\" >0.034854</td>\n",
       "      <td id=\"T_02891_row17_col7\" class=\"data row17 col7\" >0.041444</td>\n",
       "      <td id=\"T_02891_row17_col8\" class=\"data row17 col8\" >0.118281</td>\n",
       "      <td id=\"T_02891_row17_col9\" class=\"data row17 col9\" >0.145197</td>\n",
       "      <td id=\"T_02891_row17_col10\" class=\"data row17 col10\" >0.093317</td>\n",
       "      <td id=\"T_02891_row17_col11\" class=\"data row17 col11\" >0.196835</td>\n",
       "      <td id=\"T_02891_row17_col12\" class=\"data row17 col12\" >0.051803</td>\n",
       "      <td id=\"T_02891_row17_col13\" class=\"data row17 col13\" >-0.243182</td>\n",
       "      <td id=\"T_02891_row17_col14\" class=\"data row17 col14\" >0.028591</td>\n",
       "      <td id=\"T_02891_row17_col15\" class=\"data row17 col15\" >0.201258</td>\n",
       "      <td id=\"T_02891_row17_col16\" class=\"data row17 col16\" >0.170721</td>\n",
       "      <td id=\"T_02891_row17_col17\" class=\"data row17 col17\" >1.000000</td>\n",
       "    </tr>\n",
       "  </tbody>\n",
       "</table>\n"
      ],
      "text/plain": [
       "<pandas.io.formats.style.Styler at 0x7fcde5837ca0>"
      ]
     },
     "execution_count": 5,
     "metadata": {},
     "output_type": "execute_result"
    }
   ],
   "source": [
    "# correlation matrix\n",
    "heart_disease_df_map.corr().style.background_gradient(cmap='Blues')\n"
   ]
  },
  {
   "cell_type": "markdown",
   "id": "f1f0dca5",
   "metadata": {},
   "source": [
    "#### A classification model is viable."
   ]
  },
  {
   "cell_type": "markdown",
   "id": "81bb0dab",
   "metadata": {},
   "source": [
    "[back to top](#top)"
   ]
  },
  {
   "cell_type": "code",
   "execution_count": null,
   "id": "de33d58b",
   "metadata": {},
   "outputs": [],
   "source": [
    "# target vs age\n",
    "ax = sns.boxplot(x='y_heart_disease', y='demg_age', data=heart_disease_df_map)\n",
    "ax.set_xticklabels(['No', 'Yes']);\n"
   ]
  },
  {
   "cell_type": "code",
   "execution_count": null,
   "id": "fe9c4496",
   "metadata": {},
   "outputs": [],
   "source": [
    "# target vs mobility\n",
    "sns.boxplot(x='y_heart_disease', y='health_bmi', data=heart_disease_df_map)\n",
    "ax.set_xticklabels(['No', 'Yes']);\n"
   ]
  },
  {
   "cell_type": "code",
   "execution_count": null,
   "id": "ed54dfa5",
   "metadata": {},
   "outputs": [],
   "source": [
    "# target vs physical health\n",
    "sns.boxplot(x='y_heart_disease', y='health_physical', data=heart_disease_df_map)\n",
    "ax.set_xticklabels(['No', 'Yes']);\n"
   ]
  },
  {
   "cell_type": "code",
   "execution_count": null,
   "id": "8c5d4d6b",
   "metadata": {},
   "outputs": [],
   "source": [
    "# target distribution\n",
    "print('Positives/Negatives Ratio:', round(27373/292422, 4) * 100, '%')\n",
    "print(heart_disease_df['y_heart_disease'].value_counts())\n"
   ]
  },
  {
   "cell_type": "markdown",
   "id": "f90d7cac",
   "metadata": {},
   "source": [
    "[back to top](#top)"
   ]
  },
  {
   "cell_type": "markdown",
   "id": "36c7ed45",
   "metadata": {},
   "source": [
    "### 3.3 Classification metrics<a id='33'></a> "
   ]
  },
  {
   "cell_type": "markdown",
   "id": "dae9fb9b",
   "metadata": {},
   "source": [
    "* **Recall** to maximize on patients who are true positives for heart disease.\n",
    "* **ROC AUC** to identify high vs low risk patients. "
   ]
  },
  {
   "cell_type": "markdown",
   "id": "8a71be59",
   "metadata": {},
   "source": [
    "[back to top](#top)"
   ]
  },
  {
   "cell_type": "markdown",
   "id": "a3c710fb",
   "metadata": {},
   "source": [
    "## 4 | Baseline<a id='4'></a> "
   ]
  },
  {
   "cell_type": "markdown",
   "id": "1678c1ca",
   "metadata": {},
   "source": [
    "#### Logistic regression with three features based on correlation matrix."
   ]
  },
  {
   "cell_type": "code",
   "execution_count": 6,
   "id": "37677e9b",
   "metadata": {},
   "outputs": [],
   "source": [
    "# separate target from features based on the correlation matrix\n",
    "y_base = heart_disease_df_map['y_heart_disease'] \n",
    "X_base = heart_disease_df_map.loc[:, [\n",
    "#     'behavior_activity', \n",
    "#     'behavior_alcohol', \n",
    "#     'behavior_sleep',\n",
    "#     'behavior_tobacco',\n",
    "    'demg_age',\n",
    "#     'demg_gender', \n",
    "#     'demg_race',\n",
    "#     'disease_asthma', \n",
    "#     'disease_diabetes', \n",
    "#     'disease_kidney', \n",
    "#     'disease_skin', \n",
    "#     'disease_stroke', \n",
    "#     'health_bmi', \n",
    "#     'health_general', \n",
    "#     'health_mental',\n",
    "    'health_mobility', \n",
    "    'health_physical'\n",
    "    ]]\n",
    "\n",
    "# split baseline data test/train/validate\n",
    "X_train_base, X_test_base, y_train_base, y_test_base = train_test_split(X_base,\n",
    "                                                                        y_base,\n",
    "                                                                        test_size=0.2,\n",
    "                                                                        random_state=42)\n",
    "X_train_base, X_val_base, y_train_base, y_val_base = train_test_split(X_train_base, \n",
    "                                                                                y_train_base, \n",
    "                                                                                test_size = .25, \n",
    "                                                                                random_state = 42)\n",
    "\n",
    "# scale baseline X train/test\n",
    "scaler = StandardScaler()\n",
    "X_train_scaled_base = scaler.fit_transform(X_train_base)\n",
    "X_test_scaled_base = scaler.transform(X_test_base)\n",
    "X_val_scaled_base = scaler.transform(X_val_base)\n"
   ]
  },
  {
   "cell_type": "code",
   "execution_count": 9,
   "id": "2eac6c45",
   "metadata": {},
   "outputs": [
    {
     "name": "stdout",
     "output_type": "stream",
     "text": [
      "Baseline logistic regression recall (val): 0.36\n",
      "Baseline logistic regression ROC AUC score (val): 0.7858\n"
     ]
    }
   ],
   "source": [
    "# baseline logistic regression X train scaled & y train\n",
    "log_reg_base = LogisticRegression().fit(X_train_scaled_base, y_train_base)\n",
    "\n",
    "# baseline predict on X_validate_scaled_m \n",
    "y_pred_base = log_reg_base.predict(X_val_scaled_base) \n",
    "\n",
    "\n",
    "# score on X_test_scaled and y_test\n",
    "print(\"Baseline logistic regression recall (val):\", round(\n",
    "    recall_score(log_reg_base.predict(X_val_scaled_base), y_val_base), 4))\n",
    "\n",
    "print(\"Baseline logistic regression ROC AUC score (val):\",  round(\n",
    "    roc_auc_score(y_val_base, log_reg_base.predict_proba(X_val_scaled_base)[:,1]), 4))\n",
    "\n"
   ]
  },
  {
   "cell_type": "markdown",
   "id": "33917bdd",
   "metadata": {},
   "source": [
    "[back to top](#top)"
   ]
  },
  {
   "cell_type": "markdown",
   "id": "bc6f8fac",
   "metadata": {},
   "source": [
    "## 5 | Validation<a id='5'></a>"
   ]
  },
  {
   "cell_type": "markdown",
   "id": "ae0c37fa",
   "metadata": {},
   "source": [
    "#### Validation and testing scheme to use in [model selection](#7). "
   ]
  },
  {
   "cell_type": "code",
   "execution_count": 10,
   "id": "bad7c7ef",
   "metadata": {},
   "outputs": [],
   "source": [
    "# separate target from features \n",
    "y = heart_disease_df_map['y_heart_disease'] \n",
    "X = heart_disease_df_map.loc[:, [\n",
    "    'behavior_activity', \n",
    "    'behavior_alcohol', \n",
    "    'behavior_sleep',\n",
    "    'behavior_tobacco',\n",
    "    'demg_age',\n",
    "    'demg_gender', \n",
    "    'demg_race',\n",
    "    'disease_asthma', \n",
    "    'disease_diabetes', \n",
    "    'disease_kidney', \n",
    "    'disease_skin', \n",
    "    'disease_stroke', \n",
    "    'health_bmi', \n",
    "    'health_general', \n",
    "    'health_mental',\n",
    "    'health_mobility', \n",
    "    'health_physical'\n",
    "    ]]\n",
    "\n",
    "# split data test/train/validate\n",
    "X_train, X_test, y_train, y_test = train_test_split(X, \n",
    "                                                    y, \n",
    "                                                    test_size=0.2, \n",
    "                                                    random_state=42)\n",
    "X_train, X_val, y_train, y_val = train_test_split(X_train, \n",
    "                                                            y_train, \n",
    "                                                            test_size = .25, \n",
    "                                                            random_state = 42)\n",
    "\n",
    "# scale X train/test/validate\n",
    "scaler = StandardScaler()\n",
    "X_train_scaled = scaler.fit_transform(X_train)\n",
    "X_test_scaled = scaler.transform(X_test)\n",
    "X_val_scaled = scaler.transform(X_val)\n"
   ]
  },
  {
   "cell_type": "markdown",
   "id": "3822eed6",
   "metadata": {},
   "source": [
    "[back to top](#top)"
   ]
  },
  {
   "cell_type": "markdown",
   "id": "dd1a1148",
   "metadata": {},
   "source": [
    "## 6 | Model Iterations <a id='6'></a> "
   ]
  },
  {
   "cell_type": "markdown",
   "id": "e2dc5899",
   "metadata": {},
   "source": [
    "- Starting from the baseline and in an iterative, validated loop ask: \n",
    "    - Do you need more complexity or less (underfitting vs. overfitting)? \n",
    "    - Do you need a fancier model (nonlinear, additional feature engineering / transformations)? \n",
    "    - If you need more complexity, try tree-based models such as random forest or gradient boosted trees. \n",
    "    - Are you overfitting and need to make your model more conservative by removing features or using regularization? - Hopefully you can quickly acquire an understanding of which direction you need to go in from your baseline and early modeling results, then make more fine-tuned changes as you go.\n",
    "\n",
    "\n",
    "- The impact of model choices should be consistently measured against the same validation data as in part 3, using your relevant classification performance metrics such as F1 or ROC AUC. \n"
   ]
  },
  {
   "cell_type": "markdown",
   "id": "d1a3323e",
   "metadata": {},
   "source": [
    "[back to top](#top)"
   ]
  },
  {
   "cell_type": "markdown",
   "id": "2e3ef44d",
   "metadata": {},
   "source": [
    "### 6.1 k-Nearest Neighbors<a id='61'></a> "
   ]
  },
  {
   "cell_type": "code",
   "execution_count": 55,
   "id": "0783404b",
   "metadata": {},
   "outputs": [
    {
     "data": {
      "text/plain": [
       "KNeighborsClassifier(n_neighbors=3)"
      ]
     },
     "execution_count": 55,
     "metadata": {},
     "output_type": "execute_result"
    }
   ],
   "source": [
    "knn = KNeighborsClassifier(n_neighbors=3)\n",
    "knn.fit(X, y)\n",
    "knn\n",
    "\n",
    "# print(\"The score for kNN is\")\n",
    "# print(\"Training: {:6.2f}%\".format(100*knn.score(X_train, y_train)))\n",
    "# print(\"Test set: {:6.2f}%\".format(100*knn.score(X_test, y_test)))\n",
    "\n"
   ]
  },
  {
   "cell_type": "markdown",
   "id": "09011a22",
   "metadata": {},
   "source": [
    "[back to top](#top)"
   ]
  },
  {
   "cell_type": "markdown",
   "id": "c7feeffa",
   "metadata": {},
   "source": [
    "### 6.2 Logistic Regression<a id='62'></a> "
   ]
  },
  {
   "cell_type": "code",
   "execution_count": 13,
   "id": "95db7d9b",
   "metadata": {},
   "outputs": [
    {
     "name": "stdout",
     "output_type": "stream",
     "text": [
      "Logistic regression recall score (val): 0.5195\n",
      "Logistic regression ROC AUC score (val): 0.8411\n"
     ]
    }
   ],
   "source": [
    "log_reg = LogisticRegression().fit(X_train_scaled, y_train)\n",
    "y_pred_log_reg = log_reg.predict(X_val_scaled) \n",
    "\n",
    "print(\"Logistic regression recall score (val):\", round(\n",
    "    recall_score(log_reg.predict(X_val_scaled), y_val), 4))\n",
    "print(\"Logistic regression ROC AUC score (val):\",  round(\n",
    "    roc_auc_score(y_val, log_reg.predict_proba(X_val_scaled)[:,1]), 4))\n",
    "\n"
   ]
  },
  {
   "cell_type": "markdown",
   "id": "9c286909",
   "metadata": {},
   "source": [
    "Logistic regression maybe [model winner](#7), recall score improved from [baseline](#4).<br/>\n"
   ]
  },
  {
   "cell_type": "markdown",
   "id": "c39d97de",
   "metadata": {},
   "source": [
    "[back to top](#top)"
   ]
  },
  {
   "cell_type": "markdown",
   "id": "5e80998b",
   "metadata": {},
   "source": [
    "### 6.3 Decision Trees<a id='63'></a> "
   ]
  },
  {
   "cell_type": "code",
   "execution_count": 23,
   "id": "a1ab90c0",
   "metadata": {},
   "outputs": [
    {
     "name": "stdout",
     "output_type": "stream",
     "text": [
      "Decision tree (depth=2) recall (val): 0.0\n",
      "Decision4tree (depth= 2) ROC AUC score (val): 0.5\n"
     ]
    },
    {
     "data": {
      "image/png": "[encoded data removed]",
      "text/plain": [
       "<Figure size 432x288 with 1 Axes>"
      ]
     },
     "metadata": {},
     "output_type": "display_data"
    }
   ],
   "source": [
    "# tree max depth 2\n",
    "dt_2 = DecisionTreeClassifier(max_depth=2,criterion=\"entropy\")\n",
    "dt_2.fit(X_train, y_train)\n",
    "y_pred = dt_2.predict(X_val)\n",
    "\n",
    "print(\"Decision tree (depth=2) recall (val):\", round(\n",
    "    recall_score(dt_2.predict(X_val), y_val), 4))\n",
    "tree.plot_tree(dt_2);\n",
    "\n",
    "print(\"Decision4tree (depth= 2) ROC AUC score (val):\",  round(\n",
    "    roc_auc_score(y_val, dt_2.predict_proba(X_val_scaled)[:,1]), 4))\n"
   ]
  },
  {
   "cell_type": "code",
   "execution_count": 24,
   "id": "ac35669d",
   "metadata": {},
   "outputs": [
    {
     "name": "stdout",
     "output_type": "stream",
     "text": [
      "Decision tree (depth=4) recall score (val): 0.0\n",
      "Decision4tree (depth= 4) ROC AUC score (val): 0.5683\n"
     ]
    },
    {
     "data": {
      "image/png": "[encoded data removed]",
      "text/plain": [
       "<Figure size 432x288 with 1 Axes>"
      ]
     },
     "metadata": {},
     "output_type": "display_data"
    }
   ],
   "source": [
    "# tree max depth 4\n",
    "dt_4 = DecisionTreeClassifier(max_depth=4,criterion=\"entropy\")\n",
    "dt_4.fit(X_train, y_train)\n",
    "y_pred = dt_4.predict(X_val)\n",
    "\n",
    "print(\"Decision tree (depth=4) recall score (val):\", round(\n",
    "    recall_score(dt_4.predict(X_val), y_val), 4))\n",
    "tree.plot_tree(dt_4);\n",
    "\n",
    "print(\"Decision4tree (depth= 4) ROC AUC score (val):\",  round(\n",
    "    roc_auc_score(y_val, dt_4.predict_proba(X_val_scaled)[:,1]), 4))\n"
   ]
  },
  {
   "cell_type": "markdown",
   "id": "4269a34f",
   "metadata": {},
   "source": [
    "### 6.4 Random Forests <a id='64'></a> "
   ]
  },
  {
   "cell_type": "code",
   "execution_count": 26,
   "id": "2dac965d",
   "metadata": {},
   "outputs": [
    {
     "name": "stdout",
     "output_type": "stream",
     "text": [
      "Random forests recall score (val): 0.3689\n",
      "Random forest ROC AUC score (val): 0.6955\n"
     ]
    }
   ],
   "source": [
    "forest = RandomForestClassifier().fit(X_train, y_train)\n",
    "y_pred_rf = forest.predict(X_val)\n",
    "\n",
    "print(\"Random forests recall score (val):\", round(\n",
    "    recall_score(forest.predict(X_val), y_val), 4))\n",
    "print(\"Random forest ROC AUC score (val):\",  round(\n",
    "    roc_auc_score(y_val, forest.predict_proba(X_val_scaled)[:,1]), 4))\n"
   ]
  },
  {
   "cell_type": "markdown",
   "id": "3c20d5e5",
   "metadata": {},
   "source": [
    "Random forest model performs worse than [logistic regression](#6b). "
   ]
  },
  {
   "cell_type": "markdown",
   "id": "8d5f2337",
   "metadata": {},
   "source": [
    "[back to top](#top)"
   ]
  },
  {
   "cell_type": "markdown",
   "id": "bdb5d266",
   "metadata": {},
   "source": [
    "### 6.5 Gradient Boosted Trees: xgboost<a id='65'></a> "
   ]
  },
  {
   "cell_type": "code",
   "execution_count": 96,
   "id": "14f4e3c1",
   "metadata": {},
   "outputs": [
    {
     "name": "stdout",
     "output_type": "stream",
     "text": [
      "[0]\tvalidation_0-auc:0.79108\tvalidation_1-auc:0.79024\n",
      "[1]\tvalidation_0-auc:0.80688\tvalidation_1-auc:0.80559\n",
      "[2]\tvalidation_0-auc:0.81821\tvalidation_1-auc:0.81637\n",
      "[3]\tvalidation_0-auc:0.81953\tvalidation_1-auc:0.82055\n",
      "[4]\tvalidation_0-auc:0.82335\tvalidation_1-auc:0.82405\n",
      "[5]\tvalidation_0-auc:0.82174\tvalidation_1-auc:0.82318\n",
      "[6]\tvalidation_0-auc:0.82506\tvalidation_1-auc:0.82588\n",
      "[7]\tvalidation_0-auc:0.82664\tvalidation_1-auc:0.82673\n",
      "[8]\tvalidation_0-auc:0.82789\tvalidation_1-auc:0.82793\n",
      "[9]\tvalidation_0-auc:0.82791\tvalidation_1-auc:0.82748\n",
      "[10]\tvalidation_0-auc:0.82808\tvalidation_1-auc:0.82850\n",
      "[11]\tvalidation_0-auc:0.82813\tvalidation_1-auc:0.82799\n",
      "[12]\tvalidation_0-auc:0.82846\tvalidation_1-auc:0.82820\n",
      "[13]\tvalidation_0-auc:0.82927\tvalidation_1-auc:0.82856\n",
      "[14]\tvalidation_0-auc:0.82918\tvalidation_1-auc:0.82809\n",
      "[15]\tvalidation_0-auc:0.83040\tvalidation_1-auc:0.82932\n",
      "[16]\tvalidation_0-auc:0.83116\tvalidation_1-auc:0.83017\n",
      "[17]\tvalidation_0-auc:0.83138\tvalidation_1-auc:0.83071\n",
      "[18]\tvalidation_0-auc:0.83187\tvalidation_1-auc:0.83109\n",
      "[19]\tvalidation_0-auc:0.83202\tvalidation_1-auc:0.83122\n",
      "[20]\tvalidation_0-auc:0.83247\tvalidation_1-auc:0.83173\n",
      "[21]\tvalidation_0-auc:0.83269\tvalidation_1-auc:0.83192\n",
      "[22]\tvalidation_0-auc:0.83361\tvalidation_1-auc:0.83297\n",
      "[23]\tvalidation_0-auc:0.83371\tvalidation_1-auc:0.83301\n",
      "[24]\tvalidation_0-auc:0.83432\tvalidation_1-auc:0.83356\n",
      "[25]\tvalidation_0-auc:0.83442\tvalidation_1-auc:0.83369\n",
      "[26]\tvalidation_0-auc:0.83483\tvalidation_1-auc:0.83438\n",
      "[27]\tvalidation_0-auc:0.83526\tvalidation_1-auc:0.83467\n",
      "[28]\tvalidation_0-auc:0.83613\tvalidation_1-auc:0.83565\n",
      "[29]\tvalidation_0-auc:0.83619\tvalidation_1-auc:0.83564\n",
      "[30]\tvalidation_0-auc:0.83701\tvalidation_1-auc:0.83623\n",
      "[31]\tvalidation_0-auc:0.83740\tvalidation_1-auc:0.83660\n",
      "[32]\tvalidation_0-auc:0.83794\tvalidation_1-auc:0.83701\n",
      "[33]\tvalidation_0-auc:0.83812\tvalidation_1-auc:0.83715\n",
      "[34]\tvalidation_0-auc:0.83846\tvalidation_1-auc:0.83733\n",
      "[35]\tvalidation_0-auc:0.83883\tvalidation_1-auc:0.83771\n",
      "[36]\tvalidation_0-auc:0.83912\tvalidation_1-auc:0.83796\n",
      "[37]\tvalidation_0-auc:0.83949\tvalidation_1-auc:0.83826\n",
      "[38]\tvalidation_0-auc:0.83971\tvalidation_1-auc:0.83840\n",
      "[39]\tvalidation_0-auc:0.83986\tvalidation_1-auc:0.83864\n",
      "[40]\tvalidation_0-auc:0.84008\tvalidation_1-auc:0.83894\n",
      "[41]\tvalidation_0-auc:0.84037\tvalidation_1-auc:0.83927\n",
      "[42]\tvalidation_0-auc:0.84071\tvalidation_1-auc:0.83956\n",
      "[43]\tvalidation_0-auc:0.84080\tvalidation_1-auc:0.83964\n",
      "[44]\tvalidation_0-auc:0.84083\tvalidation_1-auc:0.83966\n",
      "[45]\tvalidation_0-auc:0.84102\tvalidation_1-auc:0.83987\n",
      "[46]\tvalidation_0-auc:0.84119\tvalidation_1-auc:0.84003\n",
      "[47]\tvalidation_0-auc:0.84144\tvalidation_1-auc:0.84025\n",
      "[48]\tvalidation_0-auc:0.84158\tvalidation_1-auc:0.84042\n",
      "[49]\tvalidation_0-auc:0.84182\tvalidation_1-auc:0.84066\n",
      "[50]\tvalidation_0-auc:0.84198\tvalidation_1-auc:0.84090\n",
      "[51]\tvalidation_0-auc:0.84198\tvalidation_1-auc:0.84091\n",
      "[52]\tvalidation_0-auc:0.84216\tvalidation_1-auc:0.84113\n",
      "[53]\tvalidation_0-auc:0.84230\tvalidation_1-auc:0.84120\n",
      "[54]\tvalidation_0-auc:0.84250\tvalidation_1-auc:0.84126\n",
      "[55]\tvalidation_0-auc:0.84260\tvalidation_1-auc:0.84134\n",
      "[56]\tvalidation_0-auc:0.84276\tvalidation_1-auc:0.84148\n",
      "[57]\tvalidation_0-auc:0.84293\tvalidation_1-auc:0.84167\n",
      "[58]\tvalidation_0-auc:0.84301\tvalidation_1-auc:0.84177\n",
      "[59]\tvalidation_0-auc:0.84308\tvalidation_1-auc:0.84186\n",
      "[60]\tvalidation_0-auc:0.84319\tvalidation_1-auc:0.84195\n",
      "[61]\tvalidation_0-auc:0.84333\tvalidation_1-auc:0.84205\n",
      "[62]\tvalidation_0-auc:0.84338\tvalidation_1-auc:0.84211\n",
      "[63]\tvalidation_0-auc:0.84349\tvalidation_1-auc:0.84218\n",
      "[64]\tvalidation_0-auc:0.84360\tvalidation_1-auc:0.84232\n",
      "[65]\tvalidation_0-auc:0.84367\tvalidation_1-auc:0.84240\n",
      "[66]\tvalidation_0-auc:0.84374\tvalidation_1-auc:0.84249\n",
      "[67]\tvalidation_0-auc:0.84384\tvalidation_1-auc:0.84256\n",
      "[68]\tvalidation_0-auc:0.84391\tvalidation_1-auc:0.84267\n",
      "[69]\tvalidation_0-auc:0.84401\tvalidation_1-auc:0.84278\n",
      "[70]\tvalidation_0-auc:0.84411\tvalidation_1-auc:0.84286\n",
      "[71]\tvalidation_0-auc:0.84419\tvalidation_1-auc:0.84290\n",
      "[72]\tvalidation_0-auc:0.84429\tvalidation_1-auc:0.84301\n",
      "[73]\tvalidation_0-auc:0.84434\tvalidation_1-auc:0.84304\n",
      "[74]\tvalidation_0-auc:0.84441\tvalidation_1-auc:0.84310\n",
      "[75]\tvalidation_0-auc:0.84447\tvalidation_1-auc:0.84314\n",
      "[76]\tvalidation_0-auc:0.84458\tvalidation_1-auc:0.84318\n",
      "[77]\tvalidation_0-auc:0.84464\tvalidation_1-auc:0.84325\n",
      "[78]\tvalidation_0-auc:0.84471\tvalidation_1-auc:0.84326\n",
      "[79]\tvalidation_0-auc:0.84477\tvalidation_1-auc:0.84331\n",
      "[80]\tvalidation_0-auc:0.84484\tvalidation_1-auc:0.84337\n",
      "[81]\tvalidation_0-auc:0.84489\tvalidation_1-auc:0.84342\n",
      "[82]\tvalidation_0-auc:0.84497\tvalidation_1-auc:0.84347\n",
      "[83]\tvalidation_0-auc:0.84500\tvalidation_1-auc:0.84352\n",
      "[84]\tvalidation_0-auc:0.84503\tvalidation_1-auc:0.84356\n",
      "[85]\tvalidation_0-auc:0.84509\tvalidation_1-auc:0.84359\n",
      "[86]\tvalidation_0-auc:0.84514\tvalidation_1-auc:0.84365\n",
      "[87]\tvalidation_0-auc:0.84518\tvalidation_1-auc:0.84369\n",
      "[88]\tvalidation_0-auc:0.84523\tvalidation_1-auc:0.84373\n",
      "[89]\tvalidation_0-auc:0.84527\tvalidation_1-auc:0.84377\n",
      "[90]\tvalidation_0-auc:0.84534\tvalidation_1-auc:0.84379\n",
      "[91]\tvalidation_0-auc:0.84537\tvalidation_1-auc:0.84381\n",
      "[92]\tvalidation_0-auc:0.84544\tvalidation_1-auc:0.84381\n",
      "[93]\tvalidation_0-auc:0.84549\tvalidation_1-auc:0.84385\n",
      "[94]\tvalidation_0-auc:0.84553\tvalidation_1-auc:0.84389\n",
      "[95]\tvalidation_0-auc:0.84556\tvalidation_1-auc:0.84389\n",
      "[96]\tvalidation_0-auc:0.84561\tvalidation_1-auc:0.84392\n",
      "[97]\tvalidation_0-auc:0.84564\tvalidation_1-auc:0.84394\n",
      "[98]\tvalidation_0-auc:0.84567\tvalidation_1-auc:0.84394\n",
      "[99]\tvalidation_0-auc:0.84571\tvalidation_1-auc:0.84397\n",
      "[100]\tvalidation_0-auc:0.84576\tvalidation_1-auc:0.84400\n",
      "[101]\tvalidation_0-auc:0.84580\tvalidation_1-auc:0.84403\n",
      "[102]\tvalidation_0-auc:0.84585\tvalidation_1-auc:0.84403\n",
      "[103]\tvalidation_0-auc:0.84591\tvalidation_1-auc:0.84405\n",
      "[104]\tvalidation_0-auc:0.84596\tvalidation_1-auc:0.84409\n",
      "[105]\tvalidation_0-auc:0.84600\tvalidation_1-auc:0.84409\n",
      "[106]\tvalidation_0-auc:0.84603\tvalidation_1-auc:0.84413\n",
      "[107]\tvalidation_0-auc:0.84608\tvalidation_1-auc:0.84412\n",
      "[108]\tvalidation_0-auc:0.84612\tvalidation_1-auc:0.84415\n",
      "[109]\tvalidation_0-auc:0.84615\tvalidation_1-auc:0.84413\n",
      "[110]\tvalidation_0-auc:0.84618\tvalidation_1-auc:0.84414\n",
      "[111]\tvalidation_0-auc:0.84620\tvalidation_1-auc:0.84417\n",
      "[112]\tvalidation_0-auc:0.84624\tvalidation_1-auc:0.84416\n",
      "[113]\tvalidation_0-auc:0.84627\tvalidation_1-auc:0.84416\n",
      "[114]\tvalidation_0-auc:0.84630\tvalidation_1-auc:0.84420\n",
      "[115]\tvalidation_0-auc:0.84632\tvalidation_1-auc:0.84421\n",
      "[116]\tvalidation_0-auc:0.84636\tvalidation_1-auc:0.84423\n",
      "[117]\tvalidation_0-auc:0.84638\tvalidation_1-auc:0.84423\n",
      "[118]\tvalidation_0-auc:0.84642\tvalidation_1-auc:0.84424\n",
      "[119]\tvalidation_0-auc:0.84644\tvalidation_1-auc:0.84426\n",
      "[120]\tvalidation_0-auc:0.84647\tvalidation_1-auc:0.84427\n",
      "[121]\tvalidation_0-auc:0.84651\tvalidation_1-auc:0.84428\n",
      "[122]\tvalidation_0-auc:0.84655\tvalidation_1-auc:0.84427\n",
      "[123]\tvalidation_0-auc:0.84659\tvalidation_1-auc:0.84429\n",
      "[124]\tvalidation_0-auc:0.84661\tvalidation_1-auc:0.84431\n",
      "[125]\tvalidation_0-auc:0.84664\tvalidation_1-auc:0.84432\n",
      "[126]\tvalidation_0-auc:0.84666\tvalidation_1-auc:0.84430\n",
      "[127]\tvalidation_0-auc:0.84668\tvalidation_1-auc:0.84430\n",
      "[128]\tvalidation_0-auc:0.84670\tvalidation_1-auc:0.84433\n",
      "[129]\tvalidation_0-auc:0.84672\tvalidation_1-auc:0.84433\n",
      "[130]\tvalidation_0-auc:0.84675\tvalidation_1-auc:0.84434\n",
      "[131]\tvalidation_0-auc:0.84677\tvalidation_1-auc:0.84435\n",
      "[132]\tvalidation_0-auc:0.84681\tvalidation_1-auc:0.84436\n",
      "[133]\tvalidation_0-auc:0.84682\tvalidation_1-auc:0.84438\n",
      "[134]\tvalidation_0-auc:0.84685\tvalidation_1-auc:0.84438\n",
      "[135]\tvalidation_0-auc:0.84688\tvalidation_1-auc:0.84439\n",
      "[136]\tvalidation_0-auc:0.84689\tvalidation_1-auc:0.84439\n",
      "[137]\tvalidation_0-auc:0.84690\tvalidation_1-auc:0.84439\n",
      "[138]\tvalidation_0-auc:0.84693\tvalidation_1-auc:0.84438\n",
      "[139]\tvalidation_0-auc:0.84695\tvalidation_1-auc:0.84437\n",
      "[140]\tvalidation_0-auc:0.84696\tvalidation_1-auc:0.84437\n",
      "[141]\tvalidation_0-auc:0.84699\tvalidation_1-auc:0.84437\n",
      "[142]\tvalidation_0-auc:0.84701\tvalidation_1-auc:0.84439\n",
      "[143]\tvalidation_0-auc:0.84704\tvalidation_1-auc:0.84439\n",
      "[144]\tvalidation_0-auc:0.84707\tvalidation_1-auc:0.84440\n",
      "[145]\tvalidation_0-auc:0.84711\tvalidation_1-auc:0.84442\n",
      "[146]\tvalidation_0-auc:0.84715\tvalidation_1-auc:0.84444\n",
      "[147]\tvalidation_0-auc:0.84717\tvalidation_1-auc:0.84442\n",
      "[148]\tvalidation_0-auc:0.84720\tvalidation_1-auc:0.84443\n"
     ]
    },
    {
     "name": "stdout",
     "output_type": "stream",
     "text": [
      "[149]\tvalidation_0-auc:0.84723\tvalidation_1-auc:0.84445\n",
      "[150]\tvalidation_0-auc:0.84725\tvalidation_1-auc:0.84445\n",
      "[151]\tvalidation_0-auc:0.84726\tvalidation_1-auc:0.84445\n",
      "[152]\tvalidation_0-auc:0.84727\tvalidation_1-auc:0.84444\n",
      "[153]\tvalidation_0-auc:0.84730\tvalidation_1-auc:0.84447\n",
      "[154]\tvalidation_0-auc:0.84732\tvalidation_1-auc:0.84446\n",
      "[155]\tvalidation_0-auc:0.84734\tvalidation_1-auc:0.84447\n",
      "[156]\tvalidation_0-auc:0.84737\tvalidation_1-auc:0.84446\n",
      "[157]\tvalidation_0-auc:0.84740\tvalidation_1-auc:0.84448\n",
      "[158]\tvalidation_0-auc:0.84741\tvalidation_1-auc:0.84447\n",
      "[159]\tvalidation_0-auc:0.84743\tvalidation_1-auc:0.84447\n",
      "[160]\tvalidation_0-auc:0.84747\tvalidation_1-auc:0.84447\n",
      "[161]\tvalidation_0-auc:0.84747\tvalidation_1-auc:0.84447\n",
      "[162]\tvalidation_0-auc:0.84748\tvalidation_1-auc:0.84447\n",
      "[163]\tvalidation_0-auc:0.84750\tvalidation_1-auc:0.84447\n",
      "[164]\tvalidation_0-auc:0.84752\tvalidation_1-auc:0.84446\n",
      "[165]\tvalidation_0-auc:0.84754\tvalidation_1-auc:0.84447\n",
      "[166]\tvalidation_0-auc:0.84755\tvalidation_1-auc:0.84447\n",
      "[167]\tvalidation_0-auc:0.84756\tvalidation_1-auc:0.84447\n",
      "[168]\tvalidation_0-auc:0.84758\tvalidation_1-auc:0.84448\n",
      "[169]\tvalidation_0-auc:0.84760\tvalidation_1-auc:0.84449\n",
      "[170]\tvalidation_0-auc:0.84760\tvalidation_1-auc:0.84448\n",
      "[171]\tvalidation_0-auc:0.84762\tvalidation_1-auc:0.84449\n",
      "[172]\tvalidation_0-auc:0.84763\tvalidation_1-auc:0.84450\n",
      "[173]\tvalidation_0-auc:0.84766\tvalidation_1-auc:0.84449\n",
      "[174]\tvalidation_0-auc:0.84766\tvalidation_1-auc:0.84448\n",
      "[175]\tvalidation_0-auc:0.84768\tvalidation_1-auc:0.84448\n",
      "[176]\tvalidation_0-auc:0.84770\tvalidation_1-auc:0.84448\n",
      "[177]\tvalidation_0-auc:0.84771\tvalidation_1-auc:0.84448\n",
      "[178]\tvalidation_0-auc:0.84774\tvalidation_1-auc:0.84447\n",
      "[179]\tvalidation_0-auc:0.84775\tvalidation_1-auc:0.84448\n",
      "[180]\tvalidation_0-auc:0.84776\tvalidation_1-auc:0.84448\n",
      "[181]\tvalidation_0-auc:0.84778\tvalidation_1-auc:0.84449\n",
      "[182]\tvalidation_0-auc:0.84780\tvalidation_1-auc:0.84450\n",
      "[183]\tvalidation_0-auc:0.84784\tvalidation_1-auc:0.84450\n",
      "[184]\tvalidation_0-auc:0.84786\tvalidation_1-auc:0.84449\n",
      "[185]\tvalidation_0-auc:0.84788\tvalidation_1-auc:0.84448\n",
      "[186]\tvalidation_0-auc:0.84789\tvalidation_1-auc:0.84446\n",
      "[187]\tvalidation_0-auc:0.84790\tvalidation_1-auc:0.84447\n",
      "[188]\tvalidation_0-auc:0.84792\tvalidation_1-auc:0.84447\n",
      "[189]\tvalidation_0-auc:0.84792\tvalidation_1-auc:0.84447\n",
      "[190]\tvalidation_0-auc:0.84794\tvalidation_1-auc:0.84449\n",
      "[191]\tvalidation_0-auc:0.84796\tvalidation_1-auc:0.84449\n",
      "[192]\tvalidation_0-auc:0.84799\tvalidation_1-auc:0.84450\n",
      "[193]\tvalidation_0-auc:0.84801\tvalidation_1-auc:0.84451\n",
      "[194]\tvalidation_0-auc:0.84804\tvalidation_1-auc:0.84452\n",
      "[195]\tvalidation_0-auc:0.84805\tvalidation_1-auc:0.84452\n",
      "[196]\tvalidation_0-auc:0.84805\tvalidation_1-auc:0.84451\n",
      "[197]\tvalidation_0-auc:0.84807\tvalidation_1-auc:0.84452\n",
      "[198]\tvalidation_0-auc:0.84808\tvalidation_1-auc:0.84451\n",
      "[199]\tvalidation_0-auc:0.84810\tvalidation_1-auc:0.84450\n",
      "[200]\tvalidation_0-auc:0.84811\tvalidation_1-auc:0.84450\n",
      "[201]\tvalidation_0-auc:0.84812\tvalidation_1-auc:0.84452\n",
      "[202]\tvalidation_0-auc:0.84814\tvalidation_1-auc:0.84451\n",
      "[203]\tvalidation_0-auc:0.84817\tvalidation_1-auc:0.84451\n",
      "[204]\tvalidation_0-auc:0.84819\tvalidation_1-auc:0.84450\n",
      "[205]\tvalidation_0-auc:0.84823\tvalidation_1-auc:0.84449\n",
      "[206]\tvalidation_0-auc:0.84824\tvalidation_1-auc:0.84449\n",
      "[207]\tvalidation_0-auc:0.84824\tvalidation_1-auc:0.84449\n",
      "[208]\tvalidation_0-auc:0.84826\tvalidation_1-auc:0.84448\n",
      "[209]\tvalidation_0-auc:0.84827\tvalidation_1-auc:0.84447\n",
      "[210]\tvalidation_0-auc:0.84829\tvalidation_1-auc:0.84448\n",
      "[211]\tvalidation_0-auc:0.84830\tvalidation_1-auc:0.84447\n",
      "[212]\tvalidation_0-auc:0.84832\tvalidation_1-auc:0.84447\n",
      "[213]\tvalidation_0-auc:0.84835\tvalidation_1-auc:0.84447\n",
      "[214]\tvalidation_0-auc:0.84836\tvalidation_1-auc:0.84449\n",
      "[215]\tvalidation_0-auc:0.84838\tvalidation_1-auc:0.84451\n",
      "[216]\tvalidation_0-auc:0.84840\tvalidation_1-auc:0.84451\n",
      "[217]\tvalidation_0-auc:0.84842\tvalidation_1-auc:0.84450\n",
      "[218]\tvalidation_0-auc:0.84845\tvalidation_1-auc:0.84449\n",
      "[219]\tvalidation_0-auc:0.84846\tvalidation_1-auc:0.84449\n",
      "[220]\tvalidation_0-auc:0.84848\tvalidation_1-auc:0.84449\n"
     ]
    }
   ],
   "source": [
    "# XGBoost\n",
    "\n",
    "gbm = xgb.XGBRegressor( \n",
    "                    n_estimators=30000,\n",
    "                    max_depth=3,\n",
    "                    objective=\"binary:logistic\",\n",
    "                    eval_metric='auc',\n",
    "                    learning_rate=.1,\n",
    "                    subsample=1,\n",
    "                    min_child_weight=1,\n",
    "                    colsample_bytree=.8\n",
    "                    )\n",
    "\n",
    "eval_set=[(X_train, y_train),(X_val,y_val)] \n",
    "\n",
    "gbm_model = gbm.fit( \n",
    "                    X_train, y_train, \n",
    "                    eval_set=eval_set,\n",
    "#                     eval_metric='auc',\n",
    "                    early_stopping_rounds=20,\n",
    "                    verbose=True \n",
    "                   )"
   ]
  },
  {
   "cell_type": "markdown",
   "id": "ca8d42ac",
   "metadata": {},
   "source": [
    "#### [220]\tvalidation_0-auc: 0.84848\tvalidation_1-auc: 0.84449\n"
   ]
  },
  {
   "cell_type": "code",
   "execution_count": 138,
   "id": "9f1861e5",
   "metadata": {},
   "outputs": [
    {
     "name": "stdout",
     "output_type": "stream",
     "text": [
      "\n",
      "Model Report\n"
     ]
    },
    {
     "ename": "ValueError",
     "evalue": "Classification metrics can't handle a mix of binary and continuous targets",
     "output_type": "error",
     "traceback": [
      "\u001b[0;31m---------------------------------------------------------------------------\u001b[0m",
      "\u001b[0;31mValueError\u001b[0m                                Traceback (most recent call last)",
      "Input \u001b[0;32mIn [138]\u001b[0m, in \u001b[0;36m<module>\u001b[0;34m\u001b[0m\n\u001b[1;32m      5\u001b[0m \u001b[38;5;66;03m# y_pred_prob_gbm = gbm.predict_proba(X_train)\u001b[39;00m\n\u001b[1;32m      6\u001b[0m \u001b[38;5;28mprint\u001b[39m(\u001b[38;5;124m'\u001b[39m\u001b[38;5;130;01m\\n\u001b[39;00m\u001b[38;5;124mModel Report\u001b[39m\u001b[38;5;124m'\u001b[39m)\n\u001b[0;32m----> 7\u001b[0m \u001b[38;5;28mprint\u001b[39m( \u001b[38;5;124m\"\u001b[39m\u001b[38;5;124mAccuracy : \u001b[39m\u001b[38;5;132;01m%.4g\u001b[39;00m\u001b[38;5;124m\"\u001b[39m \u001b[38;5;241m%\u001b[39m \u001b[43maccuracy_score\u001b[49m\u001b[43m(\u001b[49m\u001b[43my_val\u001b[49m\u001b[43m,\u001b[49m\u001b[43m \u001b[49m\u001b[43my_pred_gbm\u001b[49m\u001b[43m)\u001b[49m)\n\u001b[1;32m      8\u001b[0m \u001b[38;5;66;03m# print( \"AUC Score (Train): %f\" % roc_auc_score(y_train, y_pred_prob_gbm))\u001b[39;00m\n\u001b[1;32m      9\u001b[0m \n\u001b[1;32m     10\u001b[0m \u001b[38;5;66;03m# accuracy_score(gbm.predict(X_val, ntree_limit=gbm.best_ntree_limit),y_test) \u001b[39;00m\n\u001b[1;32m     11\u001b[0m accuracy_score(y_val, np\u001b[38;5;241m.\u001b[39mroundly(gbm\u001b[38;5;241m.\u001b[39mpredict(X_val)), ntree_limit\u001b[38;5;241m=\u001b[39mgbm\u001b[38;5;241m.\u001b[39mbest_ntree_limit)\n",
      "File \u001b[0;32m~/opt/anaconda3/lib/python3.8/site-packages/sklearn/metrics/_classification.py:211\u001b[0m, in \u001b[0;36maccuracy_score\u001b[0;34m(y_true, y_pred, normalize, sample_weight)\u001b[0m\n\u001b[1;32m    145\u001b[0m \u001b[38;5;124;03m\"\"\"Accuracy classification score.\u001b[39;00m\n\u001b[1;32m    146\u001b[0m \n\u001b[1;32m    147\u001b[0m \u001b[38;5;124;03mIn multilabel classification, this function computes subset accuracy:\u001b[39;00m\n\u001b[0;32m   (...)\u001b[0m\n\u001b[1;32m    207\u001b[0m \u001b[38;5;124;03m0.5\u001b[39;00m\n\u001b[1;32m    208\u001b[0m \u001b[38;5;124;03m\"\"\"\u001b[39;00m\n\u001b[1;32m    210\u001b[0m \u001b[38;5;66;03m# Compute accuracy for each possible representation\u001b[39;00m\n\u001b[0;32m--> 211\u001b[0m y_type, y_true, y_pred \u001b[38;5;241m=\u001b[39m \u001b[43m_check_targets\u001b[49m\u001b[43m(\u001b[49m\u001b[43my_true\u001b[49m\u001b[43m,\u001b[49m\u001b[43m \u001b[49m\u001b[43my_pred\u001b[49m\u001b[43m)\u001b[49m\n\u001b[1;32m    212\u001b[0m check_consistent_length(y_true, y_pred, sample_weight)\n\u001b[1;32m    213\u001b[0m \u001b[38;5;28;01mif\u001b[39;00m y_type\u001b[38;5;241m.\u001b[39mstartswith(\u001b[38;5;124m\"\u001b[39m\u001b[38;5;124mmultilabel\u001b[39m\u001b[38;5;124m\"\u001b[39m):\n",
      "File \u001b[0;32m~/opt/anaconda3/lib/python3.8/site-packages/sklearn/metrics/_classification.py:93\u001b[0m, in \u001b[0;36m_check_targets\u001b[0;34m(y_true, y_pred)\u001b[0m\n\u001b[1;32m     90\u001b[0m     y_type \u001b[38;5;241m=\u001b[39m {\u001b[38;5;124m\"\u001b[39m\u001b[38;5;124mmulticlass\u001b[39m\u001b[38;5;124m\"\u001b[39m}\n\u001b[1;32m     92\u001b[0m \u001b[38;5;28;01mif\u001b[39;00m \u001b[38;5;28mlen\u001b[39m(y_type) \u001b[38;5;241m>\u001b[39m \u001b[38;5;241m1\u001b[39m:\n\u001b[0;32m---> 93\u001b[0m     \u001b[38;5;28;01mraise\u001b[39;00m \u001b[38;5;167;01mValueError\u001b[39;00m(\n\u001b[1;32m     94\u001b[0m         \u001b[38;5;124m\"\u001b[39m\u001b[38;5;124mClassification metrics can\u001b[39m\u001b[38;5;124m'\u001b[39m\u001b[38;5;124mt handle a mix of \u001b[39m\u001b[38;5;132;01m{0}\u001b[39;00m\u001b[38;5;124m and \u001b[39m\u001b[38;5;132;01m{1}\u001b[39;00m\u001b[38;5;124m targets\u001b[39m\u001b[38;5;124m\"\u001b[39m\u001b[38;5;241m.\u001b[39mformat(\n\u001b[1;32m     95\u001b[0m             type_true, type_pred\n\u001b[1;32m     96\u001b[0m         )\n\u001b[1;32m     97\u001b[0m     )\n\u001b[1;32m     99\u001b[0m \u001b[38;5;66;03m# We can't have more than one value on y_type => The set is no more needed\u001b[39;00m\n\u001b[1;32m    100\u001b[0m y_type \u001b[38;5;241m=\u001b[39m y_type\u001b[38;5;241m.\u001b[39mpop()\n",
      "\u001b[0;31mValueError\u001b[0m: Classification metrics can't handle a mix of binary and continuous targets"
     ]
    }
   ],
   "source": [
    "#Print model report:\n",
    "#     dtrain_predprob = alg.predict_proba(dtrain[predictors])[:,1]\n",
    "\n",
    "y_pred_gbm = gbm.predict(X_val)\n",
    "# y_pred_prob_gbm = gbm.predict_proba(X_train)\n",
    "print('\\nModel Report')\n",
    "print( \"Accuracy : %.4g\" % accuracy_score(y_val, y_pred_gbm))\n",
    "# print( \"AUC Score (Train): %f\" % roc_auc_score(y_train, y_pred_prob_gbm))\n",
    "\n",
    "# accuracy_score(gbm.predict(X_val, ntree_limit=gbm.best_ntree_limit),y_test) \n",
    "accuracy_score(y_val, np.roundly(gbm.predict(X_val)), ntree_limit=gbm.best_ntree_limit)"
   ]
  },
  {
   "cell_type": "markdown",
   "id": "a30ccd64",
   "metadata": {},
   "source": [
    "[back to top](#top)"
   ]
  },
  {
   "cell_type": "markdown",
   "id": "8b98422c",
   "metadata": {},
   "source": [
    "### 6.6 Ensemble<a id='66'></a> "
   ]
  },
  {
   "cell_type": "code",
   "execution_count": null,
   "id": "ae903622",
   "metadata": {},
   "outputs": [],
   "source": [
    "### code block"
   ]
  },
  {
   "cell_type": "markdown",
   "id": "9ac96809",
   "metadata": {},
   "source": [
    "[back to top](#top)"
   ]
  },
  {
   "cell_type": "markdown",
   "id": "1402028c",
   "metadata": {},
   "source": [
    "### 6.7. Naive Bayes<a id='67'></a> "
   ]
  },
  {
   "cell_type": "code",
   "execution_count": 122,
   "id": "356ffcc1",
   "metadata": {},
   "outputs": [
    {
     "name": "stdout",
     "output_type": "stream",
     "text": [
      "Bernoulli NB recall score (val): 0.3654\n"
     ]
    }
   ],
   "source": [
    "# BernoulliNB() \n",
    "bern = BernoulliNB().fit(X_train, y_train)\n",
    "y_predict_bern = bern.predict(X_val) \n",
    "print(\"Bernoulli NB recall score (val):\", round(\n",
    "    recall_score(bern.predict(X_val), y_val), 4))\n"
   ]
  },
  {
   "cell_type": "code",
   "execution_count": 123,
   "id": "371e4169",
   "metadata": {},
   "outputs": [
    {
     "name": "stdout",
     "output_type": "stream",
     "text": [
      "Gaussian NB recall score (val): 0.2645\n"
     ]
    }
   ],
   "source": [
    "# GaussianNB()\n",
    "gaus = GaussianNB().fit(X_train, y_train)\n",
    "y_pred_gaus = gaus.predict(X_val)\n",
    "print(\"Gaussian NB recall score (val):\", round(\n",
    "    recall_score(gaus.predict(X_val), y_val), 4))\n"
   ]
  },
  {
   "cell_type": "code",
   "execution_count": 124,
   "id": "5c3cc131",
   "metadata": {},
   "outputs": [
    {
     "name": "stdout",
     "output_type": "stream",
     "text": [
      "Multinomial NB recall score (val): 0.2188\n"
     ]
    }
   ],
   "source": [
    "# MultinomialNB()\n",
    "multi = MultinomialNB().fit(X_train, y_train)\n",
    "y_pred_multi = multi.predict(X_val)\n",
    "print(\"Multinomial NB recall score (val):\", round(\n",
    "    recall_score(multi.predict(X_val), y_val), 4))\n"
   ]
  },
  {
   "cell_type": "code",
   "execution_count": 130,
   "id": "7b3fd629",
   "metadata": {},
   "outputs": [
    {
     "ename": "FileNotFoundError",
     "evalue": "[Errno 2] No such file or directory: 'models/bern.pickle'",
     "output_type": "error",
     "traceback": [
      "\u001b[0;31m---------------------------------------------------------------------------\u001b[0m",
      "\u001b[0;31mFileNotFoundError\u001b[0m                         Traceback (most recent call last)",
      "Input \u001b[0;32mIn [130]\u001b[0m, in \u001b[0;36m<module>\u001b[0;34m\u001b[0m\n\u001b[1;32m      1\u001b[0m model_names \u001b[38;5;241m=\u001b[39m [\u001b[38;5;124m'\u001b[39m\u001b[38;5;124mbern\u001b[39m\u001b[38;5;124m'\u001b[39m, \u001b[38;5;124m'\u001b[39m\u001b[38;5;124mgaus\u001b[39m\u001b[38;5;124m'\u001b[39m, \u001b[38;5;124m'\u001b[39m\u001b[38;5;124mmulti\u001b[39m\u001b[38;5;124m'\u001b[39m]\n\u001b[1;32m      3\u001b[0m \u001b[38;5;28;01mfor\u001b[39;00m model_name \u001b[38;5;129;01min\u001b[39;00m model_names:\n\u001b[0;32m----> 4\u001b[0m     \u001b[38;5;28;01mwith\u001b[39;00m \u001b[38;5;28;43mopen\u001b[39;49m\u001b[43m(\u001b[49m\u001b[38;5;124;43mf\u001b[39;49m\u001b[38;5;124;43m\"\u001b[39;49m\u001b[38;5;124;43mmodels/\u001b[39;49m\u001b[38;5;132;43;01m{\u001b[39;49;00m\u001b[43mmodel_name\u001b[49m\u001b[38;5;132;43;01m}\u001b[39;49;00m\u001b[38;5;124;43m.pickle\u001b[39;49m\u001b[38;5;124;43m\"\u001b[39;49m\u001b[43m,\u001b[49m\u001b[43m \u001b[49m\u001b[38;5;124;43m\"\u001b[39;49m\u001b[38;5;124;43mrb\u001b[39;49m\u001b[38;5;124;43m\"\u001b[39;49m\u001b[43m)\u001b[49m \u001b[38;5;28;01mas\u001b[39;00m pfile:\n\u001b[1;32m      5\u001b[0m         exec(\u001b[38;5;124mf\u001b[39m\u001b[38;5;124m\"\u001b[39m\u001b[38;5;132;01m{\u001b[39;00mmodel_name\u001b[38;5;132;01m}\u001b[39;00m\u001b[38;5;124m = pickle.load(pfile)\u001b[39m\u001b[38;5;124m\"\u001b[39m)\n\u001b[1;32m      7\u001b[0m model_vars \u001b[38;5;241m=\u001b[39m [\u001b[38;5;28meval\u001b[39m(n) \u001b[38;5;28;01mfor\u001b[39;00m n \u001b[38;5;129;01min\u001b[39;00m model_names]\n",
      "\u001b[0;31mFileNotFoundError\u001b[0m: [Errno 2] No such file or directory: 'models/bern.pickle'"
     ]
    }
   ],
   "source": [
    "\n",
    "model_names = ['bern', 'gaus', 'multi']\n",
    "\n",
    "for model_name in model_names:\n",
    "    with open(f\"models/{model_name}.pickle\", \"rb\") as pfile:\n",
    "        exec(f\"{model_name} = pickle.load(pfile)\")\n",
    "\n",
    "model_vars = [eval(n) for n in model_names]\n",
    "model_list = list(zip(model_names, model_vars))"
   ]
  },
  {
   "cell_type": "markdown",
   "id": "5a3545ba",
   "metadata": {},
   "source": [
    "[back to top](#top)"
   ]
  },
  {
   "cell_type": "markdown",
   "id": "0c638f89",
   "metadata": {},
   "source": [
    "### 6.8 Feature Engineering <a id='68'></a> "
   ]
  },
  {
   "cell_type": "markdown",
   "id": "a521d88d",
   "metadata": {},
   "source": [
    "### New features A: question groups\n",
    "Groups of similar survey question questions as defined by [data dictionary](https://www.cdc.gov/brfss/annual_data/2020/pdf/codebook20_llcp-v2-508.pdf)."
   ]
  },
  {
   "cell_type": "code",
   "execution_count": null,
   "id": "6cb50fe6",
   "metadata": {},
   "outputs": [],
   "source": [
    "# 1 behaviors = phyiscial activity days/month + sleep time hrs/day + alcohol + tobacco use\n",
    "heart_disease_df_map['behaviors'] = (\n",
    "    heart_disease_df_map['behavior_activity'] +\n",
    "    heart_disease_df_map['behavior_alcohol'] +  \n",
    "    heart_disease_df_map['behavior_sleep'] +\n",
    "    heart_disease_df_map['behavior_tobacco'])\n",
    "\n",
    "# 2 demographics = age + gender + race\n",
    "heart_disease_df_map['demographics'] = (\n",
    "    heart_disease_df_map['demg_age'] +\n",
    "    heart_disease_df_map['demg_gender'] +  \n",
    "    heart_disease_df_map['demg_race'])\n",
    "\n",
    "# 3 disease = asthma + diabetes + kidney + skin cancer + stroke\n",
    "heart_disease_df_map['disease'] = (\n",
    "    heart_disease_df_map['disease_asthma'] +\n",
    "    heart_disease_df_map['disease_diabetes'] +  \n",
    "    heart_disease_df_map['disease_kidney'] +\n",
    "    heart_disease_df_map['disease_skin'] +\n",
    "    heart_disease_df_map['disease_stroke'])\n",
    "\n",
    "# 4 (health) measures = asthma + diabetes + kidney + skin cancer + stroke\n",
    "heart_disease_df_map['measures'] = (\n",
    "    heart_disease_df_map['health_bmi'] +\n",
    "    heart_disease_df_map['health_general'] +  \n",
    "    heart_disease_df_map['health_mental'] +\n",
    "    heart_disease_df_map['health_mobility'] +\n",
    "    heart_disease_df_map['health_physical'])\n",
    "\n",
    "heart_disease_df_map.columns\n"
   ]
  },
  {
   "cell_type": "markdown",
   "id": "bae7953d",
   "metadata": {},
   "source": [
    "### New features B: risk factors\n",
    "Heart disease risk factors by [CDC](https://www.cdc.gov/heartdisease/facts.htm). "
   ]
  },
  {
   "cell_type": "code",
   "execution_count": null,
   "id": "76c09d23",
   "metadata": {},
   "outputs": [],
   "source": [
    "# risk factors = diabetes + bmi + physical activity + alcohol\n",
    "    heart_disease_df_map['risk_factors'] = (\n",
    "    heart_disease_df_map['disease_diabetes'] +\n",
    "    heart_disease_df_map['health_bmi'] +  \n",
    "    heart_disease_df_map['behavior_activity'] +\n",
    "    heart_disease_df_map['behavior_alcohol'])\n",
    "\n",
    "heart_disease_df_map.columns\n"
   ]
  },
  {
   "cell_type": "markdown",
   "id": "75a6e8da",
   "metadata": {},
   "source": [
    "### Logistic regression A: question groups<a id='68a'></a> "
   ]
  },
  {
   "cell_type": "code",
   "execution_count": null,
   "id": "04afa725",
   "metadata": {},
   "outputs": [],
   "source": [
    "# separate target from question groups features: y/X_f\n",
    "y_grp = heart_disease_df_map['y_heart_disease'] \n",
    "X_grp = heart_disease_df_map.loc[:, ['behaviors', \n",
    "                                   'demographics', \n",
    "                                   'disease', \n",
    "                                   'measures']]\n",
    "\n",
    "# split data test/train/validate\n",
    "X_train_gp, X_test_grp, y_train_grp, y_test_grp = train_test_split(X_grp, \n",
    "                                                    y_grp, \n",
    "                                                    test_size=0.2, \n",
    "                                                    random_state=42)\n",
    "\n",
    "X_train_grp, X_val_grp, y_train_grp, y_val_grp = train_test_split(X_train_grp, \n",
    "                                                                    y_train_grp, \n",
    "                                                                    test_size = .25, \n",
    "                                                                    random_state = 42)\n",
    "# scale X train/test/validate\n",
    "scaler = StandardScaler()\n",
    "X_traing_grp_scaled = scaler.fit_transform(X_train_grp)\n",
    "X_test_grp_scaled = scaler.transform(X_test_grp)\n",
    "X_val_grp_scaled = scaler.transform(X_val_grp)\n"
   ]
  },
  {
   "cell_type": "code",
   "execution_count": null,
   "id": "b7509ac3",
   "metadata": {},
   "outputs": [],
   "source": [
    "# LR question groups features\n",
    "log_reg_grp = LogisticRegression().fit(X_train_grp_scaled, y_train_grp)\n",
    "y_pred_grp = log_reg_grp.predict(X_val_grp_scaled) \n",
    "print(\"Logistic regression only engineered features recall:\", round(\n",
    "    recall_score(log_reg_grp.predict(X_val_grp_scaled), y_val_grp), 4))\n"
   ]
  },
  {
   "cell_type": "markdown",
   "id": "5f8ab392",
   "metadata": {},
   "source": [
    "Logistic regression with only engineered features performs worse than first iteration of [logistic regression](#6b). "
   ]
  },
  {
   "cell_type": "markdown",
   "id": "ed2b5bd6",
   "metadata": {},
   "source": [
    "### Logistic regression B: risk factors<a id='68b'></a>"
   ]
  },
  {
   "cell_type": "code",
   "execution_count": null,
   "id": "5e35285e",
   "metadata": {},
   "outputs": [],
   "source": [
    "# separate target from engineered features: y/X_rf\n",
    "y_risk = heart_disease_df_map['y_heart_disease'] \n",
    "X_risk = heart_disease_df_map.loc[:, ['disease_diabetes',\n",
    "                                    'health_bmi',\n",
    "                                    'behavior_activity', \n",
    "                                   'behavior_alcohol']]\n",
    "\n",
    "# split data test/train/validate\n",
    "X_train_risk, X_test_risk, y_train_risk, y_test_risk = train_test_split(X_risk, \n",
    "                                                    y_risk, \n",
    "                                                    test_size=0.2, \n",
    "                                                    random_state=42)\n",
    "\n",
    "X_train_risk, X_val_risk, y_train_risk, y_val_risk = train_test_split(X_train_risk, \n",
    "                                                                        y_train_risk, \n",
    "                                                                        test_size = .25, \n",
    "                                                                        random_state = 42)\n",
    "# scale X train/test/validate\n",
    "scaler = StandardScaler()\n",
    "X_train_risk_scaled = scaler.fit_transform(X_train_risk)\n",
    "X_test_risk_scaled = scaler.transform(X_test_risk)\n",
    "X_val_risk_scaled = scaler.transform(X_val_risk)\n"
   ]
  },
  {
   "cell_type": "code",
   "execution_count": null,
   "id": "ec53f6a3",
   "metadata": {},
   "outputs": [],
   "source": [
    "# LR risk factor features\n",
    "log_reg_risk = LogisticRegression().fit(X_train_risk_scaled, y_train_risk)\n",
    "y_pred_risk = log_reg_risk.predict(X_val_risk_scaled) \n",
    "print(\"Logistic regression only engineered features recall:\", round(\n",
    "    recall_score(log_reg_risk.predict(X_val_risk_scaled), y_val_risk), 4))\n"
   ]
  },
  {
   "cell_type": "markdown",
   "id": "748d462a",
   "metadata": {},
   "source": [
    "Logistic regression with risk factor features performs `better/worse` than [logistic regression ...](#6..) and `better/worse` than [logistic regression ...](#6..). \n",
    "    "
   ]
  },
  {
   "cell_type": "markdown",
   "id": "047a4cdc",
   "metadata": {},
   "source": [
    "[back to top](#top)"
   ]
  },
  {
   "cell_type": "markdown",
   "id": "bf977e38",
   "metadata": {},
   "source": [
    "### Logistic regression AB: question groups + risk factors features<a id='68ab'></a> "
   ]
  },
  {
   "cell_type": "code",
   "execution_count": null,
   "id": "529ed6c8",
   "metadata": {},
   "outputs": [],
   "source": [
    "# separate target from question groups + risk factor features: y/X_new\n",
    "y_grp_risk = heart_disease_df_map['y_heart_disease'] \n",
    "X_grp_risk = heart_disease_df_map.loc[:, [\n",
    "    'behaviors', \n",
    "    'demographics', \n",
    "    'disease', \n",
    "    'measures',\n",
    "    'behavior_activity',\n",
    "    'behavior_alcohol'\n",
    "    'disease_diabetes',\n",
    "    'health_bmi'\n",
    "    ]]\n",
    "\n",
    "# split data test/train/validate\n",
    "X_train_grp_risk, X_test_grp_risk, y_train_grp_risk, y_test_grp_risk = train_test_split(X_grp_risk, \n",
    "                                                    y_grp_risk, \n",
    "                                                    test_size=0.2, \n",
    "                                                    random_state=42)\n",
    "X_train_grp_risk, X_val_grp_risk, y_train_grp_risk, y_val_grp_risk = train_test_split(X_train_grp_risk, \n",
    "                                                                            y_train_grp_risk, \n",
    "                                                                            test_size = .25, \n",
    "                                                                            random_state = 42)\n",
    "\n",
    "# Scale X train/test/validate\n",
    "scaler = StandardScaler()\n",
    "X_train_grp_risk_scaled = scaler.fit_transform(X_train_grp_risk)\n",
    "X_test_grp_risk_scaled = scaler.transform(X_test_grp_risk)\n",
    "X_val_grp_risk_scaled = scaler.transform(X_val_grp_risk)\n"
   ]
  },
  {
   "cell_type": "code",
   "execution_count": null,
   "id": "a8d86fd5",
   "metadata": {},
   "outputs": [],
   "source": [
    "# LR question groups + risk factor features\n",
    "log_reg_grp_risk = LogisticRegression().fit(X_train_grp_risk_scaled, y_train_grp_risk)\n",
    "y_pred_grp_risk = log_reg_grp_risk.predict(X_val_grp_risk_scaled) \n",
    "print(\"Logistic regression recall:\", round(\n",
    "    recall_score(log_reg_grp_risk.predict(X_val_grp_risk_scaled), y_val_grp_risk), 4))\n"
   ]
  },
  {
   "cell_type": "markdown",
   "id": "8760b990",
   "metadata": {},
   "source": [
    "Logistic regression with data dictionary and risk factor features performs `better/worse` than [logistic regression ...](#6..) and `better/worse` than [logistic regression ...](#6..). \n",
    "    "
   ]
  },
  {
   "cell_type": "markdown",
   "id": "affaacbb",
   "metadata": {},
   "source": [
    "[back to top](#top)"
   ]
  },
  {
   "cell_type": "markdown",
   "id": "2236494a",
   "metadata": {},
   "source": [
    "## Class Imblance Handling <a id='6g'></a> "
   ]
  },
  {
   "cell_type": "code",
   "execution_count": null,
   "id": "2b424511",
   "metadata": {},
   "outputs": [],
   "source": [
    "# target imbalance\n",
    "heart_disease_df_map.y_heart_disease.value_counts()"
   ]
  },
  {
   "cell_type": "code",
   "execution_count": null,
   "id": "3179ece2",
   "metadata": {},
   "outputs": [],
   "source": [
    "# resample?"
   ]
  },
  {
   "cell_type": "code",
   "execution_count": null,
   "id": "399496cf",
   "metadata": {},
   "outputs": [],
   "source": [
    "# class_weight adjustments\n",
    "# _sklearn fbeta score – f2 or f3 to upweight recall_"
   ]
  },
  {
   "cell_type": "code",
   "execution_count": null,
   "id": "19293aee",
   "metadata": {},
   "outputs": [],
   "source": [
    "# decision threshold to max recall"
   ]
  },
  {
   "cell_type": "code",
   "execution_count": null,
   "id": "07e8f96c",
   "metadata": {},
   "outputs": [],
   "source": []
  },
  {
   "cell_type": "code",
   "execution_count": null,
   "id": "19e3ecc8",
   "metadata": {},
   "outputs": [],
   "source": []
  },
  {
   "cell_type": "code",
   "execution_count": null,
   "id": "12dc239b",
   "metadata": {},
   "outputs": [],
   "source": []
  },
  {
   "cell_type": "markdown",
   "id": "713e8c49",
   "metadata": {},
   "source": [
    "[back to top](#top)"
   ]
  },
  {
   "cell_type": "markdown",
   "id": "c4ed3627",
   "metadata": {},
   "source": [
    "## 7 | Model Selection<a id='7'></a> "
   ]
  },
  {
   "cell_type": "markdown",
   "id": "a8af3efb",
   "metadata": {},
   "source": [
    "#### Model winner: "
   ]
  },
  {
   "cell_type": "code",
   "execution_count": null,
   "id": "bf31183f",
   "metadata": {},
   "outputs": [],
   "source": [
    "# function to evaluate all the models\n",
    "model_names = ['log_reg_base', \n",
    "               'knn', \n",
    "               'log_reg', \n",
    "               'dt_2', \n",
    "               'dt_4', \n",
    "               'forest', \n",
    "               'nb', \n",
    "               'log_reg_grp', \n",
    "               'log_reg_risk', \n",
    "               'log_reg_grp_risk']\n",
    "\n",
    "model_vars = [eval(n) for n in model_names]\n",
    "model_list = list(zip(model_names, model_vars))\n",
    "\n",
    "for model_name in model_names:\n",
    "    curr_model = eval(model_name)\n",
    "    probas=curr_model.predict_proba(X_test)[:,1]\n",
    "    print(f'{model_name} auc score: {roc_auc_score(y_test,probas)}')"
   ]
  },
  {
   "cell_type": "code",
   "execution_count": null,
   "id": "baa2c62b",
   "metadata": {},
   "outputs": [],
   "source": [
    "# GridSearchCV\n",
    "params1= {'C': np.logspace(-3,3,7),\n",
    "          'class_weight':[{0:1,1:1},{0:2,1:1},{0:3,1:1},{0:4,1:1}]}\n",
    "params2={'max_depth': range(5,20,5), \n",
    "         'min_samples_leaf': range(1,15,5), \n",
    "         'n_estimators':[200,500],\n",
    "         'class_weight':[{0:1,1:1},{0:2,1:1},{0:3,1:1},{0:4,1:1}]}\n",
    "params3={'max_depth': range(5,20,5), \n",
    "         'min_samples_leaf': range(1,15,5),\n",
    "         'n_estimators':[200,400],\n",
    "         'class_weight':[{0:1,1:1},{0:2,1:1},{0:3,1:1},{0:4,1:1}]}\n",
    "\n",
    "\n",
    "parameters_list=[params1, params2, params3]\n",
    "model_names = ['log_reg_base', \n",
    "               'knn', \n",
    "               'log_reg', \n",
    "               'dt_2', \n",
    "               'dt_4', \n",
    "               'forest', \n",
    "               'nb', \n",
    "               'log_reg_grp', \n",
    "               'log_reg_risk', \n",
    "               'log_reg_grp_risk']\n",
    "model_log = ['_log_reg_base', \n",
    "               '_knn', \n",
    "               '_log_reg', \n",
    "               '_dt_2', \n",
    "               '_dt_4', \n",
    "               '_forest', \n",
    "               '_nb', \n",
    "               '_log_reg_grp', \n",
    "               '_log_reg_risk', \n",
    "               '_log_reg_grp_risk']\n",
    "\n",
    "\n",
    "for i in range(len(model_names)):\n",
    "    Grid=GridSearchCV(estimator=eval(model_names[i]), param_grid=parameters_list[i], scoring='roc_auc',\n",
    "                      n_jobs=-1, cv=3, verbose=3)\n",
    "    model = Pipeline([\n",
    "        ('sampling', RandomUnderSampler(.2)),\n",
    "        ('classification', Grid)\n",
    "    ]).fit(X_train,y_train)\n",
    "\n",
    "    \n",
    "    globals()['Grid%s' % model_log[i]]=pd.DataFrame(Grid.cv_results_)  "
   ]
  },
  {
   "cell_type": "code",
   "execution_count": null,
   "id": "ea3d5093",
   "metadata": {},
   "outputs": [],
   "source": []
  },
  {
   "cell_type": "code",
   "execution_count": null,
   "id": "ab2edfd2",
   "metadata": {},
   "outputs": [],
   "source": []
  },
  {
   "cell_type": "code",
   "execution_count": null,
   "id": "bde8c86f",
   "metadata": {},
   "outputs": [],
   "source": []
  },
  {
   "cell_type": "code",
   "execution_count": null,
   "id": "e29b0c71",
   "metadata": {},
   "outputs": [],
   "source": []
  },
  {
   "cell_type": "code",
   "execution_count": null,
   "id": "976f65b6",
   "metadata": {},
   "outputs": [],
   "source": []
  },
  {
   "cell_type": "code",
   "execution_count": null,
   "id": "a18293b5",
   "metadata": {},
   "outputs": [],
   "source": [
    "# precision and recall curves\n",
    "\n",
    "precision_curve, recall_curve, threshold_curve = precision_recall_curve(\n",
    "    y_test, log_reg.predict_proba(X_test)[:,1] )\n",
    "\n",
    "f, ax = plt.subplots(figsize=(10, 6))\n",
    "plt.plot(threshold_curve, precision_curve[1:],label='precision')\n",
    "plt.plot(threshold_curve, recall_curve[1:], label='recall')\n",
    "plt.legend(loc='center')\n",
    "plt.xlabel('Threshold');\n",
    "plt.title('Precision and Recall Curves')\n",
    "plt.savefig(\"precision-recall-curves.jpeg\");"
   ]
  },
  {
   "cell_type": "markdown",
   "id": "3518e741",
   "metadata": {},
   "source": [
    "### 7.1 Finalize and test<a id='71'></a> "
   ]
  },
  {
   "cell_type": "markdown",
   "id": "ce5c1d3d",
   "metadata": {},
   "source": [
    "- When satisfied with the results of your tuning in _Model Iterations_, establish your final model choices:\n",
    "        - features, \n",
    "        - preprocessing, \n",
    "        - imbalance handling strategy, and \n",
    "        - hyperparameters\n",
    "    - retrain this model on all training + validation data. \n",
    "- Make predictions on the test data and score these predictions, reporting this score as your estimate of the model's generalization performance.\n"
   ]
  },
  {
   "cell_type": "code",
   "execution_count": null,
   "id": "7d7363ba",
   "metadata": {},
   "outputs": [],
   "source": [
    "# Confusion matrix on y_validate, y_pred_log_reg\n",
    "cm = confusion_matrix(y_val, y_pred_log_reg)\n",
    "\n",
    "f, ax = plt.subplots(figsize=(10, 6))\n",
    "\n",
    "ax = sns.heatmap(cm/np.sum(cm),fmt='.2%', annot=True, cmap='Reds')\n",
    "\n",
    "ax.xaxis.set_ticklabels(['Predicted Heart Disease','Predicted Healthy'])            #double check x y labels\n",
    "ax.yaxis.set_ticklabels(['True Heart Disease','True Healthy'])\n",
    "\n",
    "plt.title('Confusion Matrix (y_val, y_pred)')\n",
    "ax.set_xlabel('Predicted')\n",
    "ax.set_ylabel('Actual ')\n",
    "\n",
    "plt.savefig(\"confusion-matrix.jpeg\");\n"
   ]
  },
  {
   "cell_type": "code",
   "execution_count": null,
   "id": "134fe81c",
   "metadata": {},
   "outputs": [],
   "source": [
    "# classification report on y_validate/predict\n",
    "print(classification_report(y_val, \n",
    "                            y_pred_log_reg, \n",
    "                            target_names=['no heart disease', 'yes heart disease']))\n",
    "\n"
   ]
  },
  {
   "cell_type": "code",
   "execution_count": null,
   "id": "670f6dd4",
   "metadata": {},
   "outputs": [],
   "source": [
    "# ROC AUC curve\n",
    "# calculate the fpr and tpr for all thresholds of the classification\n",
    "probs = log_reg.predict_proba(X_test)\n",
    "preds = probs[:,1]\n",
    "fpr, tpr, threshold = roc_curve(y_test, preds)\n",
    "roc_auc = auc(fpr, tpr)\n",
    "\n",
    "\n",
    "f, ax = plt.subplots(figsize=(10, 6))\n",
    "\n",
    "plt.plot(fpr, tpr, 'b', label = 'AUC = %0.2f' % roc_auc)\n",
    "\n",
    "plt.plot([0, 1], [0, 1],'r--')\n",
    "plt.xlim([0, 1])\n",
    "plt.ylim([0, 1])\n",
    "\n",
    "plt.title('ROC AUC Curve')\n",
    "plt.legend(loc = 'lower right')\n",
    "plt.ylabel('True Positive Rate')\n",
    "plt.xlabel('False Positive Rate')\n",
    "\n",
    "plt.savefig(\"roc-auc-curve.jpeg\");"
   ]
  },
  {
   "cell_type": "code",
   "execution_count": null,
   "id": "74008910",
   "metadata": {},
   "outputs": [],
   "source": [
    "# feature importance\n",
    "imp_feat = pd.DataFrame()\n",
    "feat = list(X)\n",
    "imp = log_reg.coef_[0]\n",
    "imp_feat['Feature'] = feat\n",
    "imp_feat['Importance'] = imp\n",
    "imp_feat.sort_values(by=['Importance'], ascending=False, inplace=True)\n"
   ]
  },
  {
   "cell_type": "code",
   "execution_count": null,
   "id": "d3096fb3",
   "metadata": {},
   "outputs": [],
   "source": [
    "# vizualize feature importance\n",
    "f, ax = plt.subplots(figsize=(10, 6))\n",
    "\n",
    "sns.barplot(x='Importance', y='Feature', data=imp_feat, color='red');\n",
    "plt.title('Feature Importance')\n",
    "\n",
    "plt.savefig(\"feature-importance.jpeg\");\n"
   ]
  },
  {
   "cell_type": "code",
   "execution_count": null,
   "id": "4e3970e3",
   "metadata": {},
   "outputs": [],
   "source": [
    "# # option if xgb is the best model\n",
    "# xgb.plot_importance(gbm)\n",
    "# xgb.plot_importance(gbm, importance_type='gain')"
   ]
  },
  {
   "cell_type": "markdown",
   "id": "5c6b507e",
   "metadata": {},
   "source": [
    "### 7.2 Interpret<a id='72'></a> "
   ]
  },
  {
   "cell_type": "code",
   "execution_count": null,
   "id": "c181c5f8",
   "metadata": {},
   "outputs": [],
   "source": [
    "# persona 1: couch potato, drinks every day, high BMI, has diabetes"
   ]
  },
  {
   "cell_type": "code",
   "execution_count": null,
   "id": "5ddcfb81",
   "metadata": {},
   "outputs": [],
   "source": [
    "# persona 2: runner, drinks every day, normal BMI, bordrline diabetes"
   ]
  },
  {
   "cell_type": "code",
   "execution_count": null,
   "id": "e1cc2489",
   "metadata": {},
   "outputs": [],
   "source": [
    "# persona 3: walks to works, social drinker, normal BMI, no diabetes"
   ]
  },
  {
   "cell_type": "markdown",
   "id": "7454c591",
   "metadata": {},
   "source": [
    "[back to top](#top)"
   ]
  }
 ],
 "metadata": {
  "kernelspec": {
   "display_name": "Python 3 (ipykernel)",
   "language": "python",
   "name": "python3"
  },
  "language_info": {
   "codemirror_mode": {
    "name": "ipython",
    "version": 3
   },
   "file_extension": ".py",
   "mimetype": "text/x-python",
   "name": "python",
   "nbconvert_exporter": "python",
   "pygments_lexer": "ipython3",
   "version": "3.8.12"
  }
 },
 "nbformat": 4,
 "nbformat_minor": 5
}
