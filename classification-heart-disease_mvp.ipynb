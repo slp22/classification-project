{
 "cells": [
  {
   "cell_type": "markdown",
   "metadata": {},
   "source": [
    "#### Classification | MVP\n",
    "\n",
    "# Predicting Heart Disease<a id='top'></a> \n",
    "\n",
    "\n",
    "## **Analysis Goal**  \n",
    "* **RQ:** Could a model predict the probability of a patient having heart disease based on the risk factors in electronic health records?\n",
    "* **Data source:** [Personal Key Indicators of Heart Disease](https://www.kaggle.com/datasets/kamilpytlak/personal-key-indicators-of-heart-disease)\n",
    "* **Error metric:** Recall\n",
    "\n",
    "\n",
    "## **Process**\n",
    "Data source – (n=   , features = 17), quant qual, \n",
    "\n",
    "Classification metric – recall = providing a concrete label (either at risk or not at risk) \n",
    "\n",
    "\n",
    "[Dataset](#2)\n",
    "\n",
    "[Logistic regression with mapped variable](#3B)  \n",
    "[Logistic regression with dummy variables](#4B)  \n",
    "\n",
    "## **Preliminary Visualization**\n",
    "[Visualization](#4)\n",
    "\n",
    "## **Preliminary Conclusions**\n"
   ]
  },
  {
   "cell_type": "code",
   "execution_count": 1,
   "metadata": {},
   "outputs": [],
   "source": [
    "import pandas as pd\n",
    "import numpy as np\n",
    "import matplotlib.pyplot as plt\n",
    "import seaborn as sns\n",
    "%matplotlib inline\n",
    "\n",
    "from sklearn.compose import make_column_transformer\n",
    "from sklearn.ensemble import AdaBoostRegressor, RandomForestClassifier\n",
    "from sklearn.linear_model import LinearRegression ,LogisticRegression\n",
    "from sklearn.metrics import *\n",
    "from sklearn.model_selection import GridSearchCV, train_test_split\n",
    "from sklearn.naive_bayes import BernoulliNB, MultinomialNB, GaussianNB\n",
    "from sklearn.neighbors import KNeighborsClassifier\n",
    "from sklearn.preprocessing import LabelEncoder, StandardScaler, OrdinalEncoder\n",
    "from sklearn.svm import SVC ,SVR\n",
    "from sklearn.tree import DecisionTreeClassifier\n",
    "from sklearn.utils import shuffle\n",
    "\n",
    "from xgboost import XGBClassifier\n",
    "import plotly.express as px\n",
    "import plotly.graph_objects as go\n",
    "from plotly.subplots import make_subplots"
   ]
  },
  {
   "cell_type": "markdown",
   "metadata": {},
   "source": [
    "[back to top](#top)"
   ]
  },
  {
   "cell_type": "markdown",
   "metadata": {},
   "source": [
    "## 1 | Dataset: [Personal Key Indicators of Heart Disease](https://www.kaggle.com/datasets/kamilpytlak/personal-key-indicators-of-heart-disease)<a id='1'></a>  "
   ]
  },
  {
   "cell_type": "code",
   "execution_count": 2,
   "metadata": {},
   "outputs": [],
   "source": [
    "df = pd.read_csv('heart_2020_cleaned.csv')"
   ]
  },
  {
   "cell_type": "code",
   "execution_count": 3,
   "metadata": {},
   "outputs": [
    {
     "data": {
      "text/html": [
       "<div>\n",
       "<style scoped>\n",
       "    .dataframe tbody tr th:only-of-type {\n",
       "        vertical-align: middle;\n",
       "    }\n",
       "\n",
       "    .dataframe tbody tr th {\n",
       "        vertical-align: top;\n",
       "    }\n",
       "\n",
       "    .dataframe thead th {\n",
       "        text-align: right;\n",
       "    }\n",
       "</style>\n",
       "<table border=\"1\" class=\"dataframe\">\n",
       "  <thead>\n",
       "    <tr style=\"text-align: right;\">\n",
       "      <th></th>\n",
       "      <th>HeartDisease</th>\n",
       "      <th>BMI</th>\n",
       "      <th>Smoking</th>\n",
       "      <th>AlcoholDrinking</th>\n",
       "      <th>Stroke</th>\n",
       "      <th>PhysicalHealth</th>\n",
       "      <th>MentalHealth</th>\n",
       "      <th>DiffWalking</th>\n",
       "      <th>Sex</th>\n",
       "      <th>AgeCategory</th>\n",
       "      <th>Race</th>\n",
       "      <th>Diabetic</th>\n",
       "      <th>PhysicalActivity</th>\n",
       "      <th>GenHealth</th>\n",
       "      <th>SleepTime</th>\n",
       "      <th>Asthma</th>\n",
       "      <th>KidneyDisease</th>\n",
       "      <th>SkinCancer</th>\n",
       "    </tr>\n",
       "  </thead>\n",
       "  <tbody>\n",
       "    <tr>\n",
       "      <th>0</th>\n",
       "      <td>No</td>\n",
       "      <td>16.60</td>\n",
       "      <td>Yes</td>\n",
       "      <td>No</td>\n",
       "      <td>No</td>\n",
       "      <td>3.0</td>\n",
       "      <td>30.0</td>\n",
       "      <td>No</td>\n",
       "      <td>Female</td>\n",
       "      <td>55-59</td>\n",
       "      <td>White</td>\n",
       "      <td>Yes</td>\n",
       "      <td>Yes</td>\n",
       "      <td>Very good</td>\n",
       "      <td>5.0</td>\n",
       "      <td>Yes</td>\n",
       "      <td>No</td>\n",
       "      <td>Yes</td>\n",
       "    </tr>\n",
       "    <tr>\n",
       "      <th>1</th>\n",
       "      <td>No</td>\n",
       "      <td>20.34</td>\n",
       "      <td>No</td>\n",
       "      <td>No</td>\n",
       "      <td>Yes</td>\n",
       "      <td>0.0</td>\n",
       "      <td>0.0</td>\n",
       "      <td>No</td>\n",
       "      <td>Female</td>\n",
       "      <td>80 or older</td>\n",
       "      <td>White</td>\n",
       "      <td>No</td>\n",
       "      <td>Yes</td>\n",
       "      <td>Very good</td>\n",
       "      <td>7.0</td>\n",
       "      <td>No</td>\n",
       "      <td>No</td>\n",
       "      <td>No</td>\n",
       "    </tr>\n",
       "    <tr>\n",
       "      <th>2</th>\n",
       "      <td>No</td>\n",
       "      <td>26.58</td>\n",
       "      <td>Yes</td>\n",
       "      <td>No</td>\n",
       "      <td>No</td>\n",
       "      <td>20.0</td>\n",
       "      <td>30.0</td>\n",
       "      <td>No</td>\n",
       "      <td>Male</td>\n",
       "      <td>65-69</td>\n",
       "      <td>White</td>\n",
       "      <td>Yes</td>\n",
       "      <td>Yes</td>\n",
       "      <td>Fair</td>\n",
       "      <td>8.0</td>\n",
       "      <td>Yes</td>\n",
       "      <td>No</td>\n",
       "      <td>No</td>\n",
       "    </tr>\n",
       "    <tr>\n",
       "      <th>3</th>\n",
       "      <td>No</td>\n",
       "      <td>24.21</td>\n",
       "      <td>No</td>\n",
       "      <td>No</td>\n",
       "      <td>No</td>\n",
       "      <td>0.0</td>\n",
       "      <td>0.0</td>\n",
       "      <td>No</td>\n",
       "      <td>Female</td>\n",
       "      <td>75-79</td>\n",
       "      <td>White</td>\n",
       "      <td>No</td>\n",
       "      <td>No</td>\n",
       "      <td>Good</td>\n",
       "      <td>6.0</td>\n",
       "      <td>No</td>\n",
       "      <td>No</td>\n",
       "      <td>Yes</td>\n",
       "    </tr>\n",
       "    <tr>\n",
       "      <th>4</th>\n",
       "      <td>No</td>\n",
       "      <td>23.71</td>\n",
       "      <td>No</td>\n",
       "      <td>No</td>\n",
       "      <td>No</td>\n",
       "      <td>28.0</td>\n",
       "      <td>0.0</td>\n",
       "      <td>Yes</td>\n",
       "      <td>Female</td>\n",
       "      <td>40-44</td>\n",
       "      <td>White</td>\n",
       "      <td>No</td>\n",
       "      <td>Yes</td>\n",
       "      <td>Very good</td>\n",
       "      <td>8.0</td>\n",
       "      <td>No</td>\n",
       "      <td>No</td>\n",
       "      <td>No</td>\n",
       "    </tr>\n",
       "  </tbody>\n",
       "</table>\n",
       "</div>"
      ],
      "text/plain": [
       "  HeartDisease    BMI Smoking AlcoholDrinking Stroke  PhysicalHealth  \\\n",
       "0           No  16.60     Yes              No     No             3.0   \n",
       "1           No  20.34      No              No    Yes             0.0   \n",
       "2           No  26.58     Yes              No     No            20.0   \n",
       "3           No  24.21      No              No     No             0.0   \n",
       "4           No  23.71      No              No     No            28.0   \n",
       "\n",
       "   MentalHealth DiffWalking     Sex  AgeCategory   Race Diabetic  \\\n",
       "0          30.0          No  Female        55-59  White      Yes   \n",
       "1           0.0          No  Female  80 or older  White       No   \n",
       "2          30.0          No    Male        65-69  White      Yes   \n",
       "3           0.0          No  Female        75-79  White       No   \n",
       "4           0.0         Yes  Female        40-44  White       No   \n",
       "\n",
       "  PhysicalActivity  GenHealth  SleepTime Asthma KidneyDisease SkinCancer  \n",
       "0              Yes  Very good        5.0    Yes            No        Yes  \n",
       "1              Yes  Very good        7.0     No            No         No  \n",
       "2              Yes       Fair        8.0    Yes            No         No  \n",
       "3               No       Good        6.0     No            No        Yes  \n",
       "4              Yes  Very good        8.0     No            No         No  "
      ]
     },
     "execution_count": 3,
     "metadata": {},
     "output_type": "execute_result"
    }
   ],
   "source": [
    "df.head()"
   ]
  },
  {
   "cell_type": "code",
   "execution_count": 4,
   "metadata": {},
   "outputs": [
    {
     "name": "stdout",
     "output_type": "stream",
     "text": [
      "<class 'pandas.core.frame.DataFrame'>\n",
      "RangeIndex: 319795 entries, 0 to 319794\n",
      "Data columns (total 18 columns):\n",
      " #   Column            Non-Null Count   Dtype  \n",
      "---  ------            --------------   -----  \n",
      " 0   HeartDisease      319795 non-null  object \n",
      " 1   BMI               319795 non-null  float64\n",
      " 2   Smoking           319795 non-null  object \n",
      " 3   AlcoholDrinking   319795 non-null  object \n",
      " 4   Stroke            319795 non-null  object \n",
      " 5   PhysicalHealth    319795 non-null  float64\n",
      " 6   MentalHealth      319795 non-null  float64\n",
      " 7   DiffWalking       319795 non-null  object \n",
      " 8   Sex               319795 non-null  object \n",
      " 9   AgeCategory       319795 non-null  object \n",
      " 10  Race              319795 non-null  object \n",
      " 11  Diabetic          319795 non-null  object \n",
      " 12  PhysicalActivity  319795 non-null  object \n",
      " 13  GenHealth         319795 non-null  object \n",
      " 14  SleepTime         319795 non-null  float64\n",
      " 15  Asthma            319795 non-null  object \n",
      " 16  KidneyDisease     319795 non-null  object \n",
      " 17  SkinCancer        319795 non-null  object \n",
      "dtypes: float64(4), object(14)\n",
      "memory usage: 43.9+ MB\n"
     ]
    }
   ],
   "source": [
    "df.info()"
   ]
  },
  {
   "cell_type": "markdown",
   "metadata": {},
   "source": [
    "[back to top](#top)"
   ]
  },
  {
   "cell_type": "markdown",
   "metadata": {},
   "source": [
    "## 2 | Exploratory Data Analysis<a id='2'></a>  "
   ]
  },
  {
   "cell_type": "code",
   "execution_count": 5,
   "metadata": {},
   "outputs": [
    {
     "data": {
      "text/html": [
       "<div>\n",
       "<style scoped>\n",
       "    .dataframe tbody tr th:only-of-type {\n",
       "        vertical-align: middle;\n",
       "    }\n",
       "\n",
       "    .dataframe tbody tr th {\n",
       "        vertical-align: top;\n",
       "    }\n",
       "\n",
       "    .dataframe thead th {\n",
       "        text-align: right;\n",
       "    }\n",
       "</style>\n",
       "<table border=\"1\" class=\"dataframe\">\n",
       "  <thead>\n",
       "    <tr style=\"text-align: right;\">\n",
       "      <th></th>\n",
       "      <th>BMI</th>\n",
       "      <th>PhysicalHealth</th>\n",
       "      <th>MentalHealth</th>\n",
       "      <th>SleepTime</th>\n",
       "    </tr>\n",
       "  </thead>\n",
       "  <tbody>\n",
       "    <tr>\n",
       "      <th>count</th>\n",
       "      <td>319795.000000</td>\n",
       "      <td>319795.00000</td>\n",
       "      <td>319795.000000</td>\n",
       "      <td>319795.000000</td>\n",
       "    </tr>\n",
       "    <tr>\n",
       "      <th>mean</th>\n",
       "      <td>28.325399</td>\n",
       "      <td>3.37171</td>\n",
       "      <td>3.898366</td>\n",
       "      <td>7.097075</td>\n",
       "    </tr>\n",
       "    <tr>\n",
       "      <th>std</th>\n",
       "      <td>6.356100</td>\n",
       "      <td>7.95085</td>\n",
       "      <td>7.955235</td>\n",
       "      <td>1.436007</td>\n",
       "    </tr>\n",
       "    <tr>\n",
       "      <th>min</th>\n",
       "      <td>12.020000</td>\n",
       "      <td>0.00000</td>\n",
       "      <td>0.000000</td>\n",
       "      <td>1.000000</td>\n",
       "    </tr>\n",
       "    <tr>\n",
       "      <th>25%</th>\n",
       "      <td>24.030000</td>\n",
       "      <td>0.00000</td>\n",
       "      <td>0.000000</td>\n",
       "      <td>6.000000</td>\n",
       "    </tr>\n",
       "    <tr>\n",
       "      <th>50%</th>\n",
       "      <td>27.340000</td>\n",
       "      <td>0.00000</td>\n",
       "      <td>0.000000</td>\n",
       "      <td>7.000000</td>\n",
       "    </tr>\n",
       "    <tr>\n",
       "      <th>75%</th>\n",
       "      <td>31.420000</td>\n",
       "      <td>2.00000</td>\n",
       "      <td>3.000000</td>\n",
       "      <td>8.000000</td>\n",
       "    </tr>\n",
       "    <tr>\n",
       "      <th>max</th>\n",
       "      <td>94.850000</td>\n",
       "      <td>30.00000</td>\n",
       "      <td>30.000000</td>\n",
       "      <td>24.000000</td>\n",
       "    </tr>\n",
       "  </tbody>\n",
       "</table>\n",
       "</div>"
      ],
      "text/plain": [
       "                 BMI  PhysicalHealth   MentalHealth      SleepTime\n",
       "count  319795.000000    319795.00000  319795.000000  319795.000000\n",
       "mean       28.325399         3.37171       3.898366       7.097075\n",
       "std         6.356100         7.95085       7.955235       1.436007\n",
       "min        12.020000         0.00000       0.000000       1.000000\n",
       "25%        24.030000         0.00000       0.000000       6.000000\n",
       "50%        27.340000         0.00000       0.000000       7.000000\n",
       "75%        31.420000         2.00000       3.000000       8.000000\n",
       "max        94.850000        30.00000      30.000000      24.000000"
      ]
     },
     "execution_count": 5,
     "metadata": {},
     "output_type": "execute_result"
    }
   ],
   "source": [
    "df.describe()"
   ]
  },
  {
   "cell_type": "code",
   "execution_count": 6,
   "metadata": {},
   "outputs": [
    {
     "data": {
      "text/plain": [
       "HeartDisease        0\n",
       "BMI                 0\n",
       "Smoking             0\n",
       "AlcoholDrinking     0\n",
       "Stroke              0\n",
       "PhysicalHealth      0\n",
       "MentalHealth        0\n",
       "DiffWalking         0\n",
       "Sex                 0\n",
       "AgeCategory         0\n",
       "Race                0\n",
       "Diabetic            0\n",
       "PhysicalActivity    0\n",
       "GenHealth           0\n",
       "SleepTime           0\n",
       "Asthma              0\n",
       "KidneyDisease       0\n",
       "SkinCancer          0\n",
       "dtype: int64"
      ]
     },
     "execution_count": 6,
     "metadata": {},
     "output_type": "execute_result"
    }
   ],
   "source": [
    "df.isnull().sum()"
   ]
  },
  {
   "cell_type": "code",
   "execution_count": 7,
   "metadata": {},
   "outputs": [],
   "source": [
    "# rename columns for readability\n",
    "df.rename(columns = {'HeartDisease': 'y_heart_disease',\n",
    "                     'Smoking': 'behavior_tobacco',\n",
    "                     'AlcoholDrinking':'behavior_alcohol', \n",
    "                     'SleepTime': 'behavior_sleep',\n",
    "                     'PhysicalActivity':'behavior_activity',\n",
    "                     'AgeCategory':'demg_age', \n",
    "                     'Sex': 'demg_gender',\n",
    "                     'Race': 'demg_race',\n",
    "                     'Stroke': 'disease_stroke',\n",
    "                     'Diabetic':'disease_diabetes',\n",
    "                     'KidneyDisease': 'disease_kidney',\n",
    "                     'Asthma': 'disease_asthma',\n",
    "                     'SkinCancer': 'disease_skin',                     \n",
    "                     'GenHealth': 'health_general',\n",
    "                     'BMI': 'health_bmi',\n",
    "                     'MentalHealth':'health_mental',\n",
    "                     'PhysicalHealth': 'health_physical', \n",
    "                     'DiffWalking': 'health_mobility'}, inplace = True)\n",
    "\n",
    "df = df.sort_index(axis=1)\n"
   ]
  },
  {
   "cell_type": "code",
   "execution_count": 8,
   "metadata": {},
   "outputs": [
    {
     "name": "stdout",
     "output_type": "stream",
     "text": [
      "behavior_activity ['Yes' 'No']\n",
      "behavior_alcohol ['No' 'Yes']\n",
      "behavior_sleep [ 5.  7.  8.  6. 12.  4.  9. 10. 15.  3.  2.  1. 16. 18. 14. 20. 11. 13.\n",
      " 17. 24. 19. 21. 22. 23.]\n",
      "behavior_tobacco ['Yes' 'No']\n",
      "demg_age ['55-59' '80 or older' '65-69' '75-79' '40-44' '70-74' '60-64' '50-54'\n",
      " '45-49' '18-24' '35-39' '30-34' '25-29']\n",
      "demg_gender ['Female' 'Male']\n",
      "demg_race ['White' 'Black' 'Asian' 'American Indian/Alaskan Native' 'Other'\n",
      " 'Hispanic']\n",
      "disease_asthma ['Yes' 'No']\n",
      "disease_diabetes ['Yes' 'No' 'No, borderline diabetes' 'Yes (during pregnancy)']\n",
      "disease_kidney ['No' 'Yes']\n",
      "disease_skin ['Yes' 'No']\n",
      "disease_stroke ['No' 'Yes']\n",
      "health_bmi [16.6  20.34 26.58 ... 62.42 51.46 46.56]\n",
      "health_general ['Very good' 'Fair' 'Good' 'Poor' 'Excellent']\n",
      "health_mental [30.  0.  2.  5. 15.  8.  4.  3. 10. 14. 20.  1.  7. 24.  9. 28. 16. 12.\n",
      "  6. 25. 17. 18. 21. 29. 22. 13. 23. 27. 26. 11. 19.]\n",
      "health_mobility ['No' 'Yes']\n",
      "health_physical [ 3.  0. 20. 28.  6. 15.  5. 30.  7.  1.  2. 21.  4. 10. 14. 18.  8. 25.\n",
      " 16. 29. 27. 17. 24. 12. 23. 26. 22. 19.  9. 13. 11.]\n",
      "y_heart_disease ['No' 'Yes']\n"
     ]
    }
   ],
   "source": [
    "# list unique values by column to determine which ones need to be transformed\n",
    "for col in df:\n",
    "    print(col, df[col].unique())"
   ]
  },
  {
   "cell_type": "code",
   "execution_count": 9,
   "metadata": {},
   "outputs": [],
   "source": [
    "#save cleaned df as heart_disease_df\n",
    "\n",
    "heart_disease_df = df \n",
    "heart_disease_df.to_pickle('heart_disease_df.pkl')\n",
    "heart_disease_df.to_csv(r'/Users/sandraparedes/Documents/GitHub/metis_dsml/04_classification/g00-classification_project/heart_disease_df.csv', index=False)\n",
    "\n"
   ]
  },
  {
   "cell_type": "code",
   "execution_count": 10,
   "metadata": {},
   "outputs": [],
   "source": [
    "heart_disease_df = pd.read_csv('heart_disease_df.csv')"
   ]
  },
  {
   "cell_type": "markdown",
   "metadata": {},
   "source": [
    "[back to top](#top)"
   ]
  },
  {
   "cell_type": "markdown",
   "metadata": {},
   "source": [
    "## 3 | Baseline Model: Mapped Variables  + Logistic Regression<a id='3'></a>  "
   ]
  },
  {
   "cell_type": "code",
   "execution_count": 11,
   "metadata": {},
   "outputs": [],
   "source": [
    "df_map = heart_disease_df.copy()"
   ]
  },
  {
   "cell_type": "markdown",
   "metadata": {},
   "source": [
    "### A. Map variables"
   ]
  },
  {
   "cell_type": "code",
   "execution_count": 12,
   "metadata": {},
   "outputs": [],
   "source": [
    "# map Y/N to 1/0:\n",
    "    # behavior_activity ['Yes' 'No']\n",
    "    # behavior_alcohol ['No' 'Yes']\n",
    "    # behavior_tobacco ['Yes' 'No']\n",
    "    # disease_asthma ['Yes' 'No']\n",
    "    # disease_diabetes ['Yes' 'No' 'No, borderline diabetes' 'Yes (during pregnancy)'] #adjust in next cell\n",
    "    # disease_kidney ['No' 'Yes']\n",
    "    # disease_skin ['Yes' 'No']\n",
    "    # disease_stroke ['No' 'Yes']\n",
    "    # health_mobility ['No' 'Yes']\n",
    "    # y_heart_disease ['No' 'Yes']\n",
    "\n",
    "df_map = df_map.replace({'Yes': 1, 'No': 0}) "
   ]
  },
  {
   "cell_type": "code",
   "execution_count": 13,
   "metadata": {},
   "outputs": [
    {
     "data": {
      "image/png": "[encoded data removed]",
      "text/plain": [
       "<Figure size 1080x576 with 1 Axes>"
      ]
     },
     "metadata": {},
     "output_type": "display_data"
    }
   ],
   "source": [
    "# plot heart disease probablity by age and gender\n",
    "\n",
    "sns.set(rc = {'figure.figsize':(15,8)})\n",
    "sns.barplot(x = 'demg_age', y ='y_heart_disease', hue='demg_gender', data = df_map)\n",
    "plt.ylabel('Heart Disease Probability')\n",
    "plt.xlabel('Age')\n",
    "plt.title('Probability of Heart Disease by Age')\n",
    "plt.savefig(\"prob_hd_age.svg\");\n"
   ]
  },
  {
   "cell_type": "code",
   "execution_count": 14,
   "metadata": {},
   "outputs": [],
   "source": [
    "# map: \n",
    "    # disease_diabetes ['Yes' 'No' 'No, borderline diabetes' 'Yes (during pregnancy)'] #adjust in next cell\n",
    "    # demo_gender ['Female' 'Male']\n",
    "    # demo_race ['White' 'Black' 'Asian' 'American Indian/Alaskan Native' 'Other' 'Hispanic'] (alpha order)\n",
    "    # health_general ['Very good' 'Fair' 'Good' 'Poor'=1 'Excellent'=5]\n",
    "\n",
    "df_map = df_map.replace({'Yes (during pregnancy)': 2,           #Diabetes\n",
    "                 'No, borderline diabetes': 3,  \n",
    "                 'Female': 1,                                   #Sex \n",
    "                 'Male': 2,                             \n",
    "                 'American Indian/Alaskan Native': 1,           #Race  \n",
    "                 'Asian':2,                     \n",
    "                 'Black':3,                      \n",
    "                 'Hispanic':4,                   \n",
    "                 'Other': 5,                     \n",
    "                 'White': 6,                     \n",
    "                 'Poor': 1,                                     #Health_General\n",
    "                 'Fair': 2,                     \n",
    "                 'Good': 3,                     \n",
    "                 'Very good': 4,                \n",
    "                 'Excellent': 5})               \n"
   ]
  },
  {
   "cell_type": "code",
   "execution_count": 15,
   "metadata": {},
   "outputs": [],
   "source": [
    "# map age to lowest in bin: \n",
    "    # demo_age ['55-59' '80 or older' '65-69' '75-79' '40-44' '70-74' '60-64' '50-54' '45-49' \n",
    "                #'18-24' '35-39' '30-34' '25-29']\n",
    "\n",
    "df_map = df_map.replace({'18-24':18,\n",
    "             '25-29':25, \n",
    "             '30-34':30, \n",
    "             '35-39':35, \n",
    "             '40-44':40, \n",
    "             '45-49':45, \n",
    "             '50-54':50,\n",
    "             '55-59':55,\n",
    "             '60-64':60,\n",
    "             '65-69':65,\n",
    "             '70-74':70,\n",
    "             '75-79':75,    \n",
    "             '80 or older':80})\n"
   ]
  },
  {
   "cell_type": "code",
   "execution_count": 16,
   "metadata": {},
   "outputs": [
    {
     "name": "stdout",
     "output_type": "stream",
     "text": [
      "behavior_activity [1 0]\n",
      "behavior_alcohol [0 1]\n",
      "behavior_sleep [ 5.  7.  8.  6. 12.  4.  9. 10. 15.  3.  2.  1. 16. 18. 14. 20. 11. 13.\n",
      " 17. 24. 19. 21. 22. 23.]\n",
      "behavior_tobacco [1 0]\n",
      "demg_age [55 80 65 75 40 70 60 50 45 18 35 30 25]\n",
      "demg_gender [1 2]\n",
      "demg_race [6 3 2 1 5 4]\n",
      "disease_asthma [1 0]\n",
      "disease_diabetes [1 0 3 2]\n",
      "disease_kidney [0 1]\n",
      "disease_skin [1 0]\n",
      "disease_stroke [0 1]\n",
      "health_bmi [16.6  20.34 26.58 ... 62.42 51.46 46.56]\n",
      "health_general [4 2 3 1 5]\n",
      "health_mental [30.  0.  2.  5. 15.  8.  4.  3. 10. 14. 20.  1.  7. 24.  9. 28. 16. 12.\n",
      "  6. 25. 17. 18. 21. 29. 22. 13. 23. 27. 26. 11. 19.]\n",
      "health_mobility [0 1]\n",
      "health_physical [ 3.  0. 20. 28.  6. 15.  5. 30.  7.  1.  2. 21.  4. 10. 14. 18.  8. 25.\n",
      " 16. 29. 27. 17. 24. 12. 23. 26. 22. 19.  9. 13. 11.]\n",
      "y_heart_disease [0 1]\n"
     ]
    }
   ],
   "source": [
    "# list unique values by column to verify mapped properly\n",
    "\n",
    "for col in df_map :\n",
    "    print(col, df_map[col].unique())"
   ]
  },
  {
   "cell_type": "code",
   "execution_count": 17,
   "metadata": {},
   "outputs": [],
   "source": [
    "# save and pickle df_map\n",
    "\n",
    "heart_disease_df_map = df_map\n",
    "heart_disease_df_map.to_pickle('heart_disease_df_map.pkl')\n",
    "heart_disease_df_map.to_csv(r'/Users/sandraparedes/Documents/GitHub/metis_dsml/04_classification/g00-classification_project/heart_disease_df_map.csv', index=False)\n"
   ]
  },
  {
   "cell_type": "markdown",
   "metadata": {},
   "source": [
    "### B. Logistic regression with mapped variables<a id='3B'></a>  "
   ]
  },
  {
   "cell_type": "code",
   "execution_count": 18,
   "metadata": {},
   "outputs": [],
   "source": [
    "# separate target from select features using mapped variables\n",
    "y_map = df_map['y_heart_disease'] \n",
    "\n",
    "X_map = df_map.loc[:, ['behavior_activity', \n",
    "                       'behavior_alcohol', \n",
    "                       'behavior_sleep',\n",
    "                       'behavior_tobacco', \n",
    "                       'demg_age', \n",
    "                       'demg_gender', \n",
    "                       'demg_race',\n",
    "                       'disease_asthma', \n",
    "                       'disease_diabetes', \n",
    "                       'disease_kidney', \n",
    "                       'disease_skin', \n",
    "                       'disease_stroke', \n",
    "                       'health_bmi', \n",
    "                       'health_general', \n",
    "                       'health_mental',\n",
    "                       'health_mobility', \n",
    "                       'health_physical']]"
   ]
  },
  {
   "cell_type": "code",
   "execution_count": 19,
   "metadata": {},
   "outputs": [],
   "source": [
    "# split map df into test/train/validate\n",
    "X_train_m, X_test_m, y_train_m, y_test_m = train_test_split(X_map, \n",
    "                                                    y_map, \n",
    "                                                    test_size=0.2, \n",
    "                                                    random_state=42)\n",
    "\n",
    "X_train_m, X_validate_m, y_train_m, y_validate_m = train_test_split(X_train_m, y_train_m, \n",
    "                                                            test_size = .25, random_state = 42)\n"
   ]
  },
  {
   "cell_type": "code",
   "execution_count": 20,
   "metadata": {},
   "outputs": [
    {
     "name": "stdout",
     "output_type": "stream",
     "text": [
      "Baseline probability of heart disease on y_train_map: 8.49 %\n"
     ]
    }
   ],
   "source": [
    "# baseline rate of target using the mean of training data\n",
    "print('Baseline probability of heart disease on y_train_map:',   (round(np.mean(y_train_m), 4)*100),'%')\n"
   ]
  },
  {
   "cell_type": "code",
   "execution_count": 21,
   "metadata": {},
   "outputs": [
    {
     "name": "stdout",
     "output_type": "stream",
     "text": [
      "Logistic Regression (map train): 0.1671\n"
     ]
    }
   ],
   "source": [
    "# scale map X train/test\n",
    "scaler_map = StandardScaler()\n",
    "X_train_scaled_m = scaler_map.fit_transform(X_train_m)\n",
    "X_test_scaled_m = scaler_map.transform(X_test_m)\n",
    "\n",
    "#logistic regression on map X train scaled & y train\n",
    "logreg_map = LogisticRegression()\n",
    "logreg_map.fit(X_train_scaled_m, y_train_m)\n",
    "\n",
    "print('Logistic Regression (map train):', round(f1_score(logreg_map.predict(X_test_scaled_m), y_test_m), 4))"
   ]
  },
  {
   "cell_type": "markdown",
   "metadata": {},
   "source": [
    "[back to top](#top)"
   ]
  },
  {
   "cell_type": "markdown",
   "metadata": {},
   "source": [
    "## 4 | Model Iteration #1: Dummy Variables + Logistic Regression<a id='4'></a>  "
   ]
  },
  {
   "cell_type": "code",
   "execution_count": 22,
   "metadata": {},
   "outputs": [],
   "source": [
    "df_dmy = heart_disease_df.copy()"
   ]
  },
  {
   "cell_type": "markdown",
   "metadata": {},
   "source": [
    "### A. Dummy variables"
   ]
  },
  {
   "cell_type": "code",
   "execution_count": 23,
   "metadata": {},
   "outputs": [],
   "source": [
    "# dummy variables for non-numerical columns (commented out)\n",
    "df_dmy = pd.get_dummies(data=df_dmy, \n",
    "                        columns=['behavior_activity', \n",
    "                                 'behavior_alcohol', \n",
    "#                                  'behavior_sleep',\n",
    "                                 'behavior_tobacco', \n",
    "                                 'demg_age', \n",
    "                                 'demg_gender', \n",
    "                                 'demg_race',\n",
    "                                 'disease_asthma', \n",
    "                                 'disease_diabetes', \n",
    "                                 'disease_kidney', \n",
    "                                 'disease_skin',\n",
    "                                 'disease_stroke', \n",
    "#                                  'health_bmi', \n",
    "                                 'health_general', \n",
    "#                                  'health_mental',\n",
    "                                 'health_mobility', \n",
    "#                                  'health_physical', \n",
    "                                 'y_heart_disease'],\n",
    "                        drop_first=True)\n",
    "\n",
    "# numerical features for reference: \n",
    "    # behavior_sleep [ 5.  7.  8.  6. 12.  4.  9. 10. 15.  3.  2.  1. 16. 18. 14. 20. 11. 13.\n",
    "    # health_bmi [16.6  20.34 26.58 ... 62.42 51.46 46.56]\n",
    "    # health_mental [30.  0.  2.  5. 15.  8.  4.  3. 10. 14. 20.  1.  7. 24.  9. 28. 16. 12. 6. 25. 17. 18. 21. 29. 22. 13. 23. 27. 26. 11. 19.]\n",
    "    # health_physical [ 3.  0. 20. 28.  6. 15.  5. 30.  7.  1.  2. 21.  4. 10. 14. 18.  8. 25. 16. 29. 27. 17. 24. 12. 23. 26. 22. 19.  9. 13. 11.] \n"
   ]
  },
  {
   "cell_type": "code",
   "execution_count": 24,
   "metadata": {},
   "outputs": [],
   "source": [
    "df_dmy.rename(columns = {'disease_diabetes_Yes (during pregnancy)': 'disease_diabetes_Yes_pregnancy',\n",
    "                         'disease_diabetes_No, borderline diabetes': 'disease_diabetes_No_borderline'}, \n",
    "              inplace = True)\n"
   ]
  },
  {
   "cell_type": "code",
   "execution_count": 25,
   "metadata": {},
   "outputs": [
    {
     "data": {
      "text/plain": [
       "Index(['behavior_sleep', 'health_bmi', 'health_mental', 'health_physical',\n",
       "       'behavior_activity_Yes', 'behavior_alcohol_Yes', 'behavior_tobacco_Yes',\n",
       "       'demg_age_25-29', 'demg_age_30-34', 'demg_age_35-39', 'demg_age_40-44',\n",
       "       'demg_age_45-49', 'demg_age_50-54', 'demg_age_55-59', 'demg_age_60-64',\n",
       "       'demg_age_65-69', 'demg_age_70-74', 'demg_age_75-79',\n",
       "       'demg_age_80 or older', 'demg_gender_Male', 'demg_race_Asian',\n",
       "       'demg_race_Black', 'demg_race_Hispanic', 'demg_race_Other',\n",
       "       'demg_race_White', 'disease_asthma_Yes',\n",
       "       'disease_diabetes_No_borderline', 'disease_diabetes_Yes',\n",
       "       'disease_diabetes_Yes_pregnancy', 'disease_kidney_Yes',\n",
       "       'disease_skin_Yes', 'disease_stroke_Yes', 'health_general_Fair',\n",
       "       'health_general_Good', 'health_general_Poor',\n",
       "       'health_general_Very good', 'health_mobility_Yes',\n",
       "       'y_heart_disease_Yes'],\n",
       "      dtype='object')"
      ]
     },
     "execution_count": 25,
     "metadata": {},
     "output_type": "execute_result"
    }
   ],
   "source": [
    "df_dmy.columns"
   ]
  },
  {
   "cell_type": "code",
   "execution_count": 26,
   "metadata": {},
   "outputs": [],
   "source": [
    "# save and pickle df_dmy\n",
    "\n",
    "heart_disease_df_dmy = df_dmy\n",
    "heart_disease_df_dmy.to_pickle('heart_disease_df_dmy.pkl')\n",
    "heart_disease_df_dmy.to_csv(r'/Users/sandraparedes/Documents/GitHub/metis_dsml/04_classification/g00-classification_project/heart_disease_df_dmy.csv', index=False)\n"
   ]
  },
  {
   "cell_type": "markdown",
   "metadata": {},
   "source": [
    "[back to top](#top)"
   ]
  },
  {
   "cell_type": "markdown",
   "metadata": {},
   "source": [
    "### B. Logistic regression with dummy variables<a id='4B'></a>  "
   ]
  },
  {
   "cell_type": "code",
   "execution_count": 27,
   "metadata": {},
   "outputs": [],
   "source": [
    "# separate target from select features using dummy variables\n",
    "y_dmy = df_dmy['y_heart_disease_Yes']\n",
    "\n",
    "X_dmy = df_dmy.loc[:, ['behavior_sleep', \n",
    "                       'health_bmi', \n",
    "                       'health_mental', \n",
    "                       'health_physical',\n",
    "                       'behavior_activity_Yes', \n",
    "                       'behavior_alcohol_Yes', \n",
    "                       'behavior_tobacco_Yes',\n",
    "                       'demg_age_25-29', \n",
    "                       'demg_age_30-34', \n",
    "                       'demg_age_35-39', \n",
    "                       'demg_age_40-44',\n",
    "                       'demg_age_45-49', \n",
    "                       'demg_age_50-54', \n",
    "                       'demg_age_55-59', \n",
    "                       'demg_age_60-64',\n",
    "                       'demg_age_65-69', \n",
    "                       'demg_age_70-74', \n",
    "                       'demg_age_75-79',\n",
    "                       'demg_age_80 or older', \n",
    "                       'demg_gender_Male', \n",
    "                       'demg_race_Asian',\n",
    "                       'demg_race_Black', \n",
    "                       'demg_race_Hispanic', \n",
    "                       'demg_race_Other',\n",
    "                       'demg_race_White', \n",
    "                       'disease_asthma_Yes',\n",
    "                       'disease_diabetes_No_borderline', \n",
    "                       'disease_diabetes_Yes',\n",
    "                       'disease_diabetes_Yes_pregnancy', \n",
    "                       'disease_kidney_Yes',\n",
    "                       'disease_skin_Yes', \n",
    "                       'disease_stroke_Yes', \n",
    "                       'health_general_Fair',\n",
    "                       'health_general_Good', \n",
    "                       'health_general_Poor',\n",
    "                       'health_general_Very good', \n",
    "                       'health_mobility_Yes']]\n"
   ]
  },
  {
   "cell_type": "code",
   "execution_count": 28,
   "metadata": {},
   "outputs": [],
   "source": [
    "# split test dummy df into test/train/validate\n",
    "X_train_d, X_test_d, y_train_d, y_test_d = train_test_split(X_dmy, \n",
    "                                                    y_dmy, \n",
    "                                                    test_size=0.2, \n",
    "                                                    random_state=42)\n",
    "\n",
    "X_train_d, X_validate_d, y_train_d, y_validate_d = train_test_split(X_train_d, y_train_d,\n",
    "                                                                    test_size = .25, random_state = 4)"
   ]
  },
  {
   "cell_type": "code",
   "execution_count": 29,
   "metadata": {},
   "outputs": [
    {
     "name": "stdout",
     "output_type": "stream",
     "text": [
      "Baseline probability of heart disease on y_train_dummy: 8.55 %\n"
     ]
    }
   ],
   "source": [
    "# baseline rate of target using the mean of training data\n",
    "print('Baseline probability of heart disease on y_train_dummy:', (round(np.mean(y_train_d), 4)*100),'%')\n"
   ]
  },
  {
   "cell_type": "markdown",
   "metadata": {},
   "source": [
    "[back to top](#top)"
   ]
  },
  {
   "cell_type": "code",
   "execution_count": 30,
   "metadata": {},
   "outputs": [
    {
     "data": {
      "text/plain": [
       "LogisticRegression()"
      ]
     },
     "execution_count": 30,
     "metadata": {},
     "output_type": "execute_result"
    }
   ],
   "source": [
    "# scale dummy X train/test\n",
    "scaler_d = StandardScaler()\n",
    "X_train_scaled_d = scaler_d.fit_transform(X_train_d)\n",
    "X_test_scaled_d = scaler_d.transform(X_test_d)\n",
    "X_validate_scaled_d = scaler_d.transform(X_validate_d)\n",
    "\n",
    "# logistic regression on dummy X train scaled & y train\n",
    "logreg_dmy = LogisticRegression()\n",
    "logreg_dmy.fit(X_train_scaled_d, y_train_d)\n"
   ]
  },
  {
   "cell_type": "code",
   "execution_count": 31,
   "metadata": {},
   "outputs": [
    {
     "name": "stdout",
     "output_type": "stream",
     "text": [
      "Logistic regression scores of dummy_df on X_test_scaled and y_test:\n",
      "accuracy: 0.9136478056254789 4\n",
      "precision: 0.10318311874105865 4\n",
      "recall: 0.5317972350230414 4\n",
      "f1: 0.17283211022914483 4\n"
     ]
    }
   ],
   "source": [
    "# score dummy_df on X_test_scaled and y_test\n",
    "print('Logistic regression scores of dummy_df on X_test_scaled and y_test:')\n",
    "print(\"accuracy:\", accuracy_score(logreg_dmy.predict(X_test_scaled_d), y_test_d), 4)\n",
    "print(\"precision:\", precision_score(logreg_dmy.predict(X_test_scaled_d), y_test_d), 4)\n",
    "print(\"recall:\", recall_score(logreg_dmy.predict(X_test_scaled_d), y_test_d), 4)\n",
    "print(\"f1:\", f1_score(logreg_dmy.predict(X_test_scaled_d), y_test_d), 4)"
   ]
  },
  {
   "cell_type": "code",
   "execution_count": 32,
   "metadata": {},
   "outputs": [
    {
     "name": "stdout",
     "output_type": "stream",
     "text": [
      "Logistic regression scores of dummy_df on y_validate and y_pred:\n",
      "accuracy: 0.916696633781016\n",
      "precision: 0.5226223453370268\n",
      "recall: 0.10526315789473684\n",
      "f1: 0.17523219814241486\n"
     ]
    }
   ],
   "source": [
    "# predict on X_validate_scaled_d \n",
    "y_pred_d = logreg_dmy.predict(X_validate_scaled_d) \n",
    "\n",
    "# score y_validate, y_predict with all metrics\n",
    "print('Logistic regression scores of dummy_df on y_validate and y_pred:')\n",
    "print(\"accuracy:\", accuracy_score(y_validate_d, y_pred_d))\n",
    "print(\"precision:\", precision_score(y_validate_d, y_pred_d))\n",
    "print(\"recall:\", recall_score(y_validate_d, y_pred_d))\n",
    "print(\"f1:\", f1_score(y_validate_d, y_pred_d))\n"
   ]
  },
  {
   "cell_type": "markdown",
   "metadata": {},
   "source": [
    "[back to top](#top)"
   ]
  },
  {
   "cell_type": "markdown",
   "metadata": {},
   "source": [
    "## 5. Preliminary Visualization<a id='5'></a> \n"
   ]
  },
  {
   "cell_type": "code",
   "execution_count": 33,
   "metadata": {},
   "outputs": [
    {
     "name": "stdout",
     "output_type": "stream",
     "text": [
      "ROC AUC score =  0.8362882022783988\n"
     ]
    },
    {
     "data": {
      "image/png": "[encoded data removed]",
      "text/plain": [
       "<Figure size 1080x576 with 1 Axes>"
      ]
     },
     "metadata": {},
     "output_type": "display_data"
    }
   ],
   "source": [
    "fpr, tpr, thresholds = roc_curve(y_validate_d, logreg_dmy.predict_proba(X_validate_scaled_d)[:,1])\n",
    "\n",
    "plt.plot(fpr, tpr,lw=2)\n",
    "plt.plot([0,1],[0,1],c='violet',ls='--')\n",
    "plt.xlim([-0.05,1.05])\n",
    "plt.ylim([-0.05,1.05])\n",
    "\n",
    "plt.xlabel('False positive heart disease rate')\n",
    "plt.ylabel('True positive heart disease rate')\n",
    "plt.title('ROC curve');\n",
    "print(\"ROC AUC score = \", roc_auc_score(y_validate_d, logreg_dmy.predict_proba(X_validate_scaled_d)[:,1]))\n",
    "plt.savefig(\"roc_curve_dummy.svg\");\n",
    "\n"
   ]
  },
  {
   "cell_type": "markdown",
   "metadata": {},
   "source": [
    "[back to top](#top)"
   ]
  }
 ],
 "metadata": {
  "kernelspec": {
   "display_name": "Python 3 (ipykernel)",
   "language": "python",
   "name": "python3"
  },
  "language_info": {
   "codemirror_mode": {
    "name": "ipython",
    "version": 3
   },
   "file_extension": ".py",
   "mimetype": "text/x-python",
   "name": "python",
   "nbconvert_exporter": "python",
   "pygments_lexer": "ipython3",
   "version": "3.8.12"
  },
  "toc": {
   "base_numbering": 1,
   "nav_menu": {},
   "number_sections": false,
   "sideBar": true,
   "skip_h1_title": false,
   "title_cell": "Table of Contents",
   "title_sidebar": "Contents",
   "toc_cell": false,
   "toc_position": {
    "height": "calc(100% - 180px)",
    "left": "10px",
    "top": "150px",
    "width": "288px"
   },
   "toc_section_display": true,
   "toc_window_display": true
  }
 },
 "nbformat": 4,
 "nbformat_minor": 4
}
